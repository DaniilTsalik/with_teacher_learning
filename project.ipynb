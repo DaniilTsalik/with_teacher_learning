{
 "cells": [
  {
   "cell_type": "markdown",
   "metadata": {
    "toc": true
   },
   "source": [
    "<h1>Содержание<span class=\"tocSkip\"></span></h1>\n",
    "<div class=\"toc\"><ul class=\"toc-item\"><li><span><a href=\"#Подготовка-данных\" data-toc-modified-id=\"Подготовка-данных-1\"><span class=\"toc-item-num\">1&nbsp;&nbsp;</span>Подготовка данных</a></span><ul class=\"toc-item\"><li><span><a href=\"#Проверка-на-дубликаты\" data-toc-modified-id=\"Проверка-на-дубликаты-1.1\"><span class=\"toc-item-num\">1.1&nbsp;&nbsp;</span>Проверка на дубликаты</a></span></li><li><span><a href=\"#Preoprocessing\" data-toc-modified-id=\"Preoprocessing-1.2\"><span class=\"toc-item-num\">1.2&nbsp;&nbsp;</span>Preoprocessing</a></span></li></ul></li><li><span><a href=\"#Исследование-задачи\" data-toc-modified-id=\"Исследование-задачи-2\"><span class=\"toc-item-num\">2&nbsp;&nbsp;</span>Исследование задачи</a></span><ul class=\"toc-item\"><li><span><a href=\"#Исследование-баланса-классов\" data-toc-modified-id=\"Исследование-баланса-классов-2.1\"><span class=\"toc-item-num\">2.1&nbsp;&nbsp;</span>Исследование баланса классов</a></span></li><li><span><a href=\"#Обучение-моделей-без-учета-дисбаланса-классов\" data-toc-modified-id=\"Обучение-моделей-без-учета-дисбаланса-классов-2.2\"><span class=\"toc-item-num\">2.2&nbsp;&nbsp;</span>Обучение моделей без учета дисбаланса классов</a></span></li></ul></li><li><span><a href=\"#Борьба-с-дисбалансом\" data-toc-modified-id=\"Борьба-с-дисбалансом-3\"><span class=\"toc-item-num\">3&nbsp;&nbsp;</span>Борьба с дисбалансом</a></span><ul class=\"toc-item\"><li><span><a href=\"#Upsampling-+-class_weight-+-balanced_split\" data-toc-modified-id=\"Upsampling-+-class_weight-+-balanced_split-3.1\"><span class=\"toc-item-num\">3.1&nbsp;&nbsp;</span>Upsampling + class_weight + balanced_split</a></span></li><li><span><a href=\"#Downsampling-+-class_weight-+-balanced_split\" data-toc-modified-id=\"Downsampling-+-class_weight-+-balanced_split-3.2\"><span class=\"toc-item-num\">3.2&nbsp;&nbsp;</span>Downsampling + class_weight + balanced_split</a></span></li></ul></li><li><span><a href=\"#Оптимизация-параметров-наилучшей-модели\" data-toc-modified-id=\"Оптимизация-параметров-наилучшей-модели-4\"><span class=\"toc-item-num\">4&nbsp;&nbsp;</span>Оптимизация параметров наилучшей модели</a></span></li><li><span><a href=\"#Тестирование-модели\" data-toc-modified-id=\"Тестирование-модели-5\"><span class=\"toc-item-num\">5&nbsp;&nbsp;</span>Тестирование модели</a></span></li></ul></div>"
   ]
  },
  {
   "cell_type": "markdown",
   "metadata": {},
   "source": [
    "# Отток клиентов"
   ]
  },
  {
   "cell_type": "markdown",
   "metadata": {},
   "source": [
    "Из «Бета-Банка» стали уходить клиенты. Каждый месяц. Немного, но заметно. Банковские маркетологи посчитали: сохранять текущих клиентов дешевле, чем привлекать новых. Нам предоставлены исторические данные о поведении клиентов и расторжении договоров с банком. Нужно спрогнозировать, уйдёт клиент из банка в ближайшее время или нет.\n",
    "\n",
    "**Цель:** постройка модели прогнозирования ухода клиента из банка, с предельно большим значением F1-меры.\n",
    "\n",
    "**Задачи:**\n",
    "1. Загрузка и подготовка данных.\n",
    "2. Исследование баланса классов.\n",
    "3. Обучение модели без учета дисбаланса классов.\n",
    "4. Улучшение качества моделей.\n",
    "5. Поиск наилучшей модели.\n",
    "6. Финальное тестирование.\n",
    "\n",
    "**Предмет исследования** выборка данных по клиентам «Бета-Банка».\n",
    "\n",
    "**Методы:**\n",
    "которые мы применим в данном исследовании включают в себя: ознакомление, предобработку, обучения моделей машинного обучения, повышение метрик моделей.\n",
    "\n",
    "**Структура проекта:**\n",
    "проектная работа состоит из обзора и предобработки данных, затем следует изучение точности различных моделей, финальное тестирование наилучшей модели, работа завершается общим выводом. \n",
    "\n"
   ]
  },
  {
   "cell_type": "markdown",
   "metadata": {},
   "source": [
    "## Подготовка данных"
   ]
  },
  {
   "cell_type": "code",
   "execution_count": 58,
   "metadata": {},
   "outputs": [],
   "source": [
    " # Импорт библиотек:\n",
    "import pandas as pd\n",
    "import pylab as pl\n",
    "import warnings\n",
    "from matplotlib import pyplot as plt\n",
    "import numpy as np\n",
    "from sklearn import tree\n",
    "from sklearn.ensemble import RandomForestClassifier, GradientBoostingClassifier\n",
    "from sklearn.linear_model import LogisticRegression\n",
    "from sklearn import metrics\n",
    "from sklearn.metrics import f1_score\n",
    "from sklearn.metrics import roc_auc_score\n",
    "from sklearn.metrics import accuracy_score\n",
    "from sklearn.model_selection import GridSearchCV\n",
    "from sklearn.model_selection import train_test_split\n",
    "from sklearn.pipeline import Pipeline\n",
    "from sklearn.preprocessing import OrdinalEncoder\n",
    "from sklearn.preprocessing import StandardScaler\n",
    "from sklearn.utils import shuffle\n",
    "from sklearn.utils import resample\n",
    "from sklearn.metrics import f1_score, make_scorer"
   ]
  },
  {
   "cell_type": "code",
   "execution_count": 59,
   "metadata": {},
   "outputs": [],
   "source": [
    " # Отключим некритические предупреждения в коде.\n",
    "warnings.filterwarnings(\"ignore\")"
   ]
  },
  {
   "cell_type": "code",
   "execution_count": 60,
   "metadata": {},
   "outputs": [],
   "source": [
    " # Присвоим переменной df значение нашего датафрейма.\n",
    "df = pd.read_csv('Churn.csv')"
   ]
  },
  {
   "cell_type": "code",
   "execution_count": 61,
   "metadata": {},
   "outputs": [
    {
     "data": {
      "text/html": [
       "<div>\n",
       "<style scoped>\n",
       "    .dataframe tbody tr th:only-of-type {\n",
       "        vertical-align: middle;\n",
       "    }\n",
       "\n",
       "    .dataframe tbody tr th {\n",
       "        vertical-align: top;\n",
       "    }\n",
       "\n",
       "    .dataframe thead th {\n",
       "        text-align: right;\n",
       "    }\n",
       "</style>\n",
       "<table border=\"1\" class=\"dataframe\">\n",
       "  <thead>\n",
       "    <tr style=\"text-align: right;\">\n",
       "      <th></th>\n",
       "      <th>RowNumber</th>\n",
       "      <th>CustomerId</th>\n",
       "      <th>Surname</th>\n",
       "      <th>CreditScore</th>\n",
       "      <th>Geography</th>\n",
       "      <th>Gender</th>\n",
       "      <th>Age</th>\n",
       "      <th>Tenure</th>\n",
       "      <th>Balance</th>\n",
       "      <th>NumOfProducts</th>\n",
       "      <th>HasCrCard</th>\n",
       "      <th>IsActiveMember</th>\n",
       "      <th>EstimatedSalary</th>\n",
       "      <th>Exited</th>\n",
       "    </tr>\n",
       "  </thead>\n",
       "  <tbody>\n",
       "    <tr>\n",
       "      <th>0</th>\n",
       "      <td>1</td>\n",
       "      <td>15634602</td>\n",
       "      <td>Hargrave</td>\n",
       "      <td>619</td>\n",
       "      <td>France</td>\n",
       "      <td>Female</td>\n",
       "      <td>42</td>\n",
       "      <td>2.0</td>\n",
       "      <td>0.00</td>\n",
       "      <td>1</td>\n",
       "      <td>1</td>\n",
       "      <td>1</td>\n",
       "      <td>101348.88</td>\n",
       "      <td>1</td>\n",
       "    </tr>\n",
       "    <tr>\n",
       "      <th>1</th>\n",
       "      <td>2</td>\n",
       "      <td>15647311</td>\n",
       "      <td>Hill</td>\n",
       "      <td>608</td>\n",
       "      <td>Spain</td>\n",
       "      <td>Female</td>\n",
       "      <td>41</td>\n",
       "      <td>1.0</td>\n",
       "      <td>83807.86</td>\n",
       "      <td>1</td>\n",
       "      <td>0</td>\n",
       "      <td>1</td>\n",
       "      <td>112542.58</td>\n",
       "      <td>0</td>\n",
       "    </tr>\n",
       "    <tr>\n",
       "      <th>2</th>\n",
       "      <td>3</td>\n",
       "      <td>15619304</td>\n",
       "      <td>Onio</td>\n",
       "      <td>502</td>\n",
       "      <td>France</td>\n",
       "      <td>Female</td>\n",
       "      <td>42</td>\n",
       "      <td>8.0</td>\n",
       "      <td>159660.80</td>\n",
       "      <td>3</td>\n",
       "      <td>1</td>\n",
       "      <td>0</td>\n",
       "      <td>113931.57</td>\n",
       "      <td>1</td>\n",
       "    </tr>\n",
       "    <tr>\n",
       "      <th>3</th>\n",
       "      <td>4</td>\n",
       "      <td>15701354</td>\n",
       "      <td>Boni</td>\n",
       "      <td>699</td>\n",
       "      <td>France</td>\n",
       "      <td>Female</td>\n",
       "      <td>39</td>\n",
       "      <td>1.0</td>\n",
       "      <td>0.00</td>\n",
       "      <td>2</td>\n",
       "      <td>0</td>\n",
       "      <td>0</td>\n",
       "      <td>93826.63</td>\n",
       "      <td>0</td>\n",
       "    </tr>\n",
       "    <tr>\n",
       "      <th>4</th>\n",
       "      <td>5</td>\n",
       "      <td>15737888</td>\n",
       "      <td>Mitchell</td>\n",
       "      <td>850</td>\n",
       "      <td>Spain</td>\n",
       "      <td>Female</td>\n",
       "      <td>43</td>\n",
       "      <td>2.0</td>\n",
       "      <td>125510.82</td>\n",
       "      <td>1</td>\n",
       "      <td>1</td>\n",
       "      <td>1</td>\n",
       "      <td>79084.10</td>\n",
       "      <td>0</td>\n",
       "    </tr>\n",
       "  </tbody>\n",
       "</table>\n",
       "</div>"
      ],
      "text/plain": [
       "   RowNumber  CustomerId   Surname  CreditScore Geography  Gender  Age  \\\n",
       "0          1    15634602  Hargrave          619    France  Female   42   \n",
       "1          2    15647311      Hill          608     Spain  Female   41   \n",
       "2          3    15619304      Onio          502    France  Female   42   \n",
       "3          4    15701354      Boni          699    France  Female   39   \n",
       "4          5    15737888  Mitchell          850     Spain  Female   43   \n",
       "\n",
       "   Tenure    Balance  NumOfProducts  HasCrCard  IsActiveMember  \\\n",
       "0     2.0       0.00              1          1               1   \n",
       "1     1.0   83807.86              1          0               1   \n",
       "2     8.0  159660.80              3          1               0   \n",
       "3     1.0       0.00              2          0               0   \n",
       "4     2.0  125510.82              1          1               1   \n",
       "\n",
       "   EstimatedSalary  Exited  \n",
       "0        101348.88       1  \n",
       "1        112542.58       0  \n",
       "2        113931.57       1  \n",
       "3         93826.63       0  \n",
       "4         79084.10       0  "
      ]
     },
     "execution_count": 61,
     "metadata": {},
     "output_type": "execute_result"
    }
   ],
   "source": [
    " # Выведем первые пять строк нашего датафрейма\n",
    "df.head()"
   ]
  },
  {
   "cell_type": "code",
   "execution_count": 6,
   "metadata": {},
   "outputs": [
    {
     "name": "stdout",
     "output_type": "stream",
     "text": [
      "<class 'pandas.core.frame.DataFrame'>\n",
      "RangeIndex: 10000 entries, 0 to 9999\n",
      "Data columns (total 14 columns):\n",
      " #   Column           Non-Null Count  Dtype  \n",
      "---  ------           --------------  -----  \n",
      " 0   RowNumber        10000 non-null  int64  \n",
      " 1   CustomerId       10000 non-null  int64  \n",
      " 2   Surname          10000 non-null  object \n",
      " 3   CreditScore      10000 non-null  int64  \n",
      " 4   Geography        10000 non-null  object \n",
      " 5   Gender           10000 non-null  object \n",
      " 6   Age              10000 non-null  int64  \n",
      " 7   Tenure           9091 non-null   float64\n",
      " 8   Balance          10000 non-null  float64\n",
      " 9   NumOfProducts    10000 non-null  int64  \n",
      " 10  HasCrCard        10000 non-null  int64  \n",
      " 11  IsActiveMember   10000 non-null  int64  \n",
      " 12  EstimatedSalary  10000 non-null  float64\n",
      " 13  Exited           10000 non-null  int64  \n",
      "dtypes: float64(3), int64(8), object(3)\n",
      "memory usage: 1.1+ MB\n"
     ]
    }
   ],
   "source": [
    " # Общая информация о столбцах нашего датафрейма и количестве пропущенных значений\n",
    "df.info()"
   ]
  },
  {
   "cell_type": "code",
   "execution_count": 7,
   "metadata": {},
   "outputs": [
    {
     "data": {
      "text/html": [
       "<div>\n",
       "<style scoped>\n",
       "    .dataframe tbody tr th:only-of-type {\n",
       "        vertical-align: middle;\n",
       "    }\n",
       "\n",
       "    .dataframe tbody tr th {\n",
       "        vertical-align: top;\n",
       "    }\n",
       "\n",
       "    .dataframe thead th {\n",
       "        text-align: right;\n",
       "    }\n",
       "</style>\n",
       "<table border=\"1\" class=\"dataframe\">\n",
       "  <thead>\n",
       "    <tr style=\"text-align: right;\">\n",
       "      <th></th>\n",
       "      <th>RowNumber</th>\n",
       "      <th>CustomerId</th>\n",
       "      <th>Surname</th>\n",
       "      <th>CreditScore</th>\n",
       "      <th>Geography</th>\n",
       "      <th>Gender</th>\n",
       "      <th>Age</th>\n",
       "      <th>Tenure</th>\n",
       "      <th>Balance</th>\n",
       "      <th>NumOfProducts</th>\n",
       "      <th>HasCrCard</th>\n",
       "      <th>IsActiveMember</th>\n",
       "      <th>EstimatedSalary</th>\n",
       "      <th>Exited</th>\n",
       "    </tr>\n",
       "  </thead>\n",
       "  <tbody>\n",
       "    <tr>\n",
       "      <th>count</th>\n",
       "      <td>10000.00000</td>\n",
       "      <td>1.000000e+04</td>\n",
       "      <td>10000</td>\n",
       "      <td>10000.000000</td>\n",
       "      <td>10000</td>\n",
       "      <td>10000</td>\n",
       "      <td>10000.000000</td>\n",
       "      <td>9091.000000</td>\n",
       "      <td>10000.000000</td>\n",
       "      <td>10000.000000</td>\n",
       "      <td>10000.00000</td>\n",
       "      <td>10000.000000</td>\n",
       "      <td>10000.000000</td>\n",
       "      <td>10000.000000</td>\n",
       "    </tr>\n",
       "    <tr>\n",
       "      <th>unique</th>\n",
       "      <td>NaN</td>\n",
       "      <td>NaN</td>\n",
       "      <td>2932</td>\n",
       "      <td>NaN</td>\n",
       "      <td>3</td>\n",
       "      <td>2</td>\n",
       "      <td>NaN</td>\n",
       "      <td>NaN</td>\n",
       "      <td>NaN</td>\n",
       "      <td>NaN</td>\n",
       "      <td>NaN</td>\n",
       "      <td>NaN</td>\n",
       "      <td>NaN</td>\n",
       "      <td>NaN</td>\n",
       "    </tr>\n",
       "    <tr>\n",
       "      <th>top</th>\n",
       "      <td>NaN</td>\n",
       "      <td>NaN</td>\n",
       "      <td>Smith</td>\n",
       "      <td>NaN</td>\n",
       "      <td>France</td>\n",
       "      <td>Male</td>\n",
       "      <td>NaN</td>\n",
       "      <td>NaN</td>\n",
       "      <td>NaN</td>\n",
       "      <td>NaN</td>\n",
       "      <td>NaN</td>\n",
       "      <td>NaN</td>\n",
       "      <td>NaN</td>\n",
       "      <td>NaN</td>\n",
       "    </tr>\n",
       "    <tr>\n",
       "      <th>freq</th>\n",
       "      <td>NaN</td>\n",
       "      <td>NaN</td>\n",
       "      <td>32</td>\n",
       "      <td>NaN</td>\n",
       "      <td>5014</td>\n",
       "      <td>5457</td>\n",
       "      <td>NaN</td>\n",
       "      <td>NaN</td>\n",
       "      <td>NaN</td>\n",
       "      <td>NaN</td>\n",
       "      <td>NaN</td>\n",
       "      <td>NaN</td>\n",
       "      <td>NaN</td>\n",
       "      <td>NaN</td>\n",
       "    </tr>\n",
       "    <tr>\n",
       "      <th>mean</th>\n",
       "      <td>5000.50000</td>\n",
       "      <td>1.569094e+07</td>\n",
       "      <td>NaN</td>\n",
       "      <td>650.528800</td>\n",
       "      <td>NaN</td>\n",
       "      <td>NaN</td>\n",
       "      <td>38.921800</td>\n",
       "      <td>4.997690</td>\n",
       "      <td>76485.889288</td>\n",
       "      <td>1.530200</td>\n",
       "      <td>0.70550</td>\n",
       "      <td>0.515100</td>\n",
       "      <td>100090.239881</td>\n",
       "      <td>0.203700</td>\n",
       "    </tr>\n",
       "    <tr>\n",
       "      <th>std</th>\n",
       "      <td>2886.89568</td>\n",
       "      <td>7.193619e+04</td>\n",
       "      <td>NaN</td>\n",
       "      <td>96.653299</td>\n",
       "      <td>NaN</td>\n",
       "      <td>NaN</td>\n",
       "      <td>10.487806</td>\n",
       "      <td>2.894723</td>\n",
       "      <td>62397.405202</td>\n",
       "      <td>0.581654</td>\n",
       "      <td>0.45584</td>\n",
       "      <td>0.499797</td>\n",
       "      <td>57510.492818</td>\n",
       "      <td>0.402769</td>\n",
       "    </tr>\n",
       "    <tr>\n",
       "      <th>min</th>\n",
       "      <td>1.00000</td>\n",
       "      <td>1.556570e+07</td>\n",
       "      <td>NaN</td>\n",
       "      <td>350.000000</td>\n",
       "      <td>NaN</td>\n",
       "      <td>NaN</td>\n",
       "      <td>18.000000</td>\n",
       "      <td>0.000000</td>\n",
       "      <td>0.000000</td>\n",
       "      <td>1.000000</td>\n",
       "      <td>0.00000</td>\n",
       "      <td>0.000000</td>\n",
       "      <td>11.580000</td>\n",
       "      <td>0.000000</td>\n",
       "    </tr>\n",
       "    <tr>\n",
       "      <th>25%</th>\n",
       "      <td>2500.75000</td>\n",
       "      <td>1.562853e+07</td>\n",
       "      <td>NaN</td>\n",
       "      <td>584.000000</td>\n",
       "      <td>NaN</td>\n",
       "      <td>NaN</td>\n",
       "      <td>32.000000</td>\n",
       "      <td>2.000000</td>\n",
       "      <td>0.000000</td>\n",
       "      <td>1.000000</td>\n",
       "      <td>0.00000</td>\n",
       "      <td>0.000000</td>\n",
       "      <td>51002.110000</td>\n",
       "      <td>0.000000</td>\n",
       "    </tr>\n",
       "    <tr>\n",
       "      <th>50%</th>\n",
       "      <td>5000.50000</td>\n",
       "      <td>1.569074e+07</td>\n",
       "      <td>NaN</td>\n",
       "      <td>652.000000</td>\n",
       "      <td>NaN</td>\n",
       "      <td>NaN</td>\n",
       "      <td>37.000000</td>\n",
       "      <td>5.000000</td>\n",
       "      <td>97198.540000</td>\n",
       "      <td>1.000000</td>\n",
       "      <td>1.00000</td>\n",
       "      <td>1.000000</td>\n",
       "      <td>100193.915000</td>\n",
       "      <td>0.000000</td>\n",
       "    </tr>\n",
       "    <tr>\n",
       "      <th>75%</th>\n",
       "      <td>7500.25000</td>\n",
       "      <td>1.575323e+07</td>\n",
       "      <td>NaN</td>\n",
       "      <td>718.000000</td>\n",
       "      <td>NaN</td>\n",
       "      <td>NaN</td>\n",
       "      <td>44.000000</td>\n",
       "      <td>7.000000</td>\n",
       "      <td>127644.240000</td>\n",
       "      <td>2.000000</td>\n",
       "      <td>1.00000</td>\n",
       "      <td>1.000000</td>\n",
       "      <td>149388.247500</td>\n",
       "      <td>0.000000</td>\n",
       "    </tr>\n",
       "    <tr>\n",
       "      <th>max</th>\n",
       "      <td>10000.00000</td>\n",
       "      <td>1.581569e+07</td>\n",
       "      <td>NaN</td>\n",
       "      <td>850.000000</td>\n",
       "      <td>NaN</td>\n",
       "      <td>NaN</td>\n",
       "      <td>92.000000</td>\n",
       "      <td>10.000000</td>\n",
       "      <td>250898.090000</td>\n",
       "      <td>4.000000</td>\n",
       "      <td>1.00000</td>\n",
       "      <td>1.000000</td>\n",
       "      <td>199992.480000</td>\n",
       "      <td>1.000000</td>\n",
       "    </tr>\n",
       "  </tbody>\n",
       "</table>\n",
       "</div>"
      ],
      "text/plain": [
       "          RowNumber    CustomerId Surname   CreditScore Geography Gender  \\\n",
       "count   10000.00000  1.000000e+04   10000  10000.000000     10000  10000   \n",
       "unique          NaN           NaN    2932           NaN         3      2   \n",
       "top             NaN           NaN   Smith           NaN    France   Male   \n",
       "freq            NaN           NaN      32           NaN      5014   5457   \n",
       "mean     5000.50000  1.569094e+07     NaN    650.528800       NaN    NaN   \n",
       "std      2886.89568  7.193619e+04     NaN     96.653299       NaN    NaN   \n",
       "min         1.00000  1.556570e+07     NaN    350.000000       NaN    NaN   \n",
       "25%      2500.75000  1.562853e+07     NaN    584.000000       NaN    NaN   \n",
       "50%      5000.50000  1.569074e+07     NaN    652.000000       NaN    NaN   \n",
       "75%      7500.25000  1.575323e+07     NaN    718.000000       NaN    NaN   \n",
       "max     10000.00000  1.581569e+07     NaN    850.000000       NaN    NaN   \n",
       "\n",
       "                 Age       Tenure        Balance  NumOfProducts    HasCrCard  \\\n",
       "count   10000.000000  9091.000000   10000.000000   10000.000000  10000.00000   \n",
       "unique           NaN          NaN            NaN            NaN          NaN   \n",
       "top              NaN          NaN            NaN            NaN          NaN   \n",
       "freq             NaN          NaN            NaN            NaN          NaN   \n",
       "mean       38.921800     4.997690   76485.889288       1.530200      0.70550   \n",
       "std        10.487806     2.894723   62397.405202       0.581654      0.45584   \n",
       "min        18.000000     0.000000       0.000000       1.000000      0.00000   \n",
       "25%        32.000000     2.000000       0.000000       1.000000      0.00000   \n",
       "50%        37.000000     5.000000   97198.540000       1.000000      1.00000   \n",
       "75%        44.000000     7.000000  127644.240000       2.000000      1.00000   \n",
       "max        92.000000    10.000000  250898.090000       4.000000      1.00000   \n",
       "\n",
       "        IsActiveMember  EstimatedSalary        Exited  \n",
       "count     10000.000000     10000.000000  10000.000000  \n",
       "unique             NaN              NaN           NaN  \n",
       "top                NaN              NaN           NaN  \n",
       "freq               NaN              NaN           NaN  \n",
       "mean          0.515100    100090.239881      0.203700  \n",
       "std           0.499797     57510.492818      0.402769  \n",
       "min           0.000000        11.580000      0.000000  \n",
       "25%           0.000000     51002.110000      0.000000  \n",
       "50%           1.000000    100193.915000      0.000000  \n",
       "75%           1.000000    149388.247500      0.000000  \n",
       "max           1.000000    199992.480000      1.000000  "
      ]
     },
     "execution_count": 7,
     "metadata": {},
     "output_type": "execute_result"
    }
   ],
   "source": [
    " # Информация о диапазонах значений \n",
    "df.describe(include='all')"
   ]
  },
  {
   "cell_type": "markdown",
   "metadata": {},
   "source": [
    "На первый взгляд никакой зависимости в пропущенных значениях не замечено:"
   ]
  },
  {
   "cell_type": "code",
   "execution_count": 8,
   "metadata": {},
   "outputs": [
    {
     "data": {
      "text/html": [
       "<div>\n",
       "<style scoped>\n",
       "    .dataframe tbody tr th:only-of-type {\n",
       "        vertical-align: middle;\n",
       "    }\n",
       "\n",
       "    .dataframe tbody tr th {\n",
       "        vertical-align: top;\n",
       "    }\n",
       "\n",
       "    .dataframe thead th {\n",
       "        text-align: right;\n",
       "    }\n",
       "</style>\n",
       "<table border=\"1\" class=\"dataframe\">\n",
       "  <thead>\n",
       "    <tr style=\"text-align: right;\">\n",
       "      <th></th>\n",
       "      <th>RowNumber</th>\n",
       "      <th>CustomerId</th>\n",
       "      <th>Surname</th>\n",
       "      <th>CreditScore</th>\n",
       "      <th>Geography</th>\n",
       "      <th>Gender</th>\n",
       "      <th>Age</th>\n",
       "      <th>Tenure</th>\n",
       "      <th>Balance</th>\n",
       "      <th>NumOfProducts</th>\n",
       "      <th>HasCrCard</th>\n",
       "      <th>IsActiveMember</th>\n",
       "      <th>EstimatedSalary</th>\n",
       "      <th>Exited</th>\n",
       "    </tr>\n",
       "  </thead>\n",
       "  <tbody>\n",
       "    <tr>\n",
       "      <th>30</th>\n",
       "      <td>31</td>\n",
       "      <td>15589475</td>\n",
       "      <td>Azikiwe</td>\n",
       "      <td>591</td>\n",
       "      <td>Spain</td>\n",
       "      <td>Female</td>\n",
       "      <td>39</td>\n",
       "      <td>NaN</td>\n",
       "      <td>0.00</td>\n",
       "      <td>3</td>\n",
       "      <td>1</td>\n",
       "      <td>0</td>\n",
       "      <td>140469.38</td>\n",
       "      <td>1</td>\n",
       "    </tr>\n",
       "    <tr>\n",
       "      <th>48</th>\n",
       "      <td>49</td>\n",
       "      <td>15766205</td>\n",
       "      <td>Yin</td>\n",
       "      <td>550</td>\n",
       "      <td>Germany</td>\n",
       "      <td>Male</td>\n",
       "      <td>38</td>\n",
       "      <td>NaN</td>\n",
       "      <td>103391.38</td>\n",
       "      <td>1</td>\n",
       "      <td>0</td>\n",
       "      <td>1</td>\n",
       "      <td>90878.13</td>\n",
       "      <td>0</td>\n",
       "    </tr>\n",
       "    <tr>\n",
       "      <th>51</th>\n",
       "      <td>52</td>\n",
       "      <td>15768193</td>\n",
       "      <td>Trevisani</td>\n",
       "      <td>585</td>\n",
       "      <td>Germany</td>\n",
       "      <td>Male</td>\n",
       "      <td>36</td>\n",
       "      <td>NaN</td>\n",
       "      <td>146050.97</td>\n",
       "      <td>2</td>\n",
       "      <td>0</td>\n",
       "      <td>0</td>\n",
       "      <td>86424.57</td>\n",
       "      <td>0</td>\n",
       "    </tr>\n",
       "    <tr>\n",
       "      <th>53</th>\n",
       "      <td>54</td>\n",
       "      <td>15702298</td>\n",
       "      <td>Parkhill</td>\n",
       "      <td>655</td>\n",
       "      <td>Germany</td>\n",
       "      <td>Male</td>\n",
       "      <td>41</td>\n",
       "      <td>NaN</td>\n",
       "      <td>125561.97</td>\n",
       "      <td>1</td>\n",
       "      <td>0</td>\n",
       "      <td>0</td>\n",
       "      <td>164040.94</td>\n",
       "      <td>1</td>\n",
       "    </tr>\n",
       "    <tr>\n",
       "      <th>60</th>\n",
       "      <td>61</td>\n",
       "      <td>15651280</td>\n",
       "      <td>Hunter</td>\n",
       "      <td>742</td>\n",
       "      <td>Germany</td>\n",
       "      <td>Male</td>\n",
       "      <td>35</td>\n",
       "      <td>NaN</td>\n",
       "      <td>136857.00</td>\n",
       "      <td>1</td>\n",
       "      <td>0</td>\n",
       "      <td>0</td>\n",
       "      <td>84509.57</td>\n",
       "      <td>0</td>\n",
       "    </tr>\n",
       "    <tr>\n",
       "      <th>82</th>\n",
       "      <td>83</td>\n",
       "      <td>15641732</td>\n",
       "      <td>Mills</td>\n",
       "      <td>543</td>\n",
       "      <td>France</td>\n",
       "      <td>Female</td>\n",
       "      <td>36</td>\n",
       "      <td>NaN</td>\n",
       "      <td>0.00</td>\n",
       "      <td>2</td>\n",
       "      <td>0</td>\n",
       "      <td>0</td>\n",
       "      <td>26019.59</td>\n",
       "      <td>0</td>\n",
       "    </tr>\n",
       "    <tr>\n",
       "      <th>85</th>\n",
       "      <td>86</td>\n",
       "      <td>15805254</td>\n",
       "      <td>Ndukaku</td>\n",
       "      <td>652</td>\n",
       "      <td>Spain</td>\n",
       "      <td>Female</td>\n",
       "      <td>75</td>\n",
       "      <td>NaN</td>\n",
       "      <td>0.00</td>\n",
       "      <td>2</td>\n",
       "      <td>1</td>\n",
       "      <td>1</td>\n",
       "      <td>114675.75</td>\n",
       "      <td>0</td>\n",
       "    </tr>\n",
       "    <tr>\n",
       "      <th>94</th>\n",
       "      <td>95</td>\n",
       "      <td>15676966</td>\n",
       "      <td>Capon</td>\n",
       "      <td>730</td>\n",
       "      <td>Spain</td>\n",
       "      <td>Male</td>\n",
       "      <td>42</td>\n",
       "      <td>NaN</td>\n",
       "      <td>0.00</td>\n",
       "      <td>2</td>\n",
       "      <td>0</td>\n",
       "      <td>1</td>\n",
       "      <td>85982.47</td>\n",
       "      <td>0</td>\n",
       "    </tr>\n",
       "    <tr>\n",
       "      <th>99</th>\n",
       "      <td>100</td>\n",
       "      <td>15633059</td>\n",
       "      <td>Fanucci</td>\n",
       "      <td>413</td>\n",
       "      <td>France</td>\n",
       "      <td>Male</td>\n",
       "      <td>34</td>\n",
       "      <td>NaN</td>\n",
       "      <td>0.00</td>\n",
       "      <td>2</td>\n",
       "      <td>0</td>\n",
       "      <td>0</td>\n",
       "      <td>6534.18</td>\n",
       "      <td>0</td>\n",
       "    </tr>\n",
       "    <tr>\n",
       "      <th>111</th>\n",
       "      <td>112</td>\n",
       "      <td>15665790</td>\n",
       "      <td>Rowntree</td>\n",
       "      <td>538</td>\n",
       "      <td>Germany</td>\n",
       "      <td>Male</td>\n",
       "      <td>39</td>\n",
       "      <td>NaN</td>\n",
       "      <td>108055.10</td>\n",
       "      <td>2</td>\n",
       "      <td>1</td>\n",
       "      <td>0</td>\n",
       "      <td>27231.26</td>\n",
       "      <td>0</td>\n",
       "    </tr>\n",
       "  </tbody>\n",
       "</table>\n",
       "</div>"
      ],
      "text/plain": [
       "     RowNumber  CustomerId    Surname  CreditScore Geography  Gender  Age  \\\n",
       "30          31    15589475    Azikiwe          591     Spain  Female   39   \n",
       "48          49    15766205        Yin          550   Germany    Male   38   \n",
       "51          52    15768193  Trevisani          585   Germany    Male   36   \n",
       "53          54    15702298   Parkhill          655   Germany    Male   41   \n",
       "60          61    15651280     Hunter          742   Germany    Male   35   \n",
       "82          83    15641732      Mills          543    France  Female   36   \n",
       "85          86    15805254    Ndukaku          652     Spain  Female   75   \n",
       "94          95    15676966      Capon          730     Spain    Male   42   \n",
       "99         100    15633059    Fanucci          413    France    Male   34   \n",
       "111        112    15665790   Rowntree          538   Germany    Male   39   \n",
       "\n",
       "     Tenure    Balance  NumOfProducts  HasCrCard  IsActiveMember  \\\n",
       "30      NaN       0.00              3          1               0   \n",
       "48      NaN  103391.38              1          0               1   \n",
       "51      NaN  146050.97              2          0               0   \n",
       "53      NaN  125561.97              1          0               0   \n",
       "60      NaN  136857.00              1          0               0   \n",
       "82      NaN       0.00              2          0               0   \n",
       "85      NaN       0.00              2          1               1   \n",
       "94      NaN       0.00              2          0               1   \n",
       "99      NaN       0.00              2          0               0   \n",
       "111     NaN  108055.10              2          1               0   \n",
       "\n",
       "     EstimatedSalary  Exited  \n",
       "30         140469.38       1  \n",
       "48          90878.13       0  \n",
       "51          86424.57       0  \n",
       "53         164040.94       1  \n",
       "60          84509.57       0  \n",
       "82          26019.59       0  \n",
       "85         114675.75       0  \n",
       "94          85982.47       0  \n",
       "99           6534.18       0  \n",
       "111         27231.26       0  "
      ]
     },
     "execution_count": 8,
     "metadata": {},
     "output_type": "execute_result"
    }
   ],
   "source": [
    "df.query('Tenure != Tenure').head(10)"
   ]
  },
  {
   "cell_type": "markdown",
   "metadata": {},
   "source": [
    "Колонки: \"RowNumber\", \"CustomerId\", \"Surname\" не несут никакой информации для нашей модели, избавимся от них:"
   ]
  },
  {
   "cell_type": "code",
   "execution_count": 9,
   "metadata": {},
   "outputs": [
    {
     "data": {
      "text/html": [
       "<div>\n",
       "<style scoped>\n",
       "    .dataframe tbody tr th:only-of-type {\n",
       "        vertical-align: middle;\n",
       "    }\n",
       "\n",
       "    .dataframe tbody tr th {\n",
       "        vertical-align: top;\n",
       "    }\n",
       "\n",
       "    .dataframe thead th {\n",
       "        text-align: right;\n",
       "    }\n",
       "</style>\n",
       "<table border=\"1\" class=\"dataframe\">\n",
       "  <thead>\n",
       "    <tr style=\"text-align: right;\">\n",
       "      <th></th>\n",
       "      <th>CreditScore</th>\n",
       "      <th>Geography</th>\n",
       "      <th>Gender</th>\n",
       "      <th>Age</th>\n",
       "      <th>Tenure</th>\n",
       "      <th>Balance</th>\n",
       "      <th>NumOfProducts</th>\n",
       "      <th>HasCrCard</th>\n",
       "      <th>IsActiveMember</th>\n",
       "      <th>EstimatedSalary</th>\n",
       "      <th>Exited</th>\n",
       "    </tr>\n",
       "  </thead>\n",
       "  <tbody>\n",
       "    <tr>\n",
       "      <th>0</th>\n",
       "      <td>619</td>\n",
       "      <td>France</td>\n",
       "      <td>Female</td>\n",
       "      <td>42</td>\n",
       "      <td>2.0</td>\n",
       "      <td>0.00</td>\n",
       "      <td>1</td>\n",
       "      <td>1</td>\n",
       "      <td>1</td>\n",
       "      <td>101348.88</td>\n",
       "      <td>1</td>\n",
       "    </tr>\n",
       "    <tr>\n",
       "      <th>1</th>\n",
       "      <td>608</td>\n",
       "      <td>Spain</td>\n",
       "      <td>Female</td>\n",
       "      <td>41</td>\n",
       "      <td>1.0</td>\n",
       "      <td>83807.86</td>\n",
       "      <td>1</td>\n",
       "      <td>0</td>\n",
       "      <td>1</td>\n",
       "      <td>112542.58</td>\n",
       "      <td>0</td>\n",
       "    </tr>\n",
       "    <tr>\n",
       "      <th>2</th>\n",
       "      <td>502</td>\n",
       "      <td>France</td>\n",
       "      <td>Female</td>\n",
       "      <td>42</td>\n",
       "      <td>8.0</td>\n",
       "      <td>159660.80</td>\n",
       "      <td>3</td>\n",
       "      <td>1</td>\n",
       "      <td>0</td>\n",
       "      <td>113931.57</td>\n",
       "      <td>1</td>\n",
       "    </tr>\n",
       "    <tr>\n",
       "      <th>3</th>\n",
       "      <td>699</td>\n",
       "      <td>France</td>\n",
       "      <td>Female</td>\n",
       "      <td>39</td>\n",
       "      <td>1.0</td>\n",
       "      <td>0.00</td>\n",
       "      <td>2</td>\n",
       "      <td>0</td>\n",
       "      <td>0</td>\n",
       "      <td>93826.63</td>\n",
       "      <td>0</td>\n",
       "    </tr>\n",
       "    <tr>\n",
       "      <th>4</th>\n",
       "      <td>850</td>\n",
       "      <td>Spain</td>\n",
       "      <td>Female</td>\n",
       "      <td>43</td>\n",
       "      <td>2.0</td>\n",
       "      <td>125510.82</td>\n",
       "      <td>1</td>\n",
       "      <td>1</td>\n",
       "      <td>1</td>\n",
       "      <td>79084.10</td>\n",
       "      <td>0</td>\n",
       "    </tr>\n",
       "  </tbody>\n",
       "</table>\n",
       "</div>"
      ],
      "text/plain": [
       "   CreditScore Geography  Gender  Age  Tenure    Balance  NumOfProducts  \\\n",
       "0          619    France  Female   42     2.0       0.00              1   \n",
       "1          608     Spain  Female   41     1.0   83807.86              1   \n",
       "2          502    France  Female   42     8.0  159660.80              3   \n",
       "3          699    France  Female   39     1.0       0.00              2   \n",
       "4          850     Spain  Female   43     2.0  125510.82              1   \n",
       "\n",
       "   HasCrCard  IsActiveMember  EstimatedSalary  Exited  \n",
       "0          1               1        101348.88       1  \n",
       "1          0               1        112542.58       0  \n",
       "2          1               0        113931.57       1  \n",
       "3          0               0         93826.63       0  \n",
       "4          1               1         79084.10       0  "
      ]
     },
     "execution_count": 9,
     "metadata": {},
     "output_type": "execute_result"
    }
   ],
   "source": [
    "df = df.drop(['RowNumber', 'CustomerId', 'Surname'], axis = 1)\n",
    "df.head()"
   ]
  },
  {
   "cell_type": "markdown",
   "metadata": {},
   "source": [
    "Проверка на не явные дубликаты:"
   ]
  },
  {
   "cell_type": "code",
   "execution_count": 10,
   "metadata": {},
   "outputs": [
    {
     "data": {
      "text/plain": [
       "array(['France', 'Spain', 'Germany'], dtype=object)"
      ]
     },
     "execution_count": 10,
     "metadata": {},
     "output_type": "execute_result"
    }
   ],
   "source": [
    "df['Geography'].unique()"
   ]
  },
  {
   "cell_type": "code",
   "execution_count": 11,
   "metadata": {},
   "outputs": [
    {
     "data": {
      "text/plain": [
       "array(['Female', 'Male'], dtype=object)"
      ]
     },
     "execution_count": 11,
     "metadata": {},
     "output_type": "execute_result"
    }
   ],
   "source": [
    "df['Gender'].unique()"
   ]
  },
  {
   "cell_type": "code",
   "execution_count": 12,
   "metadata": {},
   "outputs": [
    {
     "data": {
      "text/plain": [
       "array([42, 41, 39, 43, 44, 50, 29, 27, 31, 24, 34, 25, 35, 45, 58, 32, 38,\n",
       "       46, 36, 33, 40, 51, 61, 49, 37, 19, 66, 56, 26, 21, 55, 75, 22, 30,\n",
       "       28, 65, 48, 52, 57, 73, 47, 54, 72, 20, 67, 79, 62, 53, 80, 59, 68,\n",
       "       23, 60, 70, 63, 64, 18, 82, 69, 74, 71, 76, 77, 88, 85, 84, 78, 81,\n",
       "       92, 83], dtype=int64)"
      ]
     },
     "execution_count": 12,
     "metadata": {},
     "output_type": "execute_result"
    }
   ],
   "source": [
    "df['Age'].unique()"
   ]
  },
  {
   "cell_type": "code",
   "execution_count": 13,
   "metadata": {},
   "outputs": [
    {
     "data": {
      "text/plain": [
       "array([ 2.,  1.,  8.,  7.,  4.,  6.,  3., 10.,  5.,  9.,  0., nan])"
      ]
     },
     "execution_count": 13,
     "metadata": {},
     "output_type": "execute_result"
    }
   ],
   "source": [
    "df['Tenure'].unique()"
   ]
  },
  {
   "cell_type": "code",
   "execution_count": 14,
   "metadata": {},
   "outputs": [
    {
     "data": {
      "text/plain": [
       "array([1, 3, 2, 4], dtype=int64)"
      ]
     },
     "execution_count": 14,
     "metadata": {},
     "output_type": "execute_result"
    }
   ],
   "source": [
    "df['NumOfProducts'].unique()"
   ]
  },
  {
   "cell_type": "code",
   "execution_count": 15,
   "metadata": {},
   "outputs": [
    {
     "data": {
      "text/plain": [
       "array([1, 0], dtype=int64)"
      ]
     },
     "execution_count": 15,
     "metadata": {},
     "output_type": "execute_result"
    }
   ],
   "source": [
    "df['HasCrCard'].unique()"
   ]
  },
  {
   "cell_type": "code",
   "execution_count": 16,
   "metadata": {},
   "outputs": [
    {
     "data": {
      "text/plain": [
       "array([1, 0], dtype=int64)"
      ]
     },
     "execution_count": 16,
     "metadata": {},
     "output_type": "execute_result"
    }
   ],
   "source": [
    "df['IsActiveMember'].unique()"
   ]
  },
  {
   "cell_type": "code",
   "execution_count": 17,
   "metadata": {},
   "outputs": [
    {
     "data": {
      "text/plain": [
       "array([1, 0], dtype=int64)"
      ]
     },
     "execution_count": 17,
     "metadata": {},
     "output_type": "execute_result"
    }
   ],
   "source": [
    "df['Exited'].unique()"
   ]
  },
  {
   "cell_type": "markdown",
   "metadata": {},
   "source": [
    "Не явных дубликатов не обнаружено:"
   ]
  },
  {
   "cell_type": "markdown",
   "metadata": {},
   "source": [
    "Значения в колонках 'Balance' и 'EstimatedSalary' приведем к типу \"int\":"
   ]
  },
  {
   "cell_type": "code",
   "execution_count": 18,
   "metadata": {},
   "outputs": [],
   "source": [
    "df[['Balance', 'EstimatedSalary']] = df[['Balance', 'EstimatedSalary']].astype('int')"
   ]
  },
  {
   "cell_type": "markdown",
   "metadata": {},
   "source": [
    "Проверим как связанна балансировка классов и целевой признак в столбце 'Tenure':"
   ]
  },
  {
   "cell_type": "code",
   "execution_count": 19,
   "metadata": {},
   "outputs": [],
   "source": [
    "df_tenure_nan = df.query('Tenure != Tenure')\n",
    "df_tenure_not_nan = df.query('Tenure == Tenure')"
   ]
  },
  {
   "cell_type": "code",
   "execution_count": 20,
   "metadata": {},
   "outputs": [
    {
     "data": {
      "text/plain": [
       "0    0.79868\n",
       "1    0.20132\n",
       "Name: Exited, dtype: float64"
      ]
     },
     "execution_count": 20,
     "metadata": {},
     "output_type": "execute_result"
    }
   ],
   "source": [
    "df_tenure_nan['Exited'].value_counts(1)"
   ]
  },
  {
   "cell_type": "code",
   "execution_count": 21,
   "metadata": {},
   "outputs": [
    {
     "data": {
      "text/plain": [
       "0    0.796062\n",
       "1    0.203938\n",
       "Name: Exited, dtype: float64"
      ]
     },
     "execution_count": 21,
     "metadata": {},
     "output_type": "execute_result"
    }
   ],
   "source": [
    "df_tenure_not_nan['Exited'].value_counts(1)"
   ]
  },
  {
   "cell_type": "markdown",
   "metadata": {},
   "source": [
    "Зависимости не обнаружено - классы распределены пропорционально. Взгдянем на распределение значений в столбце с целевым признаком:"
   ]
  },
  {
   "cell_type": "code",
   "execution_count": 22,
   "metadata": {},
   "outputs": [
    {
     "data": {
      "text/plain": [
       "Tenure\n",
       "0.0      90\n",
       "1.0     213\n",
       "2.0     185\n",
       "3.0     198\n",
       "4.0     184\n",
       "5.0     187\n",
       "6.0     177\n",
       "7.0     160\n",
       "8.0     174\n",
       "9.0     194\n",
       "10.0     92\n",
       "NaN     183\n",
       "Name: Exited, dtype: int64"
      ]
     },
     "execution_count": 22,
     "metadata": {},
     "output_type": "execute_result"
    }
   ],
   "source": [
    "df.groupby(by=['Tenure'], dropna=False)['Exited'].sum()"
   ]
  },
  {
   "cell_type": "markdown",
   "metadata": {},
   "source": [
    "Значения распределены нормально, оптимальной стратегии заполнения пропущенных значений нет, чтобы не искажать данные и не терять значения целевого признака - заполним пропущенные значения случайными значениями диапазоном от 0 до 10:"
   ]
  },
  {
   "cell_type": "code",
   "execution_count": 23,
   "metadata": {},
   "outputs": [
    {
     "data": {
      "text/plain": [
       "Tenure\n",
       "0.0      90\n",
       "1.0     213\n",
       "2.0     185\n",
       "3.0     198\n",
       "4.0     184\n",
       "5.0     187\n",
       "6.0     177\n",
       "7.0     160\n",
       "8.0     174\n",
       "9.0     194\n",
       "10.0     92\n",
       "NaN     183\n",
       "Name: Exited, dtype: int64"
      ]
     },
     "execution_count": 23,
     "metadata": {},
     "output_type": "execute_result"
    }
   ],
   "source": [
    "df.groupby(by=['Tenure'], dropna=False)['Exited'].sum()"
   ]
  },
  {
   "cell_type": "code",
   "execution_count": 24,
   "metadata": {},
   "outputs": [],
   "source": [
    "np.random.seed(12345)\n",
    "data = (np.random.randint(0,10, size=df['Tenure'].isna().sum()))\n",
    "df.loc[df['Tenure'].isna(), 'Tenure'] = data"
   ]
  },
  {
   "cell_type": "markdown",
   "metadata": {},
   "source": [
    "Проверка распределения:"
   ]
  },
  {
   "cell_type": "code",
   "execution_count": 25,
   "metadata": {},
   "outputs": [
    {
     "data": {
      "text/plain": [
       "Tenure\n",
       "0.0     111\n",
       "1.0     225\n",
       "2.0     207\n",
       "3.0     220\n",
       "4.0     201\n",
       "5.0     206\n",
       "6.0     203\n",
       "7.0     175\n",
       "8.0     188\n",
       "9.0     209\n",
       "10.0     92\n",
       "Name: Exited, dtype: int64"
      ]
     },
     "execution_count": 25,
     "metadata": {},
     "output_type": "execute_result"
    }
   ],
   "source": [
    "df.groupby(by=['Tenure'], dropna=False)['Exited'].sum()"
   ]
  },
  {
   "cell_type": "markdown",
   "metadata": {},
   "source": [
    "### Проверка на дубликаты"
   ]
  },
  {
   "cell_type": "code",
   "execution_count": 26,
   "metadata": {},
   "outputs": [
    {
     "data": {
      "text/plain": [
       "0"
      ]
     },
     "execution_count": 26,
     "metadata": {},
     "output_type": "execute_result"
    }
   ],
   "source": [
    "df.duplicated().sum()"
   ]
  },
  {
   "cell_type": "markdown",
   "metadata": {},
   "source": [
    "Явных дубликатов не обнаружили."
   ]
  },
  {
   "cell_type": "markdown",
   "metadata": {},
   "source": [
    "### Preoprocessing"
   ]
  },
  {
   "cell_type": "markdown",
   "metadata": {},
   "source": [
    "Категоральные перееменные в колонках 'Geography' и 'Gender'  преобразуем при помощи One-hot-encoding, чтобы не попасть в дамми-ловушку используем аргумент drop_first=True: "
   ]
  },
  {
   "cell_type": "code",
   "execution_count": 27,
   "metadata": {},
   "outputs": [
    {
     "data": {
      "text/html": [
       "<div>\n",
       "<style scoped>\n",
       "    .dataframe tbody tr th:only-of-type {\n",
       "        vertical-align: middle;\n",
       "    }\n",
       "\n",
       "    .dataframe tbody tr th {\n",
       "        vertical-align: top;\n",
       "    }\n",
       "\n",
       "    .dataframe thead th {\n",
       "        text-align: right;\n",
       "    }\n",
       "</style>\n",
       "<table border=\"1\" class=\"dataframe\">\n",
       "  <thead>\n",
       "    <tr style=\"text-align: right;\">\n",
       "      <th></th>\n",
       "      <th>CreditScore</th>\n",
       "      <th>Age</th>\n",
       "      <th>Tenure</th>\n",
       "      <th>Balance</th>\n",
       "      <th>NumOfProducts</th>\n",
       "      <th>HasCrCard</th>\n",
       "      <th>IsActiveMember</th>\n",
       "      <th>EstimatedSalary</th>\n",
       "      <th>Exited</th>\n",
       "      <th>Geography_Germany</th>\n",
       "      <th>Geography_Spain</th>\n",
       "      <th>Gender_Male</th>\n",
       "    </tr>\n",
       "  </thead>\n",
       "  <tbody>\n",
       "    <tr>\n",
       "      <th>0</th>\n",
       "      <td>619</td>\n",
       "      <td>42</td>\n",
       "      <td>2.0</td>\n",
       "      <td>0</td>\n",
       "      <td>1</td>\n",
       "      <td>1</td>\n",
       "      <td>1</td>\n",
       "      <td>101348</td>\n",
       "      <td>1</td>\n",
       "      <td>0</td>\n",
       "      <td>0</td>\n",
       "      <td>0</td>\n",
       "    </tr>\n",
       "    <tr>\n",
       "      <th>1</th>\n",
       "      <td>608</td>\n",
       "      <td>41</td>\n",
       "      <td>1.0</td>\n",
       "      <td>83807</td>\n",
       "      <td>1</td>\n",
       "      <td>0</td>\n",
       "      <td>1</td>\n",
       "      <td>112542</td>\n",
       "      <td>0</td>\n",
       "      <td>0</td>\n",
       "      <td>1</td>\n",
       "      <td>0</td>\n",
       "    </tr>\n",
       "    <tr>\n",
       "      <th>2</th>\n",
       "      <td>502</td>\n",
       "      <td>42</td>\n",
       "      <td>8.0</td>\n",
       "      <td>159660</td>\n",
       "      <td>3</td>\n",
       "      <td>1</td>\n",
       "      <td>0</td>\n",
       "      <td>113931</td>\n",
       "      <td>1</td>\n",
       "      <td>0</td>\n",
       "      <td>0</td>\n",
       "      <td>0</td>\n",
       "    </tr>\n",
       "    <tr>\n",
       "      <th>3</th>\n",
       "      <td>699</td>\n",
       "      <td>39</td>\n",
       "      <td>1.0</td>\n",
       "      <td>0</td>\n",
       "      <td>2</td>\n",
       "      <td>0</td>\n",
       "      <td>0</td>\n",
       "      <td>93826</td>\n",
       "      <td>0</td>\n",
       "      <td>0</td>\n",
       "      <td>0</td>\n",
       "      <td>0</td>\n",
       "    </tr>\n",
       "    <tr>\n",
       "      <th>4</th>\n",
       "      <td>850</td>\n",
       "      <td>43</td>\n",
       "      <td>2.0</td>\n",
       "      <td>125510</td>\n",
       "      <td>1</td>\n",
       "      <td>1</td>\n",
       "      <td>1</td>\n",
       "      <td>79084</td>\n",
       "      <td>0</td>\n",
       "      <td>0</td>\n",
       "      <td>1</td>\n",
       "      <td>0</td>\n",
       "    </tr>\n",
       "  </tbody>\n",
       "</table>\n",
       "</div>"
      ],
      "text/plain": [
       "   CreditScore  Age  Tenure  Balance  NumOfProducts  HasCrCard  \\\n",
       "0          619   42     2.0        0              1          1   \n",
       "1          608   41     1.0    83807              1          0   \n",
       "2          502   42     8.0   159660              3          1   \n",
       "3          699   39     1.0        0              2          0   \n",
       "4          850   43     2.0   125510              1          1   \n",
       "\n",
       "   IsActiveMember  EstimatedSalary  Exited  Geography_Germany  \\\n",
       "0               1           101348       1                  0   \n",
       "1               1           112542       0                  0   \n",
       "2               0           113931       1                  0   \n",
       "3               0            93826       0                  0   \n",
       "4               1            79084       0                  0   \n",
       "\n",
       "   Geography_Spain  Gender_Male  \n",
       "0                0            0  \n",
       "1                1            0  \n",
       "2                0            0  \n",
       "3                0            0  \n",
       "4                1            0  "
      ]
     },
     "execution_count": 27,
     "metadata": {},
     "output_type": "execute_result"
    }
   ],
   "source": [
    "df = pd.get_dummies(df, drop_first=True)\n",
    "df.head()"
   ]
  },
  {
   "cell_type": "markdown",
   "metadata": {},
   "source": [
    "## Исследование задачи"
   ]
  },
  {
   "cell_type": "markdown",
   "metadata": {},
   "source": [
    "Исследуйте баланс классов, обучите модель без учёта дисбаланса. Кратко опишите выводы."
   ]
  },
  {
   "cell_type": "markdown",
   "metadata": {},
   "source": [
    "### Исследование баланса классов"
   ]
  },
  {
   "cell_type": "code",
   "execution_count": 28,
   "metadata": {},
   "outputs": [
    {
     "data": {
      "text/plain": [
       "<AxesSubplot:ylabel='Exited'>"
      ]
     },
     "execution_count": 28,
     "metadata": {},
     "output_type": "execute_result"
    },
    {
     "data": {
      "image/png": "[encoded data removed]",
      "text/plain": [
       "<Figure size 504x504 with 1 Axes>"
      ]
     },
     "metadata": {},
     "output_type": "display_data"
    }
   ],
   "source": [
    "df['Exited'].value_counts(1).plot(kind='pie', legend=True, autopct='%1.1f%%', figsize=(7, 7))"
   ]
  },
  {
   "cell_type": "markdown",
   "metadata": {},
   "source": [
    "Наш датасет имеет разбалансировку классов, только 20 процентов данных относиться к целевому признаку. "
   ]
  },
  {
   "cell_type": "markdown",
   "metadata": {},
   "source": [
    "### Обучение моделей без учета дисбаланса классов"
   ]
  },
  {
   "cell_type": "markdown",
   "metadata": {},
   "source": [
    "Мы будем проверять четыре модели:"
   ]
  },
  {
   "cell_type": "code",
   "execution_count": 29,
   "metadata": {},
   "outputs": [],
   "source": [
    "lr = LogisticRegression(random_state=12345)\n",
    "dtc = tree.DecisionTreeClassifier(random_state=12345)\n",
    "rfc = RandomForestClassifier(random_state=12345)\n",
    "gbc = GradientBoostingClassifier(random_state=12345)"
   ]
  },
  {
   "cell_type": "code",
   "execution_count": 30,
   "metadata": {},
   "outputs": [],
   "source": [
    "scaler = StandardScaler() \n",
    "numeric = ['CreditScore', 'Age', 'Balance', 'NumOfProducts', 'EstimatedSalary', 'Tenure']"
   ]
  },
  {
   "cell_type": "code",
   "execution_count": 31,
   "metadata": {},
   "outputs": [],
   "source": [
    " # создаем функцию, которая будет принимат датасеты с признаками и таргетом и увеличивать \n",
    " # количество строк с классом 1 в требуемое количество раз\n",
    "def upsample(features, target, repeat):\n",
    "    features_zeros = features[target == 0] # выделяем объекты с классом 0\n",
    "    features_ones = features[target == 1] # с классов 1\n",
    "    target_zeros = target[target == 0] # аналогично для датасета с таргетом\n",
    "    target_ones = target[target == 1]\n",
    "\n",
    "    features_upsampled = pd.concat([features_zeros] + [features_ones] * repeat) # умножаем объекты класса 1 и соединяем датасеты\n",
    "    target_upsampled = pd.concat([target_zeros] + [target_ones] * repeat) # аналогично для таргета\n",
    "\n",
    "    features_upsampled, target_upsampled = shuffle(\n",
    "        features_upsampled, target_upsampled, random_state=12345) # перемешиваем объекты\n",
    "\n",
    "    return features_upsampled, target_upsampled"
   ]
  },
  {
   "cell_type": "code",
   "execution_count": 32,
   "metadata": {},
   "outputs": [],
   "source": [
    "# создаем функцию, которая будет уменьшать количество объектов класса 0 в заданных датасетах\n",
    "def downsample(features, target, fraction):\n",
    "    features_zeros = features[target == 0] # выделяем объекты с классом 0\n",
    "    features_ones = features[target == 1] # с классов 1\n",
    "    target_zeros = target[target == 0] # аналогично для датасета с таргетом\n",
    "    target_ones = target[target == 1]\n",
    "\n",
    "    features_downsampled = pd.concat(\n",
    "        [features_zeros.sample(frac=fraction, random_state=12345)] + [features_ones]) # уменьшаем объекты класса 0 и соединяем датасеты\n",
    "    target_downsampled = pd.concat(\n",
    "        [target_zeros.sample(frac=fraction, random_state=12345)] + [target_ones]) # аналогично для таргета\n",
    "\n",
    "    features_downsampled, target_downsampled = shuffle(\n",
    "        features_downsampled, target_downsampled, random_state=12345) # перемешиваем объекты\n",
    "\n",
    "    return features_downsampled, target_downsampled"
   ]
  },
  {
   "cell_type": "markdown",
   "metadata": {},
   "source": [
    "Функция разделения выборки на тренировочную, валидационную и тестовые выборки, с балансировкой по классам и без:"
   ]
  },
  {
   "cell_type": "code",
   "execution_count": 33,
   "metadata": {},
   "outputs": [],
   "source": [
    " # создаем функцию, которая разделяет переданный ей в качестве аргумента 'data' датасет данных.\n",
    " # data - датасет\n",
    " # switch - переключатель использования стратификации по целевому признаку выборки data (True, False)\n",
    " # samp - переключатель использования upsampling, downsampling, mormal\n",
    "def split_fun(data, switch, samp):\n",
    "    target = data['Exited'] # таргет\n",
    "    features = data.drop('Exited', axis=1) # признаки\n",
    "    \n",
    "     # разделение выборки\n",
    "    if switch == False:\n",
    "        features_train, features_test, target_train, target_test = train_test_split(features, \n",
    "                                                                                    target, \n",
    "                                                                                    test_size=0.25, \n",
    "                                                                                    random_state=12345)\n",
    "     \n",
    "    elif switch == True:\n",
    "        features_train, features_test, target_train, target_test = train_test_split(features, \n",
    "                                                                                    target, \n",
    "                                                                                    test_size=0.25, \n",
    "                                                                                    random_state=12345, \n",
    "                                                                                    stratify=target)\n",
    "        \n",
    "     # самплирование\n",
    "    if samp == 'norm':\n",
    "        features_train, target_train = features_train, target_train\n",
    "        \n",
    "    elif samp == 'upsampling':\n",
    "        rat = len(df.loc[df['Exited']==0]) // len(df.loc[df['Exited']==1])\n",
    "        features_train, target_train = upsample(features_train, target_train, rat)\n",
    "        \n",
    "    elif samp == 'downsampling':\n",
    "        rat = len(df.loc[df['Exited']==1]) / len(df)\n",
    "        features_train, target_train = downsample(features_train, target_train, rat)\n",
    "        \n",
    "     # скалирование   \n",
    "    scaler.fit(features_train[numeric])\n",
    "    features_train[numeric] = scaler.transform(features_train[numeric])\n",
    "    features_test[numeric] = scaler.transform(features_test[numeric])\n",
    "    \n",
    "    return features_train, target_train, features_test, target_test   "
   ]
  },
  {
   "cell_type": "markdown",
   "metadata": {},
   "source": [
    "Функция для вывода точности, f1 меры и roc_auc результата:"
   ]
  },
  {
   "cell_type": "code",
   "execution_count": 34,
   "metadata": {},
   "outputs": [],
   "source": [
    " # создаем функцию, которая выводит данные по модели: точность, f1 мера и roc_auc результат.\n",
    " # model - модель\n",
    " # data - датасет\n",
    " # switch - переключатель использования стратификации по целевому признаку выборки data (True, False)\n",
    " # samp - переключатель использования upsampling, downsampling, mormal\n",
    "def score_fun(model, data, switch, samp):\n",
    "  \n",
    "    features_train, target_train, features_test, target_test = split_fun(data, switch, samp) # Вызов функции разделения датасета \n",
    "    model.fit(features_train, target_train) # Обучение модели\n",
    "    \n",
    "    accuracy = accuracy_score(target_test, model.predict(features_test)) # Точность\n",
    "    f1 = f1_score(target_test, model.predict(features_test)) # f1\n",
    "    roc_auc = roc_auc_score(target_test, model.predict(features_test)) # roc_auc\n",
    "    \n",
    "    nl = '\\n'\n",
    "    print(f'Модель {model}: {nl}Точность: {accuracy}')\n",
    "    print(f'F1-мера: {f1}')\n",
    "    print(f'roc_auc {roc_auc}')"
   ]
  },
  {
   "cell_type": "code",
   "execution_count": 35,
   "metadata": {},
   "outputs": [
    {
     "name": "stdout",
     "output_type": "stream",
     "text": [
      "Модель LogisticRegression(random_state=12345): \n",
      "Точность: 0.7968\n",
      "F1-мера: 0.29050279329608936\n",
      "roc_auc 0.5776033863641769\n"
     ]
    }
   ],
   "source": [
    "score_fun(lr, df, False, 'norm')"
   ]
  },
  {
   "cell_type": "code",
   "execution_count": 36,
   "metadata": {},
   "outputs": [
    {
     "name": "stdout",
     "output_type": "stream",
     "text": [
      "Модель DecisionTreeClassifier(random_state=12345): \n",
      "Точность: 0.7836\n",
      "F1-мера: 0.49953746530989823\n",
      "roc_auc 0.682107440964543\n"
     ]
    }
   ],
   "source": [
    "score_fun(dtc, df, False, 'norm')"
   ]
  },
  {
   "cell_type": "code",
   "execution_count": 37,
   "metadata": {},
   "outputs": [
    {
     "name": "stdout",
     "output_type": "stream",
     "text": [
      "Модель RandomForestClassifier(random_state=12345): \n",
      "Точность: 0.8512\n",
      "F1-мера: 0.557142857142857\n",
      "roc_auc 0.7006254310242324\n"
     ]
    }
   ],
   "source": [
    "score_fun(rfc, df, False, 'norm')"
   ]
  },
  {
   "cell_type": "code",
   "execution_count": 38,
   "metadata": {},
   "outputs": [
    {
     "name": "stdout",
     "output_type": "stream",
     "text": [
      "Модель GradientBoostingClassifier(random_state=12345): \n",
      "Точность: 0.8604\n",
      "F1-мера: 0.5898942420681551\n",
      "roc_auc 0.718039999048774\n"
     ]
    }
   ],
   "source": [
    "score_fun(gbc, df, False, 'norm')"
   ]
  },
  {
   "cell_type": "markdown",
   "metadata": {},
   "source": [
    "## Борьба с дисбалансом"
   ]
  },
  {
   "cell_type": "markdown",
   "metadata": {},
   "source": [
    "Улучшите качество модели, учитывая дисбаланс классов. Обучите разные модели и найдите лучшую. Кратко опишите выводы."
   ]
  },
  {
   "cell_type": "markdown",
   "metadata": {},
   "source": [
    "### Upsampling + class_weight + balanced_split"
   ]
  },
  {
   "cell_type": "code",
   "execution_count": 39,
   "metadata": {},
   "outputs": [],
   "source": [
    "lr = LogisticRegression(random_state=12345, class_weight='balanced')\n",
    "dtc = tree.DecisionTreeClassifier(random_state=12345, class_weight='balanced')\n",
    "rfc = RandomForestClassifier(random_state=12345, class_weight='balanced')"
   ]
  },
  {
   "cell_type": "code",
   "execution_count": 40,
   "metadata": {},
   "outputs": [
    {
     "name": "stdout",
     "output_type": "stream",
     "text": [
      "Модель LogisticRegression(class_weight='balanced', random_state=12345): \n",
      "Точность: 0.7092\n",
      "F1-мера: 0.5010295126973233\n",
      "roc_auc 0.712137329179737\n"
     ]
    }
   ],
   "source": [
    "score_fun(lr, df, True, 'upsampling')"
   ]
  },
  {
   "cell_type": "code",
   "execution_count": 41,
   "metadata": {},
   "outputs": [
    {
     "name": "stdout",
     "output_type": "stream",
     "text": [
      "Модель DecisionTreeClassifier(class_weight='balanced', random_state=12345): \n",
      "Точность: 0.8028\n",
      "F1-мера: 0.49745158002038736\n",
      "roc_auc 0.6824279986856374\n"
     ]
    }
   ],
   "source": [
    "score_fun(dtc, df, True, 'upsampling')"
   ]
  },
  {
   "cell_type": "code",
   "execution_count": 42,
   "metadata": {},
   "outputs": [
    {
     "name": "stdout",
     "output_type": "stream",
     "text": [
      "Модель RandomForestClassifier(class_weight='balanced', random_state=12345): \n",
      "Точность: 0.8588\n",
      "F1-мера: 0.6150490730643401\n",
      "roc_auc 0.7453713616973827\n"
     ]
    }
   ],
   "source": [
    "score_fun(rfc, df, True, 'upsampling')"
   ]
  },
  {
   "cell_type": "code",
   "execution_count": 43,
   "metadata": {},
   "outputs": [
    {
     "name": "stdout",
     "output_type": "stream",
     "text": [
      "Модель GradientBoostingClassifier(random_state=12345): \n",
      "Точность: 0.8348\n",
      "F1-мера: 0.6367634124890061\n",
      "roc_auc 0.7887986114331782\n"
     ]
    }
   ],
   "source": [
    "score_fun(gbc, df, True, 'upsampling')"
   ]
  },
  {
   "cell_type": "markdown",
   "metadata": {},
   "source": [
    "### Downsampling + class_weight + balanced_split"
   ]
  },
  {
   "cell_type": "code",
   "execution_count": 44,
   "metadata": {},
   "outputs": [
    {
     "name": "stdout",
     "output_type": "stream",
     "text": [
      "Модель LogisticRegression(class_weight='balanced', random_state=12345): \n",
      "Точность: 0.7068\n",
      "F1-мера: 0.5030508474576271\n",
      "roc_auc 0.7150176777818456\n"
     ]
    }
   ],
   "source": [
    "score_fun(lr, df, True, 'downsampling')"
   ]
  },
  {
   "cell_type": "code",
   "execution_count": 45,
   "metadata": {},
   "outputs": [
    {
     "name": "stdout",
     "output_type": "stream",
     "text": [
      "Модель DecisionTreeClassifier(class_weight='balanced', random_state=12345): \n",
      "Точность: 0.6692\n",
      "F1-мера: 0.48665425201738055\n",
      "roc_auc 0.7067664016561758\n"
     ]
    }
   ],
   "source": [
    "score_fun(dtc, df, True, 'downsampling')"
   ]
  },
  {
   "cell_type": "code",
   "execution_count": 46,
   "metadata": {},
   "outputs": [
    {
     "name": "stdout",
     "output_type": "stream",
     "text": [
      "Модель RandomForestClassifier(class_weight='balanced', random_state=12345): \n",
      "Точность: 0.7468\n",
      "F1-мера: 0.5685071574642127\n",
      "roc_auc 0.7737653428641067\n"
     ]
    }
   ],
   "source": [
    "score_fun(rfc, df, True, 'downsampling')"
   ]
  },
  {
   "cell_type": "code",
   "execution_count": 47,
   "metadata": {},
   "outputs": [
    {
     "name": "stdout",
     "output_type": "stream",
     "text": [
      "Модель GradientBoostingClassifier(random_state=12345): \n",
      "Точность: 0.7524\n",
      "F1-мера: 0.578050443081118\n",
      "roc_auc 0.7823994813596351\n"
     ]
    }
   ],
   "source": [
    "score_fun(gbc, df, True, 'downsampling')"
   ]
  },
  {
   "cell_type": "markdown",
   "metadata": {},
   "source": [
    "Наилучший результаты:\n",
    "\n",
    "Точность: 0.8348\n",
    "F1-мера: 0.6367634124890061\n",
    "roc_auc 0.7887986114331782\n",
    "\n",
    "показала модель GradientBoostingClassifier(random_state=12345) при использовании: upsampling и стратификациии."
   ]
  },
  {
   "cell_type": "markdown",
   "metadata": {},
   "source": [
    "## Оптимизация параметров наилучшей модели"
   ]
  },
  {
   "cell_type": "code",
   "execution_count": 48,
   "metadata": {},
   "outputs": [],
   "source": [
    "target = df['Exited']\n",
    "features = df.drop('Exited', axis=1)\n",
    "\n",
    "features_train, features_test, target_train, target_test = train_test_split(features, \n",
    "                                                                            target, \n",
    "                                                                            test_size=0.25, \n",
    "                                                                            random_state=12345, \n",
    "                                                                            stratify=target)\n",
    "\n",
    "\n",
    "rat = len(df.loc[df['Exited'] == 0]) // len(df.loc[df['Exited'] == 1])\n",
    "features_train, target_train = upsample(features_train, target_train, rat)\n",
    "\n",
    "scaler.fit(features_train[numeric])\n",
    "features_train[numeric] = scaler.transform(features_train[numeric])\n",
    "features_test[numeric] = scaler.transform(features_test[numeric])"
   ]
  },
  {
   "cell_type": "code",
   "execution_count": 57,
   "metadata": {},
   "outputs": [
    {
     "name": "stdout",
     "output_type": "stream",
     "text": [
      "Точность модели GradientBoostingClassifier(random_state=12345) на тренировочной выборке составила:       0.6228470869238345 с параметрами       {'gbc__learning_rate': 0.01, 'gbc__n_estimators': 70}\n",
      "0.6277432712215321\n",
      "0.7156354435884039\n",
      "Wall time: 950 ms\n"
     ]
    }
   ],
   "source": [
    "%%time\n",
    "\n",
    "f1 = make_scorer(f1_score)\n",
    "\n",
    "pipe = Pipeline(steps=[(\"gbc\", gbc)]) # Создаем пайплайн\n",
    "\n",
    " # Задаем решетку параметров пайплайна\n",
    "param_grid = {'gbc__learning_rate': [0.01],\n",
    "              'gbc__n_estimators': [70]}\n",
    "\n",
    " # Создаем нашу модель и передаем ей пайплайн, решетку параметров, также используем кросс-валидацию результата    \n",
    "grid_search_cv_gbc = GridSearchCV(pipe, param_grid, n_jobs=8, cv=5, scoring=f1)\n",
    "\n",
    " # Обучаем модель на тренировочной части выборки:\n",
    "grid_search_cv_gbc.fit(features_train, target_train)\n",
    "\n",
    "best_params_gbc = grid_search_cv_gbc.best_params_ # Лучшие параметры\n",
    "best_gbc = grid_search_cv_gbc.best_estimator_ # Лучшая модель\n",
    "best_gbc_score = grid_search_cv_gbc.best_score_ # Лучший результат\n",
    "\n",
    "print(f'Точность модели {gbc} на тренировочной выборке составила: \\\n",
    "      {best_gbc_score} с параметрами \\\n",
    "      {best_params_gbc}')\n",
    "print(f1_score(target_train, best_gbc.predict(features_train)))\n",
    "print(roc_auc_score(target_train, best_gbc.predict(features_train)))"
   ]
  },
  {
   "cell_type": "markdown",
   "metadata": {},
   "source": [
    "## Тестирование модели"
   ]
  },
  {
   "cell_type": "code",
   "execution_count": 50,
   "metadata": {},
   "outputs": [
    {
     "name": "stdout",
     "output_type": "stream",
     "text": [
      "Модель GradientBoostingClassifier(n_estimators=39, random_state=12345): \n",
      "Точность: 0.8416\n",
      "F1-мера: 0.6419529837251355\n",
      "roc_auc 0.7879495055845609\n"
     ]
    }
   ],
   "source": [
    "predictions_gbc = best_gbc.predict(features_test) # прогноз наилучшей модели RandomForestClassifier()\n",
    "accuracy_gbc_score = accuracy_score(target_test, predictions_gbc) # Точность\n",
    "\n",
    "accuracy = accuracy_score(target_test, predictions_gbc)\n",
    "f1 = f1_score(target_test, predictions_gbc)\n",
    "roc_auc = roc_auc_score(target_test, predictions_gbc)\n",
    "nl = '\\n'\n",
    "print(f'Модель { best_gbc[0]}: {nl}Точность: {accuracy}')\n",
    "print(f'F1-мера: {f1}')\n",
    "print(f'roc_auc {roc_auc}')"
   ]
  },
  {
   "cell_type": "code",
   "execution_count": 51,
   "metadata": {},
   "outputs": [
    {
     "data": {
      "image/png": "[encoded data removed]",
      "text/plain": [
       "<Figure size 1080x504 with 1 Axes>"
      ]
     },
     "metadata": {
      "needs_background": "light"
     },
     "output_type": "display_data"
    }
   ],
   "source": [
    "y_pred_proba = best_gbc[0].predict_proba(features_test)[::,1]\n",
    "fpr, tpr, _ = metrics.roc_curve(target_test,  y_pred_proba)\n",
    "auc = roc_auc_score(target_test, y_pred_proba)\n",
    "\n",
    "plt.figure(figsize=(15, 7))\n",
    "lw = 2\n",
    "plt.plot(fpr,\n",
    "         tpr,\n",
    "         color=\"darkorange\",\n",
    "         lw=lw,\n",
    "         label=\"ROC curve RFC(area = %0.2f)\" % auc\n",
    ")\n",
    "\n",
    "plt.plot([0, 1], \n",
    "         [0, 1], \n",
    "         color=\"navy\", \n",
    "         lw=lw, \n",
    "         linestyle=\"--\")\n",
    "\n",
    "plt.xlim([0.0, 1.0])\n",
    "plt.ylim([0.0, 1.05])\n",
    "plt.xlabel(\"False Positive Rate\")\n",
    "plt.ylabel(\"True Positive Rate\")\n",
    "plt.title(\"Receiver operating characteristic example\")\n",
    "plt.legend(loc=\"lower right\")\n",
    "plt.show()"
   ]
  },
  {
   "cell_type": "markdown",
   "metadata": {},
   "source": [
    "**Общий вывод:**\n",
    "\n",
    "Мы ознакомились с датасетом, провели предварительную обработку данных: привели данные к нужным нам типам, заполнили пропущенные значения, стандартизировали значения, разложили категориальные данные на отдельные колонки. \n",
    "\n",
    "Затем мы исследовали разные методы обработки разбалансировки классов и пришли к выводу что наилучшим образом для нашего датасета подходит: Upsampling + balanced_split. \n",
    "\n",
    "При такой предобработке модель GradientBoostingClassifier показала наилучший результат. При финальном тестировании и использовании настройки гиперпараметров {'gbc__learning_rate': 0.1, 'gbc__n_estimators': 39} удалось достигнуть результатов: \n",
    "\n",
    "1. Точность: 0.8416\n",
    "2. F1-мера: 0.6419529837251355\n",
    "3. roc_auc 0.7879495055845609"
   ]
  },
  {
   "cell_type": "markdown",
   "metadata": {},
   "source": [
    "Ссылка на репозиторий: https://github.com/DaniilTsalik/with_teacher_learning.git"
   ]
  }
 ],
 "metadata": {
  "ExecuteTimeLog": [
   {
    "duration": 46,
    "start_time": "2022-09-17T03:42:11.660Z"
   },
   {
    "duration": 329,
    "start_time": "2022-09-17T03:42:17.678Z"
   },
   {
    "duration": 80,
    "start_time": "2022-09-17T03:42:19.164Z"
   },
   {
    "duration": 19,
    "start_time": "2022-09-17T03:42:32.942Z"
   },
   {
    "duration": 12,
    "start_time": "2022-09-17T03:46:23.803Z"
   },
   {
    "duration": 43,
    "start_time": "2022-09-17T03:48:16.549Z"
   },
   {
    "duration": 48,
    "start_time": "2022-09-17T03:49:08.037Z"
   },
   {
    "duration": 43,
    "start_time": "2022-09-17T03:49:14.030Z"
   },
   {
    "duration": 21,
    "start_time": "2022-09-17T03:49:23.710Z"
   },
   {
    "duration": 15,
    "start_time": "2022-09-17T03:51:39.920Z"
   },
   {
    "duration": 4,
    "start_time": "2022-09-17T03:58:04.045Z"
   },
   {
    "duration": 32,
    "start_time": "2022-09-17T03:58:11.828Z"
   },
   {
    "duration": 373,
    "start_time": "2022-09-17T03:58:17.342Z"
   },
   {
    "duration": 41,
    "start_time": "2022-09-17T03:58:17.716Z"
   },
   {
    "duration": 17,
    "start_time": "2022-09-17T03:58:17.759Z"
   },
   {
    "duration": 13,
    "start_time": "2022-09-17T03:58:17.778Z"
   },
   {
    "duration": 16,
    "start_time": "2022-09-17T03:58:17.792Z"
   },
   {
    "duration": 4,
    "start_time": "2022-09-17T03:58:17.809Z"
   },
   {
    "duration": 399,
    "start_time": "2022-09-17T03:58:33.192Z"
   },
   {
    "duration": 41,
    "start_time": "2022-09-17T03:58:33.592Z"
   },
   {
    "duration": 18,
    "start_time": "2022-09-17T03:58:33.634Z"
   },
   {
    "duration": 12,
    "start_time": "2022-09-17T03:58:33.654Z"
   },
   {
    "duration": 17,
    "start_time": "2022-09-17T03:58:33.667Z"
   },
   {
    "duration": 11,
    "start_time": "2022-09-17T03:58:33.686Z"
   },
   {
    "duration": 5,
    "start_time": "2022-09-17T03:59:17.681Z"
   },
   {
    "duration": 4,
    "start_time": "2022-09-17T03:59:36.378Z"
   },
   {
    "duration": 4,
    "start_time": "2022-09-17T03:59:58.189Z"
   },
   {
    "duration": 4,
    "start_time": "2022-09-17T04:00:20.523Z"
   },
   {
    "duration": 4,
    "start_time": "2022-09-17T04:01:00.683Z"
   },
   {
    "duration": 4,
    "start_time": "2022-09-17T04:01:36.728Z"
   },
   {
    "duration": 4,
    "start_time": "2022-09-17T04:02:00.764Z"
   },
   {
    "duration": 5,
    "start_time": "2022-09-17T04:02:27.508Z"
   },
   {
    "duration": 35,
    "start_time": "2022-09-17T04:05:50.191Z"
   },
   {
    "duration": 4,
    "start_time": "2022-09-17T04:08:42.729Z"
   },
   {
    "duration": 16,
    "start_time": "2022-09-17T04:08:50.041Z"
   },
   {
    "duration": 5,
    "start_time": "2022-09-17T04:11:43.648Z"
   },
   {
    "duration": 16,
    "start_time": "2022-09-17T04:11:44.188Z"
   },
   {
    "duration": 12,
    "start_time": "2022-09-17T04:22:17.605Z"
   },
   {
    "duration": 16,
    "start_time": "2022-09-17T04:23:14.358Z"
   },
   {
    "duration": 5,
    "start_time": "2022-09-17T04:24:04.318Z"
   },
   {
    "duration": 14,
    "start_time": "2022-09-17T04:25:29.383Z"
   },
   {
    "duration": 59,
    "start_time": "2022-09-17T04:25:48.628Z"
   },
   {
    "duration": 8,
    "start_time": "2022-09-17T04:26:04.768Z"
   },
   {
    "duration": 5,
    "start_time": "2022-09-17T04:26:13.672Z"
   },
   {
    "duration": 5,
    "start_time": "2022-09-17T04:26:47.176Z"
   },
   {
    "duration": 7,
    "start_time": "2022-09-17T04:26:58.110Z"
   },
   {
    "duration": 8,
    "start_time": "2022-09-17T04:27:01.676Z"
   },
   {
    "duration": 7,
    "start_time": "2022-09-17T04:27:05.057Z"
   },
   {
    "duration": 12,
    "start_time": "2022-09-17T04:27:21.077Z"
   },
   {
    "duration": 8,
    "start_time": "2022-09-17T04:27:26.733Z"
   },
   {
    "duration": 4,
    "start_time": "2022-09-17T04:27:27.265Z"
   },
   {
    "duration": 5,
    "start_time": "2022-09-17T04:27:27.893Z"
   },
   {
    "duration": 6,
    "start_time": "2022-09-17T04:27:44.097Z"
   },
   {
    "duration": 6,
    "start_time": "2022-09-17T04:27:53.445Z"
   },
   {
    "duration": 5,
    "start_time": "2022-09-17T04:29:33.838Z"
   },
   {
    "duration": 5,
    "start_time": "2022-09-17T04:30:14.572Z"
   },
   {
    "duration": 12,
    "start_time": "2022-09-17T04:35:24.464Z"
   },
   {
    "duration": 14,
    "start_time": "2022-09-17T04:45:32.028Z"
   },
   {
    "duration": 8,
    "start_time": "2022-09-17T04:49:23.214Z"
   },
   {
    "duration": 3,
    "start_time": "2022-09-17T04:59:37.192Z"
   },
   {
    "duration": 1106,
    "start_time": "2022-09-17T04:59:49.744Z"
   },
   {
    "duration": 8,
    "start_time": "2022-09-17T05:00:44.396Z"
   },
   {
    "duration": 4,
    "start_time": "2022-09-17T05:01:16.141Z"
   },
   {
    "duration": 7,
    "start_time": "2022-09-17T05:01:25.169Z"
   },
   {
    "duration": 4,
    "start_time": "2022-09-17T05:03:00.322Z"
   },
   {
    "duration": 4,
    "start_time": "2022-09-17T05:03:03.898Z"
   },
   {
    "duration": 369,
    "start_time": "2022-09-17T05:03:40.486Z"
   },
   {
    "duration": 7,
    "start_time": "2022-09-17T05:03:46.683Z"
   },
   {
    "duration": 402,
    "start_time": "2022-09-17T05:06:39.206Z"
   },
   {
    "duration": 39,
    "start_time": "2022-09-17T05:06:39.610Z"
   },
   {
    "duration": 18,
    "start_time": "2022-09-17T05:06:39.651Z"
   },
   {
    "duration": 12,
    "start_time": "2022-09-17T05:06:39.671Z"
   },
   {
    "duration": 42,
    "start_time": "2022-09-17T05:06:39.685Z"
   },
   {
    "duration": 18,
    "start_time": "2022-09-17T05:06:39.729Z"
   },
   {
    "duration": 12,
    "start_time": "2022-09-17T05:06:39.748Z"
   },
   {
    "duration": 7,
    "start_time": "2022-09-17T05:06:39.761Z"
   },
   {
    "duration": 7,
    "start_time": "2022-09-17T05:06:39.769Z"
   },
   {
    "duration": 7,
    "start_time": "2022-09-17T05:06:39.778Z"
   },
   {
    "duration": 7,
    "start_time": "2022-09-17T05:06:39.787Z"
   },
   {
    "duration": 27,
    "start_time": "2022-09-17T05:06:39.796Z"
   },
   {
    "duration": 5,
    "start_time": "2022-09-17T05:06:39.824Z"
   },
   {
    "duration": 11,
    "start_time": "2022-09-17T05:06:39.830Z"
   },
   {
    "duration": 5,
    "start_time": "2022-09-17T05:06:39.842Z"
   },
   {
    "duration": 6,
    "start_time": "2022-09-17T05:06:39.848Z"
   },
   {
    "duration": 13,
    "start_time": "2022-09-17T05:06:39.855Z"
   },
   {
    "duration": 10,
    "start_time": "2022-09-17T05:06:39.869Z"
   },
   {
    "duration": 5,
    "start_time": "2022-09-17T05:06:39.881Z"
   },
   {
    "duration": 6,
    "start_time": "2022-09-17T05:06:39.887Z"
   },
   {
    "duration": 13,
    "start_time": "2022-09-17T05:06:39.922Z"
   },
   {
    "duration": 21,
    "start_time": "2022-09-17T05:06:39.936Z"
   },
   {
    "duration": 6,
    "start_time": "2022-09-17T05:06:39.959Z"
   },
   {
    "duration": 61,
    "start_time": "2022-09-17T05:06:39.966Z"
   },
   {
    "duration": 1,
    "start_time": "2022-09-17T05:06:40.028Z"
   },
   {
    "duration": 415,
    "start_time": "2022-09-17T05:06:47.991Z"
   },
   {
    "duration": 7,
    "start_time": "2022-09-17T05:06:50.007Z"
   },
   {
    "duration": 336,
    "start_time": "2022-09-17T05:07:11.679Z"
   },
   {
    "duration": 40,
    "start_time": "2022-09-17T05:07:12.017Z"
   },
   {
    "duration": 17,
    "start_time": "2022-09-17T05:07:12.058Z"
   },
   {
    "duration": 11,
    "start_time": "2022-09-17T05:07:12.076Z"
   },
   {
    "duration": 35,
    "start_time": "2022-09-17T05:07:12.089Z"
   },
   {
    "duration": 15,
    "start_time": "2022-09-17T05:07:12.125Z"
   },
   {
    "duration": 12,
    "start_time": "2022-09-17T05:07:12.142Z"
   },
   {
    "duration": 8,
    "start_time": "2022-09-17T05:07:12.156Z"
   },
   {
    "duration": 9,
    "start_time": "2022-09-17T05:07:12.165Z"
   },
   {
    "duration": 13,
    "start_time": "2022-09-17T05:07:12.176Z"
   },
   {
    "duration": 6,
    "start_time": "2022-09-17T05:07:12.190Z"
   },
   {
    "duration": 12,
    "start_time": "2022-09-17T05:07:12.197Z"
   },
   {
    "duration": 12,
    "start_time": "2022-09-17T05:07:12.210Z"
   },
   {
    "duration": 3,
    "start_time": "2022-09-17T05:07:12.224Z"
   },
   {
    "duration": 6,
    "start_time": "2022-09-17T05:07:12.228Z"
   },
   {
    "duration": 7,
    "start_time": "2022-09-17T05:07:12.236Z"
   },
   {
    "duration": 14,
    "start_time": "2022-09-17T05:07:12.244Z"
   },
   {
    "duration": 9,
    "start_time": "2022-09-17T05:07:12.259Z"
   },
   {
    "duration": 5,
    "start_time": "2022-09-17T05:07:12.269Z"
   },
   {
    "duration": 6,
    "start_time": "2022-09-17T05:07:12.276Z"
   },
   {
    "duration": 15,
    "start_time": "2022-09-17T05:07:12.284Z"
   },
   {
    "duration": 14,
    "start_time": "2022-09-17T05:07:12.322Z"
   },
   {
    "duration": 5,
    "start_time": "2022-09-17T05:07:12.338Z"
   },
   {
    "duration": 438,
    "start_time": "2022-09-17T05:07:12.344Z"
   },
   {
    "duration": 6,
    "start_time": "2022-09-17T05:07:12.783Z"
   },
   {
    "duration": 73,
    "start_time": "2022-09-17T05:08:46.269Z"
   },
   {
    "duration": 393,
    "start_time": "2022-09-17T05:08:53.717Z"
   },
   {
    "duration": 40,
    "start_time": "2022-09-17T05:08:54.112Z"
   },
   {
    "duration": 17,
    "start_time": "2022-09-17T05:08:54.154Z"
   },
   {
    "duration": 21,
    "start_time": "2022-09-17T05:08:54.173Z"
   },
   {
    "duration": 36,
    "start_time": "2022-09-17T05:08:54.196Z"
   },
   {
    "duration": 15,
    "start_time": "2022-09-17T05:08:54.234Z"
   },
   {
    "duration": 11,
    "start_time": "2022-09-17T05:08:54.251Z"
   },
   {
    "duration": 13,
    "start_time": "2022-09-17T05:08:54.264Z"
   },
   {
    "duration": 14,
    "start_time": "2022-09-17T05:08:54.279Z"
   },
   {
    "duration": 5,
    "start_time": "2022-09-17T05:08:54.296Z"
   },
   {
    "duration": 23,
    "start_time": "2022-09-17T05:08:54.303Z"
   },
   {
    "duration": 22,
    "start_time": "2022-09-17T05:08:54.328Z"
   },
   {
    "duration": 16,
    "start_time": "2022-09-17T05:08:54.351Z"
   },
   {
    "duration": 9,
    "start_time": "2022-09-17T05:08:54.369Z"
   },
   {
    "duration": 20,
    "start_time": "2022-09-17T05:08:54.380Z"
   },
   {
    "duration": 9,
    "start_time": "2022-09-17T05:08:54.402Z"
   },
   {
    "duration": 29,
    "start_time": "2022-09-17T05:08:54.413Z"
   },
   {
    "duration": 17,
    "start_time": "2022-09-17T05:08:54.444Z"
   },
   {
    "duration": 18,
    "start_time": "2022-09-17T05:08:54.463Z"
   },
   {
    "duration": 20,
    "start_time": "2022-09-17T05:08:54.482Z"
   },
   {
    "duration": 15,
    "start_time": "2022-09-17T05:08:54.504Z"
   },
   {
    "duration": 26,
    "start_time": "2022-09-17T05:08:54.521Z"
   },
   {
    "duration": 11,
    "start_time": "2022-09-17T05:08:54.549Z"
   },
   {
    "duration": 664,
    "start_time": "2022-09-17T05:08:54.562Z"
   },
   {
    "duration": 7,
    "start_time": "2022-09-17T05:08:55.228Z"
   },
   {
    "duration": 76,
    "start_time": "2022-09-17T05:09:52.465Z"
   },
   {
    "duration": 84,
    "start_time": "2022-09-17T05:10:11.532Z"
   },
   {
    "duration": 402,
    "start_time": "2022-09-17T05:10:18.209Z"
   },
   {
    "duration": 40,
    "start_time": "2022-09-17T05:10:18.613Z"
   },
   {
    "duration": 18,
    "start_time": "2022-09-17T05:10:18.654Z"
   },
   {
    "duration": 12,
    "start_time": "2022-09-17T05:10:18.674Z"
   },
   {
    "duration": 39,
    "start_time": "2022-09-17T05:10:18.688Z"
   },
   {
    "duration": 16,
    "start_time": "2022-09-17T05:10:18.728Z"
   },
   {
    "duration": 12,
    "start_time": "2022-09-17T05:10:18.745Z"
   },
   {
    "duration": 9,
    "start_time": "2022-09-17T05:10:18.758Z"
   },
   {
    "duration": 6,
    "start_time": "2022-09-17T05:10:18.769Z"
   },
   {
    "duration": 9,
    "start_time": "2022-09-17T05:10:18.777Z"
   },
   {
    "duration": 6,
    "start_time": "2022-09-17T05:10:18.788Z"
   },
   {
    "duration": 31,
    "start_time": "2022-09-17T05:10:18.795Z"
   },
   {
    "duration": 7,
    "start_time": "2022-09-17T05:10:18.828Z"
   },
   {
    "duration": 20,
    "start_time": "2022-09-17T05:10:18.836Z"
   },
   {
    "duration": 10,
    "start_time": "2022-09-17T05:10:18.858Z"
   },
   {
    "duration": 14,
    "start_time": "2022-09-17T05:10:18.870Z"
   },
   {
    "duration": 17,
    "start_time": "2022-09-17T05:10:18.886Z"
   },
   {
    "duration": 15,
    "start_time": "2022-09-17T05:10:18.905Z"
   },
   {
    "duration": 6,
    "start_time": "2022-09-17T05:10:18.923Z"
   },
   {
    "duration": 13,
    "start_time": "2022-09-17T05:10:18.931Z"
   },
   {
    "duration": 29,
    "start_time": "2022-09-17T05:10:18.946Z"
   },
   {
    "duration": 26,
    "start_time": "2022-09-17T05:10:18.978Z"
   },
   {
    "duration": 18,
    "start_time": "2022-09-17T05:10:19.006Z"
   },
   {
    "duration": 618,
    "start_time": "2022-09-17T05:10:19.026Z"
   },
   {
    "duration": 7,
    "start_time": "2022-09-17T05:10:19.646Z"
   },
   {
    "duration": 8,
    "start_time": "2022-09-17T05:10:29.965Z"
   },
   {
    "duration": 11,
    "start_time": "2022-09-17T05:18:11.100Z"
   },
   {
    "duration": 61,
    "start_time": "2022-09-17T05:19:11.073Z"
   },
   {
    "duration": 10,
    "start_time": "2022-09-17T05:19:15.948Z"
   },
   {
    "duration": 8,
    "start_time": "2022-09-17T05:19:22.599Z"
   },
   {
    "duration": 378,
    "start_time": "2022-09-17T05:19:33.744Z"
   },
   {
    "duration": 42,
    "start_time": "2022-09-17T05:19:34.124Z"
   },
   {
    "duration": 18,
    "start_time": "2022-09-17T05:19:34.168Z"
   },
   {
    "duration": 11,
    "start_time": "2022-09-17T05:19:34.188Z"
   },
   {
    "duration": 39,
    "start_time": "2022-09-17T05:19:34.202Z"
   },
   {
    "duration": 16,
    "start_time": "2022-09-17T05:19:34.242Z"
   },
   {
    "duration": 11,
    "start_time": "2022-09-17T05:19:34.259Z"
   },
   {
    "duration": 7,
    "start_time": "2022-09-17T05:19:34.272Z"
   },
   {
    "duration": 7,
    "start_time": "2022-09-17T05:19:34.280Z"
   },
   {
    "duration": 8,
    "start_time": "2022-09-17T05:19:34.288Z"
   },
   {
    "duration": 26,
    "start_time": "2022-09-17T05:19:34.298Z"
   },
   {
    "duration": 5,
    "start_time": "2022-09-17T05:19:34.326Z"
   },
   {
    "duration": 7,
    "start_time": "2022-09-17T05:19:34.333Z"
   },
   {
    "duration": 8,
    "start_time": "2022-09-17T05:19:34.342Z"
   },
   {
    "duration": 7,
    "start_time": "2022-09-17T05:19:34.351Z"
   },
   {
    "duration": 6,
    "start_time": "2022-09-17T05:19:34.359Z"
   },
   {
    "duration": 14,
    "start_time": "2022-09-17T05:19:34.366Z"
   },
   {
    "duration": 11,
    "start_time": "2022-09-17T05:19:34.381Z"
   },
   {
    "duration": 5,
    "start_time": "2022-09-17T05:19:34.393Z"
   },
   {
    "duration": 6,
    "start_time": "2022-09-17T05:19:34.422Z"
   },
   {
    "duration": 15,
    "start_time": "2022-09-17T05:19:34.429Z"
   },
   {
    "duration": 17,
    "start_time": "2022-09-17T05:19:34.446Z"
   },
   {
    "duration": 6,
    "start_time": "2022-09-17T05:19:34.464Z"
   },
   {
    "duration": 426,
    "start_time": "2022-09-17T05:19:34.471Z"
   },
   {
    "duration": 6,
    "start_time": "2022-09-17T05:19:34.899Z"
   },
   {
    "duration": 9,
    "start_time": "2022-09-17T05:19:34.921Z"
   },
   {
    "duration": 7,
    "start_time": "2022-09-17T05:19:34.932Z"
   },
   {
    "duration": 14,
    "start_time": "2022-09-17T05:28:58.221Z"
   },
   {
    "duration": 597,
    "start_time": "2022-09-17T05:34:31.745Z"
   },
   {
    "duration": 99,
    "start_time": "2022-09-17T05:35:30.430Z"
   },
   {
    "duration": 14,
    "start_time": "2022-09-17T05:35:58.051Z"
   },
   {
    "duration": 12,
    "start_time": "2022-09-17T05:37:01.192Z"
   },
   {
    "duration": 15,
    "start_time": "2022-09-17T05:37:07.499Z"
   },
   {
    "duration": 18,
    "start_time": "2022-09-17T05:37:18.528Z"
   },
   {
    "duration": 18,
    "start_time": "2022-09-17T05:37:20.312Z"
   },
   {
    "duration": 18,
    "start_time": "2022-09-17T05:38:11.932Z"
   },
   {
    "duration": 18,
    "start_time": "2022-09-17T05:38:12.372Z"
   },
   {
    "duration": 17,
    "start_time": "2022-09-17T05:38:20.241Z"
   },
   {
    "duration": 20,
    "start_time": "2022-09-17T05:38:48.658Z"
   },
   {
    "duration": 11,
    "start_time": "2022-09-17T05:40:35.344Z"
   },
   {
    "duration": 20,
    "start_time": "2022-09-17T05:40:56.739Z"
   },
   {
    "duration": 11,
    "start_time": "2022-09-17T05:40:57.167Z"
   },
   {
    "duration": 403,
    "start_time": "2022-09-17T05:41:03.706Z"
   },
   {
    "duration": 41,
    "start_time": "2022-09-17T05:41:04.111Z"
   },
   {
    "duration": 18,
    "start_time": "2022-09-17T05:41:04.153Z"
   },
   {
    "duration": 15,
    "start_time": "2022-09-17T05:41:04.173Z"
   },
   {
    "duration": 36,
    "start_time": "2022-09-17T05:41:04.190Z"
   },
   {
    "duration": 15,
    "start_time": "2022-09-17T05:41:04.228Z"
   },
   {
    "duration": 11,
    "start_time": "2022-09-17T05:41:04.245Z"
   },
   {
    "duration": 7,
    "start_time": "2022-09-17T05:41:04.257Z"
   },
   {
    "duration": 5,
    "start_time": "2022-09-17T05:41:04.265Z"
   },
   {
    "duration": 6,
    "start_time": "2022-09-17T05:41:04.272Z"
   },
   {
    "duration": 6,
    "start_time": "2022-09-17T05:41:04.279Z"
   },
   {
    "duration": 5,
    "start_time": "2022-09-17T05:41:04.287Z"
   },
   {
    "duration": 31,
    "start_time": "2022-09-17T05:41:04.293Z"
   },
   {
    "duration": 4,
    "start_time": "2022-09-17T05:41:04.325Z"
   },
   {
    "duration": 6,
    "start_time": "2022-09-17T05:41:04.331Z"
   },
   {
    "duration": 7,
    "start_time": "2022-09-17T05:41:04.339Z"
   },
   {
    "duration": 14,
    "start_time": "2022-09-17T05:41:04.347Z"
   },
   {
    "duration": 9,
    "start_time": "2022-09-17T05:41:04.363Z"
   },
   {
    "duration": 5,
    "start_time": "2022-09-17T05:41:04.373Z"
   },
   {
    "duration": 8,
    "start_time": "2022-09-17T05:41:04.379Z"
   },
   {
    "duration": 40,
    "start_time": "2022-09-17T05:41:04.388Z"
   },
   {
    "duration": 16,
    "start_time": "2022-09-17T05:41:04.429Z"
   },
   {
    "duration": 6,
    "start_time": "2022-09-17T05:41:04.446Z"
   },
   {
    "duration": 411,
    "start_time": "2022-09-17T05:41:04.453Z"
   },
   {
    "duration": 6,
    "start_time": "2022-09-17T05:41:04.865Z"
   },
   {
    "duration": 10,
    "start_time": "2022-09-17T05:41:04.872Z"
   },
   {
    "duration": 8,
    "start_time": "2022-09-17T05:41:04.883Z"
   },
   {
    "duration": 33,
    "start_time": "2022-09-17T05:41:04.893Z"
   },
   {
    "duration": 606,
    "start_time": "2022-09-17T05:41:04.928Z"
   },
   {
    "duration": 15,
    "start_time": "2022-09-17T05:41:05.535Z"
   },
   {
    "duration": 28,
    "start_time": "2022-09-17T05:41:05.552Z"
   },
   {
    "duration": 11,
    "start_time": "2022-09-17T05:41:05.582Z"
   },
   {
    "duration": 11,
    "start_time": "2022-09-17T05:42:55.477Z"
   },
   {
    "duration": 405,
    "start_time": "2022-09-17T05:43:01.120Z"
   },
   {
    "duration": 41,
    "start_time": "2022-09-17T05:43:01.527Z"
   },
   {
    "duration": 19,
    "start_time": "2022-09-17T05:43:01.570Z"
   },
   {
    "duration": 19,
    "start_time": "2022-09-17T05:43:01.590Z"
   },
   {
    "duration": 46,
    "start_time": "2022-09-17T05:43:01.610Z"
   },
   {
    "duration": 15,
    "start_time": "2022-09-17T05:43:01.658Z"
   },
   {
    "duration": 16,
    "start_time": "2022-09-17T05:43:01.675Z"
   },
   {
    "duration": 7,
    "start_time": "2022-09-17T05:43:01.693Z"
   },
   {
    "duration": 23,
    "start_time": "2022-09-17T05:43:01.701Z"
   },
   {
    "duration": 12,
    "start_time": "2022-09-17T05:43:01.726Z"
   },
   {
    "duration": 13,
    "start_time": "2022-09-17T05:43:01.739Z"
   },
   {
    "duration": 8,
    "start_time": "2022-09-17T05:43:01.754Z"
   },
   {
    "duration": 14,
    "start_time": "2022-09-17T05:43:01.763Z"
   },
   {
    "duration": 18,
    "start_time": "2022-09-17T05:43:01.779Z"
   },
   {
    "duration": 14,
    "start_time": "2022-09-17T05:43:01.799Z"
   },
   {
    "duration": 20,
    "start_time": "2022-09-17T05:43:01.814Z"
   },
   {
    "duration": 28,
    "start_time": "2022-09-17T05:43:01.836Z"
   },
   {
    "duration": 15,
    "start_time": "2022-09-17T05:43:01.865Z"
   },
   {
    "duration": 9,
    "start_time": "2022-09-17T05:43:01.882Z"
   },
   {
    "duration": 28,
    "start_time": "2022-09-17T05:43:01.892Z"
   },
   {
    "duration": 25,
    "start_time": "2022-09-17T05:43:01.922Z"
   },
   {
    "duration": 42,
    "start_time": "2022-09-17T05:43:01.949Z"
   },
   {
    "duration": 12,
    "start_time": "2022-09-17T05:43:01.992Z"
   },
   {
    "duration": 392,
    "start_time": "2022-09-17T05:43:02.005Z"
   },
   {
    "duration": 25,
    "start_time": "2022-09-17T05:43:02.398Z"
   },
   {
    "duration": 11,
    "start_time": "2022-09-17T05:43:02.424Z"
   },
   {
    "duration": 9,
    "start_time": "2022-09-17T05:43:02.437Z"
   },
   {
    "duration": 16,
    "start_time": "2022-09-17T05:43:02.449Z"
   },
   {
    "duration": 643,
    "start_time": "2022-09-17T05:43:02.466Z"
   },
   {
    "duration": 10,
    "start_time": "2022-09-17T05:43:03.111Z"
   },
   {
    "duration": 25,
    "start_time": "2022-09-17T05:43:03.123Z"
   },
   {
    "duration": 12,
    "start_time": "2022-09-17T05:43:03.149Z"
   },
   {
    "duration": 9,
    "start_time": "2022-09-17T05:44:45.282Z"
   },
   {
    "duration": 9,
    "start_time": "2022-09-17T05:45:32.902Z"
   },
   {
    "duration": 159,
    "start_time": "2022-09-17T06:01:48.287Z"
   },
   {
    "duration": 40,
    "start_time": "2022-09-17T06:01:48.448Z"
   },
   {
    "duration": 17,
    "start_time": "2022-09-17T06:01:48.490Z"
   },
   {
    "duration": 13,
    "start_time": "2022-09-17T06:01:48.508Z"
   },
   {
    "duration": 34,
    "start_time": "2022-09-17T06:01:48.523Z"
   },
   {
    "duration": 14,
    "start_time": "2022-09-17T06:01:48.558Z"
   },
   {
    "duration": 10,
    "start_time": "2022-09-17T06:01:48.574Z"
   },
   {
    "duration": 7,
    "start_time": "2022-09-17T06:01:48.586Z"
   },
   {
    "duration": 29,
    "start_time": "2022-09-17T06:01:48.594Z"
   },
   {
    "duration": 6,
    "start_time": "2022-09-17T06:01:48.624Z"
   },
   {
    "duration": 6,
    "start_time": "2022-09-17T06:01:48.631Z"
   },
   {
    "duration": 4,
    "start_time": "2022-09-17T06:01:48.639Z"
   },
   {
    "duration": 5,
    "start_time": "2022-09-17T06:01:48.645Z"
   },
   {
    "duration": 6,
    "start_time": "2022-09-17T06:01:48.653Z"
   },
   {
    "duration": 5,
    "start_time": "2022-09-17T06:01:48.661Z"
   },
   {
    "duration": 9,
    "start_time": "2022-09-17T06:01:48.667Z"
   },
   {
    "duration": 13,
    "start_time": "2022-09-17T06:01:48.677Z"
   },
   {
    "duration": 46,
    "start_time": "2022-09-17T06:01:48.691Z"
   },
   {
    "duration": 6,
    "start_time": "2022-09-17T06:01:48.738Z"
   },
   {
    "duration": 17,
    "start_time": "2022-09-17T06:01:48.746Z"
   },
   {
    "duration": 27,
    "start_time": "2022-09-17T06:01:48.765Z"
   },
   {
    "duration": 27,
    "start_time": "2022-09-17T06:01:48.794Z"
   },
   {
    "duration": 6,
    "start_time": "2022-09-17T06:01:48.822Z"
   },
   {
    "duration": 468,
    "start_time": "2022-09-17T06:01:48.829Z"
   },
   {
    "duration": 6,
    "start_time": "2022-09-17T06:01:49.298Z"
   },
   {
    "duration": 22,
    "start_time": "2022-09-17T06:01:49.306Z"
   },
   {
    "duration": 8,
    "start_time": "2022-09-17T06:01:49.329Z"
   },
   {
    "duration": 16,
    "start_time": "2022-09-17T06:01:49.338Z"
   },
   {
    "duration": 2,
    "start_time": "2022-09-17T06:01:49.355Z"
   },
   {
    "duration": 14,
    "start_time": "2022-09-17T06:01:49.359Z"
   },
   {
    "duration": 21,
    "start_time": "2022-09-17T06:01:49.375Z"
   },
   {
    "duration": 33,
    "start_time": "2022-09-17T06:01:49.398Z"
   },
   {
    "duration": 11,
    "start_time": "2022-09-17T06:01:49.432Z"
   },
   {
    "duration": 22,
    "start_time": "2022-09-17T06:01:49.444Z"
   },
   {
    "duration": 0,
    "start_time": "2022-09-17T06:01:49.467Z"
   },
   {
    "duration": 8,
    "start_time": "2022-09-17T06:03:13.850Z"
   },
   {
    "duration": 27,
    "start_time": "2022-09-17T06:03:22.714Z"
   },
   {
    "duration": 22,
    "start_time": "2022-09-17T06:03:28.439Z"
   },
   {
    "duration": 18,
    "start_time": "2022-09-17T06:03:30.067Z"
   },
   {
    "duration": 22,
    "start_time": "2022-09-17T06:04:25.111Z"
   },
   {
    "duration": 17,
    "start_time": "2022-09-17T06:04:29.151Z"
   },
   {
    "duration": 4,
    "start_time": "2022-09-17T06:04:50.164Z"
   },
   {
    "duration": 10,
    "start_time": "2022-09-17T06:04:58.960Z"
   },
   {
    "duration": 14,
    "start_time": "2022-09-17T06:05:16.690Z"
   },
   {
    "duration": 23,
    "start_time": "2022-09-17T06:05:33.296Z"
   },
   {
    "duration": 23,
    "start_time": "2022-09-17T06:05:38.921Z"
   },
   {
    "duration": 334,
    "start_time": "2022-09-17T06:06:25.169Z"
   },
   {
    "duration": 42,
    "start_time": "2022-09-17T06:06:25.505Z"
   },
   {
    "duration": 17,
    "start_time": "2022-09-17T06:06:25.548Z"
   },
   {
    "duration": 12,
    "start_time": "2022-09-17T06:06:25.566Z"
   },
   {
    "duration": 43,
    "start_time": "2022-09-17T06:06:25.580Z"
   },
   {
    "duration": 15,
    "start_time": "2022-09-17T06:06:25.624Z"
   },
   {
    "duration": 13,
    "start_time": "2022-09-17T06:06:25.640Z"
   },
   {
    "duration": 12,
    "start_time": "2022-09-17T06:06:25.655Z"
   },
   {
    "duration": 18,
    "start_time": "2022-09-17T06:06:25.668Z"
   },
   {
    "duration": 4,
    "start_time": "2022-09-17T06:06:25.688Z"
   },
   {
    "duration": 7,
    "start_time": "2022-09-17T06:06:25.694Z"
   },
   {
    "duration": 23,
    "start_time": "2022-09-17T06:06:25.703Z"
   },
   {
    "duration": 6,
    "start_time": "2022-09-17T06:06:25.728Z"
   },
   {
    "duration": 5,
    "start_time": "2022-09-17T06:06:25.737Z"
   },
   {
    "duration": 5,
    "start_time": "2022-09-17T06:06:25.743Z"
   },
   {
    "duration": 6,
    "start_time": "2022-09-17T06:06:25.750Z"
   },
   {
    "duration": 14,
    "start_time": "2022-09-17T06:06:25.757Z"
   },
   {
    "duration": 12,
    "start_time": "2022-09-17T06:06:25.772Z"
   },
   {
    "duration": 5,
    "start_time": "2022-09-17T06:06:25.786Z"
   },
   {
    "duration": 31,
    "start_time": "2022-09-17T06:06:25.792Z"
   },
   {
    "duration": 12,
    "start_time": "2022-09-17T06:06:25.824Z"
   },
   {
    "duration": 16,
    "start_time": "2022-09-17T06:06:25.837Z"
   },
   {
    "duration": 6,
    "start_time": "2022-09-17T06:06:25.854Z"
   },
   {
    "duration": 405,
    "start_time": "2022-09-17T06:06:25.861Z"
   },
   {
    "duration": 6,
    "start_time": "2022-09-17T06:06:26.268Z"
   },
   {
    "duration": 12,
    "start_time": "2022-09-17T06:06:26.276Z"
   },
   {
    "duration": 7,
    "start_time": "2022-09-17T06:06:26.290Z"
   },
   {
    "duration": 35,
    "start_time": "2022-09-17T06:06:26.299Z"
   },
   {
    "duration": 652,
    "start_time": "2022-09-17T06:06:26.336Z"
   },
   {
    "duration": 2,
    "start_time": "2022-09-17T06:06:26.990Z"
   },
   {
    "duration": 17,
    "start_time": "2022-09-17T06:06:26.994Z"
   },
   {
    "duration": 13,
    "start_time": "2022-09-17T06:06:27.013Z"
   },
   {
    "duration": 15,
    "start_time": "2022-09-17T06:06:27.027Z"
   },
   {
    "duration": 10,
    "start_time": "2022-09-17T06:06:27.043Z"
   },
   {
    "duration": 96,
    "start_time": "2022-09-17T06:06:27.054Z"
   },
   {
    "duration": 0,
    "start_time": "2022-09-17T06:06:27.152Z"
   },
   {
    "duration": 399,
    "start_time": "2022-09-17T06:07:04.913Z"
   },
   {
    "duration": 41,
    "start_time": "2022-09-17T06:07:05.314Z"
   },
   {
    "duration": 18,
    "start_time": "2022-09-17T06:07:05.357Z"
   },
   {
    "duration": 11,
    "start_time": "2022-09-17T06:07:05.377Z"
   },
   {
    "duration": 36,
    "start_time": "2022-09-17T06:07:05.390Z"
   },
   {
    "duration": 15,
    "start_time": "2022-09-17T06:07:05.428Z"
   },
   {
    "duration": 11,
    "start_time": "2022-09-17T06:07:05.444Z"
   },
   {
    "duration": 7,
    "start_time": "2022-09-17T06:07:05.456Z"
   },
   {
    "duration": 6,
    "start_time": "2022-09-17T06:07:05.465Z"
   },
   {
    "duration": 7,
    "start_time": "2022-09-17T06:07:05.473Z"
   },
   {
    "duration": 6,
    "start_time": "2022-09-17T06:07:05.481Z"
   },
   {
    "duration": 6,
    "start_time": "2022-09-17T06:07:05.488Z"
   },
   {
    "duration": 29,
    "start_time": "2022-09-17T06:07:05.495Z"
   },
   {
    "duration": 12,
    "start_time": "2022-09-17T06:07:05.526Z"
   },
   {
    "duration": 6,
    "start_time": "2022-09-17T06:07:05.539Z"
   },
   {
    "duration": 6,
    "start_time": "2022-09-17T06:07:05.547Z"
   },
   {
    "duration": 19,
    "start_time": "2022-09-17T06:07:05.554Z"
   },
   {
    "duration": 11,
    "start_time": "2022-09-17T06:07:05.574Z"
   },
   {
    "duration": 5,
    "start_time": "2022-09-17T06:07:05.586Z"
   },
   {
    "duration": 12,
    "start_time": "2022-09-17T06:07:05.592Z"
   },
   {
    "duration": 22,
    "start_time": "2022-09-17T06:07:05.606Z"
   },
   {
    "duration": 23,
    "start_time": "2022-09-17T06:07:05.629Z"
   },
   {
    "duration": 7,
    "start_time": "2022-09-17T06:07:05.653Z"
   },
   {
    "duration": 444,
    "start_time": "2022-09-17T06:07:05.662Z"
   },
   {
    "duration": 19,
    "start_time": "2022-09-17T06:07:06.107Z"
   },
   {
    "duration": 22,
    "start_time": "2022-09-17T06:07:06.128Z"
   },
   {
    "duration": 8,
    "start_time": "2022-09-17T06:07:06.152Z"
   },
   {
    "duration": 15,
    "start_time": "2022-09-17T06:07:06.162Z"
   },
   {
    "duration": 655,
    "start_time": "2022-09-17T06:07:06.178Z"
   },
   {
    "duration": 2,
    "start_time": "2022-09-17T06:07:06.835Z"
   },
   {
    "duration": 18,
    "start_time": "2022-09-17T06:07:06.838Z"
   },
   {
    "duration": 14,
    "start_time": "2022-09-17T06:07:06.858Z"
   },
   {
    "duration": 93,
    "start_time": "2022-09-17T06:07:06.873Z"
   },
   {
    "duration": 1,
    "start_time": "2022-09-17T06:07:06.967Z"
   },
   {
    "duration": 0,
    "start_time": "2022-09-17T06:07:06.968Z"
   },
   {
    "duration": 0,
    "start_time": "2022-09-17T06:07:06.969Z"
   },
   {
    "duration": 5,
    "start_time": "2022-09-17T06:07:49.002Z"
   },
   {
    "duration": 349,
    "start_time": "2022-09-17T06:09:24.372Z"
   },
   {
    "duration": 42,
    "start_time": "2022-09-17T06:09:24.723Z"
   },
   {
    "duration": 19,
    "start_time": "2022-09-17T06:09:24.767Z"
   },
   {
    "duration": 12,
    "start_time": "2022-09-17T06:09:24.788Z"
   },
   {
    "duration": 42,
    "start_time": "2022-09-17T06:09:24.801Z"
   },
   {
    "duration": 16,
    "start_time": "2022-09-17T06:09:24.844Z"
   },
   {
    "duration": 12,
    "start_time": "2022-09-17T06:09:24.862Z"
   },
   {
    "duration": 7,
    "start_time": "2022-09-17T06:09:24.875Z"
   },
   {
    "duration": 8,
    "start_time": "2022-09-17T06:09:24.884Z"
   },
   {
    "duration": 5,
    "start_time": "2022-09-17T06:09:24.895Z"
   },
   {
    "duration": 5,
    "start_time": "2022-09-17T06:09:24.923Z"
   },
   {
    "duration": 14,
    "start_time": "2022-09-17T06:09:24.930Z"
   },
   {
    "duration": 6,
    "start_time": "2022-09-17T06:09:24.945Z"
   },
   {
    "duration": 6,
    "start_time": "2022-09-17T06:09:24.952Z"
   },
   {
    "duration": 6,
    "start_time": "2022-09-17T06:09:24.959Z"
   },
   {
    "duration": 9,
    "start_time": "2022-09-17T06:09:24.966Z"
   },
   {
    "duration": 17,
    "start_time": "2022-09-17T06:09:24.976Z"
   },
   {
    "duration": 12,
    "start_time": "2022-09-17T06:09:24.994Z"
   },
   {
    "duration": 6,
    "start_time": "2022-09-17T06:09:25.024Z"
   },
   {
    "duration": 9,
    "start_time": "2022-09-17T06:09:25.032Z"
   },
   {
    "duration": 14,
    "start_time": "2022-09-17T06:09:25.042Z"
   },
   {
    "duration": 21,
    "start_time": "2022-09-17T06:09:25.058Z"
   },
   {
    "duration": 14,
    "start_time": "2022-09-17T06:09:25.080Z"
   },
   {
    "duration": 449,
    "start_time": "2022-09-17T06:09:25.095Z"
   },
   {
    "duration": 7,
    "start_time": "2022-09-17T06:09:25.545Z"
   },
   {
    "duration": 10,
    "start_time": "2022-09-17T06:09:25.553Z"
   },
   {
    "duration": 8,
    "start_time": "2022-09-17T06:09:25.564Z"
   },
   {
    "duration": 14,
    "start_time": "2022-09-17T06:09:25.575Z"
   },
   {
    "duration": 703,
    "start_time": "2022-09-17T06:09:25.590Z"
   },
   {
    "duration": 3,
    "start_time": "2022-09-17T06:09:26.294Z"
   },
   {
    "duration": 17,
    "start_time": "2022-09-17T06:09:26.298Z"
   },
   {
    "duration": 12,
    "start_time": "2022-09-17T06:09:26.316Z"
   },
   {
    "duration": 15,
    "start_time": "2022-09-17T06:09:26.329Z"
   },
   {
    "duration": 10,
    "start_time": "2022-09-17T06:09:26.345Z"
   },
   {
    "duration": 101,
    "start_time": "2022-09-17T06:09:26.356Z"
   },
   {
    "duration": 0,
    "start_time": "2022-09-17T06:09:26.458Z"
   },
   {
    "duration": 18,
    "start_time": "2022-09-17T06:10:12.969Z"
   },
   {
    "duration": 12,
    "start_time": "2022-09-17T06:17:19.911Z"
   },
   {
    "duration": 16,
    "start_time": "2022-09-17T06:17:23.650Z"
   },
   {
    "duration": 343,
    "start_time": "2022-09-17T06:17:28.473Z"
   },
   {
    "duration": 46,
    "start_time": "2022-09-17T06:17:28.817Z"
   },
   {
    "duration": 23,
    "start_time": "2022-09-17T06:17:28.865Z"
   },
   {
    "duration": 17,
    "start_time": "2022-09-17T06:17:28.890Z"
   },
   {
    "duration": 53,
    "start_time": "2022-09-17T06:17:28.910Z"
   },
   {
    "duration": 20,
    "start_time": "2022-09-17T06:17:28.965Z"
   },
   {
    "duration": 14,
    "start_time": "2022-09-17T06:17:28.987Z"
   },
   {
    "duration": 6,
    "start_time": "2022-09-17T06:17:29.022Z"
   },
   {
    "duration": 8,
    "start_time": "2022-09-17T06:17:29.029Z"
   },
   {
    "duration": 9,
    "start_time": "2022-09-17T06:17:29.039Z"
   },
   {
    "duration": 15,
    "start_time": "2022-09-17T06:17:29.049Z"
   },
   {
    "duration": 7,
    "start_time": "2022-09-17T06:17:29.066Z"
   },
   {
    "duration": 12,
    "start_time": "2022-09-17T06:17:29.075Z"
   },
   {
    "duration": 9,
    "start_time": "2022-09-17T06:17:29.090Z"
   },
   {
    "duration": 8,
    "start_time": "2022-09-17T06:17:29.101Z"
   },
   {
    "duration": 13,
    "start_time": "2022-09-17T06:17:29.110Z"
   },
   {
    "duration": 14,
    "start_time": "2022-09-17T06:17:29.124Z"
   },
   {
    "duration": 11,
    "start_time": "2022-09-17T06:17:29.139Z"
   },
   {
    "duration": 5,
    "start_time": "2022-09-17T06:17:29.152Z"
   },
   {
    "duration": 8,
    "start_time": "2022-09-17T06:17:29.159Z"
   },
   {
    "duration": 16,
    "start_time": "2022-09-17T06:17:29.168Z"
   },
   {
    "duration": 37,
    "start_time": "2022-09-17T06:17:29.186Z"
   },
   {
    "duration": 6,
    "start_time": "2022-09-17T06:17:29.224Z"
   },
   {
    "duration": 397,
    "start_time": "2022-09-17T06:17:29.231Z"
   },
   {
    "duration": 6,
    "start_time": "2022-09-17T06:17:29.630Z"
   },
   {
    "duration": 12,
    "start_time": "2022-09-17T06:17:29.638Z"
   },
   {
    "duration": 7,
    "start_time": "2022-09-17T06:17:29.652Z"
   },
   {
    "duration": 17,
    "start_time": "2022-09-17T06:17:29.661Z"
   },
   {
    "duration": 692,
    "start_time": "2022-09-17T06:17:29.680Z"
   },
   {
    "duration": 3,
    "start_time": "2022-09-17T06:17:30.373Z"
   },
   {
    "duration": 23,
    "start_time": "2022-09-17T06:17:30.379Z"
   },
   {
    "duration": 25,
    "start_time": "2022-09-17T06:17:30.403Z"
   },
   {
    "duration": 28,
    "start_time": "2022-09-17T06:17:30.429Z"
   },
   {
    "duration": 22,
    "start_time": "2022-09-17T06:17:30.458Z"
   },
   {
    "duration": 6,
    "start_time": "2022-09-17T06:22:27.337Z"
   },
   {
    "duration": 6,
    "start_time": "2022-09-17T06:22:32.401Z"
   },
   {
    "duration": 86,
    "start_time": "2022-09-17T06:30:36.965Z"
   },
   {
    "duration": 19,
    "start_time": "2022-09-17T06:30:56.869Z"
   },
   {
    "duration": 37,
    "start_time": "2022-09-17T06:32:36.930Z"
   },
   {
    "duration": 10,
    "start_time": "2022-09-17T06:36:14.901Z"
   },
   {
    "duration": 13,
    "start_time": "2022-09-17T06:38:24.771Z"
   },
   {
    "duration": 1068,
    "start_time": "2022-09-17T06:42:45.303Z"
   },
   {
    "duration": 41,
    "start_time": "2022-09-17T06:42:46.373Z"
   },
   {
    "duration": 18,
    "start_time": "2022-09-17T06:42:46.415Z"
   },
   {
    "duration": 15,
    "start_time": "2022-09-17T06:42:46.434Z"
   },
   {
    "duration": 40,
    "start_time": "2022-09-17T06:42:46.450Z"
   },
   {
    "duration": 16,
    "start_time": "2022-09-17T06:42:46.491Z"
   },
   {
    "duration": 11,
    "start_time": "2022-09-17T06:42:46.522Z"
   },
   {
    "duration": 18,
    "start_time": "2022-09-17T06:42:46.534Z"
   },
   {
    "duration": 8,
    "start_time": "2022-09-17T06:42:46.555Z"
   },
   {
    "duration": 13,
    "start_time": "2022-09-17T06:42:46.566Z"
   },
   {
    "duration": 14,
    "start_time": "2022-09-17T06:42:46.581Z"
   },
   {
    "duration": 16,
    "start_time": "2022-09-17T06:42:46.596Z"
   },
   {
    "duration": 15,
    "start_time": "2022-09-17T06:42:46.614Z"
   },
   {
    "duration": 13,
    "start_time": "2022-09-17T06:42:46.631Z"
   },
   {
    "duration": 19,
    "start_time": "2022-09-17T06:42:46.645Z"
   },
   {
    "duration": 21,
    "start_time": "2022-09-17T06:42:46.665Z"
   },
   {
    "duration": 21,
    "start_time": "2022-09-17T06:42:46.687Z"
   },
   {
    "duration": 17,
    "start_time": "2022-09-17T06:42:46.710Z"
   },
   {
    "duration": 12,
    "start_time": "2022-09-17T06:42:46.728Z"
   },
   {
    "duration": 24,
    "start_time": "2022-09-17T06:42:46.741Z"
   },
   {
    "duration": 16,
    "start_time": "2022-09-17T06:42:46.766Z"
   },
   {
    "duration": 28,
    "start_time": "2022-09-17T06:42:46.784Z"
   },
   {
    "duration": 6,
    "start_time": "2022-09-17T06:42:46.813Z"
   },
   {
    "duration": 424,
    "start_time": "2022-09-17T06:42:46.821Z"
   },
   {
    "duration": 8,
    "start_time": "2022-09-17T06:42:47.246Z"
   },
   {
    "duration": 23,
    "start_time": "2022-09-17T06:42:47.256Z"
   },
   {
    "duration": 25,
    "start_time": "2022-09-17T06:42:47.280Z"
   },
   {
    "duration": 24,
    "start_time": "2022-09-17T06:42:47.308Z"
   },
   {
    "duration": 6,
    "start_time": "2022-09-17T06:42:47.334Z"
   },
   {
    "duration": 118,
    "start_time": "2022-09-17T06:42:47.342Z"
   },
   {
    "duration": 0,
    "start_time": "2022-09-17T06:42:47.462Z"
   },
   {
    "duration": 0,
    "start_time": "2022-09-17T06:42:47.463Z"
   },
   {
    "duration": 0,
    "start_time": "2022-09-17T06:42:47.464Z"
   },
   {
    "duration": 1,
    "start_time": "2022-09-17T06:42:47.464Z"
   },
   {
    "duration": 0,
    "start_time": "2022-09-17T06:42:47.466Z"
   },
   {
    "duration": 0,
    "start_time": "2022-09-17T06:42:47.467Z"
   },
   {
    "duration": 0,
    "start_time": "2022-09-17T06:42:47.468Z"
   },
   {
    "duration": 0,
    "start_time": "2022-09-17T06:42:47.469Z"
   },
   {
    "duration": 8,
    "start_time": "2022-09-17T06:44:10.620Z"
   },
   {
    "duration": 18,
    "start_time": "2022-09-17T06:44:11.323Z"
   },
   {
    "duration": 9,
    "start_time": "2022-09-17T06:44:32.624Z"
   },
   {
    "duration": 18,
    "start_time": "2022-09-17T06:44:33.200Z"
   },
   {
    "duration": 10,
    "start_time": "2022-09-17T06:44:45.160Z"
   },
   {
    "duration": 18,
    "start_time": "2022-09-17T06:44:46.292Z"
   },
   {
    "duration": 9,
    "start_time": "2022-09-17T06:45:13.420Z"
   },
   {
    "duration": 29,
    "start_time": "2022-09-17T06:45:14.049Z"
   },
   {
    "duration": 1324,
    "start_time": "2022-09-17T06:45:20.629Z"
   },
   {
    "duration": 41,
    "start_time": "2022-09-17T06:45:21.954Z"
   },
   {
    "duration": 17,
    "start_time": "2022-09-17T06:45:21.997Z"
   },
   {
    "duration": 13,
    "start_time": "2022-09-17T06:45:22.015Z"
   },
   {
    "duration": 38,
    "start_time": "2022-09-17T06:45:22.030Z"
   },
   {
    "duration": 15,
    "start_time": "2022-09-17T06:45:22.069Z"
   },
   {
    "duration": 11,
    "start_time": "2022-09-17T06:45:22.085Z"
   },
   {
    "duration": 31,
    "start_time": "2022-09-17T06:45:22.098Z"
   },
   {
    "duration": 6,
    "start_time": "2022-09-17T06:45:22.130Z"
   },
   {
    "duration": 4,
    "start_time": "2022-09-17T06:45:22.138Z"
   },
   {
    "duration": 6,
    "start_time": "2022-09-17T06:45:22.144Z"
   },
   {
    "duration": 5,
    "start_time": "2022-09-17T06:45:22.151Z"
   },
   {
    "duration": 5,
    "start_time": "2022-09-17T06:45:22.157Z"
   },
   {
    "duration": 7,
    "start_time": "2022-09-17T06:45:22.164Z"
   },
   {
    "duration": 5,
    "start_time": "2022-09-17T06:45:22.173Z"
   },
   {
    "duration": 6,
    "start_time": "2022-09-17T06:45:22.180Z"
   },
   {
    "duration": 39,
    "start_time": "2022-09-17T06:45:22.187Z"
   },
   {
    "duration": 11,
    "start_time": "2022-09-17T06:45:22.227Z"
   },
   {
    "duration": 5,
    "start_time": "2022-09-17T06:45:22.240Z"
   },
   {
    "duration": 11,
    "start_time": "2022-09-17T06:45:22.246Z"
   },
   {
    "duration": 16,
    "start_time": "2022-09-17T06:45:22.258Z"
   },
   {
    "duration": 17,
    "start_time": "2022-09-17T06:45:22.275Z"
   },
   {
    "duration": 29,
    "start_time": "2022-09-17T06:45:22.294Z"
   },
   {
    "duration": 449,
    "start_time": "2022-09-17T06:45:22.324Z"
   },
   {
    "duration": 6,
    "start_time": "2022-09-17T06:45:22.774Z"
   },
   {
    "duration": 13,
    "start_time": "2022-09-17T06:45:22.781Z"
   },
   {
    "duration": 30,
    "start_time": "2022-09-17T06:45:22.796Z"
   },
   {
    "duration": 13,
    "start_time": "2022-09-17T06:45:22.829Z"
   },
   {
    "duration": 7,
    "start_time": "2022-09-17T06:45:22.844Z"
   },
   {
    "duration": 34,
    "start_time": "2022-09-17T06:45:22.852Z"
   },
   {
    "duration": 42,
    "start_time": "2022-09-17T06:45:22.888Z"
   },
   {
    "duration": 111,
    "start_time": "2022-09-17T06:45:22.932Z"
   },
   {
    "duration": 14,
    "start_time": "2022-09-17T06:45:23.044Z"
   },
   {
    "duration": 16,
    "start_time": "2022-09-17T06:45:23.060Z"
   },
   {
    "duration": 18,
    "start_time": "2022-09-17T06:45:23.078Z"
   },
   {
    "duration": 34,
    "start_time": "2022-09-17T06:45:23.098Z"
   },
   {
    "duration": 6,
    "start_time": "2022-09-17T06:45:23.133Z"
   },
   {
    "duration": 83,
    "start_time": "2022-09-17T06:45:23.140Z"
   },
   {
    "duration": 3,
    "start_time": "2022-09-17T06:52:35.680Z"
   },
   {
    "duration": 73,
    "start_time": "2022-09-17T06:53:27.457Z"
   },
   {
    "duration": 49,
    "start_time": "2022-09-17T06:54:57.174Z"
   },
   {
    "duration": 109,
    "start_time": "2022-09-17T06:55:34.318Z"
   },
   {
    "duration": 110,
    "start_time": "2022-09-17T07:28:25.913Z"
   },
   {
    "duration": 102,
    "start_time": "2022-09-17T07:34:48.122Z"
   },
   {
    "duration": 138,
    "start_time": "2022-09-17T07:35:08.494Z"
   },
   {
    "duration": 995,
    "start_time": "2022-09-17T07:35:27.986Z"
   },
   {
    "duration": 43,
    "start_time": "2022-09-17T07:35:28.985Z"
   },
   {
    "duration": 22,
    "start_time": "2022-09-17T07:35:29.030Z"
   },
   {
    "duration": 14,
    "start_time": "2022-09-17T07:35:29.054Z"
   },
   {
    "duration": 54,
    "start_time": "2022-09-17T07:35:29.071Z"
   },
   {
    "duration": 16,
    "start_time": "2022-09-17T07:35:29.127Z"
   },
   {
    "duration": 11,
    "start_time": "2022-09-17T07:35:29.144Z"
   },
   {
    "duration": 11,
    "start_time": "2022-09-17T07:35:29.157Z"
   },
   {
    "duration": 16,
    "start_time": "2022-09-17T07:35:29.169Z"
   },
   {
    "duration": 14,
    "start_time": "2022-09-17T07:35:29.187Z"
   },
   {
    "duration": 10,
    "start_time": "2022-09-17T07:35:29.203Z"
   },
   {
    "duration": 12,
    "start_time": "2022-09-17T07:35:29.214Z"
   },
   {
    "duration": 11,
    "start_time": "2022-09-17T07:35:29.228Z"
   },
   {
    "duration": 16,
    "start_time": "2022-09-17T07:35:29.242Z"
   },
   {
    "duration": 9,
    "start_time": "2022-09-17T07:35:29.259Z"
   },
   {
    "duration": 6,
    "start_time": "2022-09-17T07:35:29.269Z"
   },
   {
    "duration": 14,
    "start_time": "2022-09-17T07:35:29.277Z"
   },
   {
    "duration": 11,
    "start_time": "2022-09-17T07:35:29.293Z"
   },
   {
    "duration": 14,
    "start_time": "2022-09-17T07:35:29.305Z"
   },
   {
    "duration": 7,
    "start_time": "2022-09-17T07:35:29.320Z"
   },
   {
    "duration": 16,
    "start_time": "2022-09-17T07:35:29.328Z"
   },
   {
    "duration": 15,
    "start_time": "2022-09-17T07:35:29.346Z"
   },
   {
    "duration": 5,
    "start_time": "2022-09-17T07:35:29.363Z"
   },
   {
    "duration": 424,
    "start_time": "2022-09-17T07:35:29.370Z"
   },
   {
    "duration": 7,
    "start_time": "2022-09-17T07:35:29.795Z"
   },
   {
    "duration": 18,
    "start_time": "2022-09-17T07:35:29.804Z"
   },
   {
    "duration": 7,
    "start_time": "2022-09-17T07:35:29.824Z"
   },
   {
    "duration": 15,
    "start_time": "2022-09-17T07:35:29.832Z"
   },
   {
    "duration": 7,
    "start_time": "2022-09-17T07:35:29.848Z"
   },
   {
    "duration": 28,
    "start_time": "2022-09-17T07:35:29.856Z"
   },
   {
    "duration": 139,
    "start_time": "2022-09-17T07:35:29.886Z"
   },
   {
    "duration": 26,
    "start_time": "2022-09-17T07:35:30.027Z"
   },
   {
    "duration": 14,
    "start_time": "2022-09-17T07:35:30.055Z"
   },
   {
    "duration": 16,
    "start_time": "2022-09-17T07:35:30.070Z"
   },
   {
    "duration": 35,
    "start_time": "2022-09-17T07:35:30.088Z"
   },
   {
    "duration": 22,
    "start_time": "2022-09-17T07:35:30.125Z"
   },
   {
    "duration": 6,
    "start_time": "2022-09-17T07:35:30.149Z"
   },
   {
    "duration": 14,
    "start_time": "2022-09-17T07:35:30.157Z"
   },
   {
    "duration": 155,
    "start_time": "2022-09-17T07:35:30.173Z"
   },
   {
    "duration": 239,
    "start_time": "2022-09-17T07:36:01.084Z"
   },
   {
    "duration": 243,
    "start_time": "2022-09-17T07:36:49.387Z"
   },
   {
    "duration": 96,
    "start_time": "2022-09-17T07:37:07.048Z"
   },
   {
    "duration": 1076,
    "start_time": "2022-09-17T07:37:18.137Z"
   },
   {
    "duration": 41,
    "start_time": "2022-09-17T07:37:19.214Z"
   },
   {
    "duration": 19,
    "start_time": "2022-09-17T07:37:19.260Z"
   },
   {
    "duration": 16,
    "start_time": "2022-09-17T07:37:19.281Z"
   },
   {
    "duration": 36,
    "start_time": "2022-09-17T07:37:19.299Z"
   },
   {
    "duration": 15,
    "start_time": "2022-09-17T07:37:19.337Z"
   },
   {
    "duration": 11,
    "start_time": "2022-09-17T07:37:19.353Z"
   },
   {
    "duration": 7,
    "start_time": "2022-09-17T07:37:19.365Z"
   },
   {
    "duration": 7,
    "start_time": "2022-09-17T07:37:19.373Z"
   },
   {
    "duration": 6,
    "start_time": "2022-09-17T07:37:19.381Z"
   },
   {
    "duration": 6,
    "start_time": "2022-09-17T07:37:19.389Z"
   },
   {
    "duration": 27,
    "start_time": "2022-09-17T07:37:19.396Z"
   },
   {
    "duration": 4,
    "start_time": "2022-09-17T07:37:19.424Z"
   },
   {
    "duration": 3,
    "start_time": "2022-09-17T07:37:19.431Z"
   },
   {
    "duration": 6,
    "start_time": "2022-09-17T07:37:19.435Z"
   },
   {
    "duration": 9,
    "start_time": "2022-09-17T07:37:19.442Z"
   },
   {
    "duration": 13,
    "start_time": "2022-09-17T07:37:19.452Z"
   },
   {
    "duration": 10,
    "start_time": "2022-09-17T07:37:19.466Z"
   },
   {
    "duration": 5,
    "start_time": "2022-09-17T07:37:19.477Z"
   },
   {
    "duration": 7,
    "start_time": "2022-09-17T07:37:19.483Z"
   },
   {
    "duration": 40,
    "start_time": "2022-09-17T07:37:19.492Z"
   },
   {
    "duration": 18,
    "start_time": "2022-09-17T07:37:19.533Z"
   },
   {
    "duration": 6,
    "start_time": "2022-09-17T07:37:19.552Z"
   },
   {
    "duration": 402,
    "start_time": "2022-09-17T07:37:19.560Z"
   },
   {
    "duration": 6,
    "start_time": "2022-09-17T07:37:19.963Z"
   },
   {
    "duration": 9,
    "start_time": "2022-09-17T07:37:19.971Z"
   },
   {
    "duration": 7,
    "start_time": "2022-09-17T07:37:19.982Z"
   },
   {
    "duration": 39,
    "start_time": "2022-09-17T07:37:19.991Z"
   },
   {
    "duration": 8,
    "start_time": "2022-09-17T07:37:20.031Z"
   },
   {
    "duration": 31,
    "start_time": "2022-09-17T07:37:20.040Z"
   },
   {
    "duration": 9,
    "start_time": "2022-09-17T07:37:20.072Z"
   },
   {
    "duration": 103,
    "start_time": "2022-09-17T07:37:20.122Z"
   },
   {
    "duration": 15,
    "start_time": "2022-09-17T07:37:20.226Z"
   },
   {
    "duration": 25,
    "start_time": "2022-09-17T07:37:20.242Z"
   },
   {
    "duration": 16,
    "start_time": "2022-09-17T07:37:20.269Z"
   },
   {
    "duration": 36,
    "start_time": "2022-09-17T07:37:20.287Z"
   },
   {
    "duration": 7,
    "start_time": "2022-09-17T07:37:20.325Z"
   },
   {
    "duration": 8,
    "start_time": "2022-09-17T07:37:20.334Z"
   },
   {
    "duration": 182,
    "start_time": "2022-09-17T07:37:20.344Z"
   },
   {
    "duration": 97,
    "start_time": "2022-09-17T08:12:57.196Z"
   },
   {
    "duration": 47,
    "start_time": "2022-09-18T03:01:49.416Z"
   },
   {
    "duration": 1094,
    "start_time": "2022-09-18T03:02:02.847Z"
   },
   {
    "duration": 85,
    "start_time": "2022-09-18T03:02:03.943Z"
   },
   {
    "duration": 20,
    "start_time": "2022-09-18T03:02:04.030Z"
   },
   {
    "duration": 11,
    "start_time": "2022-09-18T03:02:04.052Z"
   },
   {
    "duration": 38,
    "start_time": "2022-09-18T03:02:04.065Z"
   },
   {
    "duration": 17,
    "start_time": "2022-09-18T03:02:04.105Z"
   },
   {
    "duration": 31,
    "start_time": "2022-09-18T03:02:04.124Z"
   },
   {
    "duration": 10,
    "start_time": "2022-09-18T03:02:04.156Z"
   },
   {
    "duration": 7,
    "start_time": "2022-09-18T03:02:04.168Z"
   },
   {
    "duration": 6,
    "start_time": "2022-09-18T03:02:04.178Z"
   },
   {
    "duration": 8,
    "start_time": "2022-09-18T03:02:04.185Z"
   },
   {
    "duration": 5,
    "start_time": "2022-09-18T03:02:04.195Z"
   },
   {
    "duration": 5,
    "start_time": "2022-09-18T03:02:04.202Z"
   },
   {
    "duration": 6,
    "start_time": "2022-09-18T03:02:04.208Z"
   },
   {
    "duration": 10,
    "start_time": "2022-09-18T03:02:04.215Z"
   },
   {
    "duration": 6,
    "start_time": "2022-09-18T03:02:04.254Z"
   },
   {
    "duration": 23,
    "start_time": "2022-09-18T03:02:04.262Z"
   },
   {
    "duration": 14,
    "start_time": "2022-09-18T03:02:04.287Z"
   },
   {
    "duration": 8,
    "start_time": "2022-09-18T03:02:04.303Z"
   },
   {
    "duration": 8,
    "start_time": "2022-09-18T03:02:04.312Z"
   },
   {
    "duration": 33,
    "start_time": "2022-09-18T03:02:04.322Z"
   },
   {
    "duration": 23,
    "start_time": "2022-09-18T03:02:04.358Z"
   },
   {
    "duration": 7,
    "start_time": "2022-09-18T03:02:04.382Z"
   },
   {
    "duration": 450,
    "start_time": "2022-09-18T03:02:04.390Z"
   },
   {
    "duration": 15,
    "start_time": "2022-09-18T03:02:04.842Z"
   },
   {
    "duration": 15,
    "start_time": "2022-09-18T03:02:04.859Z"
   },
   {
    "duration": 9,
    "start_time": "2022-09-18T03:02:04.876Z"
   },
   {
    "duration": 15,
    "start_time": "2022-09-18T03:02:04.889Z"
   },
   {
    "duration": 9,
    "start_time": "2022-09-18T03:02:04.906Z"
   },
   {
    "duration": 59,
    "start_time": "2022-09-18T03:02:04.917Z"
   },
   {
    "duration": 11,
    "start_time": "2022-09-18T03:02:04.978Z"
   },
   {
    "duration": 109,
    "start_time": "2022-09-18T03:02:05.055Z"
   },
   {
    "duration": 16,
    "start_time": "2022-09-18T03:02:05.166Z"
   },
   {
    "duration": 14,
    "start_time": "2022-09-18T03:02:05.184Z"
   },
   {
    "duration": 18,
    "start_time": "2022-09-18T03:02:05.200Z"
   },
   {
    "duration": 47,
    "start_time": "2022-09-18T03:02:05.220Z"
   },
   {
    "duration": 6,
    "start_time": "2022-09-18T03:02:05.269Z"
   },
   {
    "duration": 10,
    "start_time": "2022-09-18T03:02:05.277Z"
   },
   {
    "duration": 76,
    "start_time": "2022-09-18T03:02:05.288Z"
   },
   {
    "duration": 112,
    "start_time": "2022-09-18T03:02:05.455Z"
   },
   {
    "duration": 0,
    "start_time": "2022-09-18T03:02:05.569Z"
   },
   {
    "duration": 12,
    "start_time": "2022-09-18T03:02:37.080Z"
   },
   {
    "duration": 12,
    "start_time": "2022-09-18T03:03:20.312Z"
   },
   {
    "duration": 108801,
    "start_time": "2022-09-18T03:03:59.353Z"
   },
   {
    "duration": 111979,
    "start_time": "2022-09-18T03:06:22.991Z"
   },
   {
    "duration": 12,
    "start_time": "2022-09-18T03:12:58.145Z"
   },
   {
    "duration": 104108,
    "start_time": "2022-09-18T03:52:15.152Z"
   },
   {
    "duration": 1096,
    "start_time": "2022-09-18T03:54:12.402Z"
   },
   {
    "duration": 43,
    "start_time": "2022-09-18T03:54:13.500Z"
   },
   {
    "duration": 22,
    "start_time": "2022-09-18T03:54:13.545Z"
   },
   {
    "duration": 15,
    "start_time": "2022-09-18T03:54:13.570Z"
   },
   {
    "duration": 68,
    "start_time": "2022-09-18T03:54:13.587Z"
   },
   {
    "duration": 20,
    "start_time": "2022-09-18T03:54:13.657Z"
   },
   {
    "duration": 13,
    "start_time": "2022-09-18T03:54:13.679Z"
   },
   {
    "duration": 15,
    "start_time": "2022-09-18T03:54:13.694Z"
   },
   {
    "duration": 6,
    "start_time": "2022-09-18T03:54:13.711Z"
   },
   {
    "duration": 5,
    "start_time": "2022-09-18T03:54:13.720Z"
   },
   {
    "duration": 6,
    "start_time": "2022-09-18T03:54:13.755Z"
   },
   {
    "duration": 7,
    "start_time": "2022-09-18T03:54:13.763Z"
   },
   {
    "duration": 11,
    "start_time": "2022-09-18T03:54:13.772Z"
   },
   {
    "duration": 6,
    "start_time": "2022-09-18T03:54:13.785Z"
   },
   {
    "duration": 7,
    "start_time": "2022-09-18T03:54:13.793Z"
   },
   {
    "duration": 8,
    "start_time": "2022-09-18T03:54:13.801Z"
   },
   {
    "duration": 53,
    "start_time": "2022-09-18T03:54:13.811Z"
   },
   {
    "duration": 15,
    "start_time": "2022-09-18T03:54:13.866Z"
   },
   {
    "duration": 7,
    "start_time": "2022-09-18T03:54:13.883Z"
   },
   {
    "duration": 14,
    "start_time": "2022-09-18T03:54:13.891Z"
   },
   {
    "duration": 32,
    "start_time": "2022-09-18T03:54:13.907Z"
   },
   {
    "duration": 31,
    "start_time": "2022-09-18T03:54:13.941Z"
   },
   {
    "duration": 22,
    "start_time": "2022-09-18T03:54:13.974Z"
   },
   {
    "duration": 473,
    "start_time": "2022-09-18T03:54:13.998Z"
   },
   {
    "duration": 9,
    "start_time": "2022-09-18T03:54:14.473Z"
   },
   {
    "duration": 25,
    "start_time": "2022-09-18T03:54:14.483Z"
   },
   {
    "duration": 15,
    "start_time": "2022-09-18T03:54:14.509Z"
   },
   {
    "duration": 32,
    "start_time": "2022-09-18T03:54:14.527Z"
   },
   {
    "duration": 11,
    "start_time": "2022-09-18T03:54:14.561Z"
   },
   {
    "duration": 44,
    "start_time": "2022-09-18T03:54:14.575Z"
   },
   {
    "duration": 51,
    "start_time": "2022-09-18T03:54:14.621Z"
   },
   {
    "duration": 100,
    "start_time": "2022-09-18T03:54:14.754Z"
   },
   {
    "duration": 16,
    "start_time": "2022-09-18T03:54:14.856Z"
   },
   {
    "duration": 10,
    "start_time": "2022-09-18T03:54:14.874Z"
   },
   {
    "duration": 37,
    "start_time": "2022-09-18T03:54:14.886Z"
   },
   {
    "duration": 38,
    "start_time": "2022-09-18T03:54:14.926Z"
   },
   {
    "duration": 8,
    "start_time": "2022-09-18T03:54:14.967Z"
   },
   {
    "duration": 14,
    "start_time": "2022-09-18T03:54:14.976Z"
   },
   {
    "duration": 166,
    "start_time": "2022-09-18T03:54:14.992Z"
   },
   {
    "duration": 213,
    "start_time": "2022-09-18T03:54:15.160Z"
   },
   {
    "duration": 0,
    "start_time": "2022-09-18T03:54:15.375Z"
   },
   {
    "duration": 108581,
    "start_time": "2022-09-18T03:55:14.474Z"
   },
   {
    "duration": 14,
    "start_time": "2022-09-18T03:58:40.802Z"
   },
   {
    "duration": 13,
    "start_time": "2022-09-18T03:59:10.040Z"
   },
   {
    "duration": 14,
    "start_time": "2022-09-18T04:00:18.058Z"
   },
   {
    "duration": 18,
    "start_time": "2022-09-18T04:00:30.332Z"
   },
   {
    "duration": 92996,
    "start_time": "2022-09-18T04:11:20.967Z"
   },
   {
    "duration": 22,
    "start_time": "2022-09-18T04:13:40.176Z"
   },
   {
    "duration": 141690,
    "start_time": "2022-09-18T04:14:30.793Z"
   },
   {
    "duration": 91523,
    "start_time": "2022-09-18T04:18:17.745Z"
   },
   {
    "duration": 91201,
    "start_time": "2022-09-18T04:22:33.776Z"
   },
   {
    "duration": 124,
    "start_time": "2022-09-18T04:24:46.847Z"
   },
   {
    "duration": 159427,
    "start_time": "2022-09-18T04:25:59.835Z"
   },
   {
    "duration": 107895,
    "start_time": "2022-09-18T04:33:49.567Z"
   },
   {
    "duration": 25896,
    "start_time": "2022-09-18T04:38:42.201Z"
   },
   {
    "duration": 17,
    "start_time": "2022-09-18T11:18:30.367Z"
   },
   {
    "duration": 53,
    "start_time": "2022-09-18T11:18:52.258Z"
   },
   {
    "duration": 73,
    "start_time": "2022-09-18T11:34:28.146Z"
   },
   {
    "duration": 43,
    "start_time": "2022-09-18T11:34:49.608Z"
   },
   {
    "duration": 6,
    "start_time": "2022-09-18T11:35:04.266Z"
   },
   {
    "duration": 15,
    "start_time": "2022-09-18T11:35:20.154Z"
   },
   {
    "duration": 6,
    "start_time": "2022-09-18T11:36:01.365Z"
   },
   {
    "duration": 4,
    "start_time": "2022-09-18T11:36:08.366Z"
   },
   {
    "duration": 6,
    "start_time": "2022-09-18T11:36:23.100Z"
   },
   {
    "duration": 7,
    "start_time": "2022-09-18T11:36:28.565Z"
   },
   {
    "duration": 5,
    "start_time": "2022-09-18T11:36:43.710Z"
   },
   {
    "duration": 51,
    "start_time": "2022-09-18T11:43:19.565Z"
   },
   {
    "duration": 18,
    "start_time": "2022-09-18T11:43:25.169Z"
   },
   {
    "duration": 6,
    "start_time": "2022-09-18T11:43:28.866Z"
   },
   {
    "duration": 41383,
    "start_time": "2022-09-18T11:44:20.149Z"
   },
   {
    "duration": 85994,
    "start_time": "2022-09-18T11:45:06.377Z"
   },
   {
    "duration": 84988,
    "start_time": "2022-09-18T11:48:20.884Z"
   },
   {
    "duration": 56,
    "start_time": "2022-09-18T11:52:27.015Z"
   },
   {
    "duration": 18,
    "start_time": "2022-09-18T11:52:28.204Z"
   },
   {
    "duration": 9,
    "start_time": "2022-09-18T11:52:31.504Z"
   },
   {
    "duration": 86896,
    "start_time": "2022-09-18T11:52:32.470Z"
   },
   {
    "duration": 45,
    "start_time": "2022-09-18T11:55:36.685Z"
   },
   {
    "duration": 90681,
    "start_time": "2022-09-18T11:55:57.182Z"
   },
   {
    "duration": 4064,
    "start_time": "2022-09-18T11:58:37.554Z"
   },
   {
    "duration": 6,
    "start_time": "2022-09-18T11:59:05.971Z"
   },
   {
    "duration": 4605,
    "start_time": "2022-09-18T11:59:07.807Z"
   },
   {
    "duration": 3669,
    "start_time": "2022-09-18T11:59:45.761Z"
   },
   {
    "duration": 53,
    "start_time": "2022-09-18T12:00:58.874Z"
   },
   {
    "duration": 19,
    "start_time": "2022-09-18T12:00:59.769Z"
   },
   {
    "duration": 7,
    "start_time": "2022-09-18T12:01:00.573Z"
   },
   {
    "duration": 4085,
    "start_time": "2022-09-18T12:01:02.500Z"
   },
   {
    "duration": 64,
    "start_time": "2022-09-18T12:03:31.772Z"
   },
   {
    "duration": 100742,
    "start_time": "2022-09-18T12:03:40.819Z"
   },
   {
    "duration": 35,
    "start_time": "2022-09-18T12:06:31.806Z"
   },
   {
    "duration": 101002,
    "start_time": "2022-09-18T12:08:48.658Z"
   },
   {
    "duration": 17,
    "start_time": "2022-09-18T12:17:05.305Z"
   },
   {
    "duration": 16,
    "start_time": "2022-09-18T12:18:08.003Z"
   },
   {
    "duration": 16,
    "start_time": "2022-09-18T12:18:58.306Z"
   },
   {
    "duration": 77,
    "start_time": "2022-09-18T12:19:52.401Z"
   },
   {
    "duration": 84199,
    "start_time": "2022-09-18T12:20:00.362Z"
   },
   {
    "duration": 208197,
    "start_time": "2022-09-18T12:21:51.667Z"
   },
   {
    "duration": 135,
    "start_time": "2022-09-18T12:28:51.857Z"
   },
   {
    "duration": 17,
    "start_time": "2022-09-18T12:28:51.993Z"
   },
   {
    "duration": 6,
    "start_time": "2022-09-18T12:28:52.012Z"
   },
   {
    "duration": 31498,
    "start_time": "2022-09-18T12:31:14.558Z"
   },
   {
    "duration": 4,
    "start_time": "2022-09-18T12:33:34.605Z"
   },
   {
    "duration": 40,
    "start_time": "2022-09-18T12:33:35.283Z"
   },
   {
    "duration": 13,
    "start_time": "2022-09-18T12:33:35.874Z"
   },
   {
    "duration": 14,
    "start_time": "2022-09-18T12:33:36.402Z"
   },
   {
    "duration": 46,
    "start_time": "2022-09-18T12:33:37.055Z"
   },
   {
    "duration": 18,
    "start_time": "2022-09-18T12:33:37.696Z"
   },
   {
    "duration": 13,
    "start_time": "2022-09-18T12:33:38.300Z"
   },
   {
    "duration": 6,
    "start_time": "2022-09-18T12:33:38.804Z"
   },
   {
    "duration": 5,
    "start_time": "2022-09-18T12:33:39.252Z"
   },
   {
    "duration": 5,
    "start_time": "2022-09-18T12:33:39.994Z"
   },
   {
    "duration": 5,
    "start_time": "2022-09-18T12:33:40.706Z"
   },
   {
    "duration": 5,
    "start_time": "2022-09-18T12:33:41.406Z"
   },
   {
    "duration": 5,
    "start_time": "2022-09-18T12:33:42.000Z"
   },
   {
    "duration": 5,
    "start_time": "2022-09-18T12:33:42.602Z"
   },
   {
    "duration": 4,
    "start_time": "2022-09-18T12:33:43.866Z"
   },
   {
    "duration": 5,
    "start_time": "2022-09-18T12:33:44.503Z"
   },
   {
    "duration": 14,
    "start_time": "2022-09-18T12:33:45.718Z"
   },
   {
    "duration": 9,
    "start_time": "2022-09-18T12:33:52.993Z"
   },
   {
    "duration": 6,
    "start_time": "2022-09-18T12:33:54.995Z"
   },
   {
    "duration": 8,
    "start_time": "2022-09-18T12:33:56.074Z"
   },
   {
    "duration": 16,
    "start_time": "2022-09-18T12:34:00.097Z"
   },
   {
    "duration": 17,
    "start_time": "2022-09-18T12:34:01.200Z"
   },
   {
    "duration": 8,
    "start_time": "2022-09-18T12:34:02.354Z"
   },
   {
    "duration": 461,
    "start_time": "2022-09-18T12:34:04.350Z"
   },
   {
    "duration": 8,
    "start_time": "2022-09-18T12:34:09.018Z"
   },
   {
    "duration": 13,
    "start_time": "2022-09-18T12:34:12.374Z"
   },
   {
    "duration": 9,
    "start_time": "2022-09-18T12:34:15.923Z"
   },
   {
    "duration": 18,
    "start_time": "2022-09-18T12:34:17.762Z"
   },
   {
    "duration": 10,
    "start_time": "2022-09-18T12:34:20.472Z"
   },
   {
    "duration": 30,
    "start_time": "2022-09-18T12:34:25.147Z"
   },
   {
    "duration": 14,
    "start_time": "2022-09-18T12:34:28.107Z"
   },
   {
    "duration": 2,
    "start_time": "2022-09-18T12:34:35.805Z"
   },
   {
    "duration": 12,
    "start_time": "2022-09-18T12:35:04.354Z"
   },
   {
    "duration": 14,
    "start_time": "2022-09-18T12:35:05.310Z"
   },
   {
    "duration": 12,
    "start_time": "2022-09-18T12:35:06.319Z"
   },
   {
    "duration": 17,
    "start_time": "2022-09-18T12:35:33.254Z"
   },
   {
    "duration": 19,
    "start_time": "2022-09-18T12:36:26.867Z"
   },
   {
    "duration": 13,
    "start_time": "2022-09-18T12:36:48.804Z"
   },
   {
    "duration": 4,
    "start_time": "2022-09-18T12:37:51.375Z"
   },
   {
    "duration": 41,
    "start_time": "2022-09-18T12:37:51.802Z"
   },
   {
    "duration": 13,
    "start_time": "2022-09-18T12:37:52.275Z"
   },
   {
    "duration": 12,
    "start_time": "2022-09-18T12:37:53.262Z"
   },
   {
    "duration": 41,
    "start_time": "2022-09-18T12:37:53.758Z"
   },
   {
    "duration": 16,
    "start_time": "2022-09-18T12:37:54.418Z"
   },
   {
    "duration": 13,
    "start_time": "2022-09-18T12:37:54.967Z"
   },
   {
    "duration": 5,
    "start_time": "2022-09-18T12:37:55.794Z"
   },
   {
    "duration": 5,
    "start_time": "2022-09-18T12:37:56.254Z"
   },
   {
    "duration": 4,
    "start_time": "2022-09-18T12:37:56.805Z"
   },
   {
    "duration": 6,
    "start_time": "2022-09-18T12:37:57.502Z"
   },
   {
    "duration": 5,
    "start_time": "2022-09-18T12:37:58.050Z"
   },
   {
    "duration": 4,
    "start_time": "2022-09-18T12:37:58.474Z"
   },
   {
    "duration": 5,
    "start_time": "2022-09-18T12:37:58.692Z"
   },
   {
    "duration": 5,
    "start_time": "2022-09-18T12:37:58.905Z"
   },
   {
    "duration": 5,
    "start_time": "2022-09-18T12:37:59.076Z"
   },
   {
    "duration": 14,
    "start_time": "2022-09-18T12:37:59.805Z"
   },
   {
    "duration": 10,
    "start_time": "2022-09-18T12:38:01.022Z"
   },
   {
    "duration": 6,
    "start_time": "2022-09-18T12:38:01.903Z"
   },
   {
    "duration": 7,
    "start_time": "2022-09-18T12:38:02.409Z"
   },
   {
    "duration": 14,
    "start_time": "2022-09-18T12:38:03.066Z"
   },
   {
    "duration": 17,
    "start_time": "2022-09-18T12:38:04.512Z"
   },
   {
    "duration": 8,
    "start_time": "2022-09-18T12:38:05.774Z"
   },
   {
    "duration": 474,
    "start_time": "2022-09-18T12:38:07.688Z"
   },
   {
    "duration": 8,
    "start_time": "2022-09-18T12:38:10.618Z"
   },
   {
    "duration": 13,
    "start_time": "2022-09-18T12:38:16.999Z"
   },
   {
    "duration": 9,
    "start_time": "2022-09-18T12:38:18.953Z"
   },
   {
    "duration": 17,
    "start_time": "2022-09-18T12:38:20.073Z"
   },
   {
    "duration": 11,
    "start_time": "2022-09-18T12:38:24.406Z"
   },
   {
    "duration": 32,
    "start_time": "2022-09-18T12:38:25.358Z"
   },
   {
    "duration": 11,
    "start_time": "2022-09-18T12:38:26.466Z"
   },
   {
    "duration": 21,
    "start_time": "2022-09-18T12:38:28.246Z"
   },
   {
    "duration": 17,
    "start_time": "2022-09-18T12:38:33.300Z"
   },
   {
    "duration": 14,
    "start_time": "2022-09-18T12:38:34.371Z"
   },
   {
    "duration": 16,
    "start_time": "2022-09-18T12:38:38.219Z"
   },
   {
    "duration": 20,
    "start_time": "2022-09-18T12:38:43.604Z"
   },
   {
    "duration": 6,
    "start_time": "2022-09-18T12:38:46.718Z"
   },
   {
    "duration": 7,
    "start_time": "2022-09-18T12:38:47.414Z"
   },
   {
    "duration": 2,
    "start_time": "2022-09-18T12:38:49.197Z"
   },
   {
    "duration": 15,
    "start_time": "2022-09-18T12:40:39.850Z"
   },
   {
    "duration": 14,
    "start_time": "2022-09-18T12:40:41.700Z"
   },
   {
    "duration": 7,
    "start_time": "2022-09-18T12:40:59.070Z"
   },
   {
    "duration": 7,
    "start_time": "2022-09-18T12:41:00.209Z"
   },
   {
    "duration": 16,
    "start_time": "2022-09-18T12:41:16.502Z"
   },
   {
    "duration": 16,
    "start_time": "2022-09-18T12:41:21.794Z"
   },
   {
    "duration": 36045,
    "start_time": "2022-09-18T12:42:36.310Z"
   },
   {
    "duration": 84814,
    "start_time": "2022-09-18T12:45:01.850Z"
   },
   {
    "duration": 62372,
    "start_time": "2022-09-18T12:46:51.190Z"
   },
   {
    "duration": 60501,
    "start_time": "2022-09-18T12:48:20.671Z"
   },
   {
    "duration": 1217,
    "start_time": "2022-09-18T12:50:12.384Z"
   },
   {
    "duration": 44,
    "start_time": "2022-09-18T12:50:13.604Z"
   },
   {
    "duration": 21,
    "start_time": "2022-09-18T12:50:13.650Z"
   },
   {
    "duration": 21,
    "start_time": "2022-09-18T12:50:13.672Z"
   },
   {
    "duration": 43,
    "start_time": "2022-09-18T12:50:13.696Z"
   },
   {
    "duration": 23,
    "start_time": "2022-09-18T12:50:13.741Z"
   },
   {
    "duration": 12,
    "start_time": "2022-09-18T12:50:13.766Z"
   },
   {
    "duration": 10,
    "start_time": "2022-09-18T12:50:13.780Z"
   },
   {
    "duration": 5,
    "start_time": "2022-09-18T12:50:13.791Z"
   },
   {
    "duration": 16,
    "start_time": "2022-09-18T12:50:13.798Z"
   },
   {
    "duration": 9,
    "start_time": "2022-09-18T12:50:13.816Z"
   },
   {
    "duration": 7,
    "start_time": "2022-09-18T12:50:13.827Z"
   },
   {
    "duration": 22,
    "start_time": "2022-09-18T12:50:13.835Z"
   },
   {
    "duration": 12,
    "start_time": "2022-09-18T12:50:13.859Z"
   },
   {
    "duration": 7,
    "start_time": "2022-09-18T12:50:13.872Z"
   },
   {
    "duration": 394,
    "start_time": "2022-09-18T12:50:13.881Z"
   },
   {
    "duration": 18,
    "start_time": "2022-09-18T12:50:14.276Z"
   },
   {
    "duration": 17,
    "start_time": "2022-09-18T12:50:14.296Z"
   },
   {
    "duration": 25,
    "start_time": "2022-09-18T12:50:14.315Z"
   },
   {
    "duration": 12,
    "start_time": "2022-09-18T12:50:14.342Z"
   },
   {
    "duration": 37,
    "start_time": "2022-09-18T12:50:14.356Z"
   },
   {
    "duration": 36,
    "start_time": "2022-09-18T12:50:14.395Z"
   },
   {
    "duration": 12,
    "start_time": "2022-09-18T12:50:14.432Z"
   },
   {
    "duration": 453,
    "start_time": "2022-09-18T12:50:14.445Z"
   },
   {
    "duration": 8,
    "start_time": "2022-09-18T12:50:14.900Z"
   },
   {
    "duration": 33,
    "start_time": "2022-09-18T12:50:14.910Z"
   },
   {
    "duration": 16,
    "start_time": "2022-09-18T12:50:14.945Z"
   },
   {
    "duration": 44,
    "start_time": "2022-09-18T12:50:14.963Z"
   },
   {
    "duration": 22,
    "start_time": "2022-09-18T12:50:15.009Z"
   },
   {
    "duration": 68,
    "start_time": "2022-09-18T12:50:15.032Z"
   },
   {
    "duration": 55,
    "start_time": "2022-09-18T12:50:15.102Z"
   },
   {
    "duration": 152,
    "start_time": "2022-09-18T12:50:15.159Z"
   },
   {
    "duration": 36,
    "start_time": "2022-09-18T12:50:15.313Z"
   },
   {
    "duration": 60,
    "start_time": "2022-09-18T12:50:15.350Z"
   },
   {
    "duration": 67,
    "start_time": "2022-09-18T12:50:15.412Z"
   },
   {
    "duration": 62,
    "start_time": "2022-09-18T12:50:15.482Z"
   },
   {
    "duration": 29,
    "start_time": "2022-09-18T12:50:15.546Z"
   },
   {
    "duration": 40,
    "start_time": "2022-09-18T12:50:15.577Z"
   },
   {
    "duration": 31,
    "start_time": "2022-09-18T12:50:15.618Z"
   },
   {
    "duration": 31,
    "start_time": "2022-09-18T12:50:15.651Z"
   },
   {
    "duration": 35,
    "start_time": "2022-09-18T12:50:15.686Z"
   },
   {
    "duration": 139,
    "start_time": "2022-09-18T12:50:15.723Z"
   },
   {
    "duration": 57,
    "start_time": "2022-09-18T12:51:01.816Z"
   },
   {
    "duration": 13,
    "start_time": "2022-09-18T12:51:07.599Z"
   },
   {
    "duration": 180477,
    "start_time": "2022-09-18T12:51:45.786Z"
   },
   {
    "duration": 257574,
    "start_time": "2022-09-18T12:55:15.393Z"
   },
   {
    "duration": 15,
    "start_time": "2022-09-18T13:01:11.662Z"
   },
   {
    "duration": 1089,
    "start_time": "2022-09-18T13:01:25.369Z"
   },
   {
    "duration": 40,
    "start_time": "2022-09-18T13:01:26.460Z"
   },
   {
    "duration": 20,
    "start_time": "2022-09-18T13:01:26.502Z"
   },
   {
    "duration": 12,
    "start_time": "2022-09-18T13:01:26.524Z"
   },
   {
    "duration": 41,
    "start_time": "2022-09-18T13:01:26.537Z"
   },
   {
    "duration": 19,
    "start_time": "2022-09-18T13:01:26.580Z"
   },
   {
    "duration": 12,
    "start_time": "2022-09-18T13:01:26.600Z"
   },
   {
    "duration": 7,
    "start_time": "2022-09-18T13:01:26.613Z"
   },
   {
    "duration": 12,
    "start_time": "2022-09-18T13:01:26.621Z"
   },
   {
    "duration": 9,
    "start_time": "2022-09-18T13:01:26.654Z"
   },
   {
    "duration": 9,
    "start_time": "2022-09-18T13:01:26.665Z"
   },
   {
    "duration": 26,
    "start_time": "2022-09-18T13:01:26.676Z"
   },
   {
    "duration": 6,
    "start_time": "2022-09-18T13:01:26.704Z"
   },
   {
    "duration": 8,
    "start_time": "2022-09-18T13:01:26.712Z"
   },
   {
    "duration": 9,
    "start_time": "2022-09-18T13:01:26.721Z"
   },
   {
    "duration": 8,
    "start_time": "2022-09-18T13:01:26.731Z"
   },
   {
    "duration": 18,
    "start_time": "2022-09-18T13:01:26.740Z"
   },
   {
    "duration": 16,
    "start_time": "2022-09-18T13:01:26.760Z"
   },
   {
    "duration": 11,
    "start_time": "2022-09-18T13:01:26.777Z"
   },
   {
    "duration": 12,
    "start_time": "2022-09-18T13:01:26.789Z"
   },
   {
    "duration": 17,
    "start_time": "2022-09-18T13:01:26.802Z"
   },
   {
    "duration": 20,
    "start_time": "2022-09-18T13:01:26.820Z"
   },
   {
    "duration": 17,
    "start_time": "2022-09-18T13:01:26.842Z"
   },
   {
    "duration": 465,
    "start_time": "2022-09-18T13:01:26.860Z"
   },
   {
    "duration": 7,
    "start_time": "2022-09-18T13:01:27.327Z"
   },
   {
    "duration": 11,
    "start_time": "2022-09-18T13:01:27.354Z"
   },
   {
    "duration": 8,
    "start_time": "2022-09-18T13:01:27.367Z"
   },
   {
    "duration": 16,
    "start_time": "2022-09-18T13:01:27.378Z"
   },
   {
    "duration": 8,
    "start_time": "2022-09-18T13:01:27.396Z"
   },
   {
    "duration": 62,
    "start_time": "2022-09-18T13:01:27.406Z"
   },
   {
    "duration": 12,
    "start_time": "2022-09-18T13:01:27.469Z"
   },
   {
    "duration": 183,
    "start_time": "2022-09-18T13:01:27.482Z"
   },
   {
    "duration": 16,
    "start_time": "2022-09-18T13:01:27.668Z"
   },
   {
    "duration": 12,
    "start_time": "2022-09-18T13:01:27.686Z"
   },
   {
    "duration": 16,
    "start_time": "2022-09-18T13:01:27.700Z"
   },
   {
    "duration": 44,
    "start_time": "2022-09-18T13:01:27.717Z"
   },
   {
    "duration": 6,
    "start_time": "2022-09-18T13:01:27.763Z"
   },
   {
    "duration": 9,
    "start_time": "2022-09-18T13:01:27.770Z"
   },
   {
    "duration": 14,
    "start_time": "2022-09-18T13:01:27.780Z"
   },
   {
    "duration": 15,
    "start_time": "2022-09-18T13:01:27.796Z"
   },
   {
    "duration": 7,
    "start_time": "2022-09-18T13:01:27.813Z"
   },
   {
    "duration": 392376,
    "start_time": "2022-09-18T13:01:27.822Z"
   },
   {
    "duration": 194713,
    "start_time": "2022-09-18T13:08:37.873Z"
   },
   {
    "duration": 167,
    "start_time": "2022-09-18T13:11:52.588Z"
   },
   {
    "duration": 814,
    "start_time": "2022-09-19T09:22:27.039Z"
   },
   {
    "duration": 882,
    "start_time": "2022-09-19T09:26:06.104Z"
   },
   {
    "duration": 156,
    "start_time": "2022-09-19T09:28:59.160Z"
   },
   {
    "duration": 21,
    "start_time": "2022-09-19T09:29:11.812Z"
   },
   {
    "duration": 12,
    "start_time": "2022-09-19T09:29:26.508Z"
   },
   {
    "duration": 38,
    "start_time": "2022-09-19T09:29:35.608Z"
   },
   {
    "duration": 21,
    "start_time": "2022-09-19T09:29:52.244Z"
   },
   {
    "duration": 15,
    "start_time": "2022-09-19T09:30:03.373Z"
   },
   {
    "duration": 1175,
    "start_time": "2022-09-19T09:49:29.419Z"
   },
   {
    "duration": 41,
    "start_time": "2022-09-19T09:49:30.597Z"
   },
   {
    "duration": 23,
    "start_time": "2022-09-19T09:49:30.640Z"
   },
   {
    "duration": 17,
    "start_time": "2022-09-19T09:49:30.664Z"
   },
   {
    "duration": 44,
    "start_time": "2022-09-19T09:49:30.683Z"
   },
   {
    "duration": 20,
    "start_time": "2022-09-19T09:49:30.729Z"
   },
   {
    "duration": 13,
    "start_time": "2022-09-19T09:49:30.751Z"
   },
   {
    "duration": 28,
    "start_time": "2022-09-19T09:49:30.766Z"
   },
   {
    "duration": 18,
    "start_time": "2022-09-19T09:49:30.796Z"
   },
   {
    "duration": 27,
    "start_time": "2022-09-19T09:49:30.816Z"
   },
   {
    "duration": 21,
    "start_time": "2022-09-19T09:49:30.844Z"
   },
   {
    "duration": 14,
    "start_time": "2022-09-19T09:49:30.866Z"
   },
   {
    "duration": 12,
    "start_time": "2022-09-19T09:49:30.882Z"
   },
   {
    "duration": 12,
    "start_time": "2022-09-19T09:49:30.897Z"
   },
   {
    "duration": 14,
    "start_time": "2022-09-19T09:49:30.911Z"
   },
   {
    "duration": 11,
    "start_time": "2022-09-19T09:49:30.927Z"
   },
   {
    "duration": 11,
    "start_time": "2022-09-19T09:49:30.940Z"
   },
   {
    "duration": 15,
    "start_time": "2022-09-19T09:49:30.952Z"
   },
   {
    "duration": 18,
    "start_time": "2022-09-19T09:49:30.969Z"
   },
   {
    "duration": 15,
    "start_time": "2022-09-19T09:49:30.989Z"
   },
   {
    "duration": 15,
    "start_time": "2022-09-19T09:49:31.006Z"
   },
   {
    "duration": 10,
    "start_time": "2022-09-19T09:49:31.022Z"
   },
   {
    "duration": 3079,
    "start_time": "2022-09-19T09:49:31.033Z"
   },
   {
    "duration": 1,
    "start_time": "2022-09-19T09:49:34.113Z"
   },
   {
    "duration": 0,
    "start_time": "2022-09-19T09:49:34.115Z"
   },
   {
    "duration": 0,
    "start_time": "2022-09-19T09:49:34.115Z"
   },
   {
    "duration": 7,
    "start_time": "2022-09-19T09:50:14.431Z"
   },
   {
    "duration": 5,
    "start_time": "2022-09-19T09:50:42.075Z"
   },
   {
    "duration": 8,
    "start_time": "2022-09-19T09:50:43.755Z"
   },
   {
    "duration": 5,
    "start_time": "2022-09-19T09:51:54.456Z"
   },
   {
    "duration": 14,
    "start_time": "2022-09-19T09:52:15.497Z"
   },
   {
    "duration": 9,
    "start_time": "2022-09-19T09:52:18.718Z"
   },
   {
    "duration": 1738,
    "start_time": "2022-09-19T09:52:46.156Z"
   },
   {
    "duration": 41,
    "start_time": "2022-09-19T09:52:47.896Z"
   },
   {
    "duration": 19,
    "start_time": "2022-09-19T09:52:47.939Z"
   },
   {
    "duration": 13,
    "start_time": "2022-09-19T09:52:47.960Z"
   },
   {
    "duration": 41,
    "start_time": "2022-09-19T09:52:47.975Z"
   },
   {
    "duration": 18,
    "start_time": "2022-09-19T09:52:48.017Z"
   },
   {
    "duration": 12,
    "start_time": "2022-09-19T09:52:48.036Z"
   },
   {
    "duration": 7,
    "start_time": "2022-09-19T09:52:48.049Z"
   },
   {
    "duration": 33,
    "start_time": "2022-09-19T09:52:48.057Z"
   },
   {
    "duration": 8,
    "start_time": "2022-09-19T09:52:48.094Z"
   },
   {
    "duration": 9,
    "start_time": "2022-09-19T09:52:48.104Z"
   },
   {
    "duration": 7,
    "start_time": "2022-09-19T09:52:48.115Z"
   },
   {
    "duration": 8,
    "start_time": "2022-09-19T09:52:48.123Z"
   },
   {
    "duration": 6,
    "start_time": "2022-09-19T09:52:48.132Z"
   },
   {
    "duration": 9,
    "start_time": "2022-09-19T09:52:48.140Z"
   },
   {
    "duration": 6,
    "start_time": "2022-09-19T09:52:48.151Z"
   },
   {
    "duration": 31,
    "start_time": "2022-09-19T09:52:48.158Z"
   },
   {
    "duration": 7,
    "start_time": "2022-09-19T09:52:48.191Z"
   },
   {
    "duration": 13,
    "start_time": "2022-09-19T09:52:48.200Z"
   },
   {
    "duration": 13,
    "start_time": "2022-09-19T09:52:48.215Z"
   },
   {
    "duration": 16,
    "start_time": "2022-09-19T09:52:48.230Z"
   },
   {
    "duration": 8,
    "start_time": "2022-09-19T09:52:48.247Z"
   },
   {
    "duration": 36,
    "start_time": "2022-09-19T09:52:48.257Z"
   },
   {
    "duration": 6,
    "start_time": "2022-09-19T09:52:48.295Z"
   },
   {
    "duration": 14,
    "start_time": "2022-09-19T09:52:48.303Z"
   },
   {
    "duration": 53,
    "start_time": "2022-09-23T10:05:45.613Z"
   },
   {
    "duration": 1154,
    "start_time": "2022-09-23T10:05:50.742Z"
   },
   {
    "duration": 82,
    "start_time": "2022-09-23T10:05:51.898Z"
   },
   {
    "duration": 19,
    "start_time": "2022-09-23T10:05:51.982Z"
   },
   {
    "duration": 13,
    "start_time": "2022-09-23T10:05:52.003Z"
   },
   {
    "duration": 36,
    "start_time": "2022-09-23T10:05:52.018Z"
   },
   {
    "duration": 17,
    "start_time": "2022-09-23T10:05:52.056Z"
   },
   {
    "duration": 37,
    "start_time": "2022-09-23T10:05:52.074Z"
   },
   {
    "duration": 16,
    "start_time": "2022-09-23T10:05:52.113Z"
   },
   {
    "duration": 10,
    "start_time": "2022-09-23T10:05:52.131Z"
   },
   {
    "duration": 16,
    "start_time": "2022-09-23T10:05:52.144Z"
   },
   {
    "duration": 12,
    "start_time": "2022-09-23T10:05:52.162Z"
   },
   {
    "duration": 19,
    "start_time": "2022-09-23T10:05:52.175Z"
   },
   {
    "duration": 7,
    "start_time": "2022-09-23T10:05:52.195Z"
   },
   {
    "duration": 9,
    "start_time": "2022-09-23T10:05:52.203Z"
   },
   {
    "duration": 12,
    "start_time": "2022-09-23T10:05:52.213Z"
   },
   {
    "duration": 7,
    "start_time": "2022-09-23T10:05:52.228Z"
   },
   {
    "duration": 10,
    "start_time": "2022-09-23T10:05:52.236Z"
   },
   {
    "duration": 9,
    "start_time": "2022-09-23T10:05:52.247Z"
   },
   {
    "duration": 11,
    "start_time": "2022-09-23T10:05:52.257Z"
   },
   {
    "duration": 9,
    "start_time": "2022-09-23T10:05:52.269Z"
   },
   {
    "duration": 7,
    "start_time": "2022-09-23T10:05:52.279Z"
   },
   {
    "duration": 22,
    "start_time": "2022-09-23T10:05:52.287Z"
   },
   {
    "duration": 7,
    "start_time": "2022-09-23T10:05:52.311Z"
   },
   {
    "duration": 13,
    "start_time": "2022-09-23T10:05:52.319Z"
   },
   {
    "duration": 135,
    "start_time": "2022-09-23T10:05:52.334Z"
   },
   {
    "duration": 1,
    "start_time": "2022-09-23T10:05:52.470Z"
   },
   {
    "duration": 0,
    "start_time": "2022-09-23T10:05:52.472Z"
   },
   {
    "duration": 0,
    "start_time": "2022-09-23T10:05:52.473Z"
   },
   {
    "duration": 0,
    "start_time": "2022-09-23T10:05:52.474Z"
   },
   {
    "duration": 0,
    "start_time": "2022-09-23T10:05:52.475Z"
   },
   {
    "duration": 19,
    "start_time": "2022-09-23T10:06:55.167Z"
   },
   {
    "duration": 19,
    "start_time": "2022-09-23T10:07:27.572Z"
   },
   {
    "duration": 18,
    "start_time": "2022-09-23T10:07:42.376Z"
   },
   {
    "duration": 17,
    "start_time": "2022-09-23T10:07:57.516Z"
   },
   {
    "duration": 18,
    "start_time": "2022-09-23T10:08:18.595Z"
   },
   {
    "duration": 9,
    "start_time": "2022-09-23T10:10:34.895Z"
   },
   {
    "duration": 8,
    "start_time": "2022-09-23T10:10:48.155Z"
   },
   {
    "duration": 13,
    "start_time": "2022-09-23T10:10:56.347Z"
   },
   {
    "duration": 6,
    "start_time": "2022-09-23T10:11:02.140Z"
   },
   {
    "duration": 16,
    "start_time": "2022-09-23T10:11:14.218Z"
   },
   {
    "duration": 1120,
    "start_time": "2022-09-23T10:12:01.023Z"
   },
   {
    "duration": 42,
    "start_time": "2022-09-23T10:12:02.145Z"
   },
   {
    "duration": 20,
    "start_time": "2022-09-23T10:12:02.188Z"
   },
   {
    "duration": 15,
    "start_time": "2022-09-23T10:12:02.209Z"
   },
   {
    "duration": 51,
    "start_time": "2022-09-23T10:12:02.227Z"
   },
   {
    "duration": 28,
    "start_time": "2022-09-23T10:12:02.280Z"
   },
   {
    "duration": 12,
    "start_time": "2022-09-23T10:12:02.311Z"
   },
   {
    "duration": 18,
    "start_time": "2022-09-23T10:12:02.325Z"
   },
   {
    "duration": 22,
    "start_time": "2022-09-23T10:12:02.344Z"
   },
   {
    "duration": 20,
    "start_time": "2022-09-23T10:12:02.367Z"
   },
   {
    "duration": 10,
    "start_time": "2022-09-23T10:12:02.388Z"
   },
   {
    "duration": 9,
    "start_time": "2022-09-23T10:12:02.400Z"
   },
   {
    "duration": 15,
    "start_time": "2022-09-23T10:12:02.410Z"
   },
   {
    "duration": 19,
    "start_time": "2022-09-23T10:12:02.428Z"
   },
   {
    "duration": 19,
    "start_time": "2022-09-23T10:12:02.449Z"
   },
   {
    "duration": 33,
    "start_time": "2022-09-23T10:12:02.469Z"
   },
   {
    "duration": 12,
    "start_time": "2022-09-23T10:12:02.503Z"
   },
   {
    "duration": 32,
    "start_time": "2022-09-23T10:12:02.517Z"
   },
   {
    "duration": 13,
    "start_time": "2022-09-23T10:12:02.550Z"
   },
   {
    "duration": 16,
    "start_time": "2022-09-23T10:12:02.565Z"
   },
   {
    "duration": 33,
    "start_time": "2022-09-23T10:12:02.583Z"
   },
   {
    "duration": 45,
    "start_time": "2022-09-23T10:12:02.618Z"
   },
   {
    "duration": 43,
    "start_time": "2022-09-23T10:12:02.665Z"
   },
   {
    "duration": 49,
    "start_time": "2022-09-23T10:12:02.710Z"
   },
   {
    "duration": 33,
    "start_time": "2022-09-23T10:12:02.761Z"
   },
   {
    "duration": 63,
    "start_time": "2022-09-23T10:12:02.796Z"
   },
   {
    "duration": 175,
    "start_time": "2022-09-23T10:12:02.861Z"
   },
   {
    "duration": 0,
    "start_time": "2022-09-23T10:12:03.037Z"
   },
   {
    "duration": 0,
    "start_time": "2022-09-23T10:12:03.038Z"
   },
   {
    "duration": 0,
    "start_time": "2022-09-23T10:12:03.039Z"
   },
   {
    "duration": 16,
    "start_time": "2022-09-23T10:13:10.482Z"
   },
   {
    "duration": 14,
    "start_time": "2022-09-23T10:14:27.938Z"
   },
   {
    "duration": 13,
    "start_time": "2022-09-23T10:15:28.942Z"
   },
   {
    "duration": 73,
    "start_time": "2022-09-23T10:19:17.784Z"
   },
   {
    "duration": 25,
    "start_time": "2022-09-23T10:19:31.396Z"
   },
   {
    "duration": 119,
    "start_time": "2022-09-23T10:21:27.104Z"
   },
   {
    "duration": 15,
    "start_time": "2022-09-23T10:21:33.360Z"
   },
   {
    "duration": 8,
    "start_time": "2022-09-23T10:21:57.171Z"
   },
   {
    "duration": 1161,
    "start_time": "2022-09-23T10:22:18.027Z"
   },
   {
    "duration": 41,
    "start_time": "2022-09-23T10:22:19.190Z"
   },
   {
    "duration": 19,
    "start_time": "2022-09-23T10:22:19.233Z"
   },
   {
    "duration": 15,
    "start_time": "2022-09-23T10:22:19.253Z"
   },
   {
    "duration": 55,
    "start_time": "2022-09-23T10:22:19.271Z"
   },
   {
    "duration": 18,
    "start_time": "2022-09-23T10:22:19.328Z"
   },
   {
    "duration": 19,
    "start_time": "2022-09-23T10:22:19.348Z"
   },
   {
    "duration": 57,
    "start_time": "2022-09-23T10:22:19.369Z"
   },
   {
    "duration": 15,
    "start_time": "2022-09-23T10:22:19.427Z"
   },
   {
    "duration": 35,
    "start_time": "2022-09-23T10:22:19.444Z"
   },
   {
    "duration": 29,
    "start_time": "2022-09-23T10:22:19.481Z"
   },
   {
    "duration": 17,
    "start_time": "2022-09-23T10:22:19.512Z"
   },
   {
    "duration": 26,
    "start_time": "2022-09-23T10:22:19.531Z"
   },
   {
    "duration": 15,
    "start_time": "2022-09-23T10:22:19.561Z"
   },
   {
    "duration": 24,
    "start_time": "2022-09-23T10:22:19.578Z"
   },
   {
    "duration": 27,
    "start_time": "2022-09-23T10:22:19.603Z"
   },
   {
    "duration": 14,
    "start_time": "2022-09-23T10:22:19.631Z"
   },
   {
    "duration": 27,
    "start_time": "2022-09-23T10:22:19.647Z"
   },
   {
    "duration": 22,
    "start_time": "2022-09-23T10:22:19.676Z"
   },
   {
    "duration": 16,
    "start_time": "2022-09-23T10:22:19.699Z"
   },
   {
    "duration": 27,
    "start_time": "2022-09-23T10:22:19.717Z"
   },
   {
    "duration": 17,
    "start_time": "2022-09-23T10:22:19.745Z"
   },
   {
    "duration": 25,
    "start_time": "2022-09-23T10:22:19.764Z"
   },
   {
    "duration": 15,
    "start_time": "2022-09-23T10:22:19.791Z"
   },
   {
    "duration": 29,
    "start_time": "2022-09-23T10:22:19.808Z"
   },
   {
    "duration": 35,
    "start_time": "2022-09-23T10:22:19.838Z"
   },
   {
    "duration": 232,
    "start_time": "2022-09-23T10:22:19.875Z"
   },
   {
    "duration": 0,
    "start_time": "2022-09-23T10:22:20.108Z"
   },
   {
    "duration": 0,
    "start_time": "2022-09-23T10:22:20.109Z"
   },
   {
    "duration": 0,
    "start_time": "2022-09-23T10:22:20.110Z"
   },
   {
    "duration": 102,
    "start_time": "2022-09-23T10:22:49.185Z"
   },
   {
    "duration": 114,
    "start_time": "2022-09-23T10:23:36.114Z"
   },
   {
    "duration": 13,
    "start_time": "2022-09-23T10:23:53.202Z"
   },
   {
    "duration": 11,
    "start_time": "2022-09-23T10:23:55.867Z"
   },
   {
    "duration": 18,
    "start_time": "2022-09-23T10:24:34.343Z"
   },
   {
    "duration": 5,
    "start_time": "2022-09-23T10:24:53.363Z"
   },
   {
    "duration": 8,
    "start_time": "2022-09-23T10:25:39.170Z"
   },
   {
    "duration": 7,
    "start_time": "2022-09-23T10:28:09.762Z"
   },
   {
    "duration": 155,
    "start_time": "2022-09-23T10:28:10.958Z"
   },
   {
    "duration": 160,
    "start_time": "2022-09-23T10:28:41.454Z"
   },
   {
    "duration": 52,
    "start_time": "2022-09-23T10:30:10.178Z"
   },
   {
    "duration": 1019,
    "start_time": "2022-09-23T10:30:12.310Z"
   },
   {
    "duration": 179,
    "start_time": "2022-09-23T10:35:07.936Z"
   },
   {
    "duration": 226,
    "start_time": "2022-09-23T10:35:31.890Z"
   },
   {
    "duration": 59,
    "start_time": "2022-09-23T10:35:51.277Z"
   },
   {
    "duration": 1207,
    "start_time": "2022-09-23T10:36:07.757Z"
   },
   {
    "duration": 14,
    "start_time": "2022-09-23T10:42:02.845Z"
   },
   {
    "duration": 15,
    "start_time": "2022-09-23T10:42:52.364Z"
   },
   {
    "duration": 12,
    "start_time": "2022-09-23T10:43:10.941Z"
   },
   {
    "duration": 191,
    "start_time": "2022-09-23T10:44:21.821Z"
   },
   {
    "duration": 34,
    "start_time": "2022-09-23T10:44:24.780Z"
   },
   {
    "duration": 642,
    "start_time": "2022-09-23T10:44:26.940Z"
   },
   {
    "duration": 4,
    "start_time": "2022-09-23T10:47:49.420Z"
   },
   {
    "duration": 9,
    "start_time": "2022-09-23T10:52:45.880Z"
   },
   {
    "duration": 8,
    "start_time": "2022-09-23T10:54:02.859Z"
   },
   {
    "duration": 17,
    "start_time": "2022-09-23T10:54:27.247Z"
   },
   {
    "duration": 193,
    "start_time": "2022-09-23T10:56:04.523Z"
   },
   {
    "duration": 134,
    "start_time": "2022-09-23T10:56:08.583Z"
   },
   {
    "duration": 50,
    "start_time": "2022-09-23T10:56:44.968Z"
   },
   {
    "duration": 301,
    "start_time": "2022-09-23T10:57:40.411Z"
   },
   {
    "duration": 35,
    "start_time": "2022-09-23T10:57:42.267Z"
   },
   {
    "duration": 633,
    "start_time": "2022-09-23T10:57:42.915Z"
   },
   {
    "duration": 13,
    "start_time": "2022-09-23T10:58:42.916Z"
   },
   {
    "duration": 11,
    "start_time": "2022-09-23T11:00:02.895Z"
   },
   {
    "duration": 120,
    "start_time": "2022-09-23T11:00:03.991Z"
   },
   {
    "duration": 42,
    "start_time": "2022-09-23T11:00:05.491Z"
   },
   {
    "duration": 690,
    "start_time": "2022-09-23T11:00:07.732Z"
   },
   {
    "duration": 15,
    "start_time": "2022-09-23T11:00:30.804Z"
   },
   {
    "duration": 13,
    "start_time": "2022-09-23T11:01:53.563Z"
   },
   {
    "duration": 10,
    "start_time": "2022-09-23T11:02:04.587Z"
   },
   {
    "duration": 401,
    "start_time": "2022-09-23T11:02:05.723Z"
   },
   {
    "duration": 18,
    "start_time": "2022-09-23T11:04:02.899Z"
   },
   {
    "duration": 10,
    "start_time": "2022-09-23T11:04:03.930Z"
   },
   {
    "duration": 15,
    "start_time": "2022-09-23T11:04:18.076Z"
   },
   {
    "duration": 10,
    "start_time": "2022-09-23T11:04:19.077Z"
   },
   {
    "duration": 395,
    "start_time": "2022-09-23T11:04:19.721Z"
   },
   {
    "duration": 56,
    "start_time": "2022-09-23T11:04:20.888Z"
   },
   {
    "duration": 933,
    "start_time": "2022-09-23T11:04:22.009Z"
   },
   {
    "duration": 8,
    "start_time": "2022-09-23T11:04:57.117Z"
   },
   {
    "duration": 8,
    "start_time": "2022-09-23T11:05:20.132Z"
   },
   {
    "duration": 61,
    "start_time": "2022-09-23T11:05:20.656Z"
   },
   {
    "duration": 19,
    "start_time": "2022-09-23T11:05:21.614Z"
   },
   {
    "duration": 222,
    "start_time": "2022-09-23T11:05:23.212Z"
   },
   {
    "duration": 4,
    "start_time": "2022-09-23T11:09:46.570Z"
   },
   {
    "duration": 7,
    "start_time": "2022-09-23T11:10:07.723Z"
   },
   {
    "duration": 5,
    "start_time": "2022-09-23T11:12:41.861Z"
   },
   {
    "duration": 4,
    "start_time": "2022-09-23T11:14:54.905Z"
   },
   {
    "duration": 5,
    "start_time": "2022-09-23T11:14:57.425Z"
   },
   {
    "duration": 208,
    "start_time": "2022-09-23T11:14:59.205Z"
   },
   {
    "duration": 251,
    "start_time": "2022-09-23T11:15:17.058Z"
   },
   {
    "duration": 12,
    "start_time": "2022-09-23T11:16:18.713Z"
   },
   {
    "duration": 46,
    "start_time": "2022-09-23T11:16:36.978Z"
   },
   {
    "duration": 634,
    "start_time": "2022-09-23T11:17:06.413Z"
   },
   {
    "duration": 4,
    "start_time": "2022-09-23T11:20:38.681Z"
   },
   {
    "duration": 3,
    "start_time": "2022-09-23T11:20:39.169Z"
   },
   {
    "duration": 10,
    "start_time": "2022-09-23T11:20:39.881Z"
   },
   {
    "duration": 139,
    "start_time": "2022-09-23T11:20:40.581Z"
   },
   {
    "duration": 4,
    "start_time": "2022-09-23T11:21:10.772Z"
   },
   {
    "duration": 9,
    "start_time": "2022-09-23T11:21:11.368Z"
   },
   {
    "duration": 297,
    "start_time": "2022-09-23T11:21:12.113Z"
   },
   {
    "duration": 4,
    "start_time": "2022-09-23T11:21:38.244Z"
   },
   {
    "duration": 9,
    "start_time": "2022-09-23T11:21:38.780Z"
   },
   {
    "duration": 208,
    "start_time": "2022-09-23T11:21:39.304Z"
   },
   {
    "duration": 3,
    "start_time": "2022-09-23T11:21:59.165Z"
   },
   {
    "duration": 9,
    "start_time": "2022-09-23T11:21:59.644Z"
   },
   {
    "duration": 119,
    "start_time": "2022-09-23T11:22:00.093Z"
   },
   {
    "duration": 4,
    "start_time": "2022-09-23T11:22:19.729Z"
   },
   {
    "duration": 9,
    "start_time": "2022-09-23T11:22:21.631Z"
   },
   {
    "duration": 169,
    "start_time": "2022-09-23T11:22:22.041Z"
   },
   {
    "duration": 4,
    "start_time": "2022-09-23T11:25:41.230Z"
   },
   {
    "duration": 5,
    "start_time": "2022-09-23T11:25:41.685Z"
   },
   {
    "duration": 12,
    "start_time": "2022-09-23T11:25:42.232Z"
   },
   {
    "duration": 234,
    "start_time": "2022-09-23T11:25:44.081Z"
   },
   {
    "duration": 4,
    "start_time": "2022-09-23T11:27:01.030Z"
   },
   {
    "duration": 9,
    "start_time": "2022-09-23T11:27:01.492Z"
   },
   {
    "duration": 147,
    "start_time": "2022-09-23T11:27:03.172Z"
   },
   {
    "duration": 4,
    "start_time": "2022-09-23T11:27:09.008Z"
   },
   {
    "duration": 9,
    "start_time": "2022-09-23T11:27:09.480Z"
   },
   {
    "duration": 175,
    "start_time": "2022-09-23T11:27:09.936Z"
   },
   {
    "duration": 38,
    "start_time": "2022-09-23T11:27:29.480Z"
   },
   {
    "duration": 639,
    "start_time": "2022-09-23T11:27:30.308Z"
   },
   {
    "duration": 4,
    "start_time": "2022-09-23T11:28:38.029Z"
   },
   {
    "duration": 10,
    "start_time": "2022-09-23T11:28:38.504Z"
   },
   {
    "duration": 128,
    "start_time": "2022-09-23T11:28:38.884Z"
   },
   {
    "duration": 4,
    "start_time": "2022-09-23T11:28:54.990Z"
   },
   {
    "duration": 8,
    "start_time": "2022-09-23T11:28:55.902Z"
   },
   {
    "duration": 90,
    "start_time": "2022-09-23T11:28:56.332Z"
   },
   {
    "duration": 1096,
    "start_time": "2022-09-23T11:29:38.032Z"
   },
   {
    "duration": 41,
    "start_time": "2022-09-23T11:29:39.130Z"
   },
   {
    "duration": 18,
    "start_time": "2022-09-23T11:29:39.173Z"
   },
   {
    "duration": 13,
    "start_time": "2022-09-23T11:29:39.193Z"
   },
   {
    "duration": 34,
    "start_time": "2022-09-23T11:29:39.208Z"
   },
   {
    "duration": 15,
    "start_time": "2022-09-23T11:29:39.244Z"
   },
   {
    "duration": 12,
    "start_time": "2022-09-23T11:29:39.261Z"
   },
   {
    "duration": 8,
    "start_time": "2022-09-23T11:29:39.274Z"
   },
   {
    "duration": 27,
    "start_time": "2022-09-23T11:29:39.283Z"
   },
   {
    "duration": 6,
    "start_time": "2022-09-23T11:29:39.311Z"
   },
   {
    "duration": 6,
    "start_time": "2022-09-23T11:29:39.319Z"
   },
   {
    "duration": 7,
    "start_time": "2022-09-23T11:29:39.326Z"
   },
   {
    "duration": 6,
    "start_time": "2022-09-23T11:29:39.334Z"
   },
   {
    "duration": 15,
    "start_time": "2022-09-23T11:29:39.344Z"
   },
   {
    "duration": 9,
    "start_time": "2022-09-23T11:29:39.361Z"
   },
   {
    "duration": 7,
    "start_time": "2022-09-23T11:29:39.372Z"
   },
   {
    "duration": 32,
    "start_time": "2022-09-23T11:29:39.380Z"
   },
   {
    "duration": 6,
    "start_time": "2022-09-23T11:29:39.413Z"
   },
   {
    "duration": 8,
    "start_time": "2022-09-23T11:29:39.420Z"
   },
   {
    "duration": 7,
    "start_time": "2022-09-23T11:29:39.429Z"
   },
   {
    "duration": 8,
    "start_time": "2022-09-23T11:29:39.437Z"
   },
   {
    "duration": 5,
    "start_time": "2022-09-23T11:29:39.446Z"
   },
   {
    "duration": 11,
    "start_time": "2022-09-23T11:29:39.452Z"
   },
   {
    "duration": 11,
    "start_time": "2022-09-23T11:29:39.464Z"
   },
   {
    "duration": 16,
    "start_time": "2022-09-23T11:29:39.509Z"
   },
   {
    "duration": 28,
    "start_time": "2022-09-23T11:29:39.527Z"
   },
   {
    "duration": 23,
    "start_time": "2022-09-23T11:29:39.557Z"
   },
   {
    "duration": 29,
    "start_time": "2022-09-23T11:29:39.581Z"
   },
   {
    "duration": 5,
    "start_time": "2022-09-23T11:29:39.612Z"
   },
   {
    "duration": 6,
    "start_time": "2022-09-23T11:29:39.618Z"
   },
   {
    "duration": 193,
    "start_time": "2022-09-23T11:29:39.626Z"
   },
   {
    "duration": 212,
    "start_time": "2022-09-23T11:29:39.821Z"
   },
   {
    "duration": 670,
    "start_time": "2022-09-23T11:29:40.035Z"
   },
   {
    "duration": 16,
    "start_time": "2022-09-23T11:29:40.706Z"
   },
   {
    "duration": 9,
    "start_time": "2022-09-23T11:29:40.724Z"
   },
   {
    "duration": 279,
    "start_time": "2022-09-23T11:29:40.734Z"
   },
   {
    "duration": 143,
    "start_time": "2022-09-23T11:29:41.015Z"
   },
   {
    "duration": 959,
    "start_time": "2022-09-23T11:29:41.159Z"
   },
   {
    "duration": 9,
    "start_time": "2022-09-23T11:29:42.120Z"
   },
   {
    "duration": 16,
    "start_time": "2022-09-23T11:29:42.131Z"
   },
   {
    "duration": 165,
    "start_time": "2022-09-23T11:29:42.152Z"
   },
   {
    "duration": 109,
    "start_time": "2022-09-23T11:29:42.322Z"
   },
   {
    "duration": 289,
    "start_time": "2022-09-23T11:29:42.433Z"
   },
   {
    "duration": 185,
    "start_time": "2022-09-23T11:29:42.725Z"
   },
   {
    "duration": 117,
    "start_time": "2022-09-23T11:29:42.912Z"
   },
   {
    "duration": 268,
    "start_time": "2022-09-23T11:29:43.031Z"
   },
   {
    "duration": 4,
    "start_time": "2022-09-23T11:32:23.287Z"
   },
   {
    "duration": 4,
    "start_time": "2022-09-23T11:32:23.712Z"
   },
   {
    "duration": 181,
    "start_time": "2022-09-23T11:32:24.129Z"
   },
   {
    "duration": 30,
    "start_time": "2022-09-23T11:32:25.391Z"
   },
   {
    "duration": 461,
    "start_time": "2022-09-23T11:32:28.048Z"
   },
   {
    "duration": 70,
    "start_time": "2022-09-23T11:37:30.807Z"
   },
   {
    "duration": 51,
    "start_time": "2022-09-23T11:37:41.686Z"
   },
   {
    "duration": 4,
    "start_time": "2022-09-23T11:38:35.861Z"
   },
   {
    "duration": 7,
    "start_time": "2022-09-23T11:38:47.354Z"
   },
   {
    "duration": 115,
    "start_time": "2022-09-23T11:38:48.975Z"
   },
   {
    "duration": 5,
    "start_time": "2022-09-23T11:39:16.857Z"
   },
   {
    "duration": 5,
    "start_time": "2022-09-23T11:39:17.439Z"
   },
   {
    "duration": 1519,
    "start_time": "2022-09-23T11:39:19.493Z"
   },
   {
    "duration": 25,
    "start_time": "2022-09-23T11:39:57.163Z"
   },
   {
    "duration": 23,
    "start_time": "2022-09-23T11:40:17.607Z"
   },
   {
    "duration": 5,
    "start_time": "2022-09-23T11:40:59.375Z"
   },
   {
    "duration": 7,
    "start_time": "2022-09-23T11:41:24.859Z"
   },
   {
    "duration": 6,
    "start_time": "2022-09-23T11:41:25.312Z"
   },
   {
    "duration": 27,
    "start_time": "2022-09-23T11:41:31.343Z"
   },
   {
    "duration": 63,
    "start_time": "2022-09-23T11:42:36.707Z"
   },
   {
    "duration": 5,
    "start_time": "2022-09-23T11:42:47.075Z"
   },
   {
    "duration": 5,
    "start_time": "2022-09-23T11:42:47.843Z"
   },
   {
    "duration": 4,
    "start_time": "2022-09-23T11:43:44.607Z"
   },
   {
    "duration": 4,
    "start_time": "2022-09-23T11:43:46.603Z"
   },
   {
    "duration": 25,
    "start_time": "2022-09-23T11:43:49.231Z"
   },
   {
    "duration": 5,
    "start_time": "2022-09-23T11:44:32.920Z"
   },
   {
    "duration": 4,
    "start_time": "2022-09-23T11:44:33.521Z"
   },
   {
    "duration": 24,
    "start_time": "2022-09-23T11:44:34.199Z"
   },
   {
    "duration": 26,
    "start_time": "2022-09-23T11:44:50.063Z"
   },
   {
    "duration": 6,
    "start_time": "2022-09-23T11:44:53.883Z"
   },
   {
    "duration": 5,
    "start_time": "2022-09-23T11:44:54.927Z"
   },
   {
    "duration": 38,
    "start_time": "2022-09-23T11:44:56.027Z"
   },
   {
    "duration": 5,
    "start_time": "2022-09-23T11:46:14.795Z"
   },
   {
    "duration": 4,
    "start_time": "2022-09-23T11:46:15.401Z"
   },
   {
    "duration": 29,
    "start_time": "2022-09-23T11:46:16.215Z"
   },
   {
    "duration": 7,
    "start_time": "2022-09-23T11:47:32.843Z"
   },
   {
    "duration": 4,
    "start_time": "2022-09-23T11:47:33.361Z"
   },
   {
    "duration": 24,
    "start_time": "2022-09-23T11:47:33.902Z"
   },
   {
    "duration": 5,
    "start_time": "2022-09-23T11:49:10.815Z"
   },
   {
    "duration": 4,
    "start_time": "2022-09-23T11:49:11.316Z"
   },
   {
    "duration": 34,
    "start_time": "2022-09-23T11:49:11.888Z"
   },
   {
    "duration": 7,
    "start_time": "2022-09-23T11:51:04.836Z"
   },
   {
    "duration": 5,
    "start_time": "2022-09-23T11:51:05.301Z"
   },
   {
    "duration": 24,
    "start_time": "2022-09-23T11:51:05.799Z"
   },
   {
    "duration": 5,
    "start_time": "2022-09-23T11:52:13.542Z"
   },
   {
    "duration": 5,
    "start_time": "2022-09-23T11:52:14.310Z"
   },
   {
    "duration": 24,
    "start_time": "2022-09-23T11:52:15.678Z"
   },
   {
    "duration": 1049,
    "start_time": "2022-09-23T11:52:40.964Z"
   },
   {
    "duration": 41,
    "start_time": "2022-09-23T11:52:42.015Z"
   },
   {
    "duration": 19,
    "start_time": "2022-09-23T11:52:42.058Z"
   },
   {
    "duration": 23,
    "start_time": "2022-09-23T11:52:42.079Z"
   },
   {
    "duration": 44,
    "start_time": "2022-09-23T11:52:42.105Z"
   },
   {
    "duration": 18,
    "start_time": "2022-09-23T11:52:42.152Z"
   },
   {
    "duration": 13,
    "start_time": "2022-09-23T11:52:42.172Z"
   },
   {
    "duration": 18,
    "start_time": "2022-09-23T11:52:42.187Z"
   },
   {
    "duration": 22,
    "start_time": "2022-09-23T11:52:42.206Z"
   },
   {
    "duration": 31,
    "start_time": "2022-09-23T11:52:42.229Z"
   },
   {
    "duration": 17,
    "start_time": "2022-09-23T11:52:42.261Z"
   },
   {
    "duration": 22,
    "start_time": "2022-09-23T11:52:42.280Z"
   },
   {
    "duration": 26,
    "start_time": "2022-09-23T11:52:42.304Z"
   },
   {
    "duration": 42,
    "start_time": "2022-09-23T11:52:42.333Z"
   },
   {
    "duration": 28,
    "start_time": "2022-09-23T11:52:42.377Z"
   },
   {
    "duration": 29,
    "start_time": "2022-09-23T11:52:42.406Z"
   },
   {
    "duration": 28,
    "start_time": "2022-09-23T11:52:42.437Z"
   },
   {
    "duration": 17,
    "start_time": "2022-09-23T11:52:42.467Z"
   },
   {
    "duration": 37,
    "start_time": "2022-09-23T11:52:42.485Z"
   },
   {
    "duration": 23,
    "start_time": "2022-09-23T11:52:42.525Z"
   },
   {
    "duration": 24,
    "start_time": "2022-09-23T11:52:42.550Z"
   },
   {
    "duration": 24,
    "start_time": "2022-09-23T11:52:42.576Z"
   },
   {
    "duration": 33,
    "start_time": "2022-09-23T11:52:42.603Z"
   },
   {
    "duration": 36,
    "start_time": "2022-09-23T11:52:42.638Z"
   },
   {
    "duration": 53,
    "start_time": "2022-09-23T11:52:42.677Z"
   },
   {
    "duration": 21,
    "start_time": "2022-09-23T11:52:42.733Z"
   },
   {
    "duration": 40,
    "start_time": "2022-09-23T11:52:42.756Z"
   },
   {
    "duration": 14,
    "start_time": "2022-09-23T11:52:42.797Z"
   },
   {
    "duration": 22,
    "start_time": "2022-09-23T11:52:42.812Z"
   },
   {
    "duration": 31,
    "start_time": "2022-09-23T11:52:42.836Z"
   },
   {
    "duration": 170,
    "start_time": "2022-09-23T11:52:42.868Z"
   },
   {
    "duration": 0,
    "start_time": "2022-09-23T11:52:43.039Z"
   },
   {
    "duration": 0,
    "start_time": "2022-09-23T11:52:43.040Z"
   },
   {
    "duration": 0,
    "start_time": "2022-09-23T11:52:43.041Z"
   },
   {
    "duration": 0,
    "start_time": "2022-09-23T11:52:43.042Z"
   },
   {
    "duration": 0,
    "start_time": "2022-09-23T11:52:43.043Z"
   },
   {
    "duration": 0,
    "start_time": "2022-09-23T11:52:43.044Z"
   },
   {
    "duration": 0,
    "start_time": "2022-09-23T11:52:43.045Z"
   },
   {
    "duration": 0,
    "start_time": "2022-09-23T11:52:43.047Z"
   },
   {
    "duration": 0,
    "start_time": "2022-09-23T11:52:43.048Z"
   },
   {
    "duration": 0,
    "start_time": "2022-09-23T11:52:43.048Z"
   },
   {
    "duration": 0,
    "start_time": "2022-09-23T11:52:43.049Z"
   },
   {
    "duration": 0,
    "start_time": "2022-09-23T11:52:43.051Z"
   },
   {
    "duration": 0,
    "start_time": "2022-09-23T11:52:43.052Z"
   },
   {
    "duration": 0,
    "start_time": "2022-09-23T11:52:43.053Z"
   },
   {
    "duration": 0,
    "start_time": "2022-09-23T11:52:43.053Z"
   },
   {
    "duration": 6,
    "start_time": "2022-09-23T11:53:54.770Z"
   },
   {
    "duration": 4,
    "start_time": "2022-09-23T11:53:55.223Z"
   },
   {
    "duration": 158,
    "start_time": "2022-09-23T11:53:55.651Z"
   },
   {
    "duration": 309,
    "start_time": "2022-09-23T11:54:21.507Z"
   },
   {
    "duration": 5,
    "start_time": "2022-09-23T11:54:45.178Z"
   },
   {
    "duration": 4,
    "start_time": "2022-09-23T11:54:45.699Z"
   },
   {
    "duration": 99,
    "start_time": "2022-09-23T11:54:46.218Z"
   },
   {
    "duration": 163,
    "start_time": "2022-09-23T11:54:54.347Z"
   },
   {
    "duration": 34,
    "start_time": "2022-09-23T11:55:32.544Z"
   },
   {
    "duration": 473,
    "start_time": "2022-09-23T11:55:34.666Z"
   },
   {
    "duration": 34,
    "start_time": "2022-09-23T11:55:43.435Z"
   },
   {
    "duration": 5,
    "start_time": "2022-09-23T11:56:40.594Z"
   },
   {
    "duration": 4,
    "start_time": "2022-09-23T11:56:41.315Z"
   },
   {
    "duration": 198,
    "start_time": "2022-09-23T11:56:42.010Z"
   },
   {
    "duration": 167,
    "start_time": "2022-09-23T11:56:56.150Z"
   },
   {
    "duration": 21,
    "start_time": "2022-09-23T11:57:47.933Z"
   },
   {
    "duration": 13,
    "start_time": "2022-09-23T11:57:48.346Z"
   },
   {
    "duration": 303,
    "start_time": "2022-09-23T11:57:49.115Z"
   },
   {
    "duration": 159,
    "start_time": "2022-09-23T11:58:30.255Z"
   },
   {
    "duration": 155,
    "start_time": "2022-09-23T11:58:45.162Z"
   },
   {
    "duration": 200,
    "start_time": "2022-09-23T11:59:13.014Z"
   },
   {
    "duration": 155,
    "start_time": "2022-09-23T11:59:53.962Z"
   },
   {
    "duration": 174,
    "start_time": "2022-09-23T11:59:56.138Z"
   },
   {
    "duration": 5,
    "start_time": "2022-09-23T12:00:40.058Z"
   },
   {
    "duration": 4,
    "start_time": "2022-09-23T12:00:40.534Z"
   },
   {
    "duration": 298,
    "start_time": "2022-09-23T12:00:41.118Z"
   },
   {
    "duration": 32,
    "start_time": "2022-09-23T12:00:42.422Z"
   },
   {
    "duration": 548,
    "start_time": "2022-09-23T12:00:43.156Z"
   },
   {
    "duration": 300,
    "start_time": "2022-09-23T12:00:55.410Z"
   },
   {
    "duration": 429,
    "start_time": "2022-09-23T12:01:03.082Z"
   },
   {
    "duration": 15,
    "start_time": "2022-09-23T12:01:09.270Z"
   },
   {
    "duration": 10,
    "start_time": "2022-09-23T12:01:09.886Z"
   },
   {
    "duration": 35,
    "start_time": "2022-09-23T12:01:10.491Z"
   },
   {
    "duration": 203,
    "start_time": "2022-09-23T12:01:20.907Z"
   },
   {
    "duration": 145,
    "start_time": "2022-09-23T12:01:32.975Z"
   },
   {
    "duration": 124,
    "start_time": "2022-09-23T12:01:41.184Z"
   },
   {
    "duration": 5,
    "start_time": "2022-09-23T12:02:26.669Z"
   },
   {
    "duration": 93,
    "start_time": "2022-09-23T12:02:27.238Z"
   },
   {
    "duration": 184,
    "start_time": "2022-09-23T12:02:27.725Z"
   },
   {
    "duration": 4,
    "start_time": "2022-09-23T12:02:59.574Z"
   },
   {
    "duration": 151,
    "start_time": "2022-09-23T12:03:00.070Z"
   },
   {
    "duration": 33,
    "start_time": "2022-09-23T12:03:03.786Z"
   },
   {
    "duration": 638,
    "start_time": "2022-09-23T12:03:04.842Z"
   },
   {
    "duration": 18,
    "start_time": "2022-09-23T12:03:09.150Z"
   },
   {
    "duration": 13,
    "start_time": "2022-09-23T12:03:09.670Z"
   },
   {
    "duration": 432,
    "start_time": "2022-09-23T12:03:13.478Z"
   },
   {
    "duration": 11,
    "start_time": "2022-09-23T12:03:37.902Z"
   },
   {
    "duration": 59,
    "start_time": "2022-09-23T12:03:38.362Z"
   },
   {
    "duration": 744,
    "start_time": "2022-09-23T12:03:39.978Z"
   },
   {
    "duration": 3,
    "start_time": "2022-09-23T12:04:56.002Z"
   },
   {
    "duration": 1208,
    "start_time": "2022-09-23T12:05:11.306Z"
   },
   {
    "duration": 129,
    "start_time": "2022-09-23T12:05:31.390Z"
   },
   {
    "duration": 31,
    "start_time": "2022-09-23T12:05:33.654Z"
   },
   {
    "duration": 541,
    "start_time": "2022-09-23T12:05:35.285Z"
   },
   {
    "duration": 39,
    "start_time": "2022-09-23T12:06:05.649Z"
   },
   {
    "duration": 736,
    "start_time": "2022-09-23T12:06:07.273Z"
   },
   {
    "duration": 8,
    "start_time": "2022-09-23T12:06:56.942Z"
   },
   {
    "duration": 25,
    "start_time": "2022-09-23T12:06:58.214Z"
   },
   {
    "duration": 29,
    "start_time": "2022-09-23T12:06:59.274Z"
   },
   {
    "duration": 263,
    "start_time": "2022-09-23T12:07:00.002Z"
   },
   {
    "duration": 788,
    "start_time": "2022-09-23T12:08:01.757Z"
   },
   {
    "duration": 2309,
    "start_time": "2022-09-23T12:08:03.613Z"
   },
   {
    "duration": 45,
    "start_time": "2022-09-23T12:08:07.497Z"
   },
   {
    "duration": 129,
    "start_time": "2022-09-23T12:15:03.801Z"
   },
   {
    "duration": 34,
    "start_time": "2022-09-23T12:15:04.753Z"
   },
   {
    "duration": 540,
    "start_time": "2022-09-23T12:15:05.845Z"
   },
   {
    "duration": 4,
    "start_time": "2022-09-23T12:33:13.108Z"
   },
   {
    "duration": 18,
    "start_time": "2022-09-23T12:33:26.968Z"
   },
   {
    "duration": 2,
    "start_time": "2022-09-23T12:34:00.628Z"
   },
   {
    "duration": 14,
    "start_time": "2022-09-23T12:34:01.567Z"
   },
   {
    "duration": 279,
    "start_time": "2022-09-23T12:34:02.536Z"
   },
   {
    "duration": 44,
    "start_time": "2022-09-23T12:34:03.627Z"
   },
   {
    "duration": 726,
    "start_time": "2022-09-23T12:34:05.903Z"
   },
   {
    "duration": 8,
    "start_time": "2022-09-23T12:34:16.079Z"
   },
   {
    "duration": 8,
    "start_time": "2022-09-23T12:34:23.708Z"
   },
   {
    "duration": 23,
    "start_time": "2022-09-23T12:34:24.387Z"
   },
   {
    "duration": 21,
    "start_time": "2022-09-23T12:34:25.279Z"
   },
   {
    "duration": 195,
    "start_time": "2022-09-23T12:34:27.239Z"
   },
   {
    "duration": 1214,
    "start_time": "2022-09-23T12:39:30.576Z"
   },
   {
    "duration": 42,
    "start_time": "2022-09-23T12:39:31.792Z"
   },
   {
    "duration": 26,
    "start_time": "2022-09-23T12:39:31.835Z"
   },
   {
    "duration": 37,
    "start_time": "2022-09-23T12:39:31.864Z"
   },
   {
    "duration": 64,
    "start_time": "2022-09-23T12:39:31.903Z"
   },
   {
    "duration": 17,
    "start_time": "2022-09-23T12:39:31.969Z"
   },
   {
    "duration": 29,
    "start_time": "2022-09-23T12:39:31.989Z"
   },
   {
    "duration": 39,
    "start_time": "2022-09-23T12:39:32.020Z"
   },
   {
    "duration": 27,
    "start_time": "2022-09-23T12:39:32.061Z"
   },
   {
    "duration": 37,
    "start_time": "2022-09-23T12:39:32.091Z"
   },
   {
    "duration": 35,
    "start_time": "2022-09-23T12:39:32.130Z"
   },
   {
    "duration": 30,
    "start_time": "2022-09-23T12:39:32.167Z"
   },
   {
    "duration": 42,
    "start_time": "2022-09-23T12:39:32.199Z"
   },
   {
    "duration": 32,
    "start_time": "2022-09-23T12:39:32.242Z"
   },
   {
    "duration": 41,
    "start_time": "2022-09-23T12:39:32.276Z"
   },
   {
    "duration": 27,
    "start_time": "2022-09-23T12:39:32.319Z"
   },
   {
    "duration": 62,
    "start_time": "2022-09-23T12:39:32.348Z"
   },
   {
    "duration": 39,
    "start_time": "2022-09-23T12:39:32.412Z"
   },
   {
    "duration": 39,
    "start_time": "2022-09-23T12:39:32.453Z"
   },
   {
    "duration": 38,
    "start_time": "2022-09-23T12:39:32.493Z"
   },
   {
    "duration": 37,
    "start_time": "2022-09-23T12:39:32.534Z"
   },
   {
    "duration": 38,
    "start_time": "2022-09-23T12:39:32.573Z"
   },
   {
    "duration": 53,
    "start_time": "2022-09-23T12:39:32.613Z"
   },
   {
    "duration": 47,
    "start_time": "2022-09-23T12:39:32.669Z"
   },
   {
    "duration": 51,
    "start_time": "2022-09-23T12:39:32.718Z"
   },
   {
    "duration": 58,
    "start_time": "2022-09-23T12:39:32.771Z"
   },
   {
    "duration": 53,
    "start_time": "2022-09-23T12:39:32.831Z"
   },
   {
    "duration": 21,
    "start_time": "2022-09-23T12:39:32.887Z"
   },
   {
    "duration": 32,
    "start_time": "2022-09-23T12:39:32.909Z"
   },
   {
    "duration": 27,
    "start_time": "2022-09-23T12:39:32.943Z"
   },
   {
    "duration": 65,
    "start_time": "2022-09-23T12:39:32.972Z"
   },
   {
    "duration": 369,
    "start_time": "2022-09-23T12:39:33.040Z"
   },
   {
    "duration": 116,
    "start_time": "2022-09-23T12:39:33.411Z"
   },
   {
    "duration": 543,
    "start_time": "2022-09-23T12:39:33.529Z"
   },
   {
    "duration": 3,
    "start_time": "2022-09-23T12:39:34.074Z"
   },
   {
    "duration": 53,
    "start_time": "2022-09-23T12:39:34.079Z"
   },
   {
    "duration": 188,
    "start_time": "2022-09-23T12:39:34.133Z"
   },
   {
    "duration": 219,
    "start_time": "2022-09-23T12:39:34.323Z"
   },
   {
    "duration": 741,
    "start_time": "2022-09-23T12:39:34.544Z"
   },
   {
    "duration": 12,
    "start_time": "2022-09-23T12:39:35.287Z"
   },
   {
    "duration": 60,
    "start_time": "2022-09-23T12:39:35.301Z"
   },
   {
    "duration": 38,
    "start_time": "2022-09-23T12:39:35.363Z"
   },
   {
    "duration": 206,
    "start_time": "2022-09-23T12:39:35.403Z"
   },
   {
    "duration": 9,
    "start_time": "2022-09-23T12:39:35.611Z"
   },
   {
    "duration": 158446,
    "start_time": "2022-09-23T12:39:35.622Z"
   },
   {
    "duration": 28,
    "start_time": "2022-09-23T12:42:14.069Z"
   },
   {
    "duration": 2120,
    "start_time": "2022-09-23T12:42:58.514Z"
   },
   {
    "duration": 25,
    "start_time": "2022-09-23T12:43:29.848Z"
   },
   {
    "duration": 15,
    "start_time": "2022-09-23T12:43:39.987Z"
   },
   {
    "duration": 2823,
    "start_time": "2022-09-23T12:43:41.080Z"
   },
   {
    "duration": 37,
    "start_time": "2022-09-23T12:43:49.500Z"
   },
   {
    "duration": 165,
    "start_time": "2022-09-23T12:43:53.794Z"
   },
   {
    "duration": 5,
    "start_time": "2022-09-23T12:45:40.813Z"
   },
   {
    "duration": 38,
    "start_time": "2022-09-23T12:45:45.797Z"
   },
   {
    "duration": 610,
    "start_time": "2022-09-23T12:46:37.471Z"
   },
   {
    "duration": 70,
    "start_time": "2022-09-23T12:46:43.482Z"
   },
   {
    "duration": 218,
    "start_time": "2022-09-23T12:47:03.757Z"
   },
   {
    "duration": 13,
    "start_time": "2022-09-23T12:51:40.643Z"
   },
   {
    "duration": 6678,
    "start_time": "2022-09-23T12:51:43.363Z"
   },
   {
    "duration": 61,
    "start_time": "2022-09-23T12:51:55.431Z"
   },
   {
    "duration": 220,
    "start_time": "2022-09-23T12:51:56.867Z"
   },
   {
    "duration": 1381,
    "start_time": "2022-09-23T12:59:08.363Z"
   },
   {
    "duration": 43,
    "start_time": "2022-09-23T12:59:09.747Z"
   },
   {
    "duration": 21,
    "start_time": "2022-09-23T12:59:09.791Z"
   },
   {
    "duration": 16,
    "start_time": "2022-09-23T12:59:09.814Z"
   },
   {
    "duration": 48,
    "start_time": "2022-09-23T12:59:09.832Z"
   },
   {
    "duration": 36,
    "start_time": "2022-09-23T12:59:09.882Z"
   },
   {
    "duration": 16,
    "start_time": "2022-09-23T12:59:09.920Z"
   },
   {
    "duration": 8,
    "start_time": "2022-09-23T12:59:09.937Z"
   },
   {
    "duration": 8,
    "start_time": "2022-09-23T12:59:09.946Z"
   },
   {
    "duration": 6,
    "start_time": "2022-09-23T12:59:09.957Z"
   },
   {
    "duration": 6,
    "start_time": "2022-09-23T12:59:09.964Z"
   },
   {
    "duration": 7,
    "start_time": "2022-09-23T12:59:09.972Z"
   },
   {
    "duration": 32,
    "start_time": "2022-09-23T12:59:09.981Z"
   },
   {
    "duration": 17,
    "start_time": "2022-09-23T12:59:10.015Z"
   },
   {
    "duration": 7,
    "start_time": "2022-09-23T12:59:10.034Z"
   },
   {
    "duration": 9,
    "start_time": "2022-09-23T12:59:10.042Z"
   },
   {
    "duration": 12,
    "start_time": "2022-09-23T12:59:10.052Z"
   },
   {
    "duration": 8,
    "start_time": "2022-09-23T12:59:10.066Z"
   },
   {
    "duration": 10,
    "start_time": "2022-09-23T12:59:10.075Z"
   },
   {
    "duration": 7,
    "start_time": "2022-09-23T12:59:10.086Z"
   },
   {
    "duration": 20,
    "start_time": "2022-09-23T12:59:10.094Z"
   },
   {
    "duration": 5,
    "start_time": "2022-09-23T12:59:10.115Z"
   },
   {
    "duration": 9,
    "start_time": "2022-09-23T12:59:10.121Z"
   },
   {
    "duration": 10,
    "start_time": "2022-09-23T12:59:10.132Z"
   },
   {
    "duration": 17,
    "start_time": "2022-09-23T12:59:10.144Z"
   },
   {
    "duration": 47,
    "start_time": "2022-09-23T12:59:10.163Z"
   },
   {
    "duration": 22,
    "start_time": "2022-09-23T12:59:10.211Z"
   },
   {
    "duration": 5,
    "start_time": "2022-09-23T12:59:10.236Z"
   },
   {
    "duration": 10,
    "start_time": "2022-09-23T12:59:10.242Z"
   },
   {
    "duration": 13,
    "start_time": "2022-09-23T12:59:10.253Z"
   },
   {
    "duration": 11,
    "start_time": "2022-09-23T12:59:10.267Z"
   },
   {
    "duration": 634,
    "start_time": "2022-09-23T12:59:10.280Z"
   },
   {
    "duration": 145,
    "start_time": "2022-09-23T12:59:10.916Z"
   },
   {
    "duration": 993,
    "start_time": "2022-09-23T12:59:11.063Z"
   },
   {
    "duration": 4,
    "start_time": "2022-09-23T12:59:12.057Z"
   },
   {
    "duration": 16,
    "start_time": "2022-09-23T12:59:12.062Z"
   },
   {
    "duration": 428,
    "start_time": "2022-09-23T12:59:12.080Z"
   },
   {
    "duration": 176,
    "start_time": "2022-09-23T12:59:12.510Z"
   },
   {
    "duration": 1368,
    "start_time": "2022-09-23T12:59:12.688Z"
   },
   {
    "duration": 7,
    "start_time": "2022-09-23T12:59:14.057Z"
   },
   {
    "duration": 150,
    "start_time": "2022-09-23T12:59:14.066Z"
   },
   {
    "duration": 115,
    "start_time": "2022-09-23T12:59:14.217Z"
   },
   {
    "duration": 288,
    "start_time": "2022-09-23T12:59:14.334Z"
   },
   {
    "duration": 10,
    "start_time": "2022-09-23T12:59:14.624Z"
   },
   {
    "duration": 8954,
    "start_time": "2022-09-23T12:59:14.636Z"
   },
   {
    "duration": 42,
    "start_time": "2022-09-23T12:59:23.592Z"
   },
   {
    "duration": 225,
    "start_time": "2022-09-23T12:59:23.637Z"
   },
   {
    "duration": 1462,
    "start_time": "2022-09-23T13:05:32.382Z"
   },
   {
    "duration": 43,
    "start_time": "2022-09-23T13:05:33.845Z"
   },
   {
    "duration": 17,
    "start_time": "2022-09-23T13:05:33.889Z"
   },
   {
    "duration": 32,
    "start_time": "2022-09-23T13:05:33.908Z"
   },
   {
    "duration": 61,
    "start_time": "2022-09-23T13:05:33.942Z"
   },
   {
    "duration": 18,
    "start_time": "2022-09-23T13:05:34.005Z"
   },
   {
    "duration": 20,
    "start_time": "2022-09-23T13:05:34.025Z"
   },
   {
    "duration": 25,
    "start_time": "2022-09-23T13:05:34.046Z"
   },
   {
    "duration": 25,
    "start_time": "2022-09-23T13:05:34.073Z"
   },
   {
    "duration": 29,
    "start_time": "2022-09-23T13:05:34.101Z"
   },
   {
    "duration": 39,
    "start_time": "2022-09-23T13:05:34.132Z"
   },
   {
    "duration": 18,
    "start_time": "2022-09-23T13:05:34.173Z"
   },
   {
    "duration": 21,
    "start_time": "2022-09-23T13:05:34.192Z"
   },
   {
    "duration": 19,
    "start_time": "2022-09-23T13:05:34.215Z"
   },
   {
    "duration": 13,
    "start_time": "2022-09-23T13:05:34.235Z"
   },
   {
    "duration": 23,
    "start_time": "2022-09-23T13:05:34.249Z"
   },
   {
    "duration": 17,
    "start_time": "2022-09-23T13:05:34.274Z"
   },
   {
    "duration": 16,
    "start_time": "2022-09-23T13:05:34.293Z"
   },
   {
    "duration": 23,
    "start_time": "2022-09-23T13:05:34.310Z"
   },
   {
    "duration": 24,
    "start_time": "2022-09-23T13:05:34.334Z"
   },
   {
    "duration": 21,
    "start_time": "2022-09-23T13:05:34.360Z"
   },
   {
    "duration": 28,
    "start_time": "2022-09-23T13:05:34.382Z"
   },
   {
    "duration": 28,
    "start_time": "2022-09-23T13:05:34.412Z"
   },
   {
    "duration": 19,
    "start_time": "2022-09-23T13:05:34.442Z"
   },
   {
    "duration": 38,
    "start_time": "2022-09-23T13:05:34.462Z"
   },
   {
    "duration": 22,
    "start_time": "2022-09-23T13:05:34.502Z"
   },
   {
    "duration": 32,
    "start_time": "2022-09-23T13:05:34.526Z"
   },
   {
    "duration": 5,
    "start_time": "2022-09-23T13:05:34.562Z"
   },
   {
    "duration": 15,
    "start_time": "2022-09-23T13:05:34.569Z"
   },
   {
    "duration": 23,
    "start_time": "2022-09-23T13:05:34.586Z"
   },
   {
    "duration": 27,
    "start_time": "2022-09-23T13:05:34.611Z"
   },
   {
    "duration": 179,
    "start_time": "2022-09-23T13:05:34.640Z"
   },
   {
    "duration": 147,
    "start_time": "2022-09-23T13:05:34.909Z"
   },
   {
    "duration": 971,
    "start_time": "2022-09-23T13:05:35.057Z"
   },
   {
    "duration": 3,
    "start_time": "2022-09-23T13:05:36.030Z"
   },
   {
    "duration": 28,
    "start_time": "2022-09-23T13:05:36.034Z"
   },
   {
    "duration": 346,
    "start_time": "2022-09-23T13:05:36.063Z"
   },
   {
    "duration": 179,
    "start_time": "2022-09-23T13:05:36.411Z"
   },
   {
    "duration": 1342,
    "start_time": "2022-09-23T13:05:36.592Z"
   },
   {
    "duration": 7,
    "start_time": "2022-09-23T13:05:37.936Z"
   },
   {
    "duration": 78,
    "start_time": "2022-09-23T13:05:37.944Z"
   },
   {
    "duration": 114,
    "start_time": "2022-09-23T13:05:38.108Z"
   },
   {
    "duration": 289,
    "start_time": "2022-09-23T13:05:38.223Z"
   },
   {
    "duration": 189,
    "start_time": "2022-09-23T13:05:38.513Z"
   },
   {
    "duration": 11,
    "start_time": "2022-09-23T13:05:38.704Z"
   },
   {
    "duration": 0,
    "start_time": "2022-09-23T13:05:38.716Z"
   },
   {
    "duration": 84,
    "start_time": "2022-09-23T13:07:56.804Z"
   },
   {
    "duration": 1381,
    "start_time": "2022-09-23T13:08:09.704Z"
   },
   {
    "duration": 41,
    "start_time": "2022-09-23T13:08:11.086Z"
   },
   {
    "duration": 16,
    "start_time": "2022-09-23T13:08:11.130Z"
   },
   {
    "duration": 11,
    "start_time": "2022-09-23T13:08:11.148Z"
   },
   {
    "duration": 57,
    "start_time": "2022-09-23T13:08:11.161Z"
   },
   {
    "duration": 16,
    "start_time": "2022-09-23T13:08:11.220Z"
   },
   {
    "duration": 15,
    "start_time": "2022-09-23T13:08:11.238Z"
   },
   {
    "duration": 13,
    "start_time": "2022-09-23T13:08:11.255Z"
   },
   {
    "duration": 5,
    "start_time": "2022-09-23T13:08:11.271Z"
   },
   {
    "duration": 31,
    "start_time": "2022-09-23T13:08:11.279Z"
   },
   {
    "duration": 5,
    "start_time": "2022-09-23T13:08:11.312Z"
   },
   {
    "duration": 11,
    "start_time": "2022-09-23T13:08:11.319Z"
   },
   {
    "duration": 13,
    "start_time": "2022-09-23T13:08:11.332Z"
   },
   {
    "duration": 7,
    "start_time": "2022-09-23T13:08:11.347Z"
   },
   {
    "duration": 11,
    "start_time": "2022-09-23T13:08:11.355Z"
   },
   {
    "duration": 10,
    "start_time": "2022-09-23T13:08:11.367Z"
   },
   {
    "duration": 10,
    "start_time": "2022-09-23T13:08:11.378Z"
   },
   {
    "duration": 21,
    "start_time": "2022-09-23T13:08:11.389Z"
   },
   {
    "duration": 7,
    "start_time": "2022-09-23T13:08:11.412Z"
   },
   {
    "duration": 25,
    "start_time": "2022-09-23T13:08:11.420Z"
   },
   {
    "duration": 6,
    "start_time": "2022-09-23T13:08:11.447Z"
   },
   {
    "duration": 7,
    "start_time": "2022-09-23T13:08:11.455Z"
   },
   {
    "duration": 8,
    "start_time": "2022-09-23T13:08:11.463Z"
   },
   {
    "duration": 11,
    "start_time": "2022-09-23T13:08:11.472Z"
   },
   {
    "duration": 32,
    "start_time": "2022-09-23T13:08:11.485Z"
   },
   {
    "duration": 22,
    "start_time": "2022-09-23T13:08:11.519Z"
   },
   {
    "duration": 25,
    "start_time": "2022-09-23T13:08:11.543Z"
   },
   {
    "duration": 7,
    "start_time": "2022-09-23T13:08:11.573Z"
   },
   {
    "duration": 30,
    "start_time": "2022-09-23T13:08:11.581Z"
   },
   {
    "duration": 8,
    "start_time": "2022-09-23T13:08:11.614Z"
   },
   {
    "duration": 15,
    "start_time": "2022-09-23T13:08:11.624Z"
   },
   {
    "duration": 272,
    "start_time": "2022-09-23T13:08:11.642Z"
   },
   {
    "duration": 234,
    "start_time": "2022-09-23T13:08:11.916Z"
   },
   {
    "duration": 1048,
    "start_time": "2022-09-23T13:08:12.152Z"
   },
   {
    "duration": 3,
    "start_time": "2022-09-23T13:08:13.202Z"
   },
   {
    "duration": 14,
    "start_time": "2022-09-23T13:08:13.209Z"
   },
   {
    "duration": 289,
    "start_time": "2022-09-23T13:08:13.224Z"
   },
   {
    "duration": 198,
    "start_time": "2022-09-23T13:08:13.515Z"
   },
   {
    "duration": 1356,
    "start_time": "2022-09-23T13:08:13.715Z"
   },
   {
    "duration": 8,
    "start_time": "2022-09-23T13:08:15.072Z"
   },
   {
    "duration": 335,
    "start_time": "2022-09-23T13:08:15.081Z"
   },
   {
    "duration": 113,
    "start_time": "2022-09-23T13:08:15.417Z"
   },
   {
    "duration": 285,
    "start_time": "2022-09-23T13:08:15.532Z"
   },
   {
    "duration": 174,
    "start_time": "2022-09-23T13:08:15.818Z"
   },
   {
    "duration": 10,
    "start_time": "2022-09-23T13:08:15.994Z"
   },
   {
    "duration": 0,
    "start_time": "2022-09-23T13:08:16.005Z"
   },
   {
    "duration": 1455,
    "start_time": "2022-09-23T13:08:54.873Z"
   },
   {
    "duration": 41,
    "start_time": "2022-09-23T13:08:56.330Z"
   },
   {
    "duration": 16,
    "start_time": "2022-09-23T13:08:56.373Z"
   },
   {
    "duration": 26,
    "start_time": "2022-09-23T13:08:56.391Z"
   },
   {
    "duration": 37,
    "start_time": "2022-09-23T13:08:56.418Z"
   },
   {
    "duration": 17,
    "start_time": "2022-09-23T13:08:56.457Z"
   },
   {
    "duration": 12,
    "start_time": "2022-09-23T13:08:56.475Z"
   },
   {
    "duration": 5,
    "start_time": "2022-09-23T13:08:56.510Z"
   },
   {
    "duration": 6,
    "start_time": "2022-09-23T13:08:56.517Z"
   },
   {
    "duration": 8,
    "start_time": "2022-09-23T13:08:56.526Z"
   },
   {
    "duration": 6,
    "start_time": "2022-09-23T13:08:56.535Z"
   },
   {
    "duration": 13,
    "start_time": "2022-09-23T13:08:56.542Z"
   },
   {
    "duration": 13,
    "start_time": "2022-09-23T13:08:56.557Z"
   },
   {
    "duration": 12,
    "start_time": "2022-09-23T13:08:56.571Z"
   },
   {
    "duration": 23,
    "start_time": "2022-09-23T13:08:56.585Z"
   },
   {
    "duration": 6,
    "start_time": "2022-09-23T13:08:56.610Z"
   },
   {
    "duration": 21,
    "start_time": "2022-09-23T13:08:56.617Z"
   },
   {
    "duration": 5,
    "start_time": "2022-09-23T13:08:56.640Z"
   },
   {
    "duration": 10,
    "start_time": "2022-09-23T13:08:56.647Z"
   },
   {
    "duration": 7,
    "start_time": "2022-09-23T13:08:56.658Z"
   },
   {
    "duration": 12,
    "start_time": "2022-09-23T13:08:56.666Z"
   },
   {
    "duration": 4,
    "start_time": "2022-09-23T13:08:56.680Z"
   },
   {
    "duration": 10,
    "start_time": "2022-09-23T13:08:56.685Z"
   },
   {
    "duration": 9,
    "start_time": "2022-09-23T13:08:56.709Z"
   },
   {
    "duration": 15,
    "start_time": "2022-09-23T13:08:56.719Z"
   },
   {
    "duration": 20,
    "start_time": "2022-09-23T13:08:56.735Z"
   },
   {
    "duration": 19,
    "start_time": "2022-09-23T13:08:56.756Z"
   },
   {
    "duration": 31,
    "start_time": "2022-09-23T13:08:56.778Z"
   },
   {
    "duration": 2,
    "start_time": "2022-09-23T13:08:56.811Z"
   },
   {
    "duration": 6,
    "start_time": "2022-09-23T13:08:56.815Z"
   },
   {
    "duration": 11,
    "start_time": "2022-09-23T13:08:56.822Z"
   },
   {
    "duration": 285,
    "start_time": "2022-09-23T13:08:56.834Z"
   },
   {
    "duration": 145,
    "start_time": "2022-09-23T13:08:57.210Z"
   },
   {
    "duration": 963,
    "start_time": "2022-09-23T13:08:57.357Z"
   },
   {
    "duration": 3,
    "start_time": "2022-09-23T13:08:58.322Z"
   },
   {
    "duration": 27,
    "start_time": "2022-09-23T13:08:58.327Z"
   },
   {
    "duration": 655,
    "start_time": "2022-09-23T13:08:58.356Z"
   },
   {
    "duration": 165,
    "start_time": "2022-09-23T13:08:59.014Z"
   },
   {
    "duration": 1358,
    "start_time": "2022-09-23T13:08:59.184Z"
   },
   {
    "duration": 8,
    "start_time": "2022-09-23T13:09:00.544Z"
   },
   {
    "duration": 162,
    "start_time": "2022-09-23T13:09:00.554Z"
   },
   {
    "duration": 120,
    "start_time": "2022-09-23T13:09:00.719Z"
   },
   {
    "duration": 310,
    "start_time": "2022-09-23T13:09:00.841Z"
   },
   {
    "duration": 257,
    "start_time": "2022-09-23T13:09:01.153Z"
   },
   {
    "duration": 11,
    "start_time": "2022-09-23T13:09:01.412Z"
   },
   {
    "duration": 0,
    "start_time": "2022-09-23T13:09:01.424Z"
   },
   {
    "duration": 51,
    "start_time": "2022-09-23T13:09:18.265Z"
   },
   {
    "duration": 10,
    "start_time": "2022-09-23T13:09:24.809Z"
   },
   {
    "duration": 11,
    "start_time": "2022-09-23T13:09:55.920Z"
   },
   {
    "duration": 14,
    "start_time": "2022-09-23T13:10:29.993Z"
   },
   {
    "duration": 9913,
    "start_time": "2022-09-23T13:10:32.683Z"
   },
   {
    "duration": 24,
    "start_time": "2022-09-23T13:11:00.784Z"
   },
   {
    "duration": 306,
    "start_time": "2022-09-23T13:11:13.953Z"
   },
   {
    "duration": 23,
    "start_time": "2022-09-23T13:21:29.027Z"
   },
   {
    "duration": 36,
    "start_time": "2022-09-23T13:21:41.306Z"
   },
   {
    "duration": 175,
    "start_time": "2022-09-23T13:21:57.174Z"
   },
   {
    "duration": 15,
    "start_time": "2022-09-23T13:24:14.401Z"
   },
   {
    "duration": 8969,
    "start_time": "2022-09-23T13:24:15.692Z"
   },
   {
    "duration": 7561,
    "start_time": "2022-09-23T13:26:32.257Z"
   },
   {
    "duration": 3106,
    "start_time": "2022-09-23T13:26:57.908Z"
   },
   {
    "duration": 2995,
    "start_time": "2022-09-23T13:28:28.543Z"
   },
   {
    "duration": 70,
    "start_time": "2022-09-23T13:29:53.974Z"
   },
   {
    "duration": 1331,
    "start_time": "2022-09-23T13:31:47.448Z"
   },
   {
    "duration": 42,
    "start_time": "2022-09-23T13:31:48.780Z"
   },
   {
    "duration": 18,
    "start_time": "2022-09-23T13:31:48.824Z"
   },
   {
    "duration": 45,
    "start_time": "2022-09-23T13:31:48.845Z"
   },
   {
    "duration": 77,
    "start_time": "2022-09-23T13:31:48.891Z"
   },
   {
    "duration": 17,
    "start_time": "2022-09-23T13:31:48.970Z"
   },
   {
    "duration": 24,
    "start_time": "2022-09-23T13:31:48.988Z"
   },
   {
    "duration": 38,
    "start_time": "2022-09-23T13:31:49.014Z"
   },
   {
    "duration": 37,
    "start_time": "2022-09-23T13:31:49.053Z"
   },
   {
    "duration": 39,
    "start_time": "2022-09-23T13:31:49.094Z"
   },
   {
    "duration": 21,
    "start_time": "2022-09-23T13:31:49.135Z"
   },
   {
    "duration": 51,
    "start_time": "2022-09-23T13:31:49.158Z"
   },
   {
    "duration": 28,
    "start_time": "2022-09-23T13:31:49.210Z"
   },
   {
    "duration": 18,
    "start_time": "2022-09-23T13:31:49.240Z"
   },
   {
    "duration": 21,
    "start_time": "2022-09-23T13:31:49.259Z"
   },
   {
    "duration": 29,
    "start_time": "2022-09-23T13:31:49.282Z"
   },
   {
    "duration": 57,
    "start_time": "2022-09-23T13:31:49.313Z"
   },
   {
    "duration": 20,
    "start_time": "2022-09-23T13:31:49.371Z"
   },
   {
    "duration": 24,
    "start_time": "2022-09-23T13:31:49.392Z"
   },
   {
    "duration": 30,
    "start_time": "2022-09-23T13:31:49.418Z"
   },
   {
    "duration": 16,
    "start_time": "2022-09-23T13:31:49.450Z"
   },
   {
    "duration": 42,
    "start_time": "2022-09-23T13:31:49.467Z"
   },
   {
    "duration": 28,
    "start_time": "2022-09-23T13:31:49.510Z"
   },
   {
    "duration": 35,
    "start_time": "2022-09-23T13:31:49.540Z"
   },
   {
    "duration": 21,
    "start_time": "2022-09-23T13:31:49.577Z"
   },
   {
    "duration": 33,
    "start_time": "2022-09-23T13:31:49.600Z"
   },
   {
    "duration": 54,
    "start_time": "2022-09-23T13:31:49.634Z"
   },
   {
    "duration": 7,
    "start_time": "2022-09-23T13:31:49.691Z"
   },
   {
    "duration": 36,
    "start_time": "2022-09-23T13:31:49.699Z"
   },
   {
    "duration": 39,
    "start_time": "2022-09-23T13:31:49.736Z"
   },
   {
    "duration": 36,
    "start_time": "2022-09-23T13:31:49.777Z"
   },
   {
    "duration": 204,
    "start_time": "2022-09-23T13:31:49.815Z"
   },
   {
    "duration": 153,
    "start_time": "2022-09-23T13:31:50.110Z"
   },
   {
    "duration": 973,
    "start_time": "2022-09-23T13:31:50.265Z"
   },
   {
    "duration": 3,
    "start_time": "2022-09-23T13:31:51.240Z"
   },
   {
    "duration": 40,
    "start_time": "2022-09-23T13:31:51.245Z"
   },
   {
    "duration": 330,
    "start_time": "2022-09-23T13:31:51.287Z"
   },
   {
    "duration": 250,
    "start_time": "2022-09-23T13:31:51.619Z"
   },
   {
    "duration": 1388,
    "start_time": "2022-09-23T13:31:51.871Z"
   },
   {
    "duration": 9,
    "start_time": "2022-09-23T13:31:53.261Z"
   },
   {
    "duration": 138,
    "start_time": "2022-09-23T13:31:53.272Z"
   },
   {
    "duration": 108,
    "start_time": "2022-09-23T13:31:53.412Z"
   },
   {
    "duration": 292,
    "start_time": "2022-09-23T13:31:53.522Z"
   },
   {
    "duration": 14,
    "start_time": "2022-09-23T13:31:53.816Z"
   },
   {
    "duration": 9331,
    "start_time": "2022-09-23T13:31:53.832Z"
   },
   {
    "duration": 75,
    "start_time": "2022-09-23T13:32:03.165Z"
   },
   {
    "duration": 198,
    "start_time": "2022-09-23T13:32:03.242Z"
   },
   {
    "duration": 1299,
    "start_time": "2022-09-23T13:33:04.048Z"
   },
   {
    "duration": 41,
    "start_time": "2022-09-23T13:33:05.349Z"
   },
   {
    "duration": 16,
    "start_time": "2022-09-23T13:33:05.392Z"
   },
   {
    "duration": 43,
    "start_time": "2022-09-23T13:33:05.409Z"
   },
   {
    "duration": 44,
    "start_time": "2022-09-23T13:33:05.455Z"
   },
   {
    "duration": 17,
    "start_time": "2022-09-23T13:33:05.500Z"
   },
   {
    "duration": 12,
    "start_time": "2022-09-23T13:33:05.518Z"
   },
   {
    "duration": 23,
    "start_time": "2022-09-23T13:33:05.532Z"
   },
   {
    "duration": 15,
    "start_time": "2022-09-23T13:33:05.557Z"
   },
   {
    "duration": 22,
    "start_time": "2022-09-23T13:33:05.573Z"
   },
   {
    "duration": 20,
    "start_time": "2022-09-23T13:33:05.597Z"
   },
   {
    "duration": 10,
    "start_time": "2022-09-23T13:33:05.619Z"
   },
   {
    "duration": 21,
    "start_time": "2022-09-23T13:33:05.630Z"
   },
   {
    "duration": 18,
    "start_time": "2022-09-23T13:33:05.654Z"
   },
   {
    "duration": 23,
    "start_time": "2022-09-23T13:33:05.674Z"
   },
   {
    "duration": 30,
    "start_time": "2022-09-23T13:33:05.698Z"
   },
   {
    "duration": 21,
    "start_time": "2022-09-23T13:33:05.730Z"
   },
   {
    "duration": 13,
    "start_time": "2022-09-23T13:33:05.752Z"
   },
   {
    "duration": 27,
    "start_time": "2022-09-23T13:33:05.766Z"
   },
   {
    "duration": 17,
    "start_time": "2022-09-23T13:33:05.795Z"
   },
   {
    "duration": 10,
    "start_time": "2022-09-23T13:33:05.813Z"
   },
   {
    "duration": 11,
    "start_time": "2022-09-23T13:33:05.825Z"
   },
   {
    "duration": 30,
    "start_time": "2022-09-23T13:33:05.837Z"
   },
   {
    "duration": 37,
    "start_time": "2022-09-23T13:33:05.868Z"
   },
   {
    "duration": 45,
    "start_time": "2022-09-23T13:33:05.907Z"
   },
   {
    "duration": 19,
    "start_time": "2022-09-23T13:33:05.953Z"
   },
   {
    "duration": 25,
    "start_time": "2022-09-23T13:33:05.974Z"
   },
   {
    "duration": 6,
    "start_time": "2022-09-23T13:33:06.000Z"
   },
   {
    "duration": 28,
    "start_time": "2022-09-23T13:33:06.007Z"
   },
   {
    "duration": 12,
    "start_time": "2022-09-23T13:33:06.037Z"
   },
   {
    "duration": 28,
    "start_time": "2022-09-23T13:33:06.050Z"
   },
   {
    "duration": 332,
    "start_time": "2022-09-23T13:33:06.080Z"
   },
   {
    "duration": 146,
    "start_time": "2022-09-23T13:33:06.414Z"
   },
   {
    "duration": 948,
    "start_time": "2022-09-23T13:33:06.562Z"
   },
   {
    "duration": 3,
    "start_time": "2022-09-23T13:33:07.512Z"
   },
   {
    "duration": 41,
    "start_time": "2022-09-23T13:33:07.516Z"
   },
   {
    "duration": 260,
    "start_time": "2022-09-23T13:33:07.559Z"
   },
   {
    "duration": 257,
    "start_time": "2022-09-23T13:33:07.820Z"
   },
   {
    "duration": 1344,
    "start_time": "2022-09-23T13:33:08.079Z"
   },
   {
    "duration": 7,
    "start_time": "2022-09-23T13:33:09.425Z"
   },
   {
    "duration": 179,
    "start_time": "2022-09-23T13:33:09.436Z"
   },
   {
    "duration": 109,
    "start_time": "2022-09-23T13:33:09.618Z"
   },
   {
    "duration": 285,
    "start_time": "2022-09-23T13:33:09.729Z"
   },
   {
    "duration": 15,
    "start_time": "2022-09-23T13:33:10.016Z"
   },
   {
    "duration": 9399,
    "start_time": "2022-09-23T13:33:10.032Z"
   },
   {
    "duration": 77,
    "start_time": "2022-09-23T13:33:19.433Z"
   },
   {
    "duration": 215,
    "start_time": "2022-09-23T13:33:19.512Z"
   },
   {
    "duration": 67,
    "start_time": "2022-09-23T13:34:48.968Z"
   },
   {
    "duration": 1325,
    "start_time": "2022-09-23T13:35:54.980Z"
   },
   {
    "duration": 46,
    "start_time": "2022-09-23T13:35:56.307Z"
   },
   {
    "duration": 22,
    "start_time": "2022-09-23T13:35:56.355Z"
   },
   {
    "duration": 13,
    "start_time": "2022-09-23T13:35:56.379Z"
   },
   {
    "duration": 36,
    "start_time": "2022-09-23T13:35:56.394Z"
   },
   {
    "duration": 16,
    "start_time": "2022-09-23T13:35:56.431Z"
   },
   {
    "duration": 11,
    "start_time": "2022-09-23T13:35:56.449Z"
   },
   {
    "duration": 7,
    "start_time": "2022-09-23T13:35:56.462Z"
   },
   {
    "duration": 6,
    "start_time": "2022-09-23T13:35:56.471Z"
   },
   {
    "duration": 8,
    "start_time": "2022-09-23T13:35:56.479Z"
   },
   {
    "duration": 24,
    "start_time": "2022-09-23T13:35:56.488Z"
   },
   {
    "duration": 6,
    "start_time": "2022-09-23T13:35:56.513Z"
   },
   {
    "duration": 10,
    "start_time": "2022-09-23T13:35:56.520Z"
   },
   {
    "duration": 6,
    "start_time": "2022-09-23T13:35:56.531Z"
   },
   {
    "duration": 13,
    "start_time": "2022-09-23T13:35:56.538Z"
   },
   {
    "duration": 6,
    "start_time": "2022-09-23T13:35:56.553Z"
   },
   {
    "duration": 11,
    "start_time": "2022-09-23T13:35:56.561Z"
   },
   {
    "duration": 37,
    "start_time": "2022-09-23T13:35:56.573Z"
   },
   {
    "duration": 6,
    "start_time": "2022-09-23T13:35:56.611Z"
   },
   {
    "duration": 9,
    "start_time": "2022-09-23T13:35:56.619Z"
   },
   {
    "duration": 7,
    "start_time": "2022-09-23T13:35:56.630Z"
   },
   {
    "duration": 4,
    "start_time": "2022-09-23T13:35:56.639Z"
   },
   {
    "duration": 7,
    "start_time": "2022-09-23T13:35:56.644Z"
   },
   {
    "duration": 11,
    "start_time": "2022-09-23T13:35:56.652Z"
   },
   {
    "duration": 56,
    "start_time": "2022-09-23T13:35:56.665Z"
   },
   {
    "duration": 17,
    "start_time": "2022-09-23T13:35:56.722Z"
   },
   {
    "duration": 20,
    "start_time": "2022-09-23T13:35:56.740Z"
   },
   {
    "duration": 5,
    "start_time": "2022-09-23T13:35:56.763Z"
   },
   {
    "duration": 40,
    "start_time": "2022-09-23T13:35:56.769Z"
   },
   {
    "duration": 12,
    "start_time": "2022-09-23T13:35:56.811Z"
   },
   {
    "duration": 10,
    "start_time": "2022-09-23T13:35:56.824Z"
   },
   {
    "duration": 282,
    "start_time": "2022-09-23T13:35:56.836Z"
   },
   {
    "duration": 227,
    "start_time": "2022-09-23T13:35:57.120Z"
   },
   {
    "duration": 976,
    "start_time": "2022-09-23T13:35:57.348Z"
   },
   {
    "duration": 4,
    "start_time": "2022-09-23T13:35:58.325Z"
   },
   {
    "duration": 18,
    "start_time": "2022-09-23T13:35:58.330Z"
   },
   {
    "duration": 167,
    "start_time": "2022-09-23T13:35:58.350Z"
   },
   {
    "duration": 242,
    "start_time": "2022-09-23T13:35:58.519Z"
   },
   {
    "duration": 1317,
    "start_time": "2022-09-23T13:35:58.763Z"
   },
   {
    "duration": 8,
    "start_time": "2022-09-23T13:36:00.082Z"
   },
   {
    "duration": 225,
    "start_time": "2022-09-23T13:36:00.092Z"
   },
   {
    "duration": 111,
    "start_time": "2022-09-23T13:36:00.319Z"
   },
   {
    "duration": 288,
    "start_time": "2022-09-23T13:36:00.432Z"
   },
   {
    "duration": 14,
    "start_time": "2022-09-23T13:36:00.722Z"
   },
   {
    "duration": 8894,
    "start_time": "2022-09-23T13:36:00.738Z"
   },
   {
    "duration": 64,
    "start_time": "2022-09-23T13:36:09.634Z"
   },
   {
    "duration": 197,
    "start_time": "2022-09-23T13:36:09.709Z"
   },
   {
    "duration": 1343,
    "start_time": "2022-09-23T13:37:43.745Z"
   },
   {
    "duration": 41,
    "start_time": "2022-09-23T13:37:45.090Z"
   },
   {
    "duration": 16,
    "start_time": "2022-09-23T13:37:45.133Z"
   },
   {
    "duration": 16,
    "start_time": "2022-09-23T13:37:45.150Z"
   },
   {
    "duration": 47,
    "start_time": "2022-09-23T13:37:45.168Z"
   },
   {
    "duration": 17,
    "start_time": "2022-09-23T13:37:45.216Z"
   },
   {
    "duration": 11,
    "start_time": "2022-09-23T13:37:45.234Z"
   },
   {
    "duration": 7,
    "start_time": "2022-09-23T13:37:45.247Z"
   },
   {
    "duration": 6,
    "start_time": "2022-09-23T13:37:45.255Z"
   },
   {
    "duration": 5,
    "start_time": "2022-09-23T13:37:45.262Z"
   },
   {
    "duration": 41,
    "start_time": "2022-09-23T13:37:45.269Z"
   },
   {
    "duration": 4,
    "start_time": "2022-09-23T13:37:45.311Z"
   },
   {
    "duration": 7,
    "start_time": "2022-09-23T13:37:45.316Z"
   },
   {
    "duration": 4,
    "start_time": "2022-09-23T13:37:45.325Z"
   },
   {
    "duration": 7,
    "start_time": "2022-09-23T13:37:45.330Z"
   },
   {
    "duration": 11,
    "start_time": "2022-09-23T13:37:45.338Z"
   },
   {
    "duration": 9,
    "start_time": "2022-09-23T13:37:45.350Z"
   },
   {
    "duration": 49,
    "start_time": "2022-09-23T13:37:45.361Z"
   },
   {
    "duration": 6,
    "start_time": "2022-09-23T13:37:45.411Z"
   },
   {
    "duration": 8,
    "start_time": "2022-09-23T13:37:45.418Z"
   },
   {
    "duration": 6,
    "start_time": "2022-09-23T13:37:45.428Z"
   },
   {
    "duration": 4,
    "start_time": "2022-09-23T13:37:45.435Z"
   },
   {
    "duration": 9,
    "start_time": "2022-09-23T13:37:45.441Z"
   },
   {
    "duration": 9,
    "start_time": "2022-09-23T13:37:45.451Z"
   },
   {
    "duration": 60,
    "start_time": "2022-09-23T13:37:45.462Z"
   },
   {
    "duration": 15,
    "start_time": "2022-09-23T13:37:45.523Z"
   },
   {
    "duration": 20,
    "start_time": "2022-09-23T13:37:45.540Z"
   },
   {
    "duration": 7,
    "start_time": "2022-09-23T13:37:45.562Z"
   },
   {
    "duration": 4,
    "start_time": "2022-09-23T13:37:45.571Z"
   },
   {
    "duration": 36,
    "start_time": "2022-09-23T13:37:45.577Z"
   },
   {
    "duration": 9,
    "start_time": "2022-09-23T13:37:45.615Z"
   },
   {
    "duration": 285,
    "start_time": "2022-09-23T13:37:45.625Z"
   },
   {
    "duration": 143,
    "start_time": "2022-09-23T13:37:45.913Z"
   },
   {
    "duration": 972,
    "start_time": "2022-09-23T13:37:46.058Z"
   },
   {
    "duration": 3,
    "start_time": "2022-09-23T13:37:47.032Z"
   },
   {
    "duration": 18,
    "start_time": "2022-09-23T13:37:47.036Z"
   },
   {
    "duration": 352,
    "start_time": "2022-09-23T13:37:47.056Z"
   },
   {
    "duration": 164,
    "start_time": "2022-09-23T13:37:47.410Z"
   },
   {
    "duration": 1325,
    "start_time": "2022-09-23T13:37:47.576Z"
   },
   {
    "duration": 10,
    "start_time": "2022-09-23T13:37:48.903Z"
   },
   {
    "duration": 105,
    "start_time": "2022-09-23T13:37:48.916Z"
   },
   {
    "duration": 200,
    "start_time": "2022-09-23T13:37:49.022Z"
   },
   {
    "duration": 285,
    "start_time": "2022-09-23T13:37:49.224Z"
   },
   {
    "duration": 13,
    "start_time": "2022-09-23T13:37:49.511Z"
   },
   {
    "duration": 8873,
    "start_time": "2022-09-23T13:37:49.526Z"
   },
   {
    "duration": 68,
    "start_time": "2022-09-23T13:37:58.401Z"
   },
   {
    "duration": 200,
    "start_time": "2022-09-23T13:37:58.470Z"
   },
   {
    "duration": 1391,
    "start_time": "2022-09-23T13:38:25.291Z"
   },
   {
    "duration": 40,
    "start_time": "2022-09-23T13:38:26.685Z"
   },
   {
    "duration": 18,
    "start_time": "2022-09-23T13:38:26.727Z"
   },
   {
    "duration": 12,
    "start_time": "2022-09-23T13:38:26.746Z"
   },
   {
    "duration": 54,
    "start_time": "2022-09-23T13:38:26.761Z"
   },
   {
    "duration": 19,
    "start_time": "2022-09-23T13:38:26.816Z"
   },
   {
    "duration": 14,
    "start_time": "2022-09-23T13:38:26.837Z"
   },
   {
    "duration": 7,
    "start_time": "2022-09-23T13:38:26.853Z"
   },
   {
    "duration": 9,
    "start_time": "2022-09-23T13:38:26.862Z"
   },
   {
    "duration": 38,
    "start_time": "2022-09-23T13:38:26.872Z"
   },
   {
    "duration": 6,
    "start_time": "2022-09-23T13:38:26.912Z"
   },
   {
    "duration": 27,
    "start_time": "2022-09-23T13:38:26.920Z"
   },
   {
    "duration": 11,
    "start_time": "2022-09-23T13:38:26.948Z"
   },
   {
    "duration": 16,
    "start_time": "2022-09-23T13:38:26.961Z"
   },
   {
    "duration": 19,
    "start_time": "2022-09-23T13:38:26.978Z"
   },
   {
    "duration": 14,
    "start_time": "2022-09-23T13:38:26.999Z"
   },
   {
    "duration": 12,
    "start_time": "2022-09-23T13:38:27.015Z"
   },
   {
    "duration": 10,
    "start_time": "2022-09-23T13:38:27.028Z"
   },
   {
    "duration": 21,
    "start_time": "2022-09-23T13:38:27.040Z"
   },
   {
    "duration": 13,
    "start_time": "2022-09-23T13:38:27.063Z"
   },
   {
    "duration": 9,
    "start_time": "2022-09-23T13:38:27.078Z"
   },
   {
    "duration": 5,
    "start_time": "2022-09-23T13:38:27.089Z"
   },
   {
    "duration": 19,
    "start_time": "2022-09-23T13:38:27.096Z"
   },
   {
    "duration": 10,
    "start_time": "2022-09-23T13:38:27.116Z"
   },
   {
    "duration": 16,
    "start_time": "2022-09-23T13:38:27.127Z"
   },
   {
    "duration": 18,
    "start_time": "2022-09-23T13:38:27.145Z"
   },
   {
    "duration": 20,
    "start_time": "2022-09-23T13:38:27.165Z"
   },
   {
    "duration": 6,
    "start_time": "2022-09-23T13:38:27.209Z"
   },
   {
    "duration": 5,
    "start_time": "2022-09-23T13:38:27.216Z"
   },
   {
    "duration": 12,
    "start_time": "2022-09-23T13:38:27.223Z"
   },
   {
    "duration": 15,
    "start_time": "2022-09-23T13:38:27.236Z"
   },
   {
    "duration": 562,
    "start_time": "2022-09-23T13:38:27.252Z"
   },
   {
    "duration": 152,
    "start_time": "2022-09-23T13:38:27.816Z"
   },
   {
    "duration": 973,
    "start_time": "2022-09-23T13:38:27.969Z"
   },
   {
    "duration": 3,
    "start_time": "2022-09-23T13:38:28.944Z"
   },
   {
    "duration": 22,
    "start_time": "2022-09-23T13:38:28.948Z"
   },
   {
    "duration": 741,
    "start_time": "2022-09-23T13:38:28.972Z"
   },
   {
    "duration": 196,
    "start_time": "2022-09-23T13:38:29.714Z"
   },
   {
    "duration": 1303,
    "start_time": "2022-09-23T13:38:29.912Z"
   },
   {
    "duration": 7,
    "start_time": "2022-09-23T13:38:31.217Z"
   },
   {
    "duration": 184,
    "start_time": "2022-09-23T13:38:31.229Z"
   },
   {
    "duration": 111,
    "start_time": "2022-09-23T13:38:31.414Z"
   },
   {
    "duration": 283,
    "start_time": "2022-09-23T13:38:31.526Z"
   },
   {
    "duration": 13,
    "start_time": "2022-09-23T13:38:31.810Z"
   },
   {
    "duration": 9039,
    "start_time": "2022-09-23T13:38:31.825Z"
   },
   {
    "duration": 77,
    "start_time": "2022-09-23T13:38:40.866Z"
   },
   {
    "duration": 212,
    "start_time": "2022-09-23T13:38:40.945Z"
   },
   {
    "duration": 1276,
    "start_time": "2022-09-23T13:39:19.335Z"
   },
   {
    "duration": 42,
    "start_time": "2022-09-23T13:39:20.613Z"
   },
   {
    "duration": 16,
    "start_time": "2022-09-23T13:39:20.656Z"
   },
   {
    "duration": 32,
    "start_time": "2022-09-23T13:39:20.674Z"
   },
   {
    "duration": 37,
    "start_time": "2022-09-23T13:39:20.708Z"
   },
   {
    "duration": 16,
    "start_time": "2022-09-23T13:39:20.746Z"
   },
   {
    "duration": 11,
    "start_time": "2022-09-23T13:39:20.764Z"
   },
   {
    "duration": 7,
    "start_time": "2022-09-23T13:39:20.776Z"
   },
   {
    "duration": 25,
    "start_time": "2022-09-23T13:39:20.784Z"
   },
   {
    "duration": 4,
    "start_time": "2022-09-23T13:39:20.812Z"
   },
   {
    "duration": 6,
    "start_time": "2022-09-23T13:39:20.818Z"
   },
   {
    "duration": 15,
    "start_time": "2022-09-23T13:39:20.826Z"
   },
   {
    "duration": 7,
    "start_time": "2022-09-23T13:39:20.843Z"
   },
   {
    "duration": 33,
    "start_time": "2022-09-23T13:39:20.851Z"
   },
   {
    "duration": 20,
    "start_time": "2022-09-23T13:39:20.885Z"
   },
   {
    "duration": 16,
    "start_time": "2022-09-23T13:39:20.907Z"
   },
   {
    "duration": 35,
    "start_time": "2022-09-23T13:39:20.924Z"
   },
   {
    "duration": 6,
    "start_time": "2022-09-23T13:39:20.960Z"
   },
   {
    "duration": 20,
    "start_time": "2022-09-23T13:39:20.967Z"
   },
   {
    "duration": 11,
    "start_time": "2022-09-23T13:39:20.989Z"
   },
   {
    "duration": 7,
    "start_time": "2022-09-23T13:39:21.001Z"
   },
   {
    "duration": 4,
    "start_time": "2022-09-23T13:39:21.010Z"
   },
   {
    "duration": 10,
    "start_time": "2022-09-23T13:39:21.015Z"
   },
   {
    "duration": 9,
    "start_time": "2022-09-23T13:39:21.026Z"
   },
   {
    "duration": 14,
    "start_time": "2022-09-23T13:39:21.036Z"
   },
   {
    "duration": 22,
    "start_time": "2022-09-23T13:39:21.052Z"
   },
   {
    "duration": 34,
    "start_time": "2022-09-23T13:39:21.076Z"
   },
   {
    "duration": 5,
    "start_time": "2022-09-23T13:39:21.113Z"
   },
   {
    "duration": 7,
    "start_time": "2022-09-23T13:39:21.119Z"
   },
   {
    "duration": 11,
    "start_time": "2022-09-23T13:39:21.127Z"
   },
   {
    "duration": 7,
    "start_time": "2022-09-23T13:39:21.139Z"
   },
   {
    "duration": 366,
    "start_time": "2022-09-23T13:39:21.147Z"
   },
   {
    "duration": 222,
    "start_time": "2022-09-23T13:39:21.515Z"
   },
   {
    "duration": 989,
    "start_time": "2022-09-23T13:39:21.738Z"
   },
   {
    "duration": 5,
    "start_time": "2022-09-23T13:39:22.729Z"
   },
   {
    "duration": 17,
    "start_time": "2022-09-23T13:39:22.736Z"
   },
   {
    "duration": 358,
    "start_time": "2022-09-23T13:39:22.754Z"
   },
   {
    "duration": 226,
    "start_time": "2022-09-23T13:39:23.114Z"
   },
   {
    "duration": 1308,
    "start_time": "2022-09-23T13:39:23.341Z"
   },
   {
    "duration": 7,
    "start_time": "2022-09-23T13:39:24.651Z"
   },
   {
    "duration": 156,
    "start_time": "2022-09-23T13:39:24.660Z"
   },
   {
    "duration": 113,
    "start_time": "2022-09-23T13:39:24.817Z"
   },
   {
    "duration": 305,
    "start_time": "2022-09-23T13:39:24.932Z"
   },
   {
    "duration": 13,
    "start_time": "2022-09-23T13:39:25.238Z"
   },
   {
    "duration": 8675,
    "start_time": "2022-09-23T13:39:25.253Z"
   },
   {
    "duration": 65,
    "start_time": "2022-09-23T13:39:33.930Z"
   },
   {
    "duration": 226,
    "start_time": "2022-09-23T13:39:33.997Z"
   },
   {
    "duration": 15,
    "start_time": "2022-09-23T13:40:57.833Z"
   },
   {
    "duration": 391,
    "start_time": "2022-09-23T13:41:00.318Z"
   },
   {
    "duration": 266,
    "start_time": "2022-09-23T13:41:06.847Z"
   },
   {
    "duration": 278,
    "start_time": "2022-09-23T13:41:08.840Z"
   },
   {
    "duration": 13,
    "start_time": "2022-09-23T13:41:11.401Z"
   },
   {
    "duration": 305,
    "start_time": "2022-09-23T13:41:14.105Z"
   },
   {
    "duration": 139,
    "start_time": "2022-09-23T13:47:51.779Z"
   },
   {
    "duration": 295,
    "start_time": "2022-09-23T13:47:54.415Z"
   },
   {
    "duration": 274,
    "start_time": "2022-09-23T13:47:56.945Z"
   },
   {
    "duration": 15,
    "start_time": "2022-09-23T13:48:03.399Z"
   },
   {
    "duration": 310,
    "start_time": "2022-09-23T13:48:06.499Z"
   },
   {
    "duration": 13,
    "start_time": "2022-09-23T13:48:13.237Z"
   },
   {
    "duration": 568,
    "start_time": "2022-09-23T13:48:14.749Z"
   },
   {
    "duration": 13,
    "start_time": "2022-09-23T13:48:17.369Z"
   },
   {
    "duration": 328,
    "start_time": "2022-09-23T13:48:18.290Z"
   },
   {
    "duration": 14,
    "start_time": "2022-09-23T13:52:52.201Z"
   },
   {
    "duration": 279,
    "start_time": "2022-09-23T13:52:53.837Z"
   },
   {
    "duration": 14,
    "start_time": "2022-09-23T13:52:56.174Z"
   },
   {
    "duration": 282,
    "start_time": "2022-09-23T13:52:58.028Z"
   },
   {
    "duration": 1295,
    "start_time": "2022-09-23T13:53:04.731Z"
   },
   {
    "duration": 41,
    "start_time": "2022-09-23T13:53:06.027Z"
   },
   {
    "duration": 16,
    "start_time": "2022-09-23T13:53:06.070Z"
   },
   {
    "duration": 12,
    "start_time": "2022-09-23T13:53:06.087Z"
   },
   {
    "duration": 36,
    "start_time": "2022-09-23T13:53:06.101Z"
   },
   {
    "duration": 17,
    "start_time": "2022-09-23T13:53:06.139Z"
   },
   {
    "duration": 15,
    "start_time": "2022-09-23T13:53:06.157Z"
   },
   {
    "duration": 9,
    "start_time": "2022-09-23T13:53:06.174Z"
   },
   {
    "duration": 25,
    "start_time": "2022-09-23T13:53:06.184Z"
   },
   {
    "duration": 4,
    "start_time": "2022-09-23T13:53:06.211Z"
   },
   {
    "duration": 11,
    "start_time": "2022-09-23T13:53:06.217Z"
   },
   {
    "duration": 5,
    "start_time": "2022-09-23T13:53:06.230Z"
   },
   {
    "duration": 6,
    "start_time": "2022-09-23T13:53:06.236Z"
   },
   {
    "duration": 5,
    "start_time": "2022-09-23T13:53:06.244Z"
   },
   {
    "duration": 6,
    "start_time": "2022-09-23T13:53:06.250Z"
   },
   {
    "duration": 6,
    "start_time": "2022-09-23T13:53:06.257Z"
   },
   {
    "duration": 9,
    "start_time": "2022-09-23T13:53:06.265Z"
   },
   {
    "duration": 34,
    "start_time": "2022-09-23T13:53:06.276Z"
   },
   {
    "duration": 6,
    "start_time": "2022-09-23T13:53:06.312Z"
   },
   {
    "duration": 9,
    "start_time": "2022-09-23T13:53:06.320Z"
   },
   {
    "duration": 8,
    "start_time": "2022-09-23T13:53:06.330Z"
   },
   {
    "duration": 3,
    "start_time": "2022-09-23T13:53:06.340Z"
   },
   {
    "duration": 8,
    "start_time": "2022-09-23T13:53:06.345Z"
   },
   {
    "duration": 11,
    "start_time": "2022-09-23T13:53:06.354Z"
   },
   {
    "duration": 43,
    "start_time": "2022-09-23T13:53:06.367Z"
   },
   {
    "duration": 15,
    "start_time": "2022-09-23T13:53:06.411Z"
   },
   {
    "duration": 21,
    "start_time": "2022-09-23T13:53:06.427Z"
   },
   {
    "duration": 5,
    "start_time": "2022-09-23T13:53:06.449Z"
   },
   {
    "duration": 5,
    "start_time": "2022-09-23T13:53:06.455Z"
   },
   {
    "duration": 9,
    "start_time": "2022-09-23T13:53:06.462Z"
   },
   {
    "duration": 8,
    "start_time": "2022-09-23T13:53:06.472Z"
   },
   {
    "duration": 234,
    "start_time": "2022-09-23T13:53:06.482Z"
   },
   {
    "duration": 235,
    "start_time": "2022-09-23T13:53:06.718Z"
   },
   {
    "duration": 948,
    "start_time": "2022-09-23T13:53:06.954Z"
   },
   {
    "duration": 6,
    "start_time": "2022-09-23T13:53:07.903Z"
   },
   {
    "duration": 18,
    "start_time": "2022-09-23T13:53:07.911Z"
   },
   {
    "duration": 283,
    "start_time": "2022-09-23T13:53:07.930Z"
   },
   {
    "duration": 195,
    "start_time": "2022-09-23T13:53:08.215Z"
   },
   {
    "duration": 1317,
    "start_time": "2022-09-23T13:53:08.411Z"
   },
   {
    "duration": 6,
    "start_time": "2022-09-23T13:53:09.730Z"
   },
   {
    "duration": 170,
    "start_time": "2022-09-23T13:53:09.740Z"
   },
   {
    "duration": 110,
    "start_time": "2022-09-23T13:53:09.911Z"
   },
   {
    "duration": 280,
    "start_time": "2022-09-23T13:53:10.023Z"
   },
   {
    "duration": 13,
    "start_time": "2022-09-23T13:53:10.309Z"
   },
   {
    "duration": 8578,
    "start_time": "2022-09-23T13:53:10.324Z"
   },
   {
    "duration": 66,
    "start_time": "2022-09-23T13:53:18.904Z"
   },
   {
    "duration": 201,
    "start_time": "2022-09-23T13:53:18.972Z"
   },
   {
    "duration": 1308,
    "start_time": "2022-09-23T13:53:59.210Z"
   },
   {
    "duration": 41,
    "start_time": "2022-09-23T13:54:00.520Z"
   },
   {
    "duration": 16,
    "start_time": "2022-09-23T13:54:00.562Z"
   },
   {
    "duration": 29,
    "start_time": "2022-09-23T13:54:00.580Z"
   },
   {
    "duration": 38,
    "start_time": "2022-09-23T13:54:00.611Z"
   },
   {
    "duration": 16,
    "start_time": "2022-09-23T13:54:00.650Z"
   },
   {
    "duration": 16,
    "start_time": "2022-09-23T13:54:00.668Z"
   },
   {
    "duration": 27,
    "start_time": "2022-09-23T13:54:00.685Z"
   },
   {
    "duration": 6,
    "start_time": "2022-09-23T13:54:00.714Z"
   },
   {
    "duration": 8,
    "start_time": "2022-09-23T13:54:00.723Z"
   },
   {
    "duration": 6,
    "start_time": "2022-09-23T13:54:00.732Z"
   },
   {
    "duration": 6,
    "start_time": "2022-09-23T13:54:00.739Z"
   },
   {
    "duration": 19,
    "start_time": "2022-09-23T13:54:00.747Z"
   },
   {
    "duration": 13,
    "start_time": "2022-09-23T13:54:00.767Z"
   },
   {
    "duration": 21,
    "start_time": "2022-09-23T13:54:00.781Z"
   },
   {
    "duration": 21,
    "start_time": "2022-09-23T13:54:00.803Z"
   },
   {
    "duration": 34,
    "start_time": "2022-09-23T13:54:00.826Z"
   },
   {
    "duration": 23,
    "start_time": "2022-09-23T13:54:00.862Z"
   },
   {
    "duration": 31,
    "start_time": "2022-09-23T13:54:00.886Z"
   },
   {
    "duration": 28,
    "start_time": "2022-09-23T13:54:00.919Z"
   },
   {
    "duration": 31,
    "start_time": "2022-09-23T13:54:00.949Z"
   },
   {
    "duration": 29,
    "start_time": "2022-09-23T13:54:00.981Z"
   },
   {
    "duration": 10,
    "start_time": "2022-09-23T13:54:01.012Z"
   },
   {
    "duration": 27,
    "start_time": "2022-09-23T13:54:01.024Z"
   },
   {
    "duration": 22,
    "start_time": "2022-09-23T13:54:01.052Z"
   },
   {
    "duration": 30,
    "start_time": "2022-09-23T13:54:01.076Z"
   },
   {
    "duration": 20,
    "start_time": "2022-09-23T13:54:01.108Z"
   },
   {
    "duration": 5,
    "start_time": "2022-09-23T13:54:01.131Z"
   },
   {
    "duration": 8,
    "start_time": "2022-09-23T13:54:01.137Z"
   },
   {
    "duration": 9,
    "start_time": "2022-09-23T13:54:01.146Z"
   },
   {
    "duration": 16,
    "start_time": "2022-09-23T13:54:01.156Z"
   },
   {
    "duration": 246,
    "start_time": "2022-09-23T13:54:01.173Z"
   },
   {
    "duration": 145,
    "start_time": "2022-09-23T13:54:01.510Z"
   },
   {
    "duration": 990,
    "start_time": "2022-09-23T13:54:01.656Z"
   },
   {
    "duration": 3,
    "start_time": "2022-09-23T13:54:02.648Z"
   },
   {
    "duration": 31,
    "start_time": "2022-09-23T13:54:02.653Z"
   },
   {
    "duration": 324,
    "start_time": "2022-09-23T13:54:02.686Z"
   },
   {
    "duration": 168,
    "start_time": "2022-09-23T13:54:03.013Z"
   },
   {
    "duration": 1335,
    "start_time": "2022-09-23T13:54:03.184Z"
   },
   {
    "duration": 8,
    "start_time": "2022-09-23T13:54:04.521Z"
   },
   {
    "duration": 179,
    "start_time": "2022-09-23T13:54:04.531Z"
   },
   {
    "duration": 114,
    "start_time": "2022-09-23T13:54:04.712Z"
   },
   {
    "duration": 282,
    "start_time": "2022-09-23T13:54:04.828Z"
   },
   {
    "duration": 14,
    "start_time": "2022-09-23T13:54:05.111Z"
   },
   {
    "duration": 8677,
    "start_time": "2022-09-23T13:54:05.126Z"
   },
   {
    "duration": 69,
    "start_time": "2022-09-23T13:54:13.809Z"
   },
   {
    "duration": 201,
    "start_time": "2022-09-23T13:54:13.881Z"
   },
   {
    "duration": 1392,
    "start_time": "2022-09-23T13:54:34.012Z"
   },
   {
    "duration": 42,
    "start_time": "2022-09-23T13:54:35.406Z"
   },
   {
    "duration": 16,
    "start_time": "2022-09-23T13:54:35.450Z"
   },
   {
    "duration": 24,
    "start_time": "2022-09-23T13:54:35.468Z"
   },
   {
    "duration": 38,
    "start_time": "2022-09-23T13:54:35.495Z"
   },
   {
    "duration": 17,
    "start_time": "2022-09-23T13:54:35.534Z"
   },
   {
    "duration": 13,
    "start_time": "2022-09-23T13:54:35.553Z"
   },
   {
    "duration": 6,
    "start_time": "2022-09-23T13:54:35.568Z"
   },
   {
    "duration": 11,
    "start_time": "2022-09-23T13:54:35.575Z"
   },
   {
    "duration": 23,
    "start_time": "2022-09-23T13:54:35.587Z"
   },
   {
    "duration": 6,
    "start_time": "2022-09-23T13:54:35.612Z"
   },
   {
    "duration": 8,
    "start_time": "2022-09-23T13:54:35.621Z"
   },
   {
    "duration": 9,
    "start_time": "2022-09-23T13:54:35.631Z"
   },
   {
    "duration": 5,
    "start_time": "2022-09-23T13:54:35.645Z"
   },
   {
    "duration": 10,
    "start_time": "2022-09-23T13:54:35.651Z"
   },
   {
    "duration": 6,
    "start_time": "2022-09-23T13:54:35.663Z"
   },
   {
    "duration": 38,
    "start_time": "2022-09-23T13:54:35.671Z"
   },
   {
    "duration": 5,
    "start_time": "2022-09-23T13:54:35.712Z"
   },
   {
    "duration": 7,
    "start_time": "2022-09-23T13:54:35.719Z"
   },
   {
    "duration": 14,
    "start_time": "2022-09-23T13:54:35.727Z"
   },
   {
    "duration": 7,
    "start_time": "2022-09-23T13:54:35.743Z"
   },
   {
    "duration": 6,
    "start_time": "2022-09-23T13:54:35.752Z"
   },
   {
    "duration": 13,
    "start_time": "2022-09-23T13:54:35.760Z"
   },
   {
    "duration": 35,
    "start_time": "2022-09-23T13:54:35.775Z"
   },
   {
    "duration": 24,
    "start_time": "2022-09-23T13:54:35.812Z"
   },
   {
    "duration": 18,
    "start_time": "2022-09-23T13:54:35.838Z"
   },
   {
    "duration": 21,
    "start_time": "2022-09-23T13:54:35.858Z"
   },
   {
    "duration": 31,
    "start_time": "2022-09-23T13:54:35.881Z"
   },
   {
    "duration": 4,
    "start_time": "2022-09-23T13:54:35.914Z"
   },
   {
    "duration": 8,
    "start_time": "2022-09-23T13:54:35.920Z"
   },
   {
    "duration": 8,
    "start_time": "2022-09-23T13:54:35.930Z"
   },
   {
    "duration": 177,
    "start_time": "2022-09-23T13:54:35.939Z"
   },
   {
    "duration": 227,
    "start_time": "2022-09-23T13:54:36.118Z"
   },
   {
    "duration": 960,
    "start_time": "2022-09-23T13:54:36.347Z"
   },
   {
    "duration": 3,
    "start_time": "2022-09-23T13:54:37.309Z"
   },
   {
    "duration": 14,
    "start_time": "2022-09-23T13:54:37.314Z"
   },
   {
    "duration": 281,
    "start_time": "2022-09-23T13:54:37.330Z"
   },
   {
    "duration": 161,
    "start_time": "2022-09-23T13:54:37.613Z"
   },
   {
    "duration": 1297,
    "start_time": "2022-09-23T13:54:37.775Z"
   },
   {
    "duration": 8,
    "start_time": "2022-09-23T13:54:39.073Z"
   },
   {
    "duration": 224,
    "start_time": "2022-09-23T13:54:39.084Z"
   },
   {
    "duration": 110,
    "start_time": "2022-09-23T13:54:39.311Z"
   },
   {
    "duration": 283,
    "start_time": "2022-09-23T13:54:39.423Z"
   },
   {
    "duration": 13,
    "start_time": "2022-09-23T13:54:39.709Z"
   },
   {
    "duration": 8852,
    "start_time": "2022-09-23T13:54:39.723Z"
   },
   {
    "duration": 74,
    "start_time": "2022-09-23T13:54:48.577Z"
   },
   {
    "duration": 191,
    "start_time": "2022-09-23T13:54:48.653Z"
   },
   {
    "duration": 1355,
    "start_time": "2022-09-23T13:55:22.777Z"
   },
   {
    "duration": 48,
    "start_time": "2022-09-23T13:55:24.134Z"
   },
   {
    "duration": 25,
    "start_time": "2022-09-23T13:55:24.184Z"
   },
   {
    "duration": 17,
    "start_time": "2022-09-23T13:55:24.212Z"
   },
   {
    "duration": 38,
    "start_time": "2022-09-23T13:55:24.231Z"
   },
   {
    "duration": 15,
    "start_time": "2022-09-23T13:55:24.271Z"
   },
   {
    "duration": 12,
    "start_time": "2022-09-23T13:55:24.308Z"
   },
   {
    "duration": 13,
    "start_time": "2022-09-23T13:55:24.322Z"
   },
   {
    "duration": 9,
    "start_time": "2022-09-23T13:55:24.336Z"
   },
   {
    "duration": 5,
    "start_time": "2022-09-23T13:55:24.347Z"
   },
   {
    "duration": 9,
    "start_time": "2022-09-23T13:55:24.354Z"
   },
   {
    "duration": 16,
    "start_time": "2022-09-23T13:55:24.364Z"
   },
   {
    "duration": 29,
    "start_time": "2022-09-23T13:55:24.381Z"
   },
   {
    "duration": 22,
    "start_time": "2022-09-23T13:55:24.412Z"
   },
   {
    "duration": 25,
    "start_time": "2022-09-23T13:55:24.435Z"
   },
   {
    "duration": 34,
    "start_time": "2022-09-23T13:55:24.462Z"
   },
   {
    "duration": 13,
    "start_time": "2022-09-23T13:55:24.498Z"
   },
   {
    "duration": 28,
    "start_time": "2022-09-23T13:55:24.512Z"
   },
   {
    "duration": 27,
    "start_time": "2022-09-23T13:55:24.541Z"
   },
   {
    "duration": 28,
    "start_time": "2022-09-23T13:55:24.569Z"
   },
   {
    "duration": 26,
    "start_time": "2022-09-23T13:55:24.599Z"
   },
   {
    "duration": 16,
    "start_time": "2022-09-23T13:55:24.627Z"
   },
   {
    "duration": 34,
    "start_time": "2022-09-23T13:55:24.644Z"
   },
   {
    "duration": 16,
    "start_time": "2022-09-23T13:55:24.679Z"
   },
   {
    "duration": 40,
    "start_time": "2022-09-23T13:55:24.696Z"
   },
   {
    "duration": 33,
    "start_time": "2022-09-23T13:55:24.737Z"
   },
   {
    "duration": 44,
    "start_time": "2022-09-23T13:55:24.771Z"
   },
   {
    "duration": 17,
    "start_time": "2022-09-23T13:55:24.820Z"
   },
   {
    "duration": 16,
    "start_time": "2022-09-23T13:55:24.838Z"
   },
   {
    "duration": 19,
    "start_time": "2022-09-23T13:55:24.855Z"
   },
   {
    "duration": 8,
    "start_time": "2022-09-23T13:55:24.876Z"
   },
   {
    "duration": 225,
    "start_time": "2022-09-23T13:55:24.886Z"
   },
   {
    "duration": 141,
    "start_time": "2022-09-23T13:55:25.113Z"
   },
   {
    "duration": 956,
    "start_time": "2022-09-23T13:55:25.255Z"
   },
   {
    "duration": 3,
    "start_time": "2022-09-23T13:55:26.213Z"
   },
   {
    "duration": 57,
    "start_time": "2022-09-23T13:55:26.218Z"
   },
   {
    "duration": 332,
    "start_time": "2022-09-23T13:55:26.277Z"
   },
   {
    "duration": 168,
    "start_time": "2022-09-23T13:55:26.611Z"
   },
   {
    "duration": 1346,
    "start_time": "2022-09-23T13:55:26.782Z"
   },
   {
    "duration": 10,
    "start_time": "2022-09-23T13:55:28.129Z"
   },
   {
    "duration": 167,
    "start_time": "2022-09-23T13:55:28.141Z"
   },
   {
    "duration": 129,
    "start_time": "2022-09-23T13:55:28.310Z"
   },
   {
    "duration": 283,
    "start_time": "2022-09-23T13:55:28.441Z"
   },
   {
    "duration": 13,
    "start_time": "2022-09-23T13:55:28.725Z"
   },
   {
    "duration": 9089,
    "start_time": "2022-09-23T13:55:28.739Z"
   },
   {
    "duration": 64,
    "start_time": "2022-09-23T13:55:37.830Z"
   },
   {
    "duration": 199,
    "start_time": "2022-09-23T13:55:37.896Z"
   },
   {
    "duration": 1427,
    "start_time": "2022-09-23T13:56:02.888Z"
   },
   {
    "duration": 40,
    "start_time": "2022-09-23T13:56:04.317Z"
   },
   {
    "duration": 16,
    "start_time": "2022-09-23T13:56:04.359Z"
   },
   {
    "duration": 15,
    "start_time": "2022-09-23T13:56:04.376Z"
   },
   {
    "duration": 35,
    "start_time": "2022-09-23T13:56:04.393Z"
   },
   {
    "duration": 16,
    "start_time": "2022-09-23T13:56:04.430Z"
   },
   {
    "duration": 12,
    "start_time": "2022-09-23T13:56:04.447Z"
   },
   {
    "duration": 8,
    "start_time": "2022-09-23T13:56:04.460Z"
   },
   {
    "duration": 5,
    "start_time": "2022-09-23T13:56:04.469Z"
   },
   {
    "duration": 5,
    "start_time": "2022-09-23T13:56:04.475Z"
   },
   {
    "duration": 29,
    "start_time": "2022-09-23T13:56:04.481Z"
   },
   {
    "duration": 4,
    "start_time": "2022-09-23T13:56:04.512Z"
   },
   {
    "duration": 5,
    "start_time": "2022-09-23T13:56:04.518Z"
   },
   {
    "duration": 5,
    "start_time": "2022-09-23T13:56:04.526Z"
   },
   {
    "duration": 7,
    "start_time": "2022-09-23T13:56:04.532Z"
   },
   {
    "duration": 8,
    "start_time": "2022-09-23T13:56:04.541Z"
   },
   {
    "duration": 8,
    "start_time": "2022-09-23T13:56:04.551Z"
   },
   {
    "duration": 48,
    "start_time": "2022-09-23T13:56:04.561Z"
   },
   {
    "duration": 6,
    "start_time": "2022-09-23T13:56:04.610Z"
   },
   {
    "duration": 10,
    "start_time": "2022-09-23T13:56:04.617Z"
   },
   {
    "duration": 6,
    "start_time": "2022-09-23T13:56:04.628Z"
   },
   {
    "duration": 4,
    "start_time": "2022-09-23T13:56:04.635Z"
   },
   {
    "duration": 7,
    "start_time": "2022-09-23T13:56:04.641Z"
   },
   {
    "duration": 10,
    "start_time": "2022-09-23T13:56:04.649Z"
   },
   {
    "duration": 59,
    "start_time": "2022-09-23T13:56:04.660Z"
   },
   {
    "duration": 20,
    "start_time": "2022-09-23T13:56:04.720Z"
   },
   {
    "duration": 21,
    "start_time": "2022-09-23T13:56:04.741Z"
   },
   {
    "duration": 5,
    "start_time": "2022-09-23T13:56:04.763Z"
   },
   {
    "duration": 6,
    "start_time": "2022-09-23T13:56:04.769Z"
   },
   {
    "duration": 8,
    "start_time": "2022-09-23T13:56:04.777Z"
   },
   {
    "duration": 27,
    "start_time": "2022-09-23T13:56:04.786Z"
   },
   {
    "duration": 395,
    "start_time": "2022-09-23T13:56:04.815Z"
   },
   {
    "duration": 142,
    "start_time": "2022-09-23T13:56:05.212Z"
   },
   {
    "duration": 953,
    "start_time": "2022-09-23T13:56:05.356Z"
   },
   {
    "duration": 4,
    "start_time": "2022-09-23T13:56:06.311Z"
   },
   {
    "duration": 15,
    "start_time": "2022-09-23T13:56:06.317Z"
   },
   {
    "duration": 279,
    "start_time": "2022-09-23T13:56:06.333Z"
   },
   {
    "duration": 197,
    "start_time": "2022-09-23T13:56:06.614Z"
   },
   {
    "duration": 1359,
    "start_time": "2022-09-23T13:56:06.813Z"
   },
   {
    "duration": 7,
    "start_time": "2022-09-23T13:56:08.174Z"
   },
   {
    "duration": 132,
    "start_time": "2022-09-23T13:56:08.186Z"
   },
   {
    "duration": 190,
    "start_time": "2022-09-23T13:56:08.320Z"
   },
   {
    "duration": 280,
    "start_time": "2022-09-23T13:56:08.512Z"
   },
   {
    "duration": 17,
    "start_time": "2022-09-23T13:56:08.793Z"
   },
   {
    "duration": 9293,
    "start_time": "2022-09-23T13:56:08.812Z"
   },
   {
    "duration": 70,
    "start_time": "2022-09-23T13:56:18.109Z"
   },
   {
    "duration": 201,
    "start_time": "2022-09-23T13:56:18.180Z"
   },
   {
    "duration": 4,
    "start_time": "2022-09-23T13:56:44.729Z"
   },
   {
    "duration": 16,
    "start_time": "2022-09-23T13:56:49.084Z"
   },
   {
    "duration": 360,
    "start_time": "2022-09-23T13:56:51.453Z"
   },
   {
    "duration": 3,
    "start_time": "2022-09-23T13:56:54.690Z"
   },
   {
    "duration": 14,
    "start_time": "2022-09-23T13:56:55.288Z"
   },
   {
    "duration": 493,
    "start_time": "2022-09-23T13:56:56.718Z"
   },
   {
    "duration": 3,
    "start_time": "2022-09-23T13:56:59.319Z"
   },
   {
    "duration": 20,
    "start_time": "2022-09-23T13:56:59.816Z"
   },
   {
    "duration": 367,
    "start_time": "2022-09-23T13:57:00.743Z"
   },
   {
    "duration": 76,
    "start_time": "2022-09-23T13:57:03.889Z"
   },
   {
    "duration": 1303,
    "start_time": "2022-09-23T13:57:06.178Z"
   },
   {
    "duration": 275,
    "start_time": "2022-09-23T13:57:44.524Z"
   },
   {
    "duration": 64,
    "start_time": "2022-09-23T13:58:21.918Z"
   },
   {
    "duration": 66,
    "start_time": "2022-09-23T13:58:28.776Z"
   },
   {
    "duration": 1328,
    "start_time": "2022-09-23T13:58:35.568Z"
   },
   {
    "duration": 41,
    "start_time": "2022-09-23T13:58:36.898Z"
   },
   {
    "duration": 15,
    "start_time": "2022-09-23T13:58:36.944Z"
   },
   {
    "duration": 12,
    "start_time": "2022-09-23T13:58:36.961Z"
   },
   {
    "duration": 39,
    "start_time": "2022-09-23T13:58:36.974Z"
   },
   {
    "duration": 16,
    "start_time": "2022-09-23T13:58:37.015Z"
   },
   {
    "duration": 11,
    "start_time": "2022-09-23T13:58:37.032Z"
   },
   {
    "duration": 7,
    "start_time": "2022-09-23T13:58:37.044Z"
   },
   {
    "duration": 7,
    "start_time": "2022-09-23T13:58:37.053Z"
   },
   {
    "duration": 11,
    "start_time": "2022-09-23T13:58:37.062Z"
   },
   {
    "duration": 36,
    "start_time": "2022-09-23T13:58:37.074Z"
   },
   {
    "duration": 6,
    "start_time": "2022-09-23T13:58:37.111Z"
   },
   {
    "duration": 6,
    "start_time": "2022-09-23T13:58:37.119Z"
   },
   {
    "duration": 7,
    "start_time": "2022-09-23T13:58:37.126Z"
   },
   {
    "duration": 6,
    "start_time": "2022-09-23T13:58:37.134Z"
   },
   {
    "duration": 9,
    "start_time": "2022-09-23T13:58:37.142Z"
   },
   {
    "duration": 10,
    "start_time": "2022-09-23T13:58:37.153Z"
   },
   {
    "duration": 6,
    "start_time": "2022-09-23T13:58:37.164Z"
   },
   {
    "duration": 8,
    "start_time": "2022-09-23T13:58:37.172Z"
   },
   {
    "duration": 7,
    "start_time": "2022-09-23T13:58:37.209Z"
   },
   {
    "duration": 9,
    "start_time": "2022-09-23T13:58:37.218Z"
   },
   {
    "duration": 7,
    "start_time": "2022-09-23T13:58:37.229Z"
   },
   {
    "duration": 8,
    "start_time": "2022-09-23T13:58:37.238Z"
   },
   {
    "duration": 9,
    "start_time": "2022-09-23T13:58:37.248Z"
   },
   {
    "duration": 25,
    "start_time": "2022-09-23T13:58:37.259Z"
   },
   {
    "duration": 17,
    "start_time": "2022-09-23T13:58:37.309Z"
   },
   {
    "duration": 20,
    "start_time": "2022-09-23T13:58:37.328Z"
   },
   {
    "duration": 6,
    "start_time": "2022-09-23T13:58:37.351Z"
   },
   {
    "duration": 4,
    "start_time": "2022-09-23T13:58:37.358Z"
   },
   {
    "duration": 5,
    "start_time": "2022-09-23T13:58:37.364Z"
   },
   {
    "duration": 7,
    "start_time": "2022-09-23T13:58:37.371Z"
   },
   {
    "duration": 210,
    "start_time": "2022-09-23T13:58:37.409Z"
   },
   {
    "duration": 146,
    "start_time": "2022-09-23T13:58:37.710Z"
   },
   {
    "duration": 975,
    "start_time": "2022-09-23T13:58:37.858Z"
   },
   {
    "duration": 4,
    "start_time": "2022-09-23T13:58:38.835Z"
   },
   {
    "duration": 27,
    "start_time": "2022-09-23T13:58:38.840Z"
   },
   {
    "duration": 342,
    "start_time": "2022-09-23T13:58:38.869Z"
   },
   {
    "duration": 156,
    "start_time": "2022-09-23T13:58:39.213Z"
   },
   {
    "duration": 1322,
    "start_time": "2022-09-23T13:58:39.370Z"
   },
   {
    "duration": 7,
    "start_time": "2022-09-23T13:58:40.693Z"
   },
   {
    "duration": 104,
    "start_time": "2022-09-23T13:58:40.709Z"
   },
   {
    "duration": 114,
    "start_time": "2022-09-23T13:58:40.814Z"
   },
   {
    "duration": 302,
    "start_time": "2022-09-23T13:58:40.930Z"
   },
   {
    "duration": 12,
    "start_time": "2022-09-23T13:58:41.234Z"
   },
   {
    "duration": 8902,
    "start_time": "2022-09-23T13:58:41.248Z"
   },
   {
    "duration": 71,
    "start_time": "2022-09-23T13:58:50.152Z"
   },
   {
    "duration": 213,
    "start_time": "2022-09-23T13:58:50.225Z"
   },
   {
    "duration": 1372,
    "start_time": "2022-09-23T13:59:40.597Z"
   },
   {
    "duration": 41,
    "start_time": "2022-09-23T13:59:41.971Z"
   },
   {
    "duration": 17,
    "start_time": "2022-09-23T13:59:42.013Z"
   },
   {
    "duration": 19,
    "start_time": "2022-09-23T13:59:42.032Z"
   },
   {
    "duration": 35,
    "start_time": "2022-09-23T13:59:42.053Z"
   },
   {
    "duration": 33,
    "start_time": "2022-09-23T13:59:42.090Z"
   },
   {
    "duration": 12,
    "start_time": "2022-09-23T13:59:42.124Z"
   },
   {
    "duration": 14,
    "start_time": "2022-09-23T13:59:42.138Z"
   },
   {
    "duration": 22,
    "start_time": "2022-09-23T13:59:42.154Z"
   },
   {
    "duration": 26,
    "start_time": "2022-09-23T13:59:42.177Z"
   },
   {
    "duration": 21,
    "start_time": "2022-09-23T13:59:42.204Z"
   },
   {
    "duration": 32,
    "start_time": "2022-09-23T13:59:42.227Z"
   },
   {
    "duration": 21,
    "start_time": "2022-09-23T13:59:42.260Z"
   },
   {
    "duration": 23,
    "start_time": "2022-09-23T13:59:42.284Z"
   },
   {
    "duration": 33,
    "start_time": "2022-09-23T13:59:42.309Z"
   },
   {
    "duration": 15,
    "start_time": "2022-09-23T13:59:42.344Z"
   },
   {
    "duration": 28,
    "start_time": "2022-09-23T13:59:42.361Z"
   },
   {
    "duration": 10,
    "start_time": "2022-09-23T13:59:42.390Z"
   },
   {
    "duration": 18,
    "start_time": "2022-09-23T13:59:42.402Z"
   },
   {
    "duration": 17,
    "start_time": "2022-09-23T13:59:42.421Z"
   },
   {
    "duration": 6,
    "start_time": "2022-09-23T13:59:42.440Z"
   },
   {
    "duration": 4,
    "start_time": "2022-09-23T13:59:42.448Z"
   },
   {
    "duration": 19,
    "start_time": "2022-09-23T13:59:42.453Z"
   },
   {
    "duration": 18,
    "start_time": "2022-09-23T13:59:42.474Z"
   },
   {
    "duration": 19,
    "start_time": "2022-09-23T13:59:42.493Z"
   },
   {
    "duration": 44,
    "start_time": "2022-09-23T13:59:42.513Z"
   },
   {
    "duration": 25,
    "start_time": "2022-09-23T13:59:42.559Z"
   },
   {
    "duration": 17,
    "start_time": "2022-09-23T13:59:42.586Z"
   },
   {
    "duration": 22,
    "start_time": "2022-09-23T13:59:42.605Z"
   },
   {
    "duration": 11,
    "start_time": "2022-09-23T13:59:42.629Z"
   },
   {
    "duration": 15,
    "start_time": "2022-09-23T13:59:42.642Z"
   },
   {
    "duration": 151,
    "start_time": "2022-09-23T13:59:42.659Z"
   },
   {
    "duration": 150,
    "start_time": "2022-09-23T13:59:42.813Z"
   },
   {
    "duration": 971,
    "start_time": "2022-09-23T13:59:42.965Z"
   },
   {
    "duration": 4,
    "start_time": "2022-09-23T13:59:43.937Z"
   },
   {
    "duration": 20,
    "start_time": "2022-09-23T13:59:43.942Z"
   },
   {
    "duration": 352,
    "start_time": "2022-09-23T13:59:43.965Z"
   },
   {
    "duration": 246,
    "start_time": "2022-09-23T13:59:44.319Z"
   },
   {
    "duration": 1330,
    "start_time": "2022-09-23T13:59:44.567Z"
   },
   {
    "duration": 12,
    "start_time": "2022-09-23T13:59:45.899Z"
   },
   {
    "duration": 96,
    "start_time": "2022-09-23T13:59:45.915Z"
   },
   {
    "duration": 119,
    "start_time": "2022-09-23T13:59:46.013Z"
   },
   {
    "duration": 282,
    "start_time": "2022-09-23T13:59:46.133Z"
   },
   {
    "duration": 13,
    "start_time": "2022-09-23T13:59:46.417Z"
   },
   {
    "duration": 9245,
    "start_time": "2022-09-23T13:59:46.432Z"
   },
   {
    "duration": 72,
    "start_time": "2022-09-23T13:59:55.679Z"
   },
   {
    "duration": 205,
    "start_time": "2022-09-23T13:59:55.753Z"
   },
   {
    "duration": 1321,
    "start_time": "2022-09-23T14:00:20.036Z"
   },
   {
    "duration": 41,
    "start_time": "2022-09-23T14:00:21.359Z"
   },
   {
    "duration": 16,
    "start_time": "2022-09-23T14:00:21.401Z"
   },
   {
    "duration": 16,
    "start_time": "2022-09-23T14:00:21.418Z"
   },
   {
    "duration": 34,
    "start_time": "2022-09-23T14:00:21.437Z"
   },
   {
    "duration": 16,
    "start_time": "2022-09-23T14:00:21.472Z"
   },
   {
    "duration": 28,
    "start_time": "2022-09-23T14:00:21.490Z"
   },
   {
    "duration": 7,
    "start_time": "2022-09-23T14:00:21.520Z"
   },
   {
    "duration": 10,
    "start_time": "2022-09-23T14:00:21.528Z"
   },
   {
    "duration": 13,
    "start_time": "2022-09-23T14:00:21.539Z"
   },
   {
    "duration": 8,
    "start_time": "2022-09-23T14:00:21.554Z"
   },
   {
    "duration": 6,
    "start_time": "2022-09-23T14:00:21.564Z"
   },
   {
    "duration": 7,
    "start_time": "2022-09-23T14:00:21.571Z"
   },
   {
    "duration": 31,
    "start_time": "2022-09-23T14:00:21.581Z"
   },
   {
    "duration": 5,
    "start_time": "2022-09-23T14:00:21.613Z"
   },
   {
    "duration": 5,
    "start_time": "2022-09-23T14:00:21.620Z"
   },
   {
    "duration": 9,
    "start_time": "2022-09-23T14:00:21.627Z"
   },
   {
    "duration": 5,
    "start_time": "2022-09-23T14:00:21.638Z"
   },
   {
    "duration": 6,
    "start_time": "2022-09-23T14:00:21.645Z"
   },
   {
    "duration": 9,
    "start_time": "2022-09-23T14:00:21.652Z"
   },
   {
    "duration": 47,
    "start_time": "2022-09-23T14:00:21.663Z"
   },
   {
    "duration": 5,
    "start_time": "2022-09-23T14:00:21.711Z"
   },
   {
    "duration": 9,
    "start_time": "2022-09-23T14:00:21.717Z"
   },
   {
    "duration": 13,
    "start_time": "2022-09-23T14:00:21.728Z"
   },
   {
    "duration": 16,
    "start_time": "2022-09-23T14:00:21.742Z"
   },
   {
    "duration": 18,
    "start_time": "2022-09-23T14:00:21.759Z"
   },
   {
    "duration": 45,
    "start_time": "2022-09-23T14:00:21.778Z"
   },
   {
    "duration": 5,
    "start_time": "2022-09-23T14:00:21.825Z"
   },
   {
    "duration": 4,
    "start_time": "2022-09-23T14:00:21.832Z"
   },
   {
    "duration": 5,
    "start_time": "2022-09-23T14:00:21.838Z"
   },
   {
    "duration": 12,
    "start_time": "2022-09-23T14:00:21.844Z"
   },
   {
    "duration": 255,
    "start_time": "2022-09-23T14:00:21.858Z"
   },
   {
    "duration": 206,
    "start_time": "2022-09-23T14:00:22.115Z"
   },
   {
    "duration": 1008,
    "start_time": "2022-09-23T14:00:22.323Z"
   },
   {
    "duration": 3,
    "start_time": "2022-09-23T14:00:23.333Z"
   },
   {
    "duration": 40,
    "start_time": "2022-09-23T14:00:23.337Z"
   },
   {
    "duration": 333,
    "start_time": "2022-09-23T14:00:23.379Z"
   },
   {
    "duration": 249,
    "start_time": "2022-09-23T14:00:23.714Z"
   },
   {
    "duration": 1337,
    "start_time": "2022-09-23T14:00:23.964Z"
   },
   {
    "duration": 8,
    "start_time": "2022-09-23T14:00:25.302Z"
   },
   {
    "duration": 113,
    "start_time": "2022-09-23T14:00:25.313Z"
   },
   {
    "duration": 112,
    "start_time": "2022-09-23T14:00:25.510Z"
   },
   {
    "duration": 286,
    "start_time": "2022-09-23T14:00:25.623Z"
   },
   {
    "duration": 13,
    "start_time": "2022-09-23T14:00:25.910Z"
   },
   {
    "duration": 9092,
    "start_time": "2022-09-23T14:00:25.924Z"
   },
   {
    "duration": 67,
    "start_time": "2022-09-23T14:00:35.017Z"
   },
   {
    "duration": 226,
    "start_time": "2022-09-23T14:00:35.085Z"
   },
   {
    "duration": 1433,
    "start_time": "2022-09-23T14:00:58.081Z"
   },
   {
    "duration": 40,
    "start_time": "2022-09-23T14:00:59.516Z"
   },
   {
    "duration": 17,
    "start_time": "2022-09-23T14:00:59.557Z"
   },
   {
    "duration": 17,
    "start_time": "2022-09-23T14:00:59.576Z"
   },
   {
    "duration": 56,
    "start_time": "2022-09-23T14:00:59.595Z"
   },
   {
    "duration": 26,
    "start_time": "2022-09-23T14:00:59.652Z"
   },
   {
    "duration": 29,
    "start_time": "2022-09-23T14:00:59.680Z"
   },
   {
    "duration": 6,
    "start_time": "2022-09-23T14:00:59.711Z"
   },
   {
    "duration": 8,
    "start_time": "2022-09-23T14:00:59.718Z"
   },
   {
    "duration": 7,
    "start_time": "2022-09-23T14:00:59.728Z"
   },
   {
    "duration": 6,
    "start_time": "2022-09-23T14:00:59.736Z"
   },
   {
    "duration": 6,
    "start_time": "2022-09-23T14:00:59.743Z"
   },
   {
    "duration": 6,
    "start_time": "2022-09-23T14:00:59.751Z"
   },
   {
    "duration": 7,
    "start_time": "2022-09-23T14:00:59.758Z"
   },
   {
    "duration": 9,
    "start_time": "2022-09-23T14:00:59.767Z"
   },
   {
    "duration": 6,
    "start_time": "2022-09-23T14:00:59.809Z"
   },
   {
    "duration": 12,
    "start_time": "2022-09-23T14:00:59.817Z"
   },
   {
    "duration": 7,
    "start_time": "2022-09-23T14:00:59.831Z"
   },
   {
    "duration": 6,
    "start_time": "2022-09-23T14:00:59.840Z"
   },
   {
    "duration": 8,
    "start_time": "2022-09-23T14:00:59.848Z"
   },
   {
    "duration": 12,
    "start_time": "2022-09-23T14:00:59.858Z"
   },
   {
    "duration": 39,
    "start_time": "2022-09-23T14:00:59.872Z"
   },
   {
    "duration": 8,
    "start_time": "2022-09-23T14:00:59.914Z"
   },
   {
    "duration": 13,
    "start_time": "2022-09-23T14:00:59.924Z"
   },
   {
    "duration": 18,
    "start_time": "2022-09-23T14:00:59.939Z"
   },
   {
    "duration": 17,
    "start_time": "2022-09-23T14:00:59.959Z"
   },
   {
    "duration": 45,
    "start_time": "2022-09-23T14:00:59.978Z"
   },
   {
    "duration": 6,
    "start_time": "2022-09-23T14:01:00.027Z"
   },
   {
    "duration": 16,
    "start_time": "2022-09-23T14:01:00.034Z"
   },
   {
    "duration": 32,
    "start_time": "2022-09-23T14:01:00.052Z"
   },
   {
    "duration": 12,
    "start_time": "2022-09-23T14:01:00.086Z"
   },
   {
    "duration": 218,
    "start_time": "2022-09-23T14:01:00.099Z"
   },
   {
    "duration": 228,
    "start_time": "2022-09-23T14:01:00.319Z"
   },
   {
    "duration": 967,
    "start_time": "2022-09-23T14:01:00.549Z"
   },
   {
    "duration": 3,
    "start_time": "2022-09-23T14:01:01.517Z"
   },
   {
    "duration": 68,
    "start_time": "2022-09-23T14:01:01.522Z"
   },
   {
    "duration": 321,
    "start_time": "2022-09-23T14:01:01.592Z"
   },
   {
    "duration": 164,
    "start_time": "2022-09-23T14:01:01.915Z"
   },
   {
    "duration": 1374,
    "start_time": "2022-09-23T14:01:02.083Z"
   },
   {
    "duration": 7,
    "start_time": "2022-09-23T14:01:03.459Z"
   },
   {
    "duration": 148,
    "start_time": "2022-09-23T14:01:03.467Z"
   },
   {
    "duration": 110,
    "start_time": "2022-09-23T14:01:03.617Z"
   },
   {
    "duration": 308,
    "start_time": "2022-09-23T14:01:03.728Z"
   },
   {
    "duration": 14,
    "start_time": "2022-09-23T14:01:04.037Z"
   },
   {
    "duration": 9961,
    "start_time": "2022-09-23T14:01:04.052Z"
   },
   {
    "duration": 73,
    "start_time": "2022-09-23T14:01:14.015Z"
   },
   {
    "duration": 269,
    "start_time": "2022-09-23T14:01:14.089Z"
   },
   {
    "duration": 294,
    "start_time": "2022-09-23T14:01:36.836Z"
   },
   {
    "duration": 14,
    "start_time": "2022-09-23T14:01:44.005Z"
   },
   {
    "duration": 4768,
    "start_time": "2022-09-23T14:01:45.353Z"
   },
   {
    "duration": 64,
    "start_time": "2022-09-23T14:01:50.123Z"
   },
   {
    "duration": 14,
    "start_time": "2022-09-23T14:01:56.281Z"
   },
   {
    "duration": 2678,
    "start_time": "2022-09-23T14:01:57.072Z"
   },
   {
    "duration": 72,
    "start_time": "2022-09-23T14:01:59.752Z"
   },
   {
    "duration": 125,
    "start_time": "2022-09-23T14:02:49.300Z"
   },
   {
    "duration": 4,
    "start_time": "2022-09-23T14:04:24.040Z"
   },
   {
    "duration": 8,
    "start_time": "2022-09-23T14:04:28.524Z"
   },
   {
    "duration": 5,
    "start_time": "2022-09-23T14:04:35.707Z"
   },
   {
    "duration": 7,
    "start_time": "2022-09-23T14:04:36.568Z"
   },
   {
    "duration": 1394,
    "start_time": "2022-09-23T14:04:44.585Z"
   },
   {
    "duration": 45,
    "start_time": "2022-09-23T14:04:45.981Z"
   },
   {
    "duration": 21,
    "start_time": "2022-09-23T14:04:46.027Z"
   },
   {
    "duration": 14,
    "start_time": "2022-09-23T14:04:46.050Z"
   },
   {
    "duration": 53,
    "start_time": "2022-09-23T14:04:46.066Z"
   },
   {
    "duration": 26,
    "start_time": "2022-09-23T14:04:46.120Z"
   },
   {
    "duration": 15,
    "start_time": "2022-09-23T14:04:46.148Z"
   },
   {
    "duration": 16,
    "start_time": "2022-09-23T14:04:46.165Z"
   },
   {
    "duration": 6,
    "start_time": "2022-09-23T14:04:46.184Z"
   },
   {
    "duration": 6,
    "start_time": "2022-09-23T14:04:46.210Z"
   },
   {
    "duration": 10,
    "start_time": "2022-09-23T14:04:46.218Z"
   },
   {
    "duration": 7,
    "start_time": "2022-09-23T14:04:46.230Z"
   },
   {
    "duration": 12,
    "start_time": "2022-09-23T14:04:46.239Z"
   },
   {
    "duration": 7,
    "start_time": "2022-09-23T14:04:46.253Z"
   },
   {
    "duration": 6,
    "start_time": "2022-09-23T14:04:46.262Z"
   },
   {
    "duration": 42,
    "start_time": "2022-09-23T14:04:46.270Z"
   },
   {
    "duration": 12,
    "start_time": "2022-09-23T14:04:46.315Z"
   },
   {
    "duration": 7,
    "start_time": "2022-09-23T14:04:46.330Z"
   },
   {
    "duration": 14,
    "start_time": "2022-09-23T14:04:46.339Z"
   },
   {
    "duration": 13,
    "start_time": "2022-09-23T14:04:46.354Z"
   },
   {
    "duration": 6,
    "start_time": "2022-09-23T14:04:46.369Z"
   },
   {
    "duration": 32,
    "start_time": "2022-09-23T14:04:46.377Z"
   },
   {
    "duration": 9,
    "start_time": "2022-09-23T14:04:46.410Z"
   },
   {
    "duration": 13,
    "start_time": "2022-09-23T14:04:46.420Z"
   },
   {
    "duration": 16,
    "start_time": "2022-09-23T14:04:46.435Z"
   },
   {
    "duration": 21,
    "start_time": "2022-09-23T14:04:46.453Z"
   },
   {
    "duration": 46,
    "start_time": "2022-09-23T14:04:46.476Z"
   },
   {
    "duration": 5,
    "start_time": "2022-09-23T14:04:46.526Z"
   },
   {
    "duration": 9,
    "start_time": "2022-09-23T14:04:46.533Z"
   },
   {
    "duration": 19,
    "start_time": "2022-09-23T14:04:46.544Z"
   },
   {
    "duration": 16,
    "start_time": "2022-09-23T14:04:46.565Z"
   },
   {
    "duration": 731,
    "start_time": "2022-09-23T14:04:46.582Z"
   },
   {
    "duration": 150,
    "start_time": "2022-09-23T14:04:47.316Z"
   },
   {
    "duration": 1003,
    "start_time": "2022-09-23T14:04:47.468Z"
   },
   {
    "duration": 3,
    "start_time": "2022-09-23T14:04:48.473Z"
   },
   {
    "duration": 31,
    "start_time": "2022-09-23T14:04:48.477Z"
   },
   {
    "duration": 507,
    "start_time": "2022-09-23T14:04:48.510Z"
   },
   {
    "duration": 250,
    "start_time": "2022-09-23T14:04:49.020Z"
   },
   {
    "duration": 1333,
    "start_time": "2022-09-23T14:04:49.272Z"
   },
   {
    "duration": 7,
    "start_time": "2022-09-23T14:04:50.608Z"
   },
   {
    "duration": 295,
    "start_time": "2022-09-23T14:04:50.617Z"
   },
   {
    "duration": 109,
    "start_time": "2022-09-23T14:04:50.914Z"
   },
   {
    "duration": 308,
    "start_time": "2022-09-23T14:04:51.026Z"
   },
   {
    "duration": 14,
    "start_time": "2022-09-23T14:04:51.335Z"
   },
   {
    "duration": 9874,
    "start_time": "2022-09-23T14:04:51.350Z"
   },
   {
    "duration": 67,
    "start_time": "2022-09-23T14:05:01.226Z"
   },
   {
    "duration": 220,
    "start_time": "2022-09-23T14:05:01.295Z"
   },
   {
    "duration": 1269,
    "start_time": "2022-09-23T14:05:23.246Z"
   },
   {
    "duration": 42,
    "start_time": "2022-09-23T14:05:24.517Z"
   },
   {
    "duration": 16,
    "start_time": "2022-09-23T14:05:24.560Z"
   },
   {
    "duration": 13,
    "start_time": "2022-09-23T14:05:24.578Z"
   },
   {
    "duration": 34,
    "start_time": "2022-09-23T14:05:24.594Z"
   },
   {
    "duration": 17,
    "start_time": "2022-09-23T14:05:24.630Z"
   },
   {
    "duration": 11,
    "start_time": "2022-09-23T14:05:24.649Z"
   },
   {
    "duration": 6,
    "start_time": "2022-09-23T14:05:24.662Z"
   },
   {
    "duration": 9,
    "start_time": "2022-09-23T14:05:24.670Z"
   },
   {
    "duration": 28,
    "start_time": "2022-09-23T14:05:24.680Z"
   },
   {
    "duration": 7,
    "start_time": "2022-09-23T14:05:24.710Z"
   },
   {
    "duration": 7,
    "start_time": "2022-09-23T14:05:24.719Z"
   },
   {
    "duration": 9,
    "start_time": "2022-09-23T14:05:24.727Z"
   },
   {
    "duration": 9,
    "start_time": "2022-09-23T14:05:24.739Z"
   },
   {
    "duration": 7,
    "start_time": "2022-09-23T14:05:24.749Z"
   },
   {
    "duration": 8,
    "start_time": "2022-09-23T14:05:24.757Z"
   },
   {
    "duration": 11,
    "start_time": "2022-09-23T14:05:24.766Z"
   },
   {
    "duration": 9,
    "start_time": "2022-09-23T14:05:24.779Z"
   },
   {
    "duration": 22,
    "start_time": "2022-09-23T14:05:24.789Z"
   },
   {
    "duration": 9,
    "start_time": "2022-09-23T14:05:24.813Z"
   },
   {
    "duration": 9,
    "start_time": "2022-09-23T14:05:24.824Z"
   },
   {
    "duration": 5,
    "start_time": "2022-09-23T14:05:24.834Z"
   },
   {
    "duration": 12,
    "start_time": "2022-09-23T14:05:24.841Z"
   },
   {
    "duration": 11,
    "start_time": "2022-09-23T14:05:24.855Z"
   },
   {
    "duration": 43,
    "start_time": "2022-09-23T14:05:24.868Z"
   },
   {
    "duration": 19,
    "start_time": "2022-09-23T14:05:24.913Z"
   },
   {
    "duration": 20,
    "start_time": "2022-09-23T14:05:24.933Z"
   },
   {
    "duration": 5,
    "start_time": "2022-09-23T14:05:24.955Z"
   },
   {
    "duration": 5,
    "start_time": "2022-09-23T14:05:24.962Z"
   },
   {
    "duration": 7,
    "start_time": "2022-09-23T14:05:24.969Z"
   },
   {
    "duration": 31,
    "start_time": "2022-09-23T14:05:24.977Z"
   },
   {
    "duration": 201,
    "start_time": "2022-09-23T14:05:25.010Z"
   },
   {
    "duration": 142,
    "start_time": "2022-09-23T14:05:25.213Z"
   },
   {
    "duration": 997,
    "start_time": "2022-09-23T14:05:25.357Z"
   },
   {
    "duration": 4,
    "start_time": "2022-09-23T14:05:26.356Z"
   },
   {
    "duration": 26,
    "start_time": "2022-09-23T14:05:26.361Z"
   },
   {
    "duration": 324,
    "start_time": "2022-09-23T14:05:26.389Z"
   },
   {
    "duration": 196,
    "start_time": "2022-09-23T14:05:26.715Z"
   },
   {
    "duration": 1336,
    "start_time": "2022-09-23T14:05:26.913Z"
   },
   {
    "duration": 8,
    "start_time": "2022-09-23T14:05:28.250Z"
   },
   {
    "duration": 154,
    "start_time": "2022-09-23T14:05:28.261Z"
   },
   {
    "duration": 114,
    "start_time": "2022-09-23T14:05:28.416Z"
   },
   {
    "duration": 283,
    "start_time": "2022-09-23T14:05:28.531Z"
   },
   {
    "duration": 12,
    "start_time": "2022-09-23T14:05:28.816Z"
   },
   {
    "duration": 9366,
    "start_time": "2022-09-23T14:05:28.829Z"
   },
   {
    "duration": 72,
    "start_time": "2022-09-23T14:05:38.197Z"
   },
   {
    "duration": 205,
    "start_time": "2022-09-23T14:05:38.271Z"
   },
   {
    "duration": 48,
    "start_time": "2022-09-26T08:50:03.900Z"
   },
   {
    "duration": 1625,
    "start_time": "2022-09-26T08:50:08.900Z"
   },
   {
    "duration": 81,
    "start_time": "2022-09-26T08:50:10.527Z"
   },
   {
    "duration": 20,
    "start_time": "2022-09-26T08:50:10.610Z"
   },
   {
    "duration": 14,
    "start_time": "2022-09-26T08:50:11.092Z"
   },
   {
    "duration": 56,
    "start_time": "2022-09-26T08:50:14.404Z"
   },
   {
    "duration": 85,
    "start_time": "2022-09-26T08:56:26.481Z"
   },
   {
    "duration": 144,
    "start_time": "2022-09-26T08:56:40.508Z"
   },
   {
    "duration": 140,
    "start_time": "2022-09-26T08:58:07.308Z"
   },
   {
    "duration": 152,
    "start_time": "2022-09-26T08:58:17.516Z"
   },
   {
    "duration": 220,
    "start_time": "2022-09-26T09:00:57.731Z"
   },
   {
    "duration": 241,
    "start_time": "2022-09-26T09:02:12.233Z"
   },
   {
    "duration": 11,
    "start_time": "2022-09-26T09:03:48.799Z"
   },
   {
    "duration": 190,
    "start_time": "2022-09-26T09:03:53.600Z"
   },
   {
    "duration": 166,
    "start_time": "2022-09-26T09:04:10.329Z"
   },
   {
    "duration": 78,
    "start_time": "2022-09-26T09:04:18.680Z"
   },
   {
    "duration": 154,
    "start_time": "2022-09-26T09:04:23.509Z"
   },
   {
    "duration": 143,
    "start_time": "2022-09-26T09:06:15.058Z"
   },
   {
    "duration": 165,
    "start_time": "2022-09-26T09:08:31.788Z"
   },
   {
    "duration": 154,
    "start_time": "2022-09-26T09:08:38.275Z"
   },
   {
    "duration": 1465,
    "start_time": "2022-09-26T09:36:18.921Z"
   },
   {
    "duration": 42,
    "start_time": "2022-09-26T09:36:20.388Z"
   },
   {
    "duration": 18,
    "start_time": "2022-09-26T09:36:20.432Z"
   },
   {
    "duration": 12,
    "start_time": "2022-09-26T09:36:20.452Z"
   },
   {
    "duration": 76,
    "start_time": "2022-09-26T09:36:20.468Z"
   },
   {
    "duration": 25,
    "start_time": "2022-09-26T09:36:20.546Z"
   },
   {
    "duration": 14,
    "start_time": "2022-09-26T09:36:20.573Z"
   },
   {
    "duration": 19,
    "start_time": "2022-09-26T09:36:20.588Z"
   },
   {
    "duration": 13,
    "start_time": "2022-09-26T09:36:20.621Z"
   },
   {
    "duration": 5,
    "start_time": "2022-09-26T09:36:20.635Z"
   },
   {
    "duration": 13,
    "start_time": "2022-09-26T09:36:20.642Z"
   },
   {
    "duration": 12,
    "start_time": "2022-09-26T09:36:20.656Z"
   },
   {
    "duration": 21,
    "start_time": "2022-09-26T09:36:20.669Z"
   },
   {
    "duration": 9,
    "start_time": "2022-09-26T09:36:20.693Z"
   },
   {
    "duration": 8,
    "start_time": "2022-09-26T09:36:20.703Z"
   },
   {
    "duration": 12,
    "start_time": "2022-09-26T09:36:20.712Z"
   },
   {
    "duration": 16,
    "start_time": "2022-09-26T09:36:20.726Z"
   },
   {
    "duration": 44,
    "start_time": "2022-09-26T09:36:20.743Z"
   },
   {
    "duration": 18,
    "start_time": "2022-09-26T09:36:20.788Z"
   },
   {
    "duration": 24,
    "start_time": "2022-09-26T09:36:20.807Z"
   },
   {
    "duration": 7,
    "start_time": "2022-09-26T09:36:20.832Z"
   },
   {
    "duration": 9,
    "start_time": "2022-09-26T09:36:20.841Z"
   },
   {
    "duration": 12,
    "start_time": "2022-09-26T09:36:20.853Z"
   },
   {
    "duration": 13,
    "start_time": "2022-09-26T09:36:20.867Z"
   },
   {
    "duration": 2,
    "start_time": "2022-09-26T09:36:20.882Z"
   },
   {
    "duration": 37,
    "start_time": "2022-09-26T09:36:20.886Z"
   },
   {
    "duration": 27,
    "start_time": "2022-09-26T09:36:20.924Z"
   },
   {
    "duration": 200,
    "start_time": "2022-09-26T09:36:20.953Z"
   },
   {
    "duration": 3,
    "start_time": "2022-09-26T09:36:21.155Z"
   },
   {
    "duration": 12,
    "start_time": "2022-09-26T09:36:21.160Z"
   },
   {
    "duration": 19,
    "start_time": "2022-09-26T09:36:21.173Z"
   },
   {
    "duration": 1335,
    "start_time": "2022-09-26T09:36:21.194Z"
   },
   {
    "duration": 229,
    "start_time": "2022-09-26T09:36:22.530Z"
   },
   {
    "duration": 961,
    "start_time": "2022-09-26T09:36:22.761Z"
   },
   {
    "duration": 4,
    "start_time": "2022-09-26T09:36:23.723Z"
   },
   {
    "duration": 30,
    "start_time": "2022-09-26T09:36:23.728Z"
   },
   {
    "duration": 361,
    "start_time": "2022-09-26T09:36:23.760Z"
   },
   {
    "duration": 161,
    "start_time": "2022-09-26T09:36:24.123Z"
   },
   {
    "duration": 1347,
    "start_time": "2022-09-26T09:36:24.286Z"
   },
   {
    "duration": 9,
    "start_time": "2022-09-26T09:36:25.635Z"
   },
   {
    "duration": 175,
    "start_time": "2022-09-26T09:36:25.647Z"
   },
   {
    "duration": 110,
    "start_time": "2022-09-26T09:36:25.824Z"
   },
   {
    "duration": 308,
    "start_time": "2022-09-26T09:36:25.937Z"
   },
   {
    "duration": 13,
    "start_time": "2022-09-26T09:36:26.247Z"
   },
   {
    "duration": 8976,
    "start_time": "2022-09-26T09:36:26.262Z"
   },
   {
    "duration": 93,
    "start_time": "2022-09-26T09:36:35.240Z"
   },
   {
    "duration": 207,
    "start_time": "2022-09-26T09:36:35.335Z"
   },
   {
    "duration": 8,
    "start_time": "2022-09-26T09:42:43.890Z"
   },
   {
    "duration": 5,
    "start_time": "2022-09-26T09:42:48.039Z"
   },
   {
    "duration": 141,
    "start_time": "2022-09-26T09:42:49.214Z"
   },
   {
    "duration": 56,
    "start_time": "2022-09-26T09:49:06.998Z"
   },
   {
    "duration": 5,
    "start_time": "2022-09-26T09:49:09.746Z"
   },
   {
    "duration": 32,
    "start_time": "2022-09-26T09:49:11.045Z"
   },
   {
    "duration": 7,
    "start_time": "2022-09-26T09:51:17.408Z"
   },
   {
    "duration": 4,
    "start_time": "2022-09-26T09:51:19.740Z"
   },
   {
    "duration": 378,
    "start_time": "2022-09-26T09:51:20.845Z"
   },
   {
    "duration": 62,
    "start_time": "2022-09-26T09:51:24.144Z"
   },
   {
    "duration": 959,
    "start_time": "2022-09-26T09:51:27.577Z"
   },
   {
    "duration": 4,
    "start_time": "2022-09-26T10:44:42.705Z"
   },
   {
    "duration": 4,
    "start_time": "2022-09-26T10:44:43.515Z"
   },
   {
    "duration": 4,
    "start_time": "2022-09-26T10:44:44.374Z"
   },
   {
    "duration": 74,
    "start_time": "2022-09-26T10:44:46.422Z"
   },
   {
    "duration": 226,
    "start_time": "2022-09-26T10:45:04.796Z"
   },
   {
    "duration": 8,
    "start_time": "2022-09-26T10:45:54.690Z"
   },
   {
    "duration": 11,
    "start_time": "2022-09-26T10:45:57.435Z"
   },
   {
    "duration": 4,
    "start_time": "2022-09-26T10:47:39.113Z"
   },
   {
    "duration": 4,
    "start_time": "2022-09-26T10:47:39.554Z"
   },
   {
    "duration": 4,
    "start_time": "2022-09-26T10:47:40.082Z"
   },
   {
    "duration": 8,
    "start_time": "2022-09-26T10:47:41.707Z"
   },
   {
    "duration": 4,
    "start_time": "2022-09-26T10:47:46.705Z"
   },
   {
    "duration": 3,
    "start_time": "2022-09-26T10:48:17.299Z"
   },
   {
    "duration": 4,
    "start_time": "2022-09-26T10:48:17.747Z"
   },
   {
    "duration": 5,
    "start_time": "2022-09-26T10:48:18.204Z"
   },
   {
    "duration": 8,
    "start_time": "2022-09-26T10:48:19.167Z"
   },
   {
    "duration": 4,
    "start_time": "2022-09-26T10:48:20.738Z"
   },
   {
    "duration": 305,
    "start_time": "2022-09-26T10:48:22.019Z"
   },
   {
    "duration": 59,
    "start_time": "2022-09-26T10:48:25.248Z"
   },
   {
    "duration": 1023,
    "start_time": "2022-09-26T10:48:28.409Z"
   },
   {
    "duration": 4,
    "start_time": "2022-09-26T10:48:34.897Z"
   },
   {
    "duration": 2,
    "start_time": "2022-09-26T10:48:35.913Z"
   },
   {
    "duration": 50,
    "start_time": "2022-09-26T10:48:40.617Z"
   },
   {
    "duration": 47,
    "start_time": "2022-09-26T10:48:55.175Z"
   },
   {
    "duration": 5,
    "start_time": "2022-09-26T10:49:25.974Z"
   },
   {
    "duration": 365,
    "start_time": "2022-09-26T10:49:36.760Z"
   },
   {
    "duration": 105,
    "start_time": "2022-09-26T10:49:39.485Z"
   },
   {
    "duration": 1918,
    "start_time": "2022-09-26T10:49:40.945Z"
   },
   {
    "duration": 348,
    "start_time": "2022-09-26T10:50:11.173Z"
   },
   {
    "duration": 92,
    "start_time": "2022-09-26T10:50:13.478Z"
   },
   {
    "duration": 1424,
    "start_time": "2022-09-26T10:50:14.789Z"
   },
   {
    "duration": 40,
    "start_time": "2022-09-26T10:51:22.885Z"
   },
   {
    "duration": 8,
    "start_time": "2022-09-26T10:54:21.725Z"
   },
   {
    "duration": 44,
    "start_time": "2022-09-26T10:54:26.704Z"
   },
   {
    "duration": 10,
    "start_time": "2022-09-26T10:54:49.036Z"
   },
   {
    "duration": 7,
    "start_time": "2022-09-26T10:54:54.778Z"
   },
   {
    "duration": 6,
    "start_time": "2022-09-26T10:55:14.918Z"
   },
   {
    "duration": 8,
    "start_time": "2022-09-26T10:55:32.605Z"
   },
   {
    "duration": 112,
    "start_time": "2022-09-26T10:55:55.169Z"
   },
   {
    "duration": 6,
    "start_time": "2022-09-26T10:56:00.837Z"
   },
   {
    "duration": 5,
    "start_time": "2022-09-26T10:56:11.314Z"
   },
   {
    "duration": 6,
    "start_time": "2022-09-26T10:56:32.865Z"
   },
   {
    "duration": 6,
    "start_time": "2022-09-26T10:56:43.237Z"
   },
   {
    "duration": 8,
    "start_time": "2022-09-26T10:57:02.144Z"
   },
   {
    "duration": 4,
    "start_time": "2022-09-26T10:57:04.553Z"
   },
   {
    "duration": 306,
    "start_time": "2022-09-26T10:57:05.017Z"
   },
   {
    "duration": 65,
    "start_time": "2022-09-26T10:57:06.068Z"
   },
   {
    "duration": 1075,
    "start_time": "2022-09-26T10:57:07.574Z"
   },
   {
    "duration": 4,
    "start_time": "2022-09-26T10:57:14.214Z"
   },
   {
    "duration": 3,
    "start_time": "2022-09-26T10:57:14.829Z"
   },
   {
    "duration": 429,
    "start_time": "2022-09-26T10:57:16.093Z"
   },
   {
    "duration": 104,
    "start_time": "2022-09-26T10:57:17.909Z"
   },
   {
    "duration": 1503,
    "start_time": "2022-09-26T10:57:20.609Z"
   },
   {
    "duration": 3,
    "start_time": "2022-09-26T10:57:27.258Z"
   },
   {
    "duration": 209,
    "start_time": "2022-09-26T10:57:28.617Z"
   },
   {
    "duration": 50,
    "start_time": "2022-09-26T10:57:30.957Z"
   },
   {
    "duration": 530,
    "start_time": "2022-09-26T10:57:33.839Z"
   },
   {
    "duration": 174,
    "start_time": "2022-09-26T11:02:18.927Z"
   },
   {
    "duration": 121,
    "start_time": "2022-09-26T11:02:26.319Z"
   },
   {
    "duration": 25,
    "start_time": "2022-09-26T11:02:43.775Z"
   },
   {
    "duration": 10149,
    "start_time": "2022-09-26T11:02:46.807Z"
   },
   {
    "duration": 86,
    "start_time": "2022-09-26T11:03:12.407Z"
   },
   {
    "duration": 200,
    "start_time": "2022-09-26T11:03:16.933Z"
   },
   {
    "duration": 1497,
    "start_time": "2022-09-26T11:05:18.215Z"
   },
   {
    "duration": 44,
    "start_time": "2022-09-26T11:05:19.714Z"
   },
   {
    "duration": 17,
    "start_time": "2022-09-26T11:05:19.760Z"
   },
   {
    "duration": 23,
    "start_time": "2022-09-26T11:05:19.779Z"
   },
   {
    "duration": 73,
    "start_time": "2022-09-26T11:05:19.805Z"
   },
   {
    "duration": 19,
    "start_time": "2022-09-26T11:05:19.880Z"
   },
   {
    "duration": 30,
    "start_time": "2022-09-26T11:05:19.901Z"
   },
   {
    "duration": 7,
    "start_time": "2022-09-26T11:05:19.933Z"
   },
   {
    "duration": 22,
    "start_time": "2022-09-26T11:05:19.942Z"
   },
   {
    "duration": 10,
    "start_time": "2022-09-26T11:05:19.966Z"
   },
   {
    "duration": 21,
    "start_time": "2022-09-26T11:05:19.978Z"
   },
   {
    "duration": 50,
    "start_time": "2022-09-26T11:05:20.000Z"
   },
   {
    "duration": 33,
    "start_time": "2022-09-26T11:05:20.051Z"
   },
   {
    "duration": 34,
    "start_time": "2022-09-26T11:05:20.088Z"
   },
   {
    "duration": 14,
    "start_time": "2022-09-26T11:05:20.124Z"
   },
   {
    "duration": 20,
    "start_time": "2022-09-26T11:05:20.140Z"
   },
   {
    "duration": 16,
    "start_time": "2022-09-26T11:05:20.162Z"
   },
   {
    "duration": 10,
    "start_time": "2022-09-26T11:05:20.181Z"
   },
   {
    "duration": 9,
    "start_time": "2022-09-26T11:05:20.193Z"
   },
   {
    "duration": 20,
    "start_time": "2022-09-26T11:05:20.204Z"
   },
   {
    "duration": 8,
    "start_time": "2022-09-26T11:05:20.226Z"
   },
   {
    "duration": 37,
    "start_time": "2022-09-26T11:05:20.236Z"
   },
   {
    "duration": 22,
    "start_time": "2022-09-26T11:05:20.275Z"
   },
   {
    "duration": 12,
    "start_time": "2022-09-26T11:05:20.299Z"
   },
   {
    "duration": 16,
    "start_time": "2022-09-26T11:05:20.313Z"
   },
   {
    "duration": 29,
    "start_time": "2022-09-26T11:05:20.331Z"
   },
   {
    "duration": 3,
    "start_time": "2022-09-26T11:05:20.362Z"
   },
   {
    "duration": 181,
    "start_time": "2022-09-26T11:05:20.367Z"
   },
   {
    "duration": 4,
    "start_time": "2022-09-26T11:05:20.550Z"
   },
   {
    "duration": 16,
    "start_time": "2022-09-26T11:05:20.556Z"
   },
   {
    "duration": 6,
    "start_time": "2022-09-26T11:05:20.573Z"
   },
   {
    "duration": 19,
    "start_time": "2022-09-26T11:05:20.580Z"
   },
   {
    "duration": 8,
    "start_time": "2022-09-26T11:05:20.601Z"
   },
   {
    "duration": 719,
    "start_time": "2022-09-26T11:05:20.611Z"
   },
   {
    "duration": 149,
    "start_time": "2022-09-26T11:05:21.424Z"
   },
   {
    "duration": 1036,
    "start_time": "2022-09-26T11:05:21.575Z"
   },
   {
    "duration": 7,
    "start_time": "2022-09-26T11:05:22.613Z"
   },
   {
    "duration": 17,
    "start_time": "2022-09-26T11:05:22.622Z"
   },
   {
    "duration": 290,
    "start_time": "2022-09-26T11:05:22.642Z"
   },
   {
    "duration": 203,
    "start_time": "2022-09-26T11:05:23.023Z"
   },
   {
    "duration": 1416,
    "start_time": "2022-09-26T11:05:23.230Z"
   },
   {
    "duration": 3,
    "start_time": "2022-09-26T11:05:24.648Z"
   },
   {
    "duration": 272,
    "start_time": "2022-09-26T11:05:24.652Z"
   },
   {
    "duration": 133,
    "start_time": "2022-09-26T11:05:24.926Z"
   },
   {
    "duration": 547,
    "start_time": "2022-09-26T11:05:25.061Z"
   },
   {
    "duration": 125,
    "start_time": "2022-09-26T11:05:25.610Z"
   },
   {
    "duration": 0,
    "start_time": "2022-09-26T11:05:25.737Z"
   },
   {
    "duration": 0,
    "start_time": "2022-09-26T11:05:25.738Z"
   },
   {
    "duration": 0,
    "start_time": "2022-09-26T11:05:25.740Z"
   },
   {
    "duration": 0,
    "start_time": "2022-09-26T11:05:25.741Z"
   },
   {
    "duration": 15,
    "start_time": "2022-09-26T11:06:17.191Z"
   },
   {
    "duration": 1452,
    "start_time": "2022-09-26T11:07:02.598Z"
   },
   {
    "duration": 43,
    "start_time": "2022-09-26T11:07:04.052Z"
   },
   {
    "duration": 18,
    "start_time": "2022-09-26T11:07:04.096Z"
   },
   {
    "duration": 14,
    "start_time": "2022-09-26T11:07:04.116Z"
   },
   {
    "duration": 52,
    "start_time": "2022-09-26T11:07:04.133Z"
   },
   {
    "duration": 35,
    "start_time": "2022-09-26T11:07:04.187Z"
   },
   {
    "duration": 15,
    "start_time": "2022-09-26T11:07:04.223Z"
   },
   {
    "duration": 7,
    "start_time": "2022-09-26T11:07:04.240Z"
   },
   {
    "duration": 10,
    "start_time": "2022-09-26T11:07:04.248Z"
   },
   {
    "duration": 6,
    "start_time": "2022-09-26T11:07:04.260Z"
   },
   {
    "duration": 8,
    "start_time": "2022-09-26T11:07:04.268Z"
   },
   {
    "duration": 8,
    "start_time": "2022-09-26T11:07:04.278Z"
   },
   {
    "duration": 35,
    "start_time": "2022-09-26T11:07:04.288Z"
   },
   {
    "duration": 4,
    "start_time": "2022-09-26T11:07:04.326Z"
   },
   {
    "duration": 9,
    "start_time": "2022-09-26T11:07:04.332Z"
   },
   {
    "duration": 10,
    "start_time": "2022-09-26T11:07:04.343Z"
   },
   {
    "duration": 12,
    "start_time": "2022-09-26T11:07:04.354Z"
   },
   {
    "duration": 8,
    "start_time": "2022-09-26T11:07:04.368Z"
   },
   {
    "duration": 8,
    "start_time": "2022-09-26T11:07:04.378Z"
   },
   {
    "duration": 38,
    "start_time": "2022-09-26T11:07:04.388Z"
   },
   {
    "duration": 7,
    "start_time": "2022-09-26T11:07:04.428Z"
   },
   {
    "duration": 7,
    "start_time": "2022-09-26T11:07:04.437Z"
   },
   {
    "duration": 14,
    "start_time": "2022-09-26T11:07:04.445Z"
   },
   {
    "duration": 11,
    "start_time": "2022-09-26T11:07:04.461Z"
   },
   {
    "duration": 8,
    "start_time": "2022-09-26T11:07:04.474Z"
   },
   {
    "duration": 36,
    "start_time": "2022-09-26T11:07:04.484Z"
   },
   {
    "duration": 3,
    "start_time": "2022-09-26T11:07:04.522Z"
   },
   {
    "duration": 190,
    "start_time": "2022-09-26T11:07:04.526Z"
   },
   {
    "duration": 3,
    "start_time": "2022-09-26T11:07:04.718Z"
   },
   {
    "duration": 14,
    "start_time": "2022-09-26T11:07:04.723Z"
   },
   {
    "duration": 12,
    "start_time": "2022-09-26T11:07:04.738Z"
   },
   {
    "duration": 10,
    "start_time": "2022-09-26T11:07:04.752Z"
   },
   {
    "duration": 10,
    "start_time": "2022-09-26T11:07:04.764Z"
   },
   {
    "duration": 645,
    "start_time": "2022-09-26T11:07:04.776Z"
   },
   {
    "duration": 142,
    "start_time": "2022-09-26T11:07:05.423Z"
   },
   {
    "duration": 977,
    "start_time": "2022-09-26T11:07:05.567Z"
   },
   {
    "duration": 3,
    "start_time": "2022-09-26T11:07:06.546Z"
   },
   {
    "duration": 24,
    "start_time": "2022-09-26T11:07:06.551Z"
   },
   {
    "duration": 346,
    "start_time": "2022-09-26T11:07:06.577Z"
   },
   {
    "duration": 165,
    "start_time": "2022-09-26T11:07:06.929Z"
   },
   {
    "duration": 1389,
    "start_time": "2022-09-26T11:07:07.099Z"
   },
   {
    "duration": 3,
    "start_time": "2022-09-26T11:07:08.490Z"
   },
   {
    "duration": 227,
    "start_time": "2022-09-26T11:07:08.494Z"
   },
   {
    "duration": 133,
    "start_time": "2022-09-26T11:07:08.723Z"
   },
   {
    "duration": 593,
    "start_time": "2022-09-26T11:07:08.859Z"
   },
   {
    "duration": 120,
    "start_time": "2022-09-26T11:07:09.454Z"
   },
   {
    "duration": 0,
    "start_time": "2022-09-26T11:07:09.575Z"
   },
   {
    "duration": 0,
    "start_time": "2022-09-26T11:07:09.577Z"
   },
   {
    "duration": 0,
    "start_time": "2022-09-26T11:07:09.578Z"
   },
   {
    "duration": 0,
    "start_time": "2022-09-26T11:07:09.579Z"
   },
   {
    "duration": 28,
    "start_time": "2022-09-26T11:07:22.157Z"
   },
   {
    "duration": 9158,
    "start_time": "2022-09-26T11:07:24.734Z"
   },
   {
    "duration": 66,
    "start_time": "2022-09-26T11:07:37.294Z"
   },
   {
    "duration": 196,
    "start_time": "2022-09-26T11:07:45.226Z"
   },
   {
    "duration": 8650,
    "start_time": "2022-09-26T11:19:44.603Z"
   },
   {
    "duration": 1520,
    "start_time": "2022-09-26T11:23:06.019Z"
   },
   {
    "duration": 43,
    "start_time": "2022-09-26T11:23:07.541Z"
   },
   {
    "duration": 21,
    "start_time": "2022-09-26T11:23:07.586Z"
   },
   {
    "duration": 20,
    "start_time": "2022-09-26T11:23:07.610Z"
   },
   {
    "duration": 54,
    "start_time": "2022-09-26T11:23:07.632Z"
   },
   {
    "duration": 17,
    "start_time": "2022-09-26T11:23:07.688Z"
   },
   {
    "duration": 14,
    "start_time": "2022-09-26T11:23:07.721Z"
   },
   {
    "duration": 9,
    "start_time": "2022-09-26T11:23:07.737Z"
   },
   {
    "duration": 7,
    "start_time": "2022-09-26T11:23:07.747Z"
   },
   {
    "duration": 8,
    "start_time": "2022-09-26T11:23:07.757Z"
   },
   {
    "duration": 10,
    "start_time": "2022-09-26T11:23:07.766Z"
   },
   {
    "duration": 11,
    "start_time": "2022-09-26T11:23:07.778Z"
   },
   {
    "duration": 43,
    "start_time": "2022-09-26T11:23:07.791Z"
   },
   {
    "duration": 25,
    "start_time": "2022-09-26T11:23:07.836Z"
   },
   {
    "duration": 17,
    "start_time": "2022-09-26T11:23:07.862Z"
   },
   {
    "duration": 8,
    "start_time": "2022-09-26T11:23:07.881Z"
   },
   {
    "duration": 12,
    "start_time": "2022-09-26T11:23:07.891Z"
   },
   {
    "duration": 7,
    "start_time": "2022-09-26T11:23:07.905Z"
   },
   {
    "duration": 9,
    "start_time": "2022-09-26T11:23:07.915Z"
   },
   {
    "duration": 17,
    "start_time": "2022-09-26T11:23:07.926Z"
   },
   {
    "duration": 7,
    "start_time": "2022-09-26T11:23:07.946Z"
   },
   {
    "duration": 6,
    "start_time": "2022-09-26T11:23:07.955Z"
   },
   {
    "duration": 12,
    "start_time": "2022-09-26T11:23:07.963Z"
   },
   {
    "duration": 15,
    "start_time": "2022-09-26T11:23:07.977Z"
   },
   {
    "duration": 4,
    "start_time": "2022-09-26T11:23:07.995Z"
   },
   {
    "duration": 36,
    "start_time": "2022-09-26T11:23:08.001Z"
   },
   {
    "duration": 3,
    "start_time": "2022-09-26T11:23:08.039Z"
   },
   {
    "duration": 223,
    "start_time": "2022-09-26T11:23:08.047Z"
   },
   {
    "duration": 4,
    "start_time": "2022-09-26T11:23:08.272Z"
   },
   {
    "duration": 7,
    "start_time": "2022-09-26T11:23:08.279Z"
   },
   {
    "duration": 13,
    "start_time": "2022-09-26T11:23:08.287Z"
   },
   {
    "duration": 22,
    "start_time": "2022-09-26T11:23:08.302Z"
   },
   {
    "duration": 9,
    "start_time": "2022-09-26T11:23:08.326Z"
   },
   {
    "duration": 397,
    "start_time": "2022-09-26T11:23:08.337Z"
   },
   {
    "duration": 238,
    "start_time": "2022-09-26T11:23:08.736Z"
   },
   {
    "duration": 1032,
    "start_time": "2022-09-26T11:23:08.977Z"
   },
   {
    "duration": 9,
    "start_time": "2022-09-26T11:23:10.011Z"
   },
   {
    "duration": 12,
    "start_time": "2022-09-26T11:23:10.022Z"
   },
   {
    "duration": 289,
    "start_time": "2022-09-26T11:23:10.036Z"
   },
   {
    "duration": 167,
    "start_time": "2022-09-26T11:23:10.327Z"
   },
   {
    "duration": 1351,
    "start_time": "2022-09-26T11:23:10.495Z"
   },
   {
    "duration": 4,
    "start_time": "2022-09-26T11:23:11.848Z"
   },
   {
    "duration": 267,
    "start_time": "2022-09-26T11:23:11.855Z"
   },
   {
    "duration": 137,
    "start_time": "2022-09-26T11:23:12.125Z"
   },
   {
    "duration": 526,
    "start_time": "2022-09-26T11:23:12.263Z"
   },
   {
    "duration": 35,
    "start_time": "2022-09-26T11:23:12.791Z"
   },
   {
    "duration": 2,
    "start_time": "2022-09-26T11:23:12.828Z"
   },
   {
    "duration": 8920,
    "start_time": "2022-09-26T11:23:12.832Z"
   },
   {
    "duration": 71,
    "start_time": "2022-09-26T11:23:21.755Z"
   },
   {
    "duration": 222,
    "start_time": "2022-09-26T11:23:21.828Z"
   },
   {
    "duration": 2024,
    "start_time": "2022-09-26T11:25:12.709Z"
   },
   {
    "duration": 42,
    "start_time": "2022-09-26T11:25:14.735Z"
   },
   {
    "duration": 17,
    "start_time": "2022-09-26T11:25:14.779Z"
   },
   {
    "duration": 16,
    "start_time": "2022-09-26T11:25:14.798Z"
   },
   {
    "duration": 50,
    "start_time": "2022-09-26T11:25:14.816Z"
   },
   {
    "duration": 17,
    "start_time": "2022-09-26T11:25:14.867Z"
   },
   {
    "duration": 13,
    "start_time": "2022-09-26T11:25:14.885Z"
   },
   {
    "duration": 31,
    "start_time": "2022-09-26T11:25:14.900Z"
   },
   {
    "duration": 7,
    "start_time": "2022-09-26T11:25:14.932Z"
   },
   {
    "duration": 9,
    "start_time": "2022-09-26T11:25:14.941Z"
   },
   {
    "duration": 19,
    "start_time": "2022-09-26T11:25:14.951Z"
   },
   {
    "duration": 5,
    "start_time": "2022-09-26T11:25:14.971Z"
   },
   {
    "duration": 11,
    "start_time": "2022-09-26T11:25:14.978Z"
   },
   {
    "duration": 26,
    "start_time": "2022-09-26T11:25:14.991Z"
   },
   {
    "duration": 14,
    "start_time": "2022-09-26T11:25:15.018Z"
   },
   {
    "duration": 9,
    "start_time": "2022-09-26T11:25:15.034Z"
   },
   {
    "duration": 20,
    "start_time": "2022-09-26T11:25:15.044Z"
   },
   {
    "duration": 7,
    "start_time": "2022-09-26T11:25:15.066Z"
   },
   {
    "duration": 10,
    "start_time": "2022-09-26T11:25:15.076Z"
   },
   {
    "duration": 9,
    "start_time": "2022-09-26T11:25:15.087Z"
   },
   {
    "duration": 18,
    "start_time": "2022-09-26T11:25:15.098Z"
   },
   {
    "duration": 7,
    "start_time": "2022-09-26T11:25:15.118Z"
   },
   {
    "duration": 10,
    "start_time": "2022-09-26T11:25:15.126Z"
   },
   {
    "duration": 9,
    "start_time": "2022-09-26T11:25:15.138Z"
   },
   {
    "duration": 4,
    "start_time": "2022-09-26T11:25:15.148Z"
   },
   {
    "duration": 24,
    "start_time": "2022-09-26T11:25:15.153Z"
   },
   {
    "duration": 2,
    "start_time": "2022-09-26T11:25:15.179Z"
   },
   {
    "duration": 193,
    "start_time": "2022-09-26T11:25:15.184Z"
   },
   {
    "duration": 2,
    "start_time": "2022-09-26T11:25:15.379Z"
   },
   {
    "duration": 10,
    "start_time": "2022-09-26T11:25:15.383Z"
   },
   {
    "duration": 10,
    "start_time": "2022-09-26T11:25:15.395Z"
   },
   {
    "duration": 15,
    "start_time": "2022-09-26T11:25:15.406Z"
   },
   {
    "duration": 19,
    "start_time": "2022-09-26T11:25:15.423Z"
   },
   {
    "duration": 1178,
    "start_time": "2022-09-26T11:25:15.444Z"
   },
   {
    "duration": 142,
    "start_time": "2022-09-26T11:25:16.624Z"
   },
   {
    "duration": 969,
    "start_time": "2022-09-26T11:25:16.768Z"
   },
   {
    "duration": 4,
    "start_time": "2022-09-26T11:25:17.739Z"
   },
   {
    "duration": 26,
    "start_time": "2022-09-26T11:25:17.745Z"
   },
   {
    "duration": 259,
    "start_time": "2022-09-26T11:25:17.772Z"
   },
   {
    "duration": 171,
    "start_time": "2022-09-26T11:25:18.122Z"
   },
   {
    "duration": 1396,
    "start_time": "2022-09-26T11:25:18.294Z"
   },
   {
    "duration": 2,
    "start_time": "2022-09-26T11:25:19.692Z"
   },
   {
    "duration": 225,
    "start_time": "2022-09-26T11:25:19.696Z"
   },
   {
    "duration": 137,
    "start_time": "2022-09-26T11:25:19.923Z"
   },
   {
    "duration": 501,
    "start_time": "2022-09-26T11:25:20.062Z"
   },
   {
    "duration": 28,
    "start_time": "2022-09-26T11:25:20.565Z"
   },
   {
    "duration": 3,
    "start_time": "2022-09-26T11:25:20.594Z"
   },
   {
    "duration": 11060,
    "start_time": "2022-09-26T11:25:20.598Z"
   },
   {
    "duration": 75,
    "start_time": "2022-09-26T11:25:31.660Z"
   },
   {
    "duration": 206,
    "start_time": "2022-09-26T11:25:31.737Z"
   },
   {
    "duration": 193,
    "start_time": "2022-09-26T11:26:26.606Z"
   },
   {
    "duration": 27392,
    "start_time": "2022-09-26T11:26:34.678Z"
   },
   {
    "duration": 66,
    "start_time": "2022-09-26T11:28:18.925Z"
   },
   {
    "duration": 187,
    "start_time": "2022-09-26T11:28:20.678Z"
   },
   {
    "duration": 224169,
    "start_time": "2022-09-26T11:28:37.735Z"
   },
   {
    "duration": 58,
    "start_time": "2022-09-26T11:32:42.158Z"
   },
   {
    "duration": 199,
    "start_time": "2022-09-26T11:32:44.958Z"
   },
   {
    "duration": 28,
    "start_time": "2022-09-26T11:34:31.559Z"
   },
   {
    "duration": 80,
    "start_time": "2022-09-26T11:34:44.438Z"
   },
   {
    "duration": 197,
    "start_time": "2022-09-26T11:34:51.959Z"
   },
   {
    "duration": 4,
    "start_time": "2022-09-26T11:40:46.278Z"
   },
   {
    "duration": 4,
    "start_time": "2022-09-26T11:40:46.761Z"
   },
   {
    "duration": 4,
    "start_time": "2022-09-26T11:40:47.189Z"
   },
   {
    "duration": 9,
    "start_time": "2022-09-26T11:40:48.722Z"
   },
   {
    "duration": 5,
    "start_time": "2022-09-26T11:40:50.206Z"
   },
   {
    "duration": 147,
    "start_time": "2022-09-26T11:40:50.831Z"
   },
   {
    "duration": 10,
    "start_time": "2022-09-26T11:53:41.620Z"
   },
   {
    "duration": 5,
    "start_time": "2022-09-26T11:53:43.378Z"
   },
   {
    "duration": 46,
    "start_time": "2022-09-26T11:53:44.739Z"
   },
   {
    "duration": 3,
    "start_time": "2022-09-26T11:54:55.652Z"
   },
   {
    "duration": 5,
    "start_time": "2022-09-26T11:54:56.852Z"
   },
   {
    "duration": 4,
    "start_time": "2022-09-26T11:54:57.531Z"
   },
   {
    "duration": 13,
    "start_time": "2022-09-26T11:54:58.960Z"
   },
   {
    "duration": 5,
    "start_time": "2022-09-26T11:55:00.972Z"
   },
   {
    "duration": 47,
    "start_time": "2022-09-26T11:55:01.871Z"
   },
   {
    "duration": 10,
    "start_time": "2022-09-26T11:56:05.479Z"
   },
   {
    "duration": 5,
    "start_time": "2022-09-26T11:56:07.011Z"
   },
   {
    "duration": 46,
    "start_time": "2022-09-26T11:56:07.630Z"
   },
   {
    "duration": 51,
    "start_time": "2022-09-26T11:56:27.852Z"
   },
   {
    "duration": 7,
    "start_time": "2022-09-26T11:57:30.100Z"
   },
   {
    "duration": 4,
    "start_time": "2022-09-26T11:57:31.431Z"
   },
   {
    "duration": 250,
    "start_time": "2022-09-26T11:57:31.971Z"
   },
   {
    "duration": 56,
    "start_time": "2022-09-26T11:57:32.871Z"
   },
   {
    "duration": 932,
    "start_time": "2022-09-26T11:57:34.817Z"
   },
   {
    "duration": 4,
    "start_time": "2022-09-26T11:57:41.316Z"
   },
   {
    "duration": 3,
    "start_time": "2022-09-26T11:57:43.331Z"
   },
   {
    "duration": 230,
    "start_time": "2022-09-26T11:57:44.894Z"
   },
   {
    "duration": 72,
    "start_time": "2022-09-26T11:57:45.913Z"
   },
   {
    "duration": 1483,
    "start_time": "2022-09-26T11:57:47.358Z"
   },
   {
    "duration": 2,
    "start_time": "2022-09-26T11:57:51.872Z"
   },
   {
    "duration": 132,
    "start_time": "2022-09-26T11:57:52.990Z"
   },
   {
    "duration": 44,
    "start_time": "2022-09-26T11:57:53.895Z"
   },
   {
    "duration": 494,
    "start_time": "2022-09-26T11:57:54.972Z"
   },
   {
    "duration": 28,
    "start_time": "2022-09-26T11:57:59.820Z"
   },
   {
    "duration": 3,
    "start_time": "2022-09-26T11:58:04.372Z"
   },
   {
    "duration": 232570,
    "start_time": "2022-09-26T11:58:05.219Z"
   },
   {
    "duration": 79,
    "start_time": "2022-09-26T12:02:07.068Z"
   },
   {
    "duration": 193,
    "start_time": "2022-09-26T12:02:20.750Z"
   },
   {
    "duration": 21,
    "start_time": "2022-09-26T12:02:52.777Z"
   },
   {
    "duration": 223135,
    "start_time": "2022-09-26T12:02:55.156Z"
   },
   {
    "duration": 77,
    "start_time": "2022-09-26T12:14:19.306Z"
   },
   {
    "duration": 191,
    "start_time": "2022-09-26T12:14:22.389Z"
   },
   {
    "duration": 224425,
    "start_time": "2022-09-26T12:15:35.972Z"
   },
   {
    "duration": 68,
    "start_time": "2022-09-26T12:19:52.750Z"
   },
   {
    "duration": 196,
    "start_time": "2022-09-26T12:20:14.186Z"
   },
   {
    "duration": 32,
    "start_time": "2022-09-26T12:27:03.056Z"
   },
   {
    "duration": 224050,
    "start_time": "2022-09-26T12:27:07.515Z"
   },
   {
    "duration": 50,
    "start_time": "2022-09-26T12:33:08.311Z"
   },
   {
    "duration": 189,
    "start_time": "2022-09-26T12:33:10.570Z"
   },
   {
    "duration": 47600,
    "start_time": "2022-09-26T12:35:02.991Z"
   },
   {
    "duration": 50,
    "start_time": "2022-09-26T12:36:12.277Z"
   },
   {
    "duration": 48022,
    "start_time": "2022-09-26T12:37:39.329Z"
   },
   {
    "duration": 49,
    "start_time": "2022-09-26T12:38:35.609Z"
   },
   {
    "duration": 47758,
    "start_time": "2022-09-26T12:39:17.652Z"
   },
   {
    "duration": 49,
    "start_time": "2022-09-26T12:40:30.092Z"
   },
   {
    "duration": 47880,
    "start_time": "2022-09-26T12:40:45.328Z"
   },
   {
    "duration": 50,
    "start_time": "2022-09-26T12:42:23.371Z"
   },
   {
    "duration": 50369,
    "start_time": "2022-09-26T12:42:26.139Z"
   },
   {
    "duration": 46,
    "start_time": "2022-09-26T12:43:26.346Z"
   },
   {
    "duration": 184,
    "start_time": "2022-09-26T12:43:30.383Z"
   },
   {
    "duration": 21,
    "start_time": "2022-09-26T12:45:00.691Z"
   },
   {
    "duration": 3,
    "start_time": "2022-09-26T12:45:01.771Z"
   },
   {
    "duration": 37578,
    "start_time": "2022-09-26T12:45:02.359Z"
   },
   {
    "duration": 52,
    "start_time": "2022-09-26T12:45:51.343Z"
   },
   {
    "duration": 196,
    "start_time": "2022-09-26T12:45:57.707Z"
   },
   {
    "duration": 19,
    "start_time": "2022-09-26T12:54:01.888Z"
   },
   {
    "duration": 48355,
    "start_time": "2022-09-26T12:54:04.967Z"
   },
   {
    "duration": 80,
    "start_time": "2022-09-26T12:54:58.945Z"
   },
   {
    "duration": 222,
    "start_time": "2022-09-26T12:55:05.784Z"
   },
   {
    "duration": 29289,
    "start_time": "2022-09-26T12:58:10.932Z"
   },
   {
    "duration": 74,
    "start_time": "2022-09-26T12:59:02.663Z"
   },
   {
    "duration": 197,
    "start_time": "2022-09-26T12:59:06.132Z"
   },
   {
    "duration": 66424,
    "start_time": "2022-09-26T13:00:16.553Z"
   },
   {
    "duration": 75,
    "start_time": "2022-09-26T13:01:26.212Z"
   },
   {
    "duration": 65880,
    "start_time": "2022-09-26T13:01:50.091Z"
   },
   {
    "duration": 11,
    "start_time": "2022-09-26T13:07:58.952Z"
   },
   {
    "duration": 5,
    "start_time": "2022-09-26T13:08:00.552Z"
   },
   {
    "duration": 33,
    "start_time": "2022-09-26T13:08:01.320Z"
   },
   {
    "duration": 7,
    "start_time": "2022-09-26T13:08:55.885Z"
   },
   {
    "duration": 6,
    "start_time": "2022-09-26T13:08:58.968Z"
   },
   {
    "duration": 241,
    "start_time": "2022-09-26T13:08:59.684Z"
   },
   {
    "duration": 77,
    "start_time": "2022-09-26T13:09:06.085Z"
   },
   {
    "duration": 1024,
    "start_time": "2022-09-26T13:09:06.432Z"
   },
   {
    "duration": 3,
    "start_time": "2022-09-26T13:09:15.652Z"
   },
   {
    "duration": 3,
    "start_time": "2022-09-26T13:09:16.384Z"
   },
   {
    "duration": 347,
    "start_time": "2022-09-26T13:09:17.474Z"
   },
   {
    "duration": 96,
    "start_time": "2022-09-26T13:09:18.364Z"
   },
   {
    "duration": 1390,
    "start_time": "2022-09-26T13:09:19.111Z"
   },
   {
    "duration": 2,
    "start_time": "2022-09-26T13:09:22.712Z"
   },
   {
    "duration": 238,
    "start_time": "2022-09-26T13:09:25.593Z"
   },
   {
    "duration": 69,
    "start_time": "2022-09-26T13:09:26.444Z"
   },
   {
    "duration": 533,
    "start_time": "2022-09-26T13:09:27.990Z"
   },
   {
    "duration": 122,
    "start_time": "2022-09-26T13:10:08.545Z"
   },
   {
    "duration": 30,
    "start_time": "2022-09-26T13:10:20.293Z"
   },
   {
    "duration": 75536,
    "start_time": "2022-09-26T13:10:24.052Z"
   },
   {
    "duration": 82,
    "start_time": "2022-09-26T13:11:50.313Z"
   },
   {
    "duration": 199,
    "start_time": "2022-09-26T13:11:54.292Z"
   },
   {
    "duration": 33,
    "start_time": "2022-09-26T13:12:30.773Z"
   },
   {
    "duration": 66067,
    "start_time": "2022-09-26T13:12:42.274Z"
   },
   {
    "duration": 77,
    "start_time": "2022-09-26T13:14:21.104Z"
   },
   {
    "duration": 190,
    "start_time": "2022-09-26T13:14:23.085Z"
   },
   {
    "duration": 77,
    "start_time": "2022-09-26T13:16:25.586Z"
   },
   {
    "duration": 34,
    "start_time": "2022-09-26T13:17:37.445Z"
   },
   {
    "duration": 32,
    "start_time": "2022-09-26T13:18:01.715Z"
   },
   {
    "duration": 31,
    "start_time": "2022-09-26T13:18:21.213Z"
   },
   {
    "duration": 32,
    "start_time": "2022-09-26T13:18:32.845Z"
   },
   {
    "duration": 30,
    "start_time": "2022-09-26T13:20:21.226Z"
   },
   {
    "duration": 31,
    "start_time": "2022-09-26T13:24:16.286Z"
   },
   {
    "duration": 15,
    "start_time": "2022-09-26T13:24:23.313Z"
   },
   {
    "duration": 76577,
    "start_time": "2022-09-26T13:24:35.925Z"
   },
   {
    "duration": 41,
    "start_time": "2022-09-26T13:26:38.333Z"
   },
   {
    "duration": 91778,
    "start_time": "2022-09-26T13:26:50.114Z"
   },
   {
    "duration": 71,
    "start_time": "2022-09-26T13:28:39.753Z"
   },
   {
    "duration": 195,
    "start_time": "2022-09-26T13:28:46.953Z"
   },
   {
    "duration": 43,
    "start_time": "2022-09-26T13:29:19.313Z"
   },
   {
    "duration": 92004,
    "start_time": "2022-09-26T13:29:21.583Z"
   },
   {
    "duration": 76,
    "start_time": "2022-09-26T13:31:05.529Z"
   },
   {
    "duration": 720,
    "start_time": "2022-09-26T13:32:45.034Z"
   },
   {
    "duration": 5399,
    "start_time": "2022-09-26T13:33:02.655Z"
   },
   {
    "duration": 143681,
    "start_time": "2022-09-26T13:33:51.973Z"
   },
   {
    "duration": 399,
    "start_time": "2022-09-26T13:36:24.074Z"
   },
   {
    "duration": 302,
    "start_time": "2022-09-26T13:36:34.912Z"
   },
   {
    "duration": 16,
    "start_time": "2022-09-26T13:40:18.448Z"
   },
   {
    "duration": 2266,
    "start_time": "2022-09-26T13:40:36.204Z"
   },
   {
    "duration": 394,
    "start_time": "2022-09-26T13:41:00.445Z"
   },
   {
    "duration": 436,
    "start_time": "2022-09-26T13:42:27.284Z"
   },
   {
    "duration": 20,
    "start_time": "2022-09-26T13:42:59.945Z"
   },
   {
    "duration": 149764,
    "start_time": "2022-09-26T13:43:02.471Z"
   },
   {
    "duration": 306,
    "start_time": "2022-09-26T13:45:36.039Z"
   },
   {
    "duration": 45,
    "start_time": "2022-09-26T13:46:03.574Z"
   },
   {
    "duration": 7,
    "start_time": "2022-09-26T13:46:05.122Z"
   },
   {
    "duration": 139222,
    "start_time": "2022-09-26T13:46:05.746Z"
   },
   {
    "duration": 443,
    "start_time": "2022-09-26T13:48:43.704Z"
   },
   {
    "duration": 289,
    "start_time": "2022-09-26T13:48:47.735Z"
   },
   {
    "duration": 295,
    "start_time": "2022-09-26T13:49:21.472Z"
   },
   {
    "duration": 1492,
    "start_time": "2022-09-26T13:50:26.622Z"
   },
   {
    "duration": 44,
    "start_time": "2022-09-26T13:50:28.116Z"
   },
   {
    "duration": 17,
    "start_time": "2022-09-26T13:50:28.162Z"
   },
   {
    "duration": 15,
    "start_time": "2022-09-26T13:50:28.181Z"
   },
   {
    "duration": 60,
    "start_time": "2022-09-26T13:50:28.198Z"
   },
   {
    "duration": 19,
    "start_time": "2022-09-26T13:50:28.259Z"
   },
   {
    "duration": 15,
    "start_time": "2022-09-26T13:50:28.280Z"
   },
   {
    "duration": 24,
    "start_time": "2022-09-26T13:50:28.298Z"
   },
   {
    "duration": 22,
    "start_time": "2022-09-26T13:50:28.325Z"
   },
   {
    "duration": 6,
    "start_time": "2022-09-26T13:50:28.349Z"
   },
   {
    "duration": 7,
    "start_time": "2022-09-26T13:50:28.357Z"
   },
   {
    "duration": 9,
    "start_time": "2022-09-26T13:50:28.366Z"
   },
   {
    "duration": 10,
    "start_time": "2022-09-26T13:50:28.377Z"
   },
   {
    "duration": 15,
    "start_time": "2022-09-26T13:50:28.390Z"
   },
   {
    "duration": 34,
    "start_time": "2022-09-26T13:50:28.407Z"
   },
   {
    "duration": 7,
    "start_time": "2022-09-26T13:50:28.443Z"
   },
   {
    "duration": 12,
    "start_time": "2022-09-26T13:50:28.452Z"
   },
   {
    "duration": 11,
    "start_time": "2022-09-26T13:50:28.466Z"
   },
   {
    "duration": 14,
    "start_time": "2022-09-26T13:50:28.478Z"
   },
   {
    "duration": 12,
    "start_time": "2022-09-26T13:50:28.494Z"
   },
   {
    "duration": 10,
    "start_time": "2022-09-26T13:50:28.508Z"
   },
   {
    "duration": 20,
    "start_time": "2022-09-26T13:50:28.521Z"
   },
   {
    "duration": 14,
    "start_time": "2022-09-26T13:50:28.543Z"
   },
   {
    "duration": 11,
    "start_time": "2022-09-26T13:50:28.559Z"
   },
   {
    "duration": 15,
    "start_time": "2022-09-26T13:50:28.572Z"
   },
   {
    "duration": 21,
    "start_time": "2022-09-26T13:50:28.589Z"
   },
   {
    "duration": 2,
    "start_time": "2022-09-26T13:50:28.612Z"
   },
   {
    "duration": 229,
    "start_time": "2022-09-26T13:50:28.616Z"
   },
   {
    "duration": 3,
    "start_time": "2022-09-26T13:50:28.847Z"
   },
   {
    "duration": 48,
    "start_time": "2022-09-26T13:50:28.851Z"
   },
   {
    "duration": 40,
    "start_time": "2022-09-26T13:50:28.901Z"
   },
   {
    "duration": 9,
    "start_time": "2022-09-26T13:50:28.944Z"
   },
   {
    "duration": 14,
    "start_time": "2022-09-26T13:50:28.955Z"
   },
   {
    "duration": 252,
    "start_time": "2022-09-26T13:50:28.971Z"
   },
   {
    "duration": 165,
    "start_time": "2022-09-26T13:50:29.225Z"
   },
   {
    "duration": 1095,
    "start_time": "2022-09-26T13:50:29.392Z"
   },
   {
    "duration": 4,
    "start_time": "2022-09-26T13:50:30.489Z"
   },
   {
    "duration": 62,
    "start_time": "2022-09-26T13:50:30.495Z"
   },
   {
    "duration": 366,
    "start_time": "2022-09-26T13:50:30.559Z"
   },
   {
    "duration": 277,
    "start_time": "2022-09-26T13:50:30.927Z"
   },
   {
    "duration": 1531,
    "start_time": "2022-09-26T13:50:31.209Z"
   },
   {
    "duration": 3,
    "start_time": "2022-09-26T13:50:32.742Z"
   },
   {
    "duration": 398,
    "start_time": "2022-09-26T13:50:32.746Z"
   },
   {
    "duration": 163,
    "start_time": "2022-09-26T13:50:33.225Z"
   },
   {
    "duration": 612,
    "start_time": "2022-09-26T13:50:33.390Z"
   },
   {
    "duration": 63,
    "start_time": "2022-09-26T13:50:34.004Z"
   },
   {
    "duration": 3,
    "start_time": "2022-09-26T13:50:34.069Z"
   },
   {
    "duration": 146604,
    "start_time": "2022-09-26T13:50:34.074Z"
   },
   {
    "duration": 422,
    "start_time": "2022-09-26T13:53:00.680Z"
   },
   {
    "duration": 297,
    "start_time": "2022-09-26T13:53:01.104Z"
   },
   {
    "duration": 153,
    "start_time": "2022-09-26T13:56:43.961Z"
   },
   {
    "duration": 6,
    "start_time": "2022-09-26T13:57:11.221Z"
   },
   {
    "duration": 2,
    "start_time": "2022-09-26T13:57:12.701Z"
   },
   {
    "duration": 647,
    "start_time": "2022-09-26T13:57:21.881Z"
   },
   {
    "duration": 89,
    "start_time": "2022-09-26T13:57:22.869Z"
   },
   {
    "duration": 1026,
    "start_time": "2022-09-26T13:57:23.969Z"
   },
   {
    "duration": 4,
    "start_time": "2022-09-26T13:57:31.749Z"
   },
   {
    "duration": 2,
    "start_time": "2022-09-26T13:57:32.436Z"
   },
   {
    "duration": 366,
    "start_time": "2022-09-26T13:57:34.068Z"
   },
   {
    "duration": 109,
    "start_time": "2022-09-26T13:57:35.857Z"
   },
   {
    "duration": 1417,
    "start_time": "2022-09-26T13:57:37.001Z"
   },
   {
    "duration": 243,
    "start_time": "2022-09-26T13:57:44.081Z"
   },
   {
    "duration": 67,
    "start_time": "2022-09-26T13:57:45.288Z"
   },
   {
    "duration": 586,
    "start_time": "2022-09-26T13:57:46.295Z"
   },
   {
    "duration": 44,
    "start_time": "2022-09-26T13:58:46.741Z"
   },
   {
    "duration": 1425,
    "start_time": "2022-09-26T13:59:42.539Z"
   },
   {
    "duration": 3,
    "start_time": "2022-09-26T13:59:43.967Z"
   },
   {
    "duration": 47,
    "start_time": "2022-09-26T13:59:43.971Z"
   },
   {
    "duration": 34,
    "start_time": "2022-09-26T13:59:44.020Z"
   },
   {
    "duration": 16,
    "start_time": "2022-09-26T13:59:44.057Z"
   },
   {
    "duration": 64,
    "start_time": "2022-09-26T13:59:44.075Z"
   },
   {
    "duration": 19,
    "start_time": "2022-09-26T13:59:44.141Z"
   },
   {
    "duration": 13,
    "start_time": "2022-09-26T13:59:44.162Z"
   },
   {
    "duration": 9,
    "start_time": "2022-09-26T13:59:44.176Z"
   },
   {
    "duration": 15,
    "start_time": "2022-09-26T13:59:44.186Z"
   },
   {
    "duration": 6,
    "start_time": "2022-09-26T13:59:44.221Z"
   },
   {
    "duration": 19,
    "start_time": "2022-09-26T13:59:44.229Z"
   },
   {
    "duration": 11,
    "start_time": "2022-09-26T13:59:44.250Z"
   },
   {
    "duration": 11,
    "start_time": "2022-09-26T13:59:44.265Z"
   },
   {
    "duration": 14,
    "start_time": "2022-09-26T13:59:44.278Z"
   },
   {
    "duration": 18,
    "start_time": "2022-09-26T13:59:44.294Z"
   },
   {
    "duration": 21,
    "start_time": "2022-09-26T13:59:44.314Z"
   },
   {
    "duration": 16,
    "start_time": "2022-09-26T13:59:44.337Z"
   },
   {
    "duration": 10,
    "start_time": "2022-09-26T13:59:44.355Z"
   },
   {
    "duration": 9,
    "start_time": "2022-09-26T13:59:44.366Z"
   },
   {
    "duration": 12,
    "start_time": "2022-09-26T13:59:44.376Z"
   },
   {
    "duration": 9,
    "start_time": "2022-09-26T13:59:44.390Z"
   },
   {
    "duration": 25,
    "start_time": "2022-09-26T13:59:44.401Z"
   },
   {
    "duration": 22,
    "start_time": "2022-09-26T13:59:44.429Z"
   },
   {
    "duration": 13,
    "start_time": "2022-09-26T13:59:44.452Z"
   },
   {
    "duration": 10,
    "start_time": "2022-09-26T13:59:44.467Z"
   },
   {
    "duration": 19,
    "start_time": "2022-09-26T13:59:44.479Z"
   },
   {
    "duration": 14,
    "start_time": "2022-09-26T13:59:44.499Z"
   },
   {
    "duration": 182,
    "start_time": "2022-09-26T13:59:44.515Z"
   },
   {
    "duration": 3,
    "start_time": "2022-09-26T13:59:44.699Z"
   },
   {
    "duration": 16,
    "start_time": "2022-09-26T13:59:44.704Z"
   },
   {
    "duration": 21,
    "start_time": "2022-09-26T13:59:44.722Z"
   },
   {
    "duration": 9,
    "start_time": "2022-09-26T13:59:44.744Z"
   },
   {
    "duration": 9,
    "start_time": "2022-09-26T13:59:44.754Z"
   },
   {
    "duration": 169,
    "start_time": "2022-09-26T13:59:44.764Z"
   },
   {
    "duration": 0,
    "start_time": "2022-09-26T13:59:44.936Z"
   },
   {
    "duration": 0,
    "start_time": "2022-09-26T13:59:44.938Z"
   },
   {
    "duration": 0,
    "start_time": "2022-09-26T13:59:44.938Z"
   },
   {
    "duration": 0,
    "start_time": "2022-09-26T13:59:44.940Z"
   },
   {
    "duration": 0,
    "start_time": "2022-09-26T13:59:44.941Z"
   },
   {
    "duration": 0,
    "start_time": "2022-09-26T13:59:44.942Z"
   },
   {
    "duration": 0,
    "start_time": "2022-09-26T13:59:44.943Z"
   },
   {
    "duration": 0,
    "start_time": "2022-09-26T13:59:44.944Z"
   },
   {
    "duration": 0,
    "start_time": "2022-09-26T13:59:44.945Z"
   },
   {
    "duration": 0,
    "start_time": "2022-09-26T13:59:44.947Z"
   },
   {
    "duration": 0,
    "start_time": "2022-09-26T13:59:44.948Z"
   },
   {
    "duration": 0,
    "start_time": "2022-09-26T13:59:44.949Z"
   },
   {
    "duration": 0,
    "start_time": "2022-09-26T13:59:44.950Z"
   },
   {
    "duration": 0,
    "start_time": "2022-09-26T13:59:44.951Z"
   },
   {
    "duration": 0,
    "start_time": "2022-09-26T13:59:44.953Z"
   },
   {
    "duration": 0,
    "start_time": "2022-09-26T13:59:44.954Z"
   },
   {
    "duration": 51,
    "start_time": "2022-09-27T10:20:29.332Z"
   },
   {
    "duration": 1649,
    "start_time": "2022-09-27T10:21:16.149Z"
   },
   {
    "duration": 3,
    "start_time": "2022-09-27T10:21:17.800Z"
   },
   {
    "duration": 90,
    "start_time": "2022-09-27T10:21:17.804Z"
   },
   {
    "duration": 19,
    "start_time": "2022-09-27T10:21:17.896Z"
   },
   {
    "duration": 15,
    "start_time": "2022-09-27T10:21:17.918Z"
   },
   {
    "duration": 52,
    "start_time": "2022-09-27T10:21:17.934Z"
   },
   {
    "duration": 16,
    "start_time": "2022-09-27T10:21:17.988Z"
   },
   {
    "duration": 13,
    "start_time": "2022-09-27T10:21:18.005Z"
   },
   {
    "duration": 23,
    "start_time": "2022-09-27T10:21:18.020Z"
   },
   {
    "duration": 7,
    "start_time": "2022-09-27T10:21:18.044Z"
   },
   {
    "duration": 10,
    "start_time": "2022-09-27T10:21:18.052Z"
   },
   {
    "duration": 8,
    "start_time": "2022-09-27T10:21:18.063Z"
   },
   {
    "duration": 12,
    "start_time": "2022-09-27T10:21:18.073Z"
   },
   {
    "duration": 15,
    "start_time": "2022-09-27T10:21:18.088Z"
   },
   {
    "duration": 13,
    "start_time": "2022-09-27T10:21:18.105Z"
   },
   {
    "duration": 19,
    "start_time": "2022-09-27T10:21:18.120Z"
   },
   {
    "duration": 9,
    "start_time": "2022-09-27T10:21:18.141Z"
   },
   {
    "duration": 13,
    "start_time": "2022-09-27T10:21:18.152Z"
   },
   {
    "duration": 12,
    "start_time": "2022-09-27T10:21:18.166Z"
   },
   {
    "duration": 15,
    "start_time": "2022-09-27T10:21:18.180Z"
   },
   {
    "duration": 11,
    "start_time": "2022-09-27T10:21:18.197Z"
   },
   {
    "duration": 6,
    "start_time": "2022-09-27T10:21:18.210Z"
   },
   {
    "duration": 28,
    "start_time": "2022-09-27T10:21:18.218Z"
   },
   {
    "duration": 12,
    "start_time": "2022-09-27T10:21:18.248Z"
   },
   {
    "duration": 12,
    "start_time": "2022-09-27T10:21:18.261Z"
   },
   {
    "duration": 3,
    "start_time": "2022-09-27T10:21:18.275Z"
   },
   {
    "duration": 23,
    "start_time": "2022-09-27T10:21:18.279Z"
   },
   {
    "duration": 3,
    "start_time": "2022-09-27T10:21:18.304Z"
   },
   {
    "duration": 214,
    "start_time": "2022-09-27T10:21:18.308Z"
   },
   {
    "duration": 4,
    "start_time": "2022-09-27T10:21:18.524Z"
   },
   {
    "duration": 5,
    "start_time": "2022-09-27T10:21:18.538Z"
   },
   {
    "duration": 15,
    "start_time": "2022-09-27T10:21:18.546Z"
   },
   {
    "duration": 13,
    "start_time": "2022-09-27T10:21:18.564Z"
   },
   {
    "duration": 16,
    "start_time": "2022-09-27T10:21:18.580Z"
   },
   {
    "duration": 445,
    "start_time": "2022-09-27T10:21:18.598Z"
   },
   {
    "duration": 166,
    "start_time": "2022-09-27T10:21:19.049Z"
   },
   {
    "duration": 1030,
    "start_time": "2022-09-27T10:21:19.216Z"
   },
   {
    "duration": 4,
    "start_time": "2022-09-27T10:21:20.248Z"
   },
   {
    "duration": 14,
    "start_time": "2022-09-27T10:21:20.254Z"
   },
   {
    "duration": 471,
    "start_time": "2022-09-27T10:21:20.270Z"
   },
   {
    "duration": 111,
    "start_time": "2022-09-27T10:21:20.838Z"
   },
   {
    "duration": 1382,
    "start_time": "2022-09-27T10:21:20.951Z"
   },
   {
    "duration": 3,
    "start_time": "2022-09-27T10:21:22.338Z"
   },
   {
    "duration": 297,
    "start_time": "2022-09-27T10:21:22.343Z"
   },
   {
    "duration": 158,
    "start_time": "2022-09-27T10:21:22.643Z"
   },
   {
    "duration": 534,
    "start_time": "2022-09-27T10:21:22.804Z"
   },
   {
    "duration": 41,
    "start_time": "2022-09-27T10:21:23.340Z"
   },
   {
    "duration": 3,
    "start_time": "2022-09-27T10:21:23.383Z"
   },
   {
    "duration": 146501,
    "start_time": "2022-09-27T10:21:23.387Z"
   },
   {
    "duration": 409,
    "start_time": "2022-09-27T10:23:49.890Z"
   },
   {
    "duration": 288,
    "start_time": "2022-09-27T10:23:50.301Z"
   },
   {
    "duration": 1025,
    "start_time": "2022-09-27T10:23:50.592Z"
   },
   {
    "duration": 1480,
    "start_time": "2022-09-27T10:24:39.493Z"
   },
   {
    "duration": 441,
    "start_time": "2022-09-27T10:25:11.973Z"
   },
   {
    "duration": 27,
    "start_time": "2022-09-27T10:27:41.662Z"
   },
   {
    "duration": 883,
    "start_time": "2022-09-27T10:27:52.854Z"
   },
   {
    "duration": 5147,
    "start_time": "2022-09-27T10:28:11.245Z"
   },
   {
    "duration": 710255,
    "start_time": "2022-09-27T10:29:06.853Z"
   },
   {
    "duration": 337,
    "start_time": "2022-09-27T10:40:57.110Z"
   },
   {
    "duration": 120,
    "start_time": "2022-09-27T10:42:07.656Z"
   },
   {
    "duration": 5,
    "start_time": "2022-09-27T10:48:09.574Z"
   },
   {
    "duration": 48183,
    "start_time": "2022-09-27T10:50:31.972Z"
   },
   {
    "duration": 4,
    "start_time": "2022-09-27T10:53:08.301Z"
   },
   {
    "duration": 3,
    "start_time": "2022-09-27T10:53:27.733Z"
   },
   {
    "duration": 11,
    "start_time": "2022-09-27T10:54:45.013Z"
   },
   {
    "duration": 18,
    "start_time": "2022-09-27T11:12:11.066Z"
   },
   {
    "duration": 312,
    "start_time": "2022-09-27T11:12:56.528Z"
   },
   {
    "duration": 1448,
    "start_time": "2022-09-27T12:15:53.540Z"
   },
   {
    "duration": 3,
    "start_time": "2022-09-27T12:15:54.990Z"
   },
   {
    "duration": 49,
    "start_time": "2022-09-27T12:15:54.994Z"
   },
   {
    "duration": 18,
    "start_time": "2022-09-27T12:15:55.045Z"
   },
   {
    "duration": 16,
    "start_time": "2022-09-27T12:15:55.065Z"
   },
   {
    "duration": 73,
    "start_time": "2022-09-27T12:15:55.083Z"
   },
   {
    "duration": 18,
    "start_time": "2022-09-27T12:15:55.158Z"
   },
   {
    "duration": 17,
    "start_time": "2022-09-27T12:15:55.178Z"
   },
   {
    "duration": 13,
    "start_time": "2022-09-27T12:15:55.197Z"
   },
   {
    "duration": 8,
    "start_time": "2022-09-27T12:15:55.211Z"
   },
   {
    "duration": 21,
    "start_time": "2022-09-27T12:15:55.221Z"
   },
   {
    "duration": 24,
    "start_time": "2022-09-27T12:15:55.244Z"
   },
   {
    "duration": 15,
    "start_time": "2022-09-27T12:15:55.269Z"
   },
   {
    "duration": 5,
    "start_time": "2022-09-27T12:15:55.289Z"
   },
   {
    "duration": 6,
    "start_time": "2022-09-27T12:15:55.296Z"
   },
   {
    "duration": 7,
    "start_time": "2022-09-27T12:15:55.304Z"
   },
   {
    "duration": 8,
    "start_time": "2022-09-27T12:15:55.312Z"
   },
   {
    "duration": 10,
    "start_time": "2022-09-27T12:15:55.338Z"
   },
   {
    "duration": 6,
    "start_time": "2022-09-27T12:15:55.350Z"
   },
   {
    "duration": 13,
    "start_time": "2022-09-27T12:15:55.358Z"
   },
   {
    "duration": 12,
    "start_time": "2022-09-27T12:15:55.373Z"
   },
   {
    "duration": 14,
    "start_time": "2022-09-27T12:15:55.387Z"
   },
   {
    "duration": 6,
    "start_time": "2022-09-27T12:15:55.402Z"
   },
   {
    "duration": 31,
    "start_time": "2022-09-27T12:15:55.410Z"
   },
   {
    "duration": 10,
    "start_time": "2022-09-27T12:15:55.443Z"
   },
   {
    "duration": 6,
    "start_time": "2022-09-27T12:15:55.455Z"
   },
   {
    "duration": 23,
    "start_time": "2022-09-27T12:15:55.463Z"
   },
   {
    "duration": 2,
    "start_time": "2022-09-27T12:15:55.488Z"
   },
   {
    "duration": 210,
    "start_time": "2022-09-27T12:15:55.492Z"
   },
   {
    "duration": 126,
    "start_time": "2022-09-27T12:15:55.704Z"
   },
   {
    "duration": 0,
    "start_time": "2022-09-27T12:15:55.833Z"
   },
   {
    "duration": 0,
    "start_time": "2022-09-27T12:15:55.839Z"
   },
   {
    "duration": 0,
    "start_time": "2022-09-27T12:15:55.841Z"
   },
   {
    "duration": 0,
    "start_time": "2022-09-27T12:15:55.843Z"
   },
   {
    "duration": 0,
    "start_time": "2022-09-27T12:15:55.844Z"
   },
   {
    "duration": 0,
    "start_time": "2022-09-27T12:15:55.845Z"
   },
   {
    "duration": 0,
    "start_time": "2022-09-27T12:15:55.847Z"
   },
   {
    "duration": 0,
    "start_time": "2022-09-27T12:15:55.848Z"
   },
   {
    "duration": 0,
    "start_time": "2022-09-27T12:15:55.850Z"
   },
   {
    "duration": 0,
    "start_time": "2022-09-27T12:15:55.852Z"
   },
   {
    "duration": 0,
    "start_time": "2022-09-27T12:15:55.854Z"
   },
   {
    "duration": 0,
    "start_time": "2022-09-27T12:15:55.855Z"
   },
   {
    "duration": 0,
    "start_time": "2022-09-27T12:15:55.857Z"
   },
   {
    "duration": 0,
    "start_time": "2022-09-27T12:15:55.859Z"
   },
   {
    "duration": 0,
    "start_time": "2022-09-27T12:15:55.860Z"
   },
   {
    "duration": 0,
    "start_time": "2022-09-27T12:15:55.861Z"
   },
   {
    "duration": 0,
    "start_time": "2022-09-27T12:15:55.863Z"
   },
   {
    "duration": 0,
    "start_time": "2022-09-27T12:15:55.864Z"
   },
   {
    "duration": 0,
    "start_time": "2022-09-27T12:15:55.866Z"
   },
   {
    "duration": 0,
    "start_time": "2022-09-27T12:15:55.867Z"
   },
   {
    "duration": 0,
    "start_time": "2022-09-27T12:15:55.868Z"
   },
   {
    "duration": 4,
    "start_time": "2022-09-27T12:16:53.948Z"
   },
   {
    "duration": 90,
    "start_time": "2022-09-27T12:18:16.357Z"
   },
   {
    "duration": 4,
    "start_time": "2022-09-27T12:18:23.088Z"
   },
   {
    "duration": 4,
    "start_time": "2022-09-27T12:18:28.189Z"
   },
   {
    "duration": 5,
    "start_time": "2022-09-27T12:18:30.261Z"
   },
   {
    "duration": 7,
    "start_time": "2022-09-27T12:18:31.462Z"
   },
   {
    "duration": 4,
    "start_time": "2022-09-27T12:18:33.293Z"
   },
   {
    "duration": 439,
    "start_time": "2022-09-27T12:18:34.101Z"
   },
   {
    "duration": 77,
    "start_time": "2022-09-27T12:18:34.892Z"
   },
   {
    "duration": 1012,
    "start_time": "2022-09-27T12:18:36.172Z"
   },
   {
    "duration": 986,
    "start_time": "2022-09-27T12:18:39.060Z"
   },
   {
    "duration": 3,
    "start_time": "2022-09-27T12:18:50.981Z"
   },
   {
    "duration": 458,
    "start_time": "2022-09-27T12:18:54.182Z"
   },
   {
    "duration": 105,
    "start_time": "2022-09-27T12:18:59.700Z"
   },
   {
    "duration": 1406,
    "start_time": "2022-09-27T12:19:01.061Z"
   },
   {
    "duration": 1457,
    "start_time": "2022-09-27T12:19:05.612Z"
   },
   {
    "duration": 325,
    "start_time": "2022-09-27T12:19:18.020Z"
   },
   {
    "duration": 66,
    "start_time": "2022-09-27T12:19:19.460Z"
   },
   {
    "duration": 516,
    "start_time": "2022-09-27T12:19:24.812Z"
   },
   {
    "duration": 442,
    "start_time": "2022-09-27T12:19:26.412Z"
   },
   {
    "duration": 42,
    "start_time": "2022-09-27T12:19:54.101Z"
   },
   {
    "duration": 55,
    "start_time": "2022-09-27T12:20:15.063Z"
   },
   {
    "duration": 51593,
    "start_time": "2022-09-27T12:20:16.101Z"
   },
   {
    "duration": 1532,
    "start_time": "2022-09-27T12:22:23.241Z"
   },
   {
    "duration": 480,
    "start_time": "2022-09-27T12:22:40.413Z"
   },
   {
    "duration": 123,
    "start_time": "2022-09-27T12:23:03.780Z"
   },
   {
    "duration": 204,
    "start_time": "2022-09-27T12:23:25.469Z"
   },
   {
    "duration": 45,
    "start_time": "2022-09-27T12:25:15.621Z"
   },
   {
    "duration": 34676,
    "start_time": "2022-09-27T12:25:21.221Z"
   },
   {
    "duration": 8,
    "start_time": "2022-09-27T12:27:20.590Z"
   },
   {
    "duration": 5,
    "start_time": "2022-09-27T12:27:23.612Z"
   },
   {
    "duration": 428,
    "start_time": "2022-09-27T12:27:25.612Z"
   },
   {
    "duration": 83,
    "start_time": "2022-09-27T12:28:28.493Z"
   },
   {
    "duration": 1005,
    "start_time": "2022-09-27T12:28:35.852Z"
   },
   {
    "duration": 985,
    "start_time": "2022-09-27T12:28:42.733Z"
   },
   {
    "duration": 5,
    "start_time": "2022-09-27T12:28:52.109Z"
   },
   {
    "duration": 380,
    "start_time": "2022-09-27T12:28:56.260Z"
   },
   {
    "duration": 104,
    "start_time": "2022-09-27T12:29:02.101Z"
   },
   {
    "duration": 1407,
    "start_time": "2022-09-27T12:29:08.181Z"
   },
   {
    "duration": 1481,
    "start_time": "2022-09-27T12:29:12.020Z"
   },
   {
    "duration": 245,
    "start_time": "2022-09-27T12:29:24.899Z"
   },
   {
    "duration": 58,
    "start_time": "2022-09-27T12:29:26.901Z"
   },
   {
    "duration": 542,
    "start_time": "2022-09-27T12:29:28.571Z"
   },
   {
    "duration": 439,
    "start_time": "2022-09-27T12:29:31.460Z"
   },
   {
    "duration": 42,
    "start_time": "2022-09-27T12:30:08.812Z"
   },
   {
    "duration": 46073,
    "start_time": "2022-09-27T12:30:13.309Z"
   },
   {
    "duration": 125,
    "start_time": "2022-09-27T12:31:15.932Z"
   },
   {
    "duration": 215,
    "start_time": "2022-09-27T12:31:21.692Z"
   },
   {
    "duration": 50,
    "start_time": "2022-09-27T12:37:35.387Z"
   },
   {
    "duration": 51131,
    "start_time": "2022-09-27T12:37:38.339Z"
   },
   {
    "duration": 73,
    "start_time": "2022-09-27T12:38:33.611Z"
   },
   {
    "duration": 74,
    "start_time": "2022-09-27T12:39:12.732Z"
   },
   {
    "duration": 187,
    "start_time": "2022-09-27T12:39:17.772Z"
   },
   {
    "duration": 8,
    "start_time": "2022-09-27T12:41:16.660Z"
   },
   {
    "duration": 4,
    "start_time": "2022-09-27T12:41:18.989Z"
   },
   {
    "duration": 333,
    "start_time": "2022-09-27T12:41:19.611Z"
   },
   {
    "duration": 78,
    "start_time": "2022-09-27T12:41:23.293Z"
   },
   {
    "duration": 988,
    "start_time": "2022-09-27T12:41:25.851Z"
   },
   {
    "duration": 987,
    "start_time": "2022-09-27T12:41:32.739Z"
   },
   {
    "duration": 4,
    "start_time": "2022-09-27T12:41:37.700Z"
   },
   {
    "duration": 43,
    "start_time": "2022-09-27T12:41:40.411Z"
   },
   {
    "duration": 7,
    "start_time": "2022-09-27T12:42:02.418Z"
   },
   {
    "duration": 489,
    "start_time": "2022-09-27T12:42:05.850Z"
   },
   {
    "duration": 103,
    "start_time": "2022-09-27T12:42:10.251Z"
   },
   {
    "duration": 1304,
    "start_time": "2022-09-27T12:42:15.531Z"
   },
   {
    "duration": 1393,
    "start_time": "2022-09-27T12:42:23.227Z"
   },
   {
    "duration": 232,
    "start_time": "2022-09-27T12:42:36.012Z"
   },
   {
    "duration": 59,
    "start_time": "2022-09-27T12:42:43.932Z"
   },
   {
    "duration": 508,
    "start_time": "2022-09-27T12:42:45.371Z"
   },
   {
    "duration": 490,
    "start_time": "2022-09-27T12:42:46.977Z"
   },
   {
    "duration": 47,
    "start_time": "2022-09-27T12:42:59.220Z"
   },
   {
    "duration": 43638,
    "start_time": "2022-09-27T12:43:00.988Z"
   },
   {
    "duration": 76,
    "start_time": "2022-09-27T12:43:55.851Z"
   },
   {
    "duration": 25,
    "start_time": "2022-09-27T12:44:31.292Z"
   },
   {
    "duration": 197,
    "start_time": "2022-09-27T12:44:52.891Z"
   },
   {
    "duration": 57,
    "start_time": "2022-09-27T12:47:54.579Z"
   },
   {
    "duration": 45166,
    "start_time": "2022-09-27T12:47:55.306Z"
   },
   {
    "duration": 26,
    "start_time": "2022-09-27T12:48:44.499Z"
   },
   {
    "duration": 41,
    "start_time": "2022-09-27T12:50:19.298Z"
   },
   {
    "duration": 43788,
    "start_time": "2022-09-27T12:50:20.491Z"
   },
   {
    "duration": 38,
    "start_time": "2022-09-27T12:51:09.292Z"
   },
   {
    "duration": 209,
    "start_time": "2022-09-27T12:51:15.771Z"
   },
   {
    "duration": 32,
    "start_time": "2022-09-27T12:52:25.619Z"
   },
   {
    "duration": 73,
    "start_time": "2022-09-27T12:52:31.379Z"
   },
   {
    "duration": 10,
    "start_time": "2022-09-27T12:53:50.342Z"
   },
   {
    "duration": 84,
    "start_time": "2022-09-27T12:54:27.700Z"
   },
   {
    "duration": 140,
    "start_time": "2022-09-27T12:55:02.338Z"
   },
   {
    "duration": 5,
    "start_time": "2022-09-27T12:55:49.931Z"
   },
   {
    "duration": 189795,
    "start_time": "2022-09-27T12:56:02.810Z"
   },
   {
    "duration": 39,
    "start_time": "2022-09-27T13:01:18.912Z"
   },
   {
    "duration": 1873466,
    "start_time": "2022-09-27T13:02:13.145Z"
   },
   {
    "duration": 58,
    "start_time": "2022-09-27T13:37:17.592Z"
   },
   {
    "duration": 227,
    "start_time": "2022-09-27T13:37:33.528Z"
   },
   {
    "duration": 5,
    "start_time": "2022-09-27T13:43:30.820Z"
   },
   {
    "duration": 4,
    "start_time": "2022-09-27T13:43:31.288Z"
   },
   {
    "duration": 5,
    "start_time": "2022-09-27T13:43:31.817Z"
   },
   {
    "duration": 6,
    "start_time": "2022-09-27T13:43:33.002Z"
   },
   {
    "duration": 5,
    "start_time": "2022-09-27T13:43:34.611Z"
   },
   {
    "duration": 399,
    "start_time": "2022-09-27T13:43:35.541Z"
   },
   {
    "duration": 79,
    "start_time": "2022-09-27T13:43:38.044Z"
   },
   {
    "duration": 1073,
    "start_time": "2022-09-27T13:43:39.398Z"
   },
   {
    "duration": 1092,
    "start_time": "2022-09-27T13:43:42.629Z"
   },
   {
    "duration": 4,
    "start_time": "2022-09-27T13:43:49.130Z"
   },
   {
    "duration": 863,
    "start_time": "2022-09-27T13:43:51.176Z"
   },
   {
    "duration": 96,
    "start_time": "2022-09-27T13:43:53.455Z"
   },
   {
    "duration": 1445,
    "start_time": "2022-09-27T13:43:55.003Z"
   },
   {
    "duration": 1381,
    "start_time": "2022-09-27T13:44:00.551Z"
   },
   {
    "duration": 375,
    "start_time": "2022-09-27T13:44:14.365Z"
   },
   {
    "duration": 55,
    "start_time": "2022-09-27T13:44:15.752Z"
   },
   {
    "duration": 625,
    "start_time": "2022-09-27T13:44:16.950Z"
   },
   {
    "duration": 456,
    "start_time": "2022-09-27T13:44:18.724Z"
   },
   {
    "duration": 44,
    "start_time": "2022-09-27T13:44:29.714Z"
   },
   {
    "duration": 90059,
    "start_time": "2022-09-27T13:46:20.094Z"
   },
   {
    "duration": 60,
    "start_time": "2022-09-27T13:48:05.044Z"
   },
   {
    "duration": 1678,
    "start_time": "2022-09-28T02:55:02.424Z"
   },
   {
    "duration": 3,
    "start_time": "2022-09-28T02:55:05.257Z"
   },
   {
    "duration": 89,
    "start_time": "2022-09-28T02:55:06.896Z"
   },
   {
    "duration": 18,
    "start_time": "2022-09-28T02:55:07.537Z"
   },
   {
    "duration": 14,
    "start_time": "2022-09-28T02:55:08.337Z"
   },
   {
    "duration": 52,
    "start_time": "2022-09-28T02:55:09.176Z"
   },
   {
    "duration": 18,
    "start_time": "2022-09-28T02:55:11.057Z"
   },
   {
    "duration": 15,
    "start_time": "2022-09-28T02:55:12.057Z"
   },
   {
    "duration": 6,
    "start_time": "2022-09-28T02:55:13.577Z"
   },
   {
    "duration": 6,
    "start_time": "2022-09-28T02:55:14.096Z"
   },
   {
    "duration": 6,
    "start_time": "2022-09-28T02:55:14.616Z"
   },
   {
    "duration": 5,
    "start_time": "2022-09-28T02:55:15.216Z"
   },
   {
    "duration": 5,
    "start_time": "2022-09-28T02:55:15.976Z"
   },
   {
    "duration": 5,
    "start_time": "2022-09-28T02:55:16.457Z"
   },
   {
    "duration": 5,
    "start_time": "2022-09-28T02:55:16.736Z"
   },
   {
    "duration": 4,
    "start_time": "2022-09-28T02:55:16.977Z"
   },
   {
    "duration": 5,
    "start_time": "2022-09-28T02:55:18.536Z"
   },
   {
    "duration": 9,
    "start_time": "2022-09-28T02:55:20.377Z"
   },
   {
    "duration": 8,
    "start_time": "2022-09-28T02:55:21.696Z"
   },
   {
    "duration": 6,
    "start_time": "2022-09-28T02:55:22.777Z"
   },
   {
    "duration": 8,
    "start_time": "2022-09-28T02:55:28.416Z"
   },
   {
    "duration": 8,
    "start_time": "2022-09-28T02:55:29.856Z"
   },
   {
    "duration": 6,
    "start_time": "2022-09-28T02:55:30.856Z"
   },
   {
    "duration": 8,
    "start_time": "2022-09-28T02:55:33.007Z"
   },
   {
    "duration": 12,
    "start_time": "2022-09-28T02:55:43.688Z"
   },
   {
    "duration": 2,
    "start_time": "2022-09-28T02:55:46.048Z"
   },
   {
    "duration": 19,
    "start_time": "2022-09-28T02:55:49.769Z"
   },
   {
    "duration": 3,
    "start_time": "2022-09-28T02:55:53.535Z"
   },
   {
    "duration": 175,
    "start_time": "2022-09-28T02:55:57.208Z"
   },
   {
    "duration": 4,
    "start_time": "2022-09-28T02:56:03.417Z"
   },
   {
    "duration": 4,
    "start_time": "2022-09-28T02:56:04.456Z"
   },
   {
    "duration": 4,
    "start_time": "2022-09-28T02:56:05.297Z"
   },
   {
    "duration": 6,
    "start_time": "2022-09-28T02:56:07.417Z"
   },
   {
    "duration": 5,
    "start_time": "2022-09-28T02:56:11.016Z"
   },
   {
    "duration": 236,
    "start_time": "2022-09-28T02:56:13.528Z"
   },
   {
    "duration": 239,
    "start_time": "2022-09-28T02:57:15.224Z"
   },
   {
    "duration": 75,
    "start_time": "2022-09-28T02:57:17.784Z"
   },
   {
    "duration": 1028,
    "start_time": "2022-09-28T02:57:25.856Z"
   },
   {
    "duration": 971,
    "start_time": "2022-09-28T02:57:28.534Z"
   },
   {
    "duration": 4,
    "start_time": "2022-09-28T02:57:54.906Z"
   },
   {
    "duration": 296,
    "start_time": "2022-09-28T02:57:59.168Z"
   },
   {
    "duration": 97,
    "start_time": "2022-09-28T02:58:00.864Z"
   },
   {
    "duration": 1318,
    "start_time": "2022-09-28T02:58:03.223Z"
   },
   {
    "duration": 1215,
    "start_time": "2022-09-28T02:58:09.584Z"
   },
   {
    "duration": 230,
    "start_time": "2022-09-28T02:58:19.624Z"
   },
   {
    "duration": 53,
    "start_time": "2022-09-28T02:58:21.304Z"
   },
   {
    "duration": 569,
    "start_time": "2022-09-28T02:58:23.624Z"
   },
   {
    "duration": 433,
    "start_time": "2022-09-28T02:58:25.815Z"
   },
   {
    "duration": 119,
    "start_time": "2022-09-28T02:58:42.544Z"
   },
   {
    "duration": 43,
    "start_time": "2022-09-28T02:58:47.864Z"
   },
   {
    "duration": 16,
    "start_time": "2022-09-28T02:58:49.343Z"
   },
   {
    "duration": 15,
    "start_time": "2022-09-28T02:59:08.136Z"
   },
   {
    "duration": 16,
    "start_time": "2022-09-28T02:59:24.737Z"
   },
   {
    "duration": 18,
    "start_time": "2022-09-28T03:00:14.429Z"
   },
   {
    "duration": 8,
    "start_time": "2022-09-28T03:00:31.501Z"
   },
   {
    "duration": 140,
    "start_time": "2022-09-28T03:01:32.617Z"
   },
   {
    "duration": 80901,
    "start_time": "2022-09-28T03:02:36.583Z"
   },
   {
    "duration": 60,
    "start_time": "2022-09-28T03:04:02.865Z"
   },
   {
    "duration": 225,
    "start_time": "2022-09-28T03:04:15.097Z"
   },
   {
    "duration": 12617,
    "start_time": "2022-09-28T03:23:08.405Z"
   },
   {
    "duration": 17,
    "start_time": "2022-09-28T03:23:31.276Z"
   },
   {
    "duration": 8837,
    "start_time": "2022-09-28T03:26:23.685Z"
   },
   {
    "duration": 16,
    "start_time": "2022-09-28T03:26:40.398Z"
   },
   {
    "duration": 179,
    "start_time": "2022-09-28T03:26:47.116Z"
   },
   {
    "duration": 6527,
    "start_time": "2022-09-28T03:27:03.758Z"
   },
   {
    "duration": 16,
    "start_time": "2022-09-28T03:27:17.278Z"
   },
   {
    "duration": 7128,
    "start_time": "2022-09-28T03:27:29.998Z"
   },
   {
    "duration": 26,
    "start_time": "2022-09-28T03:27:37.129Z"
   },
   {
    "duration": 6721,
    "start_time": "2022-09-28T03:30:06.023Z"
   },
   {
    "duration": 16,
    "start_time": "2022-09-28T03:30:18.718Z"
   },
   {
    "duration": 7394,
    "start_time": "2022-09-28T03:30:27.997Z"
   },
   {
    "duration": 16,
    "start_time": "2022-09-28T03:30:40.237Z"
   },
   {
    "duration": 6003,
    "start_time": "2022-09-28T03:30:47.837Z"
   },
   {
    "duration": 16,
    "start_time": "2022-09-28T03:30:58.403Z"
   },
   {
    "duration": 5435,
    "start_time": "2022-09-28T03:31:08.557Z"
   },
   {
    "duration": 16,
    "start_time": "2022-09-28T03:31:17.917Z"
   },
   {
    "duration": 3945,
    "start_time": "2022-09-28T03:31:26.158Z"
   },
   {
    "duration": 16,
    "start_time": "2022-09-28T03:31:34.028Z"
   },
   {
    "duration": 29,
    "start_time": "2022-09-28T03:32:15.757Z"
   },
   {
    "duration": 3477,
    "start_time": "2022-09-28T03:32:26.157Z"
   },
   {
    "duration": 15,
    "start_time": "2022-09-28T03:32:36.165Z"
   },
   {
    "duration": 2835,
    "start_time": "2022-09-28T03:32:44.726Z"
   },
   {
    "duration": 14,
    "start_time": "2022-09-28T03:32:51.765Z"
   },
   {
    "duration": 2247,
    "start_time": "2022-09-28T03:33:02.238Z"
   },
   {
    "duration": 15,
    "start_time": "2022-09-28T03:33:11.198Z"
   },
   {
    "duration": 2895,
    "start_time": "2022-09-28T03:33:18.398Z"
   },
   {
    "duration": 14,
    "start_time": "2022-09-28T03:33:25.277Z"
   },
   {
    "duration": 196,
    "start_time": "2022-09-28T03:33:31.197Z"
   },
   {
    "duration": 31311,
    "start_time": "2022-09-28T03:34:39.677Z"
   },
   {
    "duration": 16,
    "start_time": "2022-09-28T03:35:22.478Z"
   },
   {
    "duration": 2838,
    "start_time": "2022-09-28T03:35:57.837Z"
   },
   {
    "duration": 15,
    "start_time": "2022-09-28T03:36:09.117Z"
   },
   {
    "duration": 2989,
    "start_time": "2022-09-28T03:36:18.974Z"
   },
   {
    "duration": 15,
    "start_time": "2022-09-28T03:36:30.325Z"
   },
   {
    "duration": 2772,
    "start_time": "2022-09-28T03:36:36.726Z"
   },
   {
    "duration": 14,
    "start_time": "2022-09-28T03:36:44.005Z"
   },
   {
    "duration": 2725,
    "start_time": "2022-09-28T03:36:50.486Z"
   },
   {
    "duration": 15,
    "start_time": "2022-09-28T03:36:56.565Z"
   },
   {
    "duration": 2720,
    "start_time": "2022-09-28T03:37:02.405Z"
   },
   {
    "duration": 14,
    "start_time": "2022-09-28T03:37:08.325Z"
   },
   {
    "duration": 2934,
    "start_time": "2022-09-28T03:38:51.249Z"
   },
   {
    "duration": 2656,
    "start_time": "2022-09-28T03:39:08.777Z"
   },
   {
    "duration": 14,
    "start_time": "2022-09-28T03:39:19.409Z"
   },
   {
    "duration": 699,
    "start_time": "2022-09-28T03:39:58.936Z"
   },
   {
    "duration": 5373,
    "start_time": "2022-09-28T03:40:13.337Z"
   },
   {
    "duration": 8759,
    "start_time": "2022-09-28T03:40:53.018Z"
   },
   {
    "duration": 14,
    "start_time": "2022-09-28T03:41:06.145Z"
   },
   {
    "duration": 4909,
    "start_time": "2022-09-28T03:41:14.857Z"
   },
   {
    "duration": 13,
    "start_time": "2022-09-28T03:41:25.417Z"
   },
   {
    "duration": 2869,
    "start_time": "2022-09-28T03:41:40.610Z"
   },
   {
    "duration": 14,
    "start_time": "2022-09-28T03:41:51.096Z"
   },
   {
    "duration": 3085,
    "start_time": "2022-09-28T03:42:29.972Z"
   },
   {
    "duration": 14,
    "start_time": "2022-09-28T03:42:37.732Z"
   },
   {
    "duration": 2663,
    "start_time": "2022-09-28T03:42:47.812Z"
   },
   {
    "duration": 14,
    "start_time": "2022-09-28T03:42:59.172Z"
   },
   {
    "duration": 2896,
    "start_time": "2022-09-28T03:43:17.972Z"
   },
   {
    "duration": 15,
    "start_time": "2022-09-28T03:43:24.212Z"
   },
   {
    "duration": 3788,
    "start_time": "2022-09-28T03:43:33.004Z"
   },
   {
    "duration": 14,
    "start_time": "2022-09-28T03:43:46.294Z"
   },
   {
    "duration": 2324,
    "start_time": "2022-09-28T03:43:58.204Z"
   },
   {
    "duration": 16,
    "start_time": "2022-09-28T03:44:05.491Z"
   },
   {
    "duration": 2976,
    "start_time": "2022-09-28T03:44:13.973Z"
   },
   {
    "duration": 15,
    "start_time": "2022-09-28T03:44:23.653Z"
   },
   {
    "duration": 1532,
    "start_time": "2022-09-28T03:45:02.860Z"
   },
   {
    "duration": 1769,
    "start_time": "2022-09-28T03:45:09.812Z"
   },
   {
    "duration": 7,
    "start_time": "2022-09-28T03:45:17.011Z"
   },
   {
    "duration": 2041,
    "start_time": "2022-09-28T03:45:25.333Z"
   },
   {
    "duration": 14,
    "start_time": "2022-09-28T03:45:32.691Z"
   },
   {
    "duration": 2193,
    "start_time": "2022-09-28T03:45:47.644Z"
   },
   {
    "duration": 15,
    "start_time": "2022-09-28T03:45:55.337Z"
   },
   {
    "duration": 2135,
    "start_time": "2022-09-28T03:46:04.613Z"
   },
   {
    "duration": 14,
    "start_time": "2022-09-28T03:46:09.652Z"
   },
   {
    "duration": 2134,
    "start_time": "2022-09-28T03:47:15.679Z"
   },
   {
    "duration": 14,
    "start_time": "2022-09-28T03:47:25.848Z"
   },
   {
    "duration": 3150,
    "start_time": "2022-09-28T03:47:33.360Z"
   },
   {
    "duration": 14,
    "start_time": "2022-09-28T03:47:41.918Z"
   },
   {
    "duration": 2862,
    "start_time": "2022-09-28T03:47:51.919Z"
   },
   {
    "duration": 15,
    "start_time": "2022-09-28T03:47:59.198Z"
   },
   {
    "duration": 2927,
    "start_time": "2022-09-28T03:48:48.140Z"
   },
   {
    "duration": 14,
    "start_time": "2022-09-28T03:48:54.868Z"
   },
   {
    "duration": 2869,
    "start_time": "2022-09-28T03:49:03.747Z"
   },
   {
    "duration": 12,
    "start_time": "2022-09-28T03:49:12.467Z"
   },
   {
    "duration": 3137,
    "start_time": "2022-09-28T03:49:21.989Z"
   },
   {
    "duration": 19,
    "start_time": "2022-09-28T03:49:28.147Z"
   },
   {
    "duration": 2921,
    "start_time": "2022-09-28T03:49:36.236Z"
   },
   {
    "duration": 15,
    "start_time": "2022-09-28T03:49:45.067Z"
   },
   {
    "duration": 2959,
    "start_time": "2022-09-28T03:49:54.790Z"
   },
   {
    "duration": 16,
    "start_time": "2022-09-28T03:50:00.830Z"
   },
   {
    "duration": 3336,
    "start_time": "2022-09-28T03:50:08.147Z"
   },
   {
    "duration": 15,
    "start_time": "2022-09-28T03:50:15.947Z"
   },
   {
    "duration": 3642,
    "start_time": "2022-09-28T03:50:23.071Z"
   },
   {
    "duration": 15,
    "start_time": "2022-09-28T03:50:30.392Z"
   },
   {
    "duration": 5895,
    "start_time": "2022-09-28T03:50:38.707Z"
   },
   {
    "duration": 16,
    "start_time": "2022-09-28T03:50:48.507Z"
   },
   {
    "duration": 2977,
    "start_time": "2022-09-28T03:51:04.268Z"
   },
   {
    "duration": 15,
    "start_time": "2022-09-28T03:51:09.709Z"
   },
   {
    "duration": 2960,
    "start_time": "2022-09-28T03:51:14.588Z"
   },
   {
    "duration": 16,
    "start_time": "2022-09-28T03:51:20.708Z"
   },
   {
    "duration": 2953,
    "start_time": "2022-09-28T03:51:27.148Z"
   },
   {
    "duration": 19,
    "start_time": "2022-09-28T03:51:33.028Z"
   },
   {
    "duration": 3030,
    "start_time": "2022-09-28T03:51:39.548Z"
   },
   {
    "duration": 18,
    "start_time": "2022-09-28T03:51:45.347Z"
   },
   {
    "duration": 194,
    "start_time": "2022-09-28T03:51:56.067Z"
   },
   {
    "duration": 48,
    "start_time": "2022-09-28T03:54:01.922Z"
   },
   {
    "duration": 3,
    "start_time": "2022-09-28T03:58:51.632Z"
   },
   {
    "duration": 15,
    "start_time": "2022-09-28T03:59:59.416Z"
   },
   {
    "duration": 47,
    "start_time": "2022-09-28T04:00:09.095Z"
   },
   {
    "duration": 51,
    "start_time": "2022-09-28T04:15:29.743Z"
   },
   {
    "duration": 4,
    "start_time": "2022-09-28T04:15:37.662Z"
   },
   {
    "duration": 3,
    "start_time": "2022-09-28T04:15:53.102Z"
   },
   {
    "duration": 4,
    "start_time": "2022-09-28T04:15:53.991Z"
   },
   {
    "duration": 4,
    "start_time": "2022-09-28T04:15:55.670Z"
   },
   {
    "duration": 6,
    "start_time": "2022-09-28T04:15:57.751Z"
   },
   {
    "duration": 5,
    "start_time": "2022-09-28T04:16:00.391Z"
   },
   {
    "duration": 297,
    "start_time": "2022-09-28T04:16:01.262Z"
   },
   {
    "duration": 72,
    "start_time": "2022-09-28T04:16:03.342Z"
   },
   {
    "duration": 962,
    "start_time": "2022-09-28T04:16:04.703Z"
   },
   {
    "duration": 901,
    "start_time": "2022-09-28T04:16:07.742Z"
   },
   {
    "duration": 4,
    "start_time": "2022-09-28T04:16:22.702Z"
   },
   {
    "duration": 276,
    "start_time": "2022-09-28T04:16:27.582Z"
   },
   {
    "duration": 88,
    "start_time": "2022-09-28T04:16:29.110Z"
   },
   {
    "duration": 1455,
    "start_time": "2022-09-28T04:16:30.309Z"
   },
   {
    "duration": 1263,
    "start_time": "2022-09-28T04:16:34.134Z"
   },
   {
    "duration": 216,
    "start_time": "2022-09-28T04:16:45.742Z"
   },
   {
    "duration": 76,
    "start_time": "2022-09-28T04:16:47.022Z"
   },
   {
    "duration": 574,
    "start_time": "2022-09-28T04:16:48.062Z"
   },
   {
    "duration": 409,
    "start_time": "2022-09-28T04:16:49.422Z"
   },
   {
    "duration": 39,
    "start_time": "2022-09-28T04:17:53.582Z"
   },
   {
    "duration": 8486,
    "start_time": "2022-09-28T04:18:17.264Z"
   },
   {
    "duration": 17,
    "start_time": "2022-09-28T04:18:31.342Z"
   },
   {
    "duration": 188,
    "start_time": "2022-09-28T04:18:36.702Z"
   },
   {
    "duration": 74,
    "start_time": "2022-09-28T04:23:49.523Z"
   },
   {
    "duration": 1294,
    "start_time": "2022-09-28T04:25:22.196Z"
   },
   {
    "duration": 3,
    "start_time": "2022-09-28T04:25:23.491Z"
   },
   {
    "duration": 55,
    "start_time": "2022-09-28T04:25:23.496Z"
   },
   {
    "duration": 18,
    "start_time": "2022-09-28T04:25:23.553Z"
   },
   {
    "duration": 15,
    "start_time": "2022-09-28T04:25:23.572Z"
   },
   {
    "duration": 67,
    "start_time": "2022-09-28T04:25:23.588Z"
   },
   {
    "duration": 17,
    "start_time": "2022-09-28T04:25:23.657Z"
   },
   {
    "duration": 15,
    "start_time": "2022-09-28T04:25:23.675Z"
   },
   {
    "duration": 22,
    "start_time": "2022-09-28T04:25:23.692Z"
   },
   {
    "duration": 6,
    "start_time": "2022-09-28T04:25:23.717Z"
   },
   {
    "duration": 9,
    "start_time": "2022-09-28T04:25:23.725Z"
   },
   {
    "duration": 26,
    "start_time": "2022-09-28T04:25:23.735Z"
   },
   {
    "duration": 11,
    "start_time": "2022-09-28T04:25:23.762Z"
   },
   {
    "duration": 11,
    "start_time": "2022-09-28T04:25:23.775Z"
   },
   {
    "duration": 7,
    "start_time": "2022-09-28T04:25:23.788Z"
   },
   {
    "duration": 8,
    "start_time": "2022-09-28T04:25:23.796Z"
   },
   {
    "duration": 9,
    "start_time": "2022-09-28T04:25:23.806Z"
   },
   {
    "duration": 14,
    "start_time": "2022-09-28T04:25:23.816Z"
   },
   {
    "duration": 6,
    "start_time": "2022-09-28T04:25:23.831Z"
   },
   {
    "duration": 6,
    "start_time": "2022-09-28T04:25:23.854Z"
   },
   {
    "duration": 9,
    "start_time": "2022-09-28T04:25:23.862Z"
   },
   {
    "duration": 6,
    "start_time": "2022-09-28T04:25:23.873Z"
   },
   {
    "duration": 7,
    "start_time": "2022-09-28T04:25:23.880Z"
   },
   {
    "duration": 10,
    "start_time": "2022-09-28T04:25:23.888Z"
   },
   {
    "duration": 9,
    "start_time": "2022-09-28T04:25:23.900Z"
   },
   {
    "duration": 2,
    "start_time": "2022-09-28T04:25:23.910Z"
   },
   {
    "duration": 55,
    "start_time": "2022-09-28T04:25:23.914Z"
   },
   {
    "duration": 2,
    "start_time": "2022-09-28T04:25:23.972Z"
   },
   {
    "duration": 187,
    "start_time": "2022-09-28T04:25:23.976Z"
   },
   {
    "duration": 3,
    "start_time": "2022-09-28T04:25:24.165Z"
   },
   {
    "duration": 6,
    "start_time": "2022-09-28T04:25:24.170Z"
   },
   {
    "duration": 6,
    "start_time": "2022-09-28T04:25:24.177Z"
   },
   {
    "duration": 7,
    "start_time": "2022-09-28T04:25:24.185Z"
   },
   {
    "duration": 10,
    "start_time": "2022-09-28T04:25:24.193Z"
   },
   {
    "duration": 11,
    "start_time": "2022-09-28T04:25:24.204Z"
   },
   {
    "duration": 338,
    "start_time": "2022-09-28T04:25:24.216Z"
   },
   {
    "duration": 158,
    "start_time": "2022-09-28T04:25:24.557Z"
   },
   {
    "duration": 999,
    "start_time": "2022-09-28T04:25:24.716Z"
   },
   {
    "duration": 878,
    "start_time": "2022-09-28T04:25:25.716Z"
   },
   {
    "duration": 4,
    "start_time": "2022-09-28T04:25:26.595Z"
   },
   {
    "duration": 359,
    "start_time": "2022-09-28T04:25:26.600Z"
   },
   {
    "duration": 263,
    "start_time": "2022-09-28T04:25:26.960Z"
   },
   {
    "duration": 1303,
    "start_time": "2022-09-28T04:25:27.225Z"
   },
   {
    "duration": 1236,
    "start_time": "2022-09-28T04:25:28.530Z"
   },
   {
    "duration": 189,
    "start_time": "2022-09-28T04:25:29.769Z"
   },
   {
    "duration": 149,
    "start_time": "2022-09-28T04:25:29.960Z"
   },
   {
    "duration": 585,
    "start_time": "2022-09-28T04:25:30.111Z"
   },
   {
    "duration": 418,
    "start_time": "2022-09-28T04:25:30.698Z"
   },
   {
    "duration": 44,
    "start_time": "2022-09-28T04:25:31.118Z"
   },
   {
    "duration": 9173,
    "start_time": "2022-09-28T04:25:31.164Z"
   },
   {
    "duration": 20,
    "start_time": "2022-09-28T04:25:40.339Z"
   },
   {
    "duration": 178,
    "start_time": "2022-09-28T04:25:40.361Z"
   }
  ],
  "kernelspec": {
   "display_name": "Python 3 (ipykernel)",
   "language": "python",
   "name": "python3"
  },
  "language_info": {
   "codemirror_mode": {
    "name": "ipython",
    "version": 3
   },
   "file_extension": ".py",
   "mimetype": "text/x-python",
   "name": "python",
   "nbconvert_exporter": "python",
   "pygments_lexer": "ipython3",
   "version": "3.9.7"
  },
  "toc": {
   "base_numbering": 1,
   "nav_menu": {},
   "number_sections": true,
   "sideBar": true,
   "skip_h1_title": true,
   "title_cell": "Содержание",
   "title_sidebar": "Contents",
   "toc_cell": true,
   "toc_position": {
    "height": "calc(100% - 180px)",
    "left": "10px",
    "top": "150px",
    "width": "165px"
   },
   "toc_section_display": true,
   "toc_window_display": false
  }
 },
 "nbformat": 4,
 "nbformat_minor": 4
}
